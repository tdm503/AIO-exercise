{
  "nbformat": 4,
  "nbformat_minor": 0,
  "metadata": {
    "colab": {
      "provenance": [],
      "gpuType": "T4"
    },
    "kernelspec": {
      "name": "python3",
      "display_name": "Python 3"
    },
    "language_info": {
      "name": "python"
    },
    "accelerator": "GPU"
  },
  "cells": [
    {
      "cell_type": "code",
      "execution_count": 1,
      "metadata": {
        "colab": {
          "base_uri": "https://localhost:8080/"
        },
        "id": "Fh37wmlIHpkn",
        "outputId": "8f86be43-adca-4383-b200-e37a60e69019"
      },
      "outputs": [
        {
          "output_type": "stream",
          "name": "stdout",
          "text": [
            "Requirement already satisfied: tqdm in /usr/local/lib/python3.10/dist-packages (4.66.5)\n",
            "Get:1 https://cloud.r-project.org/bin/linux/ubuntu jammy-cran40/ InRelease [3,626 B]\n",
            "Hit:2 https://developer.download.nvidia.com/compute/cuda/repos/ubuntu2204/x86_64  InRelease\n",
            "Hit:3 http://archive.ubuntu.com/ubuntu jammy InRelease\n",
            "Get:4 http://security.ubuntu.com/ubuntu jammy-security InRelease [129 kB]\n",
            "Get:5 http://archive.ubuntu.com/ubuntu jammy-updates InRelease [128 kB]\n",
            "Get:6 https://ppa.launchpadcontent.net/deadsnakes/ppa/ubuntu jammy InRelease [18.1 kB]\n",
            "Ign:7 https://r2u.stat.illinois.edu/ubuntu jammy InRelease\n",
            "Hit:8 https://ppa.launchpadcontent.net/graphics-drivers/ppa/ubuntu jammy InRelease\n",
            "Get:9 https://r2u.stat.illinois.edu/ubuntu jammy Release [5,713 B]\n",
            "Hit:10 http://archive.ubuntu.com/ubuntu jammy-backports InRelease\n",
            "Hit:11 https://ppa.launchpadcontent.net/ubuntugis/ppa/ubuntu jammy InRelease\n",
            "Get:12 https://r2u.stat.illinois.edu/ubuntu jammy Release.gpg [793 B]\n",
            "Get:13 http://archive.ubuntu.com/ubuntu jammy-updates/main amd64 Packages [2,449 kB]\n",
            "Get:14 https://ppa.launchpadcontent.net/deadsnakes/ppa/ubuntu jammy/main amd64 Packages [27.8 kB]\n",
            "Get:15 http://security.ubuntu.com/ubuntu jammy-security/universe amd64 Packages [1,134 kB]\n",
            "Get:16 http://archive.ubuntu.com/ubuntu jammy-updates/universe amd64 Packages [1,423 kB]\n",
            "Get:17 https://r2u.stat.illinois.edu/ubuntu jammy/main all Packages [8,218 kB]\n",
            "Get:18 http://security.ubuntu.com/ubuntu jammy-security/main amd64 Packages [2,173 kB]\n",
            "Get:19 https://r2u.stat.illinois.edu/ubuntu jammy/main amd64 Packages [2,553 kB]\n",
            "Fetched 18.3 MB in 5s (3,628 kB/s)\n",
            "Reading package lists... Done\n",
            "W: Skipping acquire of configured file 'main/source/Sources' as repository 'https://r2u.stat.illinois.edu/ubuntu jammy InRelease' does not seem to provide it (sources.list entry misspelt?)\n",
            "Reading package lists... Done\n",
            "Building dependency tree... Done\n",
            "Reading state information... Done\n",
            "wget is already the newest version (1.21.2-2ubuntu1.1).\n",
            "0 upgraded, 0 newly installed, 0 to remove and 51 not upgraded.\n",
            "Collecting selenium\n",
            "  Downloading selenium-4.23.1-py3-none-any.whl.metadata (7.1 kB)\n",
            "Requirement already satisfied: urllib3<3,>=1.26 in /usr/local/lib/python3.10/dist-packages (from urllib3[socks]<3,>=1.26->selenium) (2.0.7)\n",
            "Collecting trio~=0.17 (from selenium)\n",
            "  Downloading trio-0.26.2-py3-none-any.whl.metadata (8.6 kB)\n",
            "Collecting trio-websocket~=0.9 (from selenium)\n",
            "  Downloading trio_websocket-0.11.1-py3-none-any.whl.metadata (4.7 kB)\n",
            "Requirement already satisfied: certifi>=2021.10.8 in /usr/local/lib/python3.10/dist-packages (from selenium) (2024.7.4)\n",
            "Requirement already satisfied: typing_extensions~=4.9 in /usr/local/lib/python3.10/dist-packages (from selenium) (4.12.2)\n",
            "Requirement already satisfied: websocket-client~=1.8 in /usr/local/lib/python3.10/dist-packages (from selenium) (1.8.0)\n",
            "Requirement already satisfied: attrs>=23.2.0 in /usr/local/lib/python3.10/dist-packages (from trio~=0.17->selenium) (24.2.0)\n",
            "Requirement already satisfied: sortedcontainers in /usr/local/lib/python3.10/dist-packages (from trio~=0.17->selenium) (2.4.0)\n",
            "Requirement already satisfied: idna in /usr/local/lib/python3.10/dist-packages (from trio~=0.17->selenium) (3.7)\n",
            "Collecting outcome (from trio~=0.17->selenium)\n",
            "  Downloading outcome-1.3.0.post0-py2.py3-none-any.whl.metadata (2.6 kB)\n",
            "Requirement already satisfied: sniffio>=1.3.0 in /usr/local/lib/python3.10/dist-packages (from trio~=0.17->selenium) (1.3.1)\n",
            "Requirement already satisfied: exceptiongroup in /usr/local/lib/python3.10/dist-packages (from trio~=0.17->selenium) (1.2.2)\n",
            "Collecting wsproto>=0.14 (from trio-websocket~=0.9->selenium)\n",
            "  Downloading wsproto-1.2.0-py3-none-any.whl.metadata (5.6 kB)\n",
            "Requirement already satisfied: pysocks!=1.5.7,<2.0,>=1.5.6 in /usr/local/lib/python3.10/dist-packages (from urllib3[socks]<3,>=1.26->selenium) (1.7.1)\n",
            "Collecting h11<1,>=0.9.0 (from wsproto>=0.14->trio-websocket~=0.9->selenium)\n",
            "  Downloading h11-0.14.0-py3-none-any.whl.metadata (8.2 kB)\n",
            "Downloading selenium-4.23.1-py3-none-any.whl (9.4 MB)\n",
            "\u001b[2K   \u001b[90m━━━━━━━━━━━━━━━━━━━━━━━━━━━━━━━━━━━━━━━━\u001b[0m \u001b[32m9.4/9.4 MB\u001b[0m \u001b[31m116.0 MB/s\u001b[0m eta \u001b[36m0:00:00\u001b[0m\n",
            "\u001b[?25hDownloading trio-0.26.2-py3-none-any.whl (475 kB)\n",
            "\u001b[2K   \u001b[90m━━━━━━━━━━━━━━━━━━━━━━━━━━━━━━━━━━━━━━━━\u001b[0m \u001b[32m476.0/476.0 kB\u001b[0m \u001b[31m34.6 MB/s\u001b[0m eta \u001b[36m0:00:00\u001b[0m\n",
            "\u001b[?25hDownloading trio_websocket-0.11.1-py3-none-any.whl (17 kB)\n",
            "Downloading wsproto-1.2.0-py3-none-any.whl (24 kB)\n",
            "Downloading outcome-1.3.0.post0-py2.py3-none-any.whl (10 kB)\n",
            "Downloading h11-0.14.0-py3-none-any.whl (58 kB)\n",
            "\u001b[2K   \u001b[90m━━━━━━━━━━━━━━━━━━━━━━━━━━━━━━━━━━━━━━━━\u001b[0m \u001b[32m58.3/58.3 kB\u001b[0m \u001b[31m5.3 MB/s\u001b[0m eta \u001b[36m0:00:00\u001b[0m\n",
            "\u001b[?25hInstalling collected packages: outcome, h11, wsproto, trio, trio-websocket, selenium\n",
            "Successfully installed h11-0.14.0 outcome-1.3.0.post0 selenium-4.23.1 trio-0.26.2 trio-websocket-0.11.1 wsproto-1.2.0\n",
            "Reading package lists... Done\n",
            "Building dependency tree... Done\n",
            "Reading state information... Done\n",
            "The following additional packages will be installed:\n",
            "  apparmor libfuse3-3 liblzo2-2 libudev1 snapd squashfs-tools systemd-hwe-hwdb udev\n",
            "Suggested packages:\n",
            "  apparmor-profiles-extra apparmor-utils fuse3 zenity | kdialog\n",
            "The following NEW packages will be installed:\n",
            "  apparmor chromium-browser libfuse3-3 liblzo2-2 snapd squashfs-tools systemd-hwe-hwdb udev\n",
            "The following packages will be upgraded:\n",
            "  libudev1\n",
            "1 upgraded, 8 newly installed, 0 to remove and 50 not upgraded.\n",
            "Need to get 28.4 MB of archives.\n",
            "After this operation, 117 MB of additional disk space will be used.\n",
            "Get:1 http://archive.ubuntu.com/ubuntu jammy-updates/main amd64 apparmor amd64 3.0.4-2ubuntu2.3 [595 kB]\n",
            "Get:2 http://archive.ubuntu.com/ubuntu jammy/main amd64 liblzo2-2 amd64 2.10-2build3 [53.7 kB]\n",
            "Get:3 http://archive.ubuntu.com/ubuntu jammy/main amd64 squashfs-tools amd64 1:4.5-3build1 [159 kB]\n",
            "Get:4 http://archive.ubuntu.com/ubuntu jammy-updates/main amd64 libudev1 amd64 249.11-0ubuntu3.12 [78.2 kB]\n",
            "Get:5 http://archive.ubuntu.com/ubuntu jammy-updates/main amd64 udev amd64 249.11-0ubuntu3.12 [1,557 kB]\n",
            "Get:6 http://archive.ubuntu.com/ubuntu jammy/main amd64 libfuse3-3 amd64 3.10.5-1build1 [81.2 kB]\n",
            "Get:7 http://archive.ubuntu.com/ubuntu jammy-updates/main amd64 snapd amd64 2.63+22.04ubuntu0.1 [25.9 MB]\n",
            "Get:8 http://archive.ubuntu.com/ubuntu jammy-updates/universe amd64 chromium-browser amd64 1:85.0.4183.83-0ubuntu2.22.04.1 [49.2 kB]\n",
            "Get:9 http://archive.ubuntu.com/ubuntu jammy-updates/main amd64 systemd-hwe-hwdb all 249.11.5 [3,228 B]\n",
            "Fetched 28.4 MB in 3s (8,434 kB/s)\n",
            "Preconfiguring packages ...\n",
            "Selecting previously unselected package apparmor.\n",
            "(Reading database ... 123594 files and directories currently installed.)\n",
            "Preparing to unpack .../apparmor_3.0.4-2ubuntu2.3_amd64.deb ...\n",
            "Unpacking apparmor (3.0.4-2ubuntu2.3) ...\n",
            "Selecting previously unselected package liblzo2-2:amd64.\n",
            "Preparing to unpack .../liblzo2-2_2.10-2build3_amd64.deb ...\n",
            "Unpacking liblzo2-2:amd64 (2.10-2build3) ...\n",
            "Selecting previously unselected package squashfs-tools.\n",
            "Preparing to unpack .../squashfs-tools_1%3a4.5-3build1_amd64.deb ...\n",
            "Unpacking squashfs-tools (1:4.5-3build1) ...\n",
            "Preparing to unpack .../libudev1_249.11-0ubuntu3.12_amd64.deb ...\n",
            "Unpacking libudev1:amd64 (249.11-0ubuntu3.12) over (249.11-0ubuntu3.10) ...\n",
            "Setting up libudev1:amd64 (249.11-0ubuntu3.12) ...\n",
            "Selecting previously unselected package udev.\n",
            "(Reading database ... 123802 files and directories currently installed.)\n",
            "Preparing to unpack .../udev_249.11-0ubuntu3.12_amd64.deb ...\n",
            "Unpacking udev (249.11-0ubuntu3.12) ...\n",
            "Selecting previously unselected package libfuse3-3:amd64.\n",
            "Preparing to unpack .../libfuse3-3_3.10.5-1build1_amd64.deb ...\n",
            "Unpacking libfuse3-3:amd64 (3.10.5-1build1) ...\n",
            "Selecting previously unselected package snapd.\n",
            "Preparing to unpack .../snapd_2.63+22.04ubuntu0.1_amd64.deb ...\n",
            "Unpacking snapd (2.63+22.04ubuntu0.1) ...\n",
            "Setting up apparmor (3.0.4-2ubuntu2.3) ...\n",
            "Created symlink /etc/systemd/system/sysinit.target.wants/apparmor.service → /lib/systemd/system/apparmor.service.\n",
            "Setting up liblzo2-2:amd64 (2.10-2build3) ...\n",
            "Setting up squashfs-tools (1:4.5-3build1) ...\n",
            "Setting up udev (249.11-0ubuntu3.12) ...\n",
            "invoke-rc.d: could not determine current runlevel\n",
            "invoke-rc.d: policy-rc.d denied execution of start.\n",
            "Setting up libfuse3-3:amd64 (3.10.5-1build1) ...\n",
            "Setting up snapd (2.63+22.04ubuntu0.1) ...\n",
            "Created symlink /etc/systemd/system/multi-user.target.wants/snapd.apparmor.service → /lib/systemd/system/snapd.apparmor.service.\n",
            "Created symlink /etc/systemd/system/multi-user.target.wants/snapd.autoimport.service → /lib/systemd/system/snapd.autoimport.service.\n",
            "Created symlink /etc/systemd/system/multi-user.target.wants/snapd.core-fixup.service → /lib/systemd/system/snapd.core-fixup.service.\n",
            "Created symlink /etc/systemd/system/multi-user.target.wants/snapd.recovery-chooser-trigger.service → /lib/systemd/system/snapd.recovery-chooser-trigger.service.\n",
            "Created symlink /etc/systemd/system/multi-user.target.wants/snapd.seeded.service → /lib/systemd/system/snapd.seeded.service.\n",
            "Created symlink /etc/systemd/system/cloud-final.service.wants/snapd.seeded.service → /lib/systemd/system/snapd.seeded.service.\n",
            "Unit /lib/systemd/system/snapd.seeded.service is added as a dependency to a non-existent unit cloud-final.service.\n",
            "Created symlink /etc/systemd/system/multi-user.target.wants/snapd.service → /lib/systemd/system/snapd.service.\n",
            "Created symlink /etc/systemd/system/timers.target.wants/snapd.snap-repair.timer → /lib/systemd/system/snapd.snap-repair.timer.\n",
            "Created symlink /etc/systemd/system/sockets.target.wants/snapd.socket → /lib/systemd/system/snapd.socket.\n",
            "Created symlink /etc/systemd/system/final.target.wants/snapd.system-shutdown.service → /lib/systemd/system/snapd.system-shutdown.service.\n",
            "Selecting previously unselected package chromium-browser.\n",
            "(Reading database ... 124032 files and directories currently installed.)\n",
            "Preparing to unpack .../chromium-browser_1%3a85.0.4183.83-0ubuntu2.22.04.1_amd64.deb ...\n",
            "=> Installing the chromium snap\n",
            "==> Checking connectivity with the snap store\n",
            "===> System doesn't have a working snapd, skipping\n",
            "Unpacking chromium-browser (1:85.0.4183.83-0ubuntu2.22.04.1) ...\n",
            "Selecting previously unselected package systemd-hwe-hwdb.\n",
            "Preparing to unpack .../systemd-hwe-hwdb_249.11.5_all.deb ...\n",
            "Unpacking systemd-hwe-hwdb (249.11.5) ...\n",
            "Setting up systemd-hwe-hwdb (249.11.5) ...\n",
            "Setting up chromium-browser (1:85.0.4183.83-0ubuntu2.22.04.1) ...\n",
            "update-alternatives: using /usr/bin/chromium-browser to provide /usr/bin/x-www-browser (x-www-browser) in auto mode\n",
            "update-alternatives: using /usr/bin/chromium-browser to provide /usr/bin/gnome-www-browser (gnome-www-browser) in auto mode\n",
            "Processing triggers for libc-bin (2.35-0ubuntu3.4) ...\n",
            "/sbin/ldconfig.real: /usr/local/lib/libtbbbind.so.3 is not a symbolic link\n",
            "\n",
            "/sbin/ldconfig.real: /usr/local/lib/libtbbbind_2_0.so.3 is not a symbolic link\n",
            "\n",
            "/sbin/ldconfig.real: /usr/local/lib/libtbbmalloc.so.2 is not a symbolic link\n",
            "\n",
            "/sbin/ldconfig.real: /usr/local/lib/libtbbbind_2_5.so.3 is not a symbolic link\n",
            "\n",
            "/sbin/ldconfig.real: /usr/local/lib/libtbb.so.12 is not a symbolic link\n",
            "\n",
            "/sbin/ldconfig.real: /usr/local/lib/libur_adapter_opencl.so.0 is not a symbolic link\n",
            "\n",
            "/sbin/ldconfig.real: /usr/local/lib/libtbbmalloc_proxy.so.2 is not a symbolic link\n",
            "\n",
            "/sbin/ldconfig.real: /usr/local/lib/libur_adapter_level_zero.so.0 is not a symbolic link\n",
            "\n",
            "/sbin/ldconfig.real: /usr/local/lib/libur_loader.so.0 is not a symbolic link\n",
            "\n",
            "Processing triggers for man-db (2.10.2-1) ...\n",
            "Processing triggers for dbus (1.12.20-2ubuntu4.1) ...\n",
            "Processing triggers for udev (249.11-0ubuntu3.12) ...\n",
            "Processing triggers for hicolor-icon-theme (0.17-2) ...\n",
            "Reading package lists... Done\n",
            "Building dependency tree... Done\n",
            "Reading state information... Done\n",
            "The following NEW packages will be installed:\n",
            "  chromium-chromedriver\n",
            "0 upgraded, 1 newly installed, 0 to remove and 50 not upgraded.\n",
            "Need to get 2,308 B of archives.\n",
            "After this operation, 77.8 kB of additional disk space will be used.\n",
            "Get:1 http://archive.ubuntu.com/ubuntu jammy-updates/universe amd64 chromium-chromedriver amd64 1:85.0.4183.83-0ubuntu2.22.04.1 [2,308 B]\n",
            "Fetched 2,308 B in 0s (6,844 B/s)\n",
            "Selecting previously unselected package chromium-chromedriver.\n",
            "(Reading database ... 124053 files and directories currently installed.)\n",
            "Preparing to unpack .../chromium-chromedriver_1%3a85.0.4183.83-0ubuntu2.22.04.1_amd64.deb ...\n",
            "Unpacking chromium-chromedriver (1:85.0.4183.83-0ubuntu2.22.04.1) ...\n",
            "Setting up chromium-chromedriver (1:85.0.4183.83-0ubuntu2.22.04.1) ...\n"
          ]
        }
      ],
      "source": [
        "# Install required packages\n",
        "!pip install tqdm\n",
        "!apt-get update\n",
        "!apt-get install -y wget\n",
        "!pip install selenium\n",
        "!apt-get install -y chromium-browser\n",
        "!apt-get install -y chromium-chromedriver\n",
        "\n",
        "# Import necessary libraries\n",
        "from selenium import webdriver\n",
        "from selenium.webdriver.common.by import By\n",
        "from selenium.webdriver.support.ui import WebDriverWait\n",
        "from selenium.webdriver.support import expected_conditions as EC\n",
        "\n",
        "from bs4 import BeautifulSoup  # For parsing HTML content\n",
        "from urllib.parse import urljoin, urlparse  # For handling URLs\n",
        "import urllib.request  # For making HTTP requests\n",
        "import time  # For handling time-related operations\n",
        "import os  # For interacting with the operating system (relate to dir, folder, file)\n",
        "from tqdm import tqdm  # For displaying progress bars (visualize progress)\n",
        "import concurrent.futures  # For multi-threading\n",
        "import json  # For writing to a text file\n",
        "from PIL import Image  # For handling images"
      ]
    },
    {
      "cell_type": "code",
      "source": [
        "class UrlScraper:\n",
        "    # Constructor\n",
        "    def __init__(self, url_template, max_images=50, max_workers=4):\n",
        "        self.url_template = url_template  # Link crawl\n",
        "        self.max_images = max_images  # Max images\n",
        "        self.max_workers = max_workers  # Thread\n",
        "        self.setup_environment()  # Call for set up environment\n",
        "\n",
        "    # Set up environment for selenium\n",
        "    def setup_environment(self):\n",
        "        os.environ['PATH'] += ':/usr/lib/chromium-browser/'\n",
        "        os.environ['PATH'] += ':/usr/lib/chromium-browser/chromedriver/'\n",
        "\n",
        "    def get_url_images(self, term):\n",
        "        \"\"\"\n",
        "        Crawl the URLs of images by term\n",
        "\n",
        "        Parameters:\n",
        "        term (str): The name of the animal, plant, scenery, or furniture\n",
        "\n",
        "        Returns:\n",
        "        urls (list): List of URLs of images\n",
        "        \"\"\"\n",
        "\n",
        "        # Initialize Chrome driver\n",
        "        options = webdriver.ChromeOptions()\n",
        "        options.add_argument('--headless')\n",
        "        options.add_argument('--no-sandbox')\n",
        "        options.add_argument('--disable-dev-shm-usage')\n",
        "        driver = webdriver.Chrome(options=options)\n",
        "\n",
        "        url = self.url_template.format(search_term=term)\n",
        "        driver.get(url)\n",
        "\n",
        "        # Start crawling URLs of images\n",
        "        urls = []\n",
        "        more_content_available = True\n",
        "\n",
        "        pbar = tqdm(total=self.max_images, desc=f\"Fetching images for {term}\")  # Set up for visualizing progress\n",
        "\n",
        "        while len(urls) < self.max_images and more_content_available:\n",
        "            soup = BeautifulSoup(driver.page_source, \"html.parser\")\n",
        "            img_tags = soup.find_all(\"img\")\n",
        "\n",
        "            for img in img_tags:\n",
        "                if len(urls) >= self.max_images:\n",
        "                    break\n",
        "                if 'src' in img.attrs:\n",
        "                    href = img.attrs['src']\n",
        "                    img_path = urljoin(url, href)\n",
        "                    img_path = img_path.replace(\"_m.jpg\", \"_b.jpg\").replace(\"_n.jpg\", \"_b.jpg\").replace(\"_w.jpg\", \"_b.jpg\")\n",
        "                    if img_path == \"https://combo.staticflickr.com/ap/build/images/getty/IStock_corporate_logo.svg\":\n",
        "                        continue\n",
        "                    urls.append(img_path)\n",
        "                    pbar.update(1)\n",
        "\n",
        "            try:\n",
        "                load_more_button = WebDriverWait(driver, 10).until(\n",
        "                    EC.element_to_be_clickable((By.XPATH, '//button[@id=\"yui_3_16_0_1_1721642285931_28620\"]'))\n",
        "                )\n",
        "                load_more_button.click()\n",
        "                time.sleep(2)\n",
        "            except:\n",
        "                driver.execute_script(\"window.scrollTo(0, document.body.scrollHeight);\")\n",
        "                time.sleep(2)\n",
        "\n",
        "            new_soup = BeautifulSoup(driver.page_source, \"html.parser\")\n",
        "            new_img_tags = new_soup.find_all(\"img\", loading_=\"lazy\")\n",
        "            if len(new_img_tags) == len(img_tags):\n",
        "                more_content_available = False\n",
        "            img_tags = new_img_tags\n",
        "\n",
        "        pbar.close()\n",
        "        driver.quit()\n",
        "        return urls\n",
        "\n",
        "    def scrape_urls(self, categories):\n",
        "        \"\"\"\n",
        "        Call the get_url_images method to retrieve all URLs of objects in categories\n",
        "\n",
        "        Parameters:\n",
        "        categories (dict): Dictionary of all objects to collect images with format\n",
        "                           categories{\"name_object\": [value1, value2, ...]}\n",
        "\n",
        "        Returns:\n",
        "        all_urls (dict): Dictionary containing image URLs\n",
        "        \"\"\"\n",
        "        all_urls = {category: {} for category in categories}\n",
        "\n",
        "        # Use multithreading for efficiency\n",
        "        with concurrent.futures.ThreadPoolExecutor(max_workers=self.max_workers) as executor:\n",
        "            future_to_term = {executor.submit(self.get_url_images, term): (category, term)\n",
        "                              for category, terms in categories.items() for term in terms}\n",
        "\n",
        "            for future in tqdm(concurrent.futures.as_completed(future_to_term), total=len(future_to_term), desc=\"Overall Progress\"):\n",
        "                category, term = future_to_term[future]\n",
        "                try:\n",
        "                    urls = future.result()\n",
        "                    all_urls[category][term] = urls\n",
        "                    print(f\"\\nNumber of images retrieved for {term}: {len(urls)}\")\n",
        "                except Exception as exc:\n",
        "                    print(f\"\\n{term} generated an exception: {exc}\")\n",
        "        return all_urls\n",
        "\n",
        "    def save_to_file(self, data, filename):\n",
        "        \"\"\"\n",
        "        Save data to a JSON file.\n",
        "\n",
        "        Parameters:\n",
        "        data (dict): Data to be saved.\n",
        "        filename (str): Name of the JSON file.\n",
        "\n",
        "        Returns:\n",
        "        None\n",
        "        \"\"\"\n",
        "        with open(filename, 'w') as file:\n",
        "            json.dump(data, file, indent=4)\n",
        "        print(f\"Data saved to {filename}\")\n"
      ],
      "metadata": {
        "id": "mnfidyvqx1HF"
      },
      "execution_count": 2,
      "outputs": []
    },
    {
      "cell_type": "code",
      "source": [
        "categories = {\n",
        "    \"animal\": [\"Monkey\", \"Elephant\", \"cows\", \"Cat\", \"Dog\", \"bear\", \"fox\", \"Civet\", \"Pangolins\", \"Rabbit\", \"Bats\", \"Whale\", \"Cock\", \"Owl\", \"flamingo\", \"Lizard\", \"Turtle\", \"Snake\", \"Frog\", \"Fish\", \"shrimp\", \"Crab\", \"Snail\", \"Coral\", \"Jellyfish\", \"Butterfly\", \"Flies\", \"Mosquito\", \"Ants\", \"Cockroaches\", \"Spider\", \"scorpion\", \"tiger\", \"bird\", \"horse\", \"pig\", \"Alligator\", \"Alpaca\", \"Anteater\", \"donkey\", \"Bee\", \"Buffalo\", \"Camel\", \"Caterpillar\", \"Cheetah\", \"Chicken\", \"Dragonfly\", \"Duck\", \"panda\", \"Giraffe\"],\n",
        "    \"plant\": [\"Bamboo\", \"Apple\", \"Apricot\", \"Banana\", \"Bean\", \"Wildflower\", \"Flower\", \"Mushroom\", \"Weed\", \"Fern\", \"Reed\", \"Shrub\", \"Moss\", \"Grass\", \"Palmtree\", \"Corn\", \"Tulip\", \"Rose\", \"Clove\", \"Dogwood\", \"Durian\", \"Ferns\", \"Fig\", \"Flax\", \"Frangipani\", \"Lantana\", \"Hibiscus\", \"Bougainvillea\", \"Pea\", \"OrchidTree\", \"RangoonCreeper\", \"Jackfruit\", \"Cottonplant\", \"Corneliantree\", \"Coffeeplant\", \"Coconut\", \"wheat\", \"watermelon\", \"radish\", \"carrot\"],\n",
        "    \"furniture\": [\"bed\", \"cabinet\", \"chair\", \"chests\", \"clock\", \"desks\", \"table\", \"Piano\", \"Bookcase\", \"Umbrella\", \"Clothes\", \"cart\", \"sofa\", \"ball\", \"spoon\", \"Bowl\", \"fridge\", \"pan\", \"book\"],\n",
        "    \"scenery\": [\"Cliff\", \"Bay\", \"Coast\", \"Mountains\", \"Forests\", \"Waterbodies\", \"Lake\", \"desert\", \"farmland\", \"river\", \"hedges\", \"plain\", \"sky\", \"cave\", \"cloud\", \"flowergarden\", \"glacier\", \"grassland\", \"horizon\", \"lighthouse\", \"plateau\", \"savannah\", \"valley\", \"volcano\", \"waterfall\"]\n",
        "}\n",
        "\n",
        "urltopic = {\"flickr\": \"https://www.flickr.com/search/?text={search_term}\"}\n",
        "scraper = UrlScraper(url_template=urltopic[\"flickr\"], max_images=2, max_workers=5)\n",
        "image_urls = scraper.scrape_urls(categories)\n",
        "scraper.save_to_file(image_urls, 'image_urls.json')"
      ],
      "metadata": {
        "colab": {
          "base_uri": "https://localhost:8080/"
        },
        "id": "UOXUg0bA0wGw",
        "outputId": "1f48cee4-ce8a-4b46-dcf1-eee1e42ea793"
      },
      "execution_count": 3,
      "outputs": [
        {
          "output_type": "stream",
          "name": "stderr",
          "text": [
            "Overall Progress:   0%|          | 0/134 [00:00<?, ?it/s]\n",
            "Fetching images for Monkey:   0%|          | 0/2 [00:00<?, ?it/s]\u001b[A\n",
            "Fetching images for Monkey:  50%|█████     | 1/2 [00:03<00:03,  3.45s/it]\u001b[A\n",
            "\n",
            "Fetching images for Dog:   0%|          | 0/2 [00:00<?, ?it/s]\u001b[A\u001b[A\n",
            "\n",
            "\n",
            "Fetching images for cows:   0%|          | 0/2 [00:00<?, ?it/s]\u001b[A\u001b[A\u001b[A\n",
            "\n",
            "Fetching images for Dog:  50%|█████     | 1/2 [00:00<00:00,  1.08it/s]\u001b[A\u001b[A\n",
            "\n",
            "\n",
            "Fetching images for Monkey: 100%|██████████| 2/2 [00:15<00:00,  7.88s/it]\n",
            "Overall Progress:   1%|          | 1/134 [01:00<2:14:26, 60.65s/it]"
          ]
        },
        {
          "output_type": "stream",
          "name": "stdout",
          "text": [
            "\n",
            "Number of images retrieved for Monkey: 2\n"
          ]
        },
        {
          "output_type": "stream",
          "name": "stderr",
          "text": [
            "\n",
            "Fetching images for bear:   0%|          | 0/2 [00:00<?, ?it/s]\u001b[A\n",
            "Fetching images for Dog: 100%|██████████| 2/2 [00:14<00:00,  7.12s/it]\n",
            "Overall Progress:   1%|▏         | 2/134 [01:06<1:02:24, 28.37s/it]"
          ]
        },
        {
          "output_type": "stream",
          "name": "stdout",
          "text": [
            "\n",
            "Number of images retrieved for Dog: 2\n"
          ]
        },
        {
          "output_type": "stream",
          "name": "stderr",
          "text": [
            "Fetching images for cows: 100%|██████████| 2/2 [00:14<00:00,  7.28s/it]\n",
            "Overall Progress:   2%|▏         | 3/134 [01:06<34:13, 15.67s/it]  "
          ]
        },
        {
          "output_type": "stream",
          "name": "stdout",
          "text": [
            "\n",
            "Number of images retrieved for cows: 2\n"
          ]
        },
        {
          "output_type": "stream",
          "name": "stderr",
          "text": [
            "\n",
            "\n",
            "Fetching images for fox:   0%|          | 0/2 [00:00<?, ?it/s]\u001b[A\u001b[A\n",
            "\n",
            "Fetching images for fox:  50%|█████     | 1/2 [00:01<00:00,  1.01it/s]\u001b[A\u001b[A\n",
            "\n",
            "\n",
            "Fetching images for bear: 100%|██████████| 2/2 [00:16<00:00,  8.18s/it]\n",
            "Overall Progress:   3%|▎         | 4/134 [01:18<30:45, 14.20s/it]"
          ]
        },
        {
          "output_type": "stream",
          "name": "stdout",
          "text": [
            "\n",
            "Number of images retrieved for bear: 2\n"
          ]
        },
        {
          "output_type": "stream",
          "name": "stderr",
          "text": [
            "\n",
            "\n",
            "\n",
            "Fetching images for Civet:  50%|█████     | 1/2 [00:00<00:00,  1.40it/s]\u001b[A\u001b[A\u001b[A\n",
            "Fetching images for Pangolins:   0%|          | 0/2 [00:00<?, ?it/s]\u001b[A\n",
            "Fetching images for fox: 100%|██████████| 2/2 [00:14<00:00,  7.35s/it]\n",
            "Overall Progress:   4%|▎         | 5/134 [01:28<27:16, 12.69s/it]"
          ]
        },
        {
          "output_type": "stream",
          "name": "stdout",
          "text": [
            "\n",
            "Number of images retrieved for fox: 2\n"
          ]
        },
        {
          "output_type": "stream",
          "name": "stderr",
          "text": [
            "Fetching images for Civet: 100%|██████████| 2/2 [00:13<00:00,  6.74s/it]\n",
            "Overall Progress:   4%|▍         | 6/134 [01:32<20:08,  9.44s/it]"
          ]
        },
        {
          "output_type": "stream",
          "name": "stdout",
          "text": [
            "\n",
            "Number of images retrieved for Civet: 2\n"
          ]
        },
        {
          "output_type": "stream",
          "name": "stderr",
          "text": [
            "\n",
            "\n",
            "Fetching images for Bats:   0%|          | 0/2 [00:00<?, ?it/s]\u001b[A\u001b[A\n",
            "\n",
            "Fetching images for Bats:  50%|█████     | 1/2 [00:00<00:00,  6.03it/s]\u001b[A\u001b[A\n",
            "\n",
            "\n",
            "Fetching images for Rabbit:   0%|          | 0/2 [00:00<?, ?it/s]\u001b[A\u001b[A\u001b[A\n",
            "\n",
            "\n",
            "Fetching images for Pangolins: 100%|██████████| 2/2 [00:13<00:00,  6.59s/it]\n",
            "Overall Progress:   5%|▌         | 7/134 [01:39<18:44,  8.86s/it]"
          ]
        },
        {
          "output_type": "stream",
          "name": "stdout",
          "text": [
            "\n",
            "Number of images retrieved for Pangolins: 2\n"
          ]
        },
        {
          "output_type": "stream",
          "name": "stderr",
          "text": [
            "\n",
            "Fetching images for Whale:   0%|          | 0/2 [00:00<?, ?it/s]\u001b[A\n",
            "Fetching images for Bats: 100%|██████████| 2/2 [00:15<00:00,  7.74s/it]\n",
            "Overall Progress:   6%|▌         | 8/134 [01:51<20:39,  9.83s/it]"
          ]
        },
        {
          "output_type": "stream",
          "name": "stdout",
          "text": [
            "\n",
            "Number of images retrieved for Bats: 2\n"
          ]
        },
        {
          "output_type": "stream",
          "name": "stderr",
          "text": [
            "Fetching images for Rabbit: 100%|██████████| 2/2 [00:15<00:00,  7.80s/it]\n",
            "Overall Progress:   7%|▋         | 9/134 [01:52<14:31,  6.97s/it]"
          ]
        },
        {
          "output_type": "stream",
          "name": "stdout",
          "text": [
            "\n",
            "Number of images retrieved for Rabbit: 2\n"
          ]
        },
        {
          "output_type": "stream",
          "name": "stderr",
          "text": [
            "Fetching images for Whale: 100%|██████████| 2/2 [00:15<00:00,  7.94s/it]\n",
            "Overall Progress:   7%|▋         | 10/134 [02:01<15:39,  7.58s/it]"
          ]
        },
        {
          "output_type": "stream",
          "name": "stdout",
          "text": [
            "\n",
            "Number of images retrieved for Whale: 2\n"
          ]
        },
        {
          "output_type": "stream",
          "name": "stderr",
          "text": [
            "\n",
            "Fetching images for Cock:   0%|          | 0/2 [00:00<?, ?it/s]\u001b[A\n",
            "Fetching images for Cock:  50%|█████     | 1/2 [00:01<00:01,  1.02s/it]\u001b[A\n",
            "\n",
            "Fetching images for Owl:   0%|          | 0/2 [00:00<?, ?it/s]\u001b[A\u001b[A\n",
            "\n",
            "Fetching images for Owl:  50%|█████     | 1/2 [00:00<00:00,  1.55it/s]\u001b[A\u001b[A\n",
            "\n",
            "\n",
            "Fetching images for flamingo:   0%|          | 0/2 [00:00<?, ?it/s]\u001b[A\u001b[A\u001b[A\n",
            "\n",
            "\n",
            "Fetching images for Cock: 100%|██████████| 2/2 [00:13<00:00,  6.98s/it]\n",
            "Overall Progress:   8%|▊         | 11/134 [02:18<21:46, 10.62s/it]"
          ]
        },
        {
          "output_type": "stream",
          "name": "stdout",
          "text": [
            "\n",
            "Number of images retrieved for Cock: 2\n"
          ]
        },
        {
          "output_type": "stream",
          "name": "stderr",
          "text": [
            "Fetching images for Owl: 100%|██████████| 2/2 [00:13<00:00,  6.96s/it]\n",
            "Overall Progress:   9%|▉         | 12/134 [02:19<15:40,  7.71s/it]"
          ]
        },
        {
          "output_type": "stream",
          "name": "stdout",
          "text": [
            "\n",
            "Number of images retrieved for Owl: 2\n"
          ]
        },
        {
          "output_type": "stream",
          "name": "stderr",
          "text": [
            "Fetching images for flamingo: 100%|██████████| 2/2 [00:15<00:00,  7.97s/it]\n",
            "Overall Progress:  10%|▉         | 13/134 [02:24<13:32,  6.72s/it]"
          ]
        },
        {
          "output_type": "stream",
          "name": "stdout",
          "text": [
            "\n",
            "Number of images retrieved for flamingo: 2\n"
          ]
        },
        {
          "output_type": "stream",
          "name": "stderr",
          "text": [
            "\n",
            "Fetching images for Lizard:   0%|          | 0/2 [00:00<?, ?it/s]\u001b[A\n",
            "Fetching images for Lizard:  50%|█████     | 1/2 [00:01<00:00,  1.00it/s]\u001b[A\n",
            "\n",
            "Fetching images for Turtle:   0%|          | 0/2 [00:00<?, ?it/s]\u001b[A\u001b[A\n",
            "\n",
            "Fetching images for Turtle:  50%|█████     | 1/2 [00:00<00:00,  1.33it/s]\u001b[A\u001b[A\n",
            "\n",
            "\n",
            "Fetching images for Snake:   0%|          | 0/2 [00:00<?, ?it/s]\u001b[A\u001b[A\u001b[A\n",
            "\n",
            "\n",
            "Fetching images for Lizard: 100%|██████████| 2/2 [00:13<00:00,  6.68s/it]\n",
            "Overall Progress:  10%|█         | 14/134 [02:44<21:28, 10.73s/it]"
          ]
        },
        {
          "output_type": "stream",
          "name": "stdout",
          "text": [
            "\n",
            "Number of images retrieved for Lizard: 2\n"
          ]
        },
        {
          "output_type": "stream",
          "name": "stderr",
          "text": [
            "\rFetching images for Turtle: 100%|██████████| 2/2 [00:13<00:00,  6.82s/it]\n",
            "\n",
            "Overall Progress:  11%|█         | 15/134 [02:48<17:40,  8.91s/it]"
          ]
        },
        {
          "output_type": "stream",
          "name": "stdout",
          "text": [
            "\n",
            "Number of images retrieved for Turtle: 2\n"
          ]
        },
        {
          "output_type": "stream",
          "name": "stderr",
          "text": [
            "\n",
            "Fetching images for Snake: 100%|██████████| 2/2 [00:14<00:00,  7.38s/it]\n",
            "Overall Progress:  12%|█▏        | 16/134 [02:53<14:59,  7.63s/it]"
          ]
        },
        {
          "output_type": "stream",
          "name": "stdout",
          "text": [
            "\n",
            "Number of images retrieved for Snake: 2\n"
          ]
        },
        {
          "output_type": "stream",
          "name": "stderr",
          "text": [
            "\n",
            "\n",
            "Fetching images for Fish:   0%|          | 0/2 [00:00<?, ?it/s]\u001b[A\u001b[A\n",
            "\n",
            "Fetching images for Fish:  50%|█████     | 1/2 [00:00<00:00,  1.56it/s]\u001b[A\u001b[A\n",
            "\n",
            "\n",
            "Fetching images for Cat:   0%|          | 0/2 [00:00<?, ?it/s]\u001b[A\u001b[A\u001b[A\n",
            "\n",
            "\n",
            "Fetching images for Cat:  50%|█████     | 1/2 [00:01<00:01,  1.31s/it]\u001b[A\u001b[A\u001b[A\n",
            "\n",
            "\n",
            "\n",
            "Fetching images for shrimp:   0%|          | 0/2 [00:00<?, ?it/s]\u001b[A\u001b[A\u001b[A\u001b[A\n",
            "\n",
            "\n",
            "\n",
            "Fetching images for Frog: 100%|██████████| 2/2 [00:16<00:00,  8.30s/it]\n",
            "Overall Progress:  13%|█▎        | 17/134 [03:05<17:27,  8.95s/it]"
          ]
        },
        {
          "output_type": "stream",
          "name": "stdout",
          "text": [
            "\n",
            "Number of images retrieved for Frog: 2\n"
          ]
        },
        {
          "output_type": "stream",
          "name": "stderr",
          "text": [
            "Fetching images for Fish: 100%|██████████| 2/2 [00:14<00:00,  7.36s/it]\n",
            "Overall Progress:  13%|█▎        | 18/134 [03:13<16:22,  8.47s/it]"
          ]
        },
        {
          "output_type": "stream",
          "name": "stdout",
          "text": [
            "\n",
            "Number of images retrieved for Fish: 2\n"
          ]
        },
        {
          "output_type": "stream",
          "name": "stderr",
          "text": [
            "\n",
            "Fetching images for Crab:   0%|          | 0/2 [00:00<?, ?it/s]\u001b[A\n",
            "Fetching images for Cat: 100%|██████████| 2/2 [00:14<00:00,  7.07s/it]\n",
            "Overall Progress:  14%|█▍        | 19/134 [03:16<13:14,  6.91s/it]"
          ]
        },
        {
          "output_type": "stream",
          "name": "stdout",
          "text": [
            "\n",
            "Number of images retrieved for Cat: 2\n"
          ]
        },
        {
          "output_type": "stream",
          "name": "stderr",
          "text": [
            "Fetching images for shrimp: 100%|██████████| 2/2 [00:14<00:00,  7.10s/it]\n",
            "Overall Progress:  15%|█▍        | 20/134 [03:17<10:03,  5.30s/it]"
          ]
        },
        {
          "output_type": "stream",
          "name": "stdout",
          "text": [
            "\n",
            "Number of images retrieved for shrimp: 2\n"
          ]
        },
        {
          "output_type": "stream",
          "name": "stderr",
          "text": [
            "\n",
            "\n",
            "Fetching images for Snail:   0%|          | 0/2 [00:00<?, ?it/s]\u001b[A\u001b[A\n",
            "\n",
            "Fetching images for Snail:  50%|█████     | 1/2 [00:01<00:01,  1.09s/it]\u001b[A\u001b[A\n",
            "\n",
            "\n",
            "Fetching images for Elephant:   0%|          | 0/2 [00:00<?, ?it/s]\u001b[A\u001b[A\u001b[A\n",
            "\n",
            "\n",
            "\n",
            "Fetching images for Coral:   0%|          | 0/2 [00:00<?, ?it/s]\u001b[A\u001b[A\u001b[A\u001b[A\n",
            "\n",
            "\n",
            "Fetching images for Elephant:  50%|█████     | 1/2 [00:02<00:02,  2.90s/it]\u001b[A\u001b[A\u001b[A\n",
            "\n",
            "\n",
            "\n",
            "Fetching images for Crab: 100%|██████████| 2/2 [00:17<00:00,  8.62s/it]\n",
            "\n",
            "Fetching images for Jellyfish:   0%|          | 0/2 [00:00<?, ?it/s]\u001b[A\n",
            "Overall Progress:  16%|█▌        | 21/134 [03:32<15:09,  8.05s/it]"
          ]
        },
        {
          "output_type": "stream",
          "name": "stdout",
          "text": [
            "\n",
            "Number of images retrieved for Crab: 2\n"
          ]
        },
        {
          "output_type": "stream",
          "name": "stderr",
          "text": [
            "Fetching images for Snail: 100%|██████████| 2/2 [00:15<00:00,  7.58s/it]\n",
            "Overall Progress:  16%|█▋        | 22/134 [03:35<12:18,  6.59s/it]"
          ]
        },
        {
          "output_type": "stream",
          "name": "stdout",
          "text": [
            "\n",
            "Number of images retrieved for Snail: 2\n"
          ]
        },
        {
          "output_type": "stream",
          "name": "stderr",
          "text": [
            "\n",
            "\n",
            "Fetching images for Butterfly:   0%|          | 0/2 [00:00<?, ?it/s]\u001b[A\u001b[A\n",
            "\n",
            "Fetching images for Butterfly:  50%|█████     | 1/2 [00:00<00:00,  3.04it/s]\u001b[A\u001b[A\n",
            "\n",
            "\n",
            "\n",
            "\n",
            "Fetching images for Flies:   0%|          | 0/2 [00:00<?, ?it/s]\u001b[A\u001b[A\u001b[A\u001b[A\u001b[A\n",
            "\n",
            "\n",
            "\n",
            "\n",
            "Fetching images for Elephant: 100%|██████████| 2/2 [00:18<00:00,  9.02s/it]\n",
            "Overall Progress:  17%|█▋        | 23/134 [03:44<13:48,  7.46s/it]"
          ]
        },
        {
          "output_type": "stream",
          "name": "stdout",
          "text": [
            "\n",
            "Number of images retrieved for Elephant: 2\n"
          ]
        },
        {
          "output_type": "stream",
          "name": "stderr",
          "text": [
            "Fetching images for Coral: 100%|██████████| 2/2 [00:17<00:00,  8.64s/it]\n",
            "Overall Progress:  18%|█▊        | 24/134 [03:46<10:14,  5.59s/it]"
          ]
        },
        {
          "output_type": "stream",
          "name": "stdout",
          "text": [
            "\n",
            "Number of images retrieved for Coral: 2\n"
          ]
        },
        {
          "output_type": "stream",
          "name": "stderr",
          "text": [
            "Fetching images for Jellyfish: 100%|██████████| 2/2 [00:15<00:00,  7.59s/it]\n",
            "Overall Progress:  19%|█▊        | 25/134 [03:46<07:21,  4.05s/it]"
          ]
        },
        {
          "output_type": "stream",
          "name": "stdout",
          "text": [
            "\n",
            "Number of images retrieved for Jellyfish: 2\n"
          ]
        },
        {
          "output_type": "stream",
          "name": "stderr",
          "text": [
            "\n",
            "Fetching images for Butterfly: 100%|██████████| 2/2 [00:18<00:00,  9.33s/it]\n",
            "Overall Progress:  19%|█▉        | 26/134 [03:59<12:10,  6.76s/it]"
          ]
        },
        {
          "output_type": "stream",
          "name": "stdout",
          "text": [
            "\n",
            "Number of images retrieved for Butterfly: 2\n"
          ]
        },
        {
          "output_type": "stream",
          "name": "stderr",
          "text": [
            "\n",
            "\n",
            "Fetching images for Mosquito:   0%|          | 0/2 [00:00<?, ?it/s]\u001b[A\u001b[A\n",
            "\n",
            "Fetching images for Flies: 100%|██████████| 2/2 [00:20<00:00, 10.43s/it]\n",
            "Overall Progress:  20%|██        | 27/134 [04:03<10:11,  5.72s/it]"
          ]
        },
        {
          "output_type": "stream",
          "name": "stdout",
          "text": [
            "\n",
            "Number of images retrieved for Flies: 2\n"
          ]
        },
        {
          "output_type": "stream",
          "name": "stderr",
          "text": [
            "\n",
            "\n",
            "\n",
            "Fetching images for Spider:   0%|          | 0/2 [00:00<?, ?it/s]\u001b[A\u001b[A\u001b[A\n",
            "\n",
            "\n",
            "Fetching images for Spider:  50%|█████     | 1/2 [00:00<00:00,  1.11it/s]\u001b[A\u001b[A\u001b[A\n",
            "\n",
            "\n",
            "\n",
            "Fetching images for scorpion:   0%|          | 0/2 [00:00<?, ?it/s]\u001b[A\u001b[A\u001b[A\u001b[A\n",
            "\n",
            "\n",
            "\n",
            "Fetching images for Mosquito: 100%|██████████| 2/2 [00:15<00:00,  7.67s/it]\n",
            "Overall Progress:  21%|██        | 28/134 [04:15<13:35,  7.69s/it]"
          ]
        },
        {
          "output_type": "stream",
          "name": "stdout",
          "text": [
            "\n",
            "Number of images retrieved for Mosquito: 2\n"
          ]
        },
        {
          "output_type": "stream",
          "name": "stderr",
          "text": [
            "\n",
            "\n",
            "Fetching images for tiger:   0%|          | 0/2 [00:00<?, ?it/s]\u001b[A\u001b[A\n",
            "\n",
            "Fetching images for Spider: 100%|██████████| 2/2 [00:14<00:00,  7.20s/it]\n",
            "Overall Progress:  22%|██▏       | 29/134 [04:25<14:56,  8.54s/it]"
          ]
        },
        {
          "output_type": "stream",
          "name": "stdout",
          "text": [
            "\n",
            "Number of images retrieved for Spider: 2\n"
          ]
        },
        {
          "output_type": "stream",
          "name": "stderr",
          "text": [
            "Fetching images for scorpion: 100%|██████████| 2/2 [00:14<00:00,  7.01s/it]\n",
            "Overall Progress:  22%|██▏       | 30/134 [04:27<11:02,  6.37s/it]"
          ]
        },
        {
          "output_type": "stream",
          "name": "stdout",
          "text": [
            "\n",
            "Number of images retrieved for scorpion: 2\n"
          ]
        },
        {
          "output_type": "stream",
          "name": "stderr",
          "text": [
            "Fetching images for tiger: 100%|██████████| 2/2 [00:15<00:00,  7.91s/it]\n",
            "Overall Progress:  23%|██▎       | 31/134 [04:34<11:36,  6.76s/it]"
          ]
        },
        {
          "output_type": "stream",
          "name": "stdout",
          "text": [
            "\n",
            "Number of images retrieved for tiger: 2\n"
          ]
        },
        {
          "output_type": "stream",
          "name": "stderr",
          "text": [
            "\n",
            "\n",
            "Fetching images for bird:   0%|          | 0/2 [00:00<?, ?it/s]\u001b[A\u001b[A\n",
            "\n",
            "Fetching images for bird:  50%|█████     | 1/2 [00:01<00:01,  1.26s/it]\u001b[A\u001b[A\n",
            "\n",
            "\n",
            "Fetching images for horse:   0%|          | 0/2 [00:00<?, ?it/s]\u001b[A\u001b[A\u001b[A\n",
            "\n",
            "\n",
            "Fetching images for horse:  50%|█████     | 1/2 [00:01<00:01,  1.04s/it]\u001b[A\u001b[A\u001b[A\n",
            "\n",
            "\n",
            "\n",
            "Fetching images for pig:   0%|          | 0/2 [00:00<?, ?it/s]\u001b[A\u001b[A\u001b[A\u001b[A\n",
            "\n",
            "\n",
            "\n",
            "Fetching images for bird: 100%|██████████| 2/2 [00:14<00:00,  7.08s/it]\n",
            "Overall Progress:  24%|██▍       | 32/134 [04:53<17:49, 10.49s/it]"
          ]
        },
        {
          "output_type": "stream",
          "name": "stdout",
          "text": [
            "\n",
            "Number of images retrieved for bird: 2\n"
          ]
        },
        {
          "output_type": "stream",
          "name": "stderr",
          "text": [
            "Fetching images for horse: 100%|██████████| 2/2 [00:13<00:00,  6.87s/it]\n",
            "Overall Progress:  25%|██▍       | 33/134 [04:54<12:48,  7.61s/it]"
          ]
        },
        {
          "output_type": "stream",
          "name": "stdout",
          "text": [
            "\n",
            "Number of images retrieved for horse: 2\n"
          ]
        },
        {
          "output_type": "stream",
          "name": "stderr",
          "text": [
            "Fetching images for pig: 100%|██████████| 2/2 [00:16<00:00,  8.24s/it]\n",
            "Overall Progress:  25%|██▌       | 34/134 [05:03<12:57,  7.78s/it]"
          ]
        },
        {
          "output_type": "stream",
          "name": "stdout",
          "text": [
            "\n",
            "Number of images retrieved for pig: 2\n"
          ]
        },
        {
          "output_type": "stream",
          "name": "stderr",
          "text": [
            "\n",
            "\n",
            "Fetching images for Alligator:   0%|          | 0/2 [00:00<?, ?it/s]\u001b[A\u001b[A\n",
            "\n",
            "Fetching images for Alligator:  50%|█████     | 1/2 [00:01<00:01,  1.11s/it]\u001b[A\u001b[A\n",
            "\n",
            "\n",
            "Fetching images for Alpaca:   0%|          | 0/2 [00:00<?, ?it/s]\u001b[A\u001b[A\u001b[A\n",
            "\n",
            "\n",
            "Fetching images for Alpaca:  50%|█████     | 1/2 [00:00<00:00,  1.05it/s]\u001b[A\u001b[A\u001b[A\n",
            "\n",
            "\n",
            "\n",
            "Fetching images for Anteater:   0%|          | 0/2 [00:00<?, ?it/s]\u001b[A\u001b[A\u001b[A\u001b[A\n",
            "\n",
            "\n",
            "\n",
            "Fetching images for Alligator: 100%|██████████| 2/2 [00:13<00:00,  6.91s/it]\n",
            "Overall Progress:  26%|██▌       | 35/134 [05:19<17:16, 10.47s/it]"
          ]
        },
        {
          "output_type": "stream",
          "name": "stdout",
          "text": [
            "\n",
            "Number of images retrieved for Alligator: 2\n"
          ]
        },
        {
          "output_type": "stream",
          "name": "stderr",
          "text": [
            "Fetching images for Alpaca: 100%|██████████| 2/2 [00:13<00:00,  6.69s/it]\n",
            "Overall Progress:  27%|██▋       | 36/134 [05:21<12:43,  7.79s/it]"
          ]
        },
        {
          "output_type": "stream",
          "name": "stdout",
          "text": [
            "\n",
            "Number of images retrieved for Alpaca: 2\n"
          ]
        },
        {
          "output_type": "stream",
          "name": "stderr",
          "text": [
            "\n",
            "\n",
            "Fetching images for donkey:   0%|          | 0/2 [00:00<?, ?it/s]\u001b[A\u001b[A\n",
            "\n",
            "Fetching images for Anteater: 100%|██████████| 2/2 [00:13<00:00,  6.83s/it]\n",
            "Overall Progress:  28%|██▊       | 37/134 [05:27<11:48,  7.30s/it]"
          ]
        },
        {
          "output_type": "stream",
          "name": "stdout",
          "text": [
            "\n",
            "Number of images retrieved for Anteater: 2\n"
          ]
        },
        {
          "output_type": "stream",
          "name": "stderr",
          "text": [
            "\n",
            "\n",
            "\n",
            "Fetching images for Bee:   0%|          | 0/2 [00:00<?, ?it/s]\u001b[A\u001b[A\u001b[A\n",
            "\n",
            "\n",
            "Fetching images for Bee:  50%|█████     | 1/2 [00:00<00:00,  1.88it/s]\u001b[A\u001b[A\u001b[A\n",
            "\n",
            "\n",
            "\n",
            "Fetching images for Buffalo:   0%|          | 0/2 [00:00<?, ?it/s]\u001b[A\u001b[A\u001b[A\u001b[A\n",
            "\n",
            "\n",
            "\n",
            "Fetching images for donkey: 100%|██████████| 2/2 [00:14<00:00,  7.10s/it]\n",
            "Overall Progress:  28%|██▊       | 38/134 [05:40<14:10,  8.86s/it]"
          ]
        },
        {
          "output_type": "stream",
          "name": "stdout",
          "text": [
            "\n",
            "Number of images retrieved for donkey: 2\n"
          ]
        },
        {
          "output_type": "stream",
          "name": "stderr",
          "text": [
            "Fetching images for Bee: 100%|██████████| 2/2 [00:13<00:00,  6.69s/it]\n",
            "Overall Progress:  29%|██▉       | 39/134 [05:41<10:34,  6.68s/it]"
          ]
        },
        {
          "output_type": "stream",
          "name": "stdout",
          "text": [
            "\n",
            "Number of images retrieved for Bee: 2\n"
          ]
        },
        {
          "output_type": "stream",
          "name": "stderr",
          "text": [
            "Fetching images for Buffalo: 100%|██████████| 2/2 [00:14<00:00,  7.27s/it]\n",
            "Overall Progress:  30%|██▉       | 40/134 [05:49<11:14,  7.17s/it]"
          ]
        },
        {
          "output_type": "stream",
          "name": "stdout",
          "text": [
            "\n",
            "Number of images retrieved for Buffalo: 2\n"
          ]
        },
        {
          "output_type": "stream",
          "name": "stderr",
          "text": [
            "\n",
            "\n",
            "Fetching images for Camel:   0%|          | 0/2 [00:00<?, ?it/s]\u001b[A\u001b[A\n",
            "\n",
            "Fetching images for Camel:  50%|█████     | 1/2 [00:00<00:00,  1.29it/s]\u001b[A\u001b[A\n",
            "\n",
            "\n",
            "Fetching images for Caterpillar:   0%|          | 0/2 [00:00<?, ?it/s]\u001b[A\u001b[A\u001b[A\n",
            "\n",
            "\n",
            "Fetching images for Caterpillar:  50%|█████     | 1/2 [00:00<00:00,  2.28it/s]\u001b[A\u001b[A\u001b[A\n",
            "\n",
            "\n",
            "\n",
            "Fetching images for Cheetah:   0%|          | 0/2 [00:00<?, ?it/s]\u001b[A\u001b[A\u001b[A\u001b[A\n",
            "\n",
            "\n",
            "\n",
            "Fetching images for Camel: 100%|██████████| 2/2 [00:13<00:00,  6.97s/it]\n",
            "Overall Progress:  31%|███       | 41/134 [06:04<14:30,  9.36s/it]"
          ]
        },
        {
          "output_type": "stream",
          "name": "stdout",
          "text": [
            "\n",
            "Number of images retrieved for Camel: 2\n"
          ]
        },
        {
          "output_type": "stream",
          "name": "stderr",
          "text": [
            "Fetching images for Caterpillar: 100%|██████████| 2/2 [00:13<00:00,  6.94s/it]\n",
            "Overall Progress:  31%|███▏      | 42/134 [06:05<10:35,  6.91s/it]"
          ]
        },
        {
          "output_type": "stream",
          "name": "stdout",
          "text": [
            "\n",
            "Number of images retrieved for Caterpillar: 2\n"
          ]
        },
        {
          "output_type": "stream",
          "name": "stderr",
          "text": [
            "Fetching images for Cheetah: 100%|██████████| 2/2 [00:16<00:00,  8.07s/it]\n",
            "Overall Progress:  32%|███▏      | 43/134 [06:10<09:41,  6.39s/it]"
          ]
        },
        {
          "output_type": "stream",
          "name": "stdout",
          "text": [
            "\n",
            "Number of images retrieved for Cheetah: 2\n"
          ]
        },
        {
          "output_type": "stream",
          "name": "stderr",
          "text": [
            "\n",
            "\n",
            "Fetching images for Ants:   0%|          | 0/2 [00:00<?, ?it/s]\u001b[A\u001b[A\n",
            "\n",
            "Fetching images for Ants:  50%|█████     | 1/2 [00:02<00:02,  2.98s/it]\u001b[A\u001b[A\n",
            "\n",
            "\n",
            "Fetching images for Chicken:   0%|          | 0/2 [00:00<?, ?it/s]\u001b[A\u001b[A\u001b[A\n",
            "\n",
            "\n",
            "\n",
            "Fetching images for Dragonfly:   0%|          | 0/2 [00:00<?, ?it/s]\u001b[A\u001b[A\u001b[A\u001b[A\n",
            "\n",
            "\n",
            "\n",
            "Fetching images for Dragonfly:  50%|█████     | 1/2 [00:01<00:00,  1.32it/s]\u001b[A\u001b[A\u001b[A\u001b[A\n",
            "\n",
            "\n",
            "\n",
            "Fetching images for Dragonfly: 100%|██████████| 2/2 [00:01<00:00,  2.08it/s]\u001b[A\u001b[A\u001b[A\u001b[A\n",
            "\n",
            "\n",
            "Fetching images for Chicken:  50%|█████     | 1/2 [00:01<00:01,  1.74s/it]\u001b[A\u001b[A\u001b[A\n",
            "\n",
            "\n",
            "\n",
            "\n",
            "Fetching images for Duck:   0%|          | 0/2 [00:00<?, ?it/s]\u001b[A\u001b[A\u001b[A\u001b[A\u001b[A\n",
            "\n",
            "\n",
            "\n",
            "\n",
            "Fetching images for Cockroaches:   0%|          | 0/2 [02:38<?, ?it/s]\n",
            "Overall Progress:  33%|███▎      | 44/134 [06:27<14:01,  9.35s/it]"
          ]
        },
        {
          "output_type": "stream",
          "name": "stdout",
          "text": [
            "\n",
            "Number of images retrieved for Cockroaches: 0\n"
          ]
        },
        {
          "output_type": "stream",
          "name": "stderr",
          "text": [
            "Fetching images for Ants: 100%|██████████| 2/2 [00:15<00:00,  7.97s/it]\n",
            "Overall Progress:  34%|███▎      | 45/134 [06:30<11:17,  7.62s/it]"
          ]
        },
        {
          "output_type": "stream",
          "name": "stdout",
          "text": [
            "\n",
            "Number of images retrieved for Ants: 2\n"
          ]
        },
        {
          "output_type": "stream",
          "name": "stderr",
          "text": [
            "\n",
            "Fetching images for panda:   0%|          | 0/2 [00:00<?, ?it/s]\u001b[A\n",
            "Fetching images for Dragonfly: 100%|██████████| 2/2 [00:16<00:00,  8.21s/it]\n",
            "Overall Progress:  34%|███▍      | 46/134 [06:37<11:04,  7.55s/it]"
          ]
        },
        {
          "output_type": "stream",
          "name": "stdout",
          "text": [
            "\n",
            "Number of images retrieved for Dragonfly: 2\n"
          ]
        },
        {
          "output_type": "stream",
          "name": "stderr",
          "text": [
            "Fetching images for Chicken: 100%|██████████| 2/2 [00:17<00:00,  8.76s/it]\n",
            "Overall Progress:  35%|███▌      | 47/134 [06:38<07:52,  5.43s/it]"
          ]
        },
        {
          "output_type": "stream",
          "name": "stdout",
          "text": [
            "\n",
            "Number of images retrieved for Chicken: 2\n"
          ]
        },
        {
          "output_type": "stream",
          "name": "stderr",
          "text": [
            "Fetching images for Duck: 100%|██████████| 2/2 [00:14<00:00,  7.21s/it]\n",
            "Overall Progress:  36%|███▌      | 48/134 [06:39<05:45,  4.02s/it]"
          ]
        },
        {
          "output_type": "stream",
          "name": "stdout",
          "text": [
            "\n",
            "Number of images retrieved for Duck: 2\n"
          ]
        },
        {
          "output_type": "stream",
          "name": "stderr",
          "text": [
            "\n",
            "\n",
            "Fetching images for Giraffe:   0%|          | 0/2 [00:00<?, ?it/s]\u001b[A\u001b[A\n",
            "\n",
            "Fetching images for panda: 100%|██████████| 2/2 [00:18<00:00,  9.36s/it]\n",
            "Overall Progress:  37%|███▋      | 49/134 [06:50<08:45,  6.18s/it]"
          ]
        },
        {
          "output_type": "stream",
          "name": "stdout",
          "text": [
            "\n",
            "Number of images retrieved for panda: 2\n"
          ]
        },
        {
          "output_type": "stream",
          "name": "stderr",
          "text": [
            "\n",
            "Fetching images for Apple:   0%|          | 0/2 [00:00<?, ?it/s]\u001b[A\n",
            "Fetching images for Apple:  50%|█████     | 1/2 [00:00<00:00,  1.58it/s]\u001b[A\n",
            "\n",
            "\n",
            "Fetching images for Banana:   0%|          | 0/2 [00:00<?, ?it/s]\u001b[A\u001b[A\u001b[A\n",
            "\n",
            "\n",
            "Fetching images for Giraffe: 100%|██████████| 2/2 [00:15<00:00,  7.65s/it]\n",
            "Overall Progress:  37%|███▋      | 50/134 [06:58<09:20,  6.67s/it]"
          ]
        },
        {
          "output_type": "stream",
          "name": "stdout",
          "text": [
            "\n",
            "Number of images retrieved for Giraffe: 2\n"
          ]
        },
        {
          "output_type": "stream",
          "name": "stderr",
          "text": [
            "\n",
            "\n",
            "Fetching images for Bamboo:   0%|          | 0/2 [00:00<?, ?it/s]\u001b[A\u001b[A\n",
            "\n",
            "\n",
            "\n",
            "Fetching images for Apricot:   0%|          | 0/2 [00:00<?, ?it/s]\u001b[A\u001b[A\u001b[A\u001b[A\n",
            "\n",
            "Fetching images for Bamboo:  50%|█████     | 1/2 [00:01<00:01,  1.07s/it]\u001b[A\u001b[A\n",
            "\n",
            "\n",
            "\n",
            "Fetching images for Apricot:  50%|█████     | 1/2 [00:01<00:01,  1.16s/it]\u001b[A\u001b[A\u001b[A\u001b[A\n",
            "\n",
            "\n",
            "\n",
            "\n",
            "Fetching images for Bean:   0%|          | 0/2 [00:00<?, ?it/s]\u001b[A\u001b[A\u001b[A\u001b[A\u001b[A\n",
            "\n",
            "\n",
            "\n",
            "\n",
            "Fetching images for Apple: 100%|██████████| 2/2 [00:13<00:00,  6.88s/it]\n",
            "Overall Progress:  38%|███▊      | 51/134 [07:07<10:21,  7.48s/it]"
          ]
        },
        {
          "output_type": "stream",
          "name": "stdout",
          "text": [
            "\n",
            "Number of images retrieved for Apple: 2\n"
          ]
        },
        {
          "output_type": "stream",
          "name": "stderr",
          "text": [
            "Fetching images for Banana: 100%|██████████| 2/2 [00:14<00:00,  7.12s/it]\n",
            "Overall Progress:  39%|███▉      | 52/134 [07:11<08:39,  6.34s/it]"
          ]
        },
        {
          "output_type": "stream",
          "name": "stdout",
          "text": [
            "\n",
            "Number of images retrieved for Banana: 2\n"
          ]
        },
        {
          "output_type": "stream",
          "name": "stderr",
          "text": [
            "\n",
            "Fetching images for Flower:   0%|          | 0/2 [00:00<?, ?it/s]\u001b[A\n",
            "Fetching images for Flower:  50%|█████     | 1/2 [00:01<00:01,  1.65s/it]\u001b[A\n",
            "\n",
            "\n",
            "Fetching images for Bamboo: 100%|██████████| 2/2 [00:18<00:00,  9.27s/it]\n",
            "\n",
            "\n",
            "\n",
            "Fetching images for Wildflower:  50%|█████     | 1/2 [00:01<00:01,  1.91s/it]\u001b[A\u001b[A\u001b[A\n",
            "\n",
            "\n",
            "Overall Progress:  40%|███▉      | 53/134 [07:20<09:45,  7.23s/it]"
          ]
        },
        {
          "output_type": "stream",
          "name": "stdout",
          "text": [
            "\n",
            "Number of images retrieved for Bamboo: 2\n"
          ]
        },
        {
          "output_type": "stream",
          "name": "stderr",
          "text": [
            "Fetching images for Apricot: 100%|██████████| 2/2 [00:19<00:00,  9.76s/it]\n",
            "Overall Progress:  40%|████      | 54/134 [07:21<07:09,  5.37s/it]"
          ]
        },
        {
          "output_type": "stream",
          "name": "stdout",
          "text": [
            "\n",
            "Number of images retrieved for Apricot: 2\n"
          ]
        },
        {
          "output_type": "stream",
          "name": "stderr",
          "text": [
            "Fetching images for Bean: 100%|██████████| 2/2 [00:18<00:00,  9.06s/it]\n",
            "Overall Progress:  41%|████      | 55/134 [07:22<05:14,  3.98s/it]"
          ]
        },
        {
          "output_type": "stream",
          "name": "stdout",
          "text": [
            "\n",
            "Number of images retrieved for Bean: 2\n"
          ]
        },
        {
          "output_type": "stream",
          "name": "stderr",
          "text": [
            "\rFetching images for Flower: 100%|██████████| 2/2 [00:19<00:00,  9.52s/it]\n",
            "\n",
            "Overall Progress:  42%|████▏     | 56/134 [07:35<08:34,  6.59s/it]"
          ]
        },
        {
          "output_type": "stream",
          "name": "stdout",
          "text": [
            "\n",
            "Number of images retrieved for Flower: 2\n"
          ]
        },
        {
          "output_type": "stream",
          "name": "stderr",
          "text": [
            "\n",
            "\n",
            "Fetching images for Wildflower: 100%|██████████| 2/2 [00:17<00:00,  8.95s/it]\n",
            "\n",
            "Fetching images for Mushroom:  50%|█████     | 1/2 [00:01<00:01,  1.68s/it]\u001b[A\n",
            "\n",
            "\n",
            "Overall Progress:  43%|████▎     | 57/134 [07:36<06:33,  5.11s/it]"
          ]
        },
        {
          "output_type": "stream",
          "name": "stdout",
          "text": [
            "\n",
            "Number of images retrieved for Wildflower: 2\n"
          ]
        },
        {
          "output_type": "stream",
          "name": "stderr",
          "text": [
            "\n",
            "\n",
            "Fetching images for Weed:  50%|█████     | 1/2 [00:01<00:01,  1.11s/it]\u001b[A\u001b[A\n",
            "\n",
            "\n",
            "Fetching images for Fern:  50%|█████     | 1/2 [00:01<00:01,  1.04s/it]\u001b[A\u001b[A\u001b[A\n",
            "\n",
            "\n",
            "\n",
            "Fetching images for Reed:   0%|          | 0/2 [00:00<?, ?it/s]\u001b[A\u001b[A\u001b[A\u001b[A\n",
            "\n",
            "\n",
            "\n",
            "Fetching images for Reed:  50%|█████     | 1/2 [00:01<00:01,  1.15s/it]\u001b[A\u001b[A\u001b[A\u001b[A\n",
            "\n",
            "\n",
            "\n",
            "\n",
            "Fetching images for Shrub:   0%|          | 0/2 [00:00<?, ?it/s]\u001b[A\u001b[A\u001b[A\u001b[A\u001b[A\n",
            "\n",
            "\n",
            "\n",
            "\n",
            "Fetching images for Mushroom: 100%|██████████| 2/2 [00:15<00:00,  7.99s/it]\n",
            "Overall Progress:  43%|████▎     | 58/134 [07:51<10:03,  7.95s/it]"
          ]
        },
        {
          "output_type": "stream",
          "name": "stdout",
          "text": [
            "\n",
            "Number of images retrieved for Mushroom: 2\n"
          ]
        },
        {
          "output_type": "stream",
          "name": "stderr",
          "text": [
            "Fetching images for Weed: 100%|██████████| 2/2 [00:15<00:00,  7.98s/it]\n",
            "Fetching images for Fern: 100%|██████████| 2/2 [00:15<00:00,  7.88s/it]\n",
            "Overall Progress:  45%|████▍     | 60/134 [07:52<05:10,  4.20s/it]"
          ]
        },
        {
          "output_type": "stream",
          "name": "stdout",
          "text": [
            "\n",
            "Number of images retrieved for Weed: 2\n",
            "\n",
            "Number of images retrieved for Fern: 2\n"
          ]
        },
        {
          "output_type": "stream",
          "name": "stderr",
          "text": [
            "Fetching images for Reed: 100%|██████████| 2/2 [00:16<00:00,  8.46s/it]\n",
            "Overall Progress:  46%|████▌     | 61/134 [08:02<07:02,  5.79s/it]"
          ]
        },
        {
          "output_type": "stream",
          "name": "stdout",
          "text": [
            "\n",
            "Number of images retrieved for Reed: 2\n"
          ]
        },
        {
          "output_type": "stream",
          "name": "stderr",
          "text": [
            "Fetching images for Shrub: 100%|██████████| 2/2 [00:17<00:00,  8.84s/it]\n",
            "Overall Progress:  46%|████▋     | 62/134 [08:05<06:03,  5.04s/it]"
          ]
        },
        {
          "output_type": "stream",
          "name": "stdout",
          "text": [
            "\n",
            "Number of images retrieved for Shrub: 2\n"
          ]
        },
        {
          "output_type": "stream",
          "name": "stderr",
          "text": [
            "\n",
            "Fetching images for Moss:   0%|          | 0/2 [00:00<?, ?it/s]\u001b[A\n",
            "Fetching images for Moss:  50%|█████     | 1/2 [00:02<00:02,  2.51s/it]\u001b[A\n",
            "\n",
            "Fetching images for Grass:   0%|          | 0/2 [00:00<?, ?it/s]\u001b[A\u001b[A\n",
            "\n",
            "\n",
            "Fetching images for Palmtree:   0%|          | 0/2 [00:00<?, ?it/s]\u001b[A\u001b[A\u001b[A\n",
            "\n",
            "\n",
            "Fetching images for Palmtree:  50%|█████     | 1/2 [00:00<00:00,  1.29it/s]\u001b[A\u001b[A\u001b[A\n",
            "\n",
            "Fetching images for Grass:  50%|█████     | 1/2 [00:00<00:00,  1.15it/s]\u001b[A\u001b[A\n",
            "\n",
            "\n",
            "\n",
            "Fetching images for Tulip:   0%|          | 0/2 [00:00<?, ?it/s]\u001b[A\u001b[A\u001b[A\u001b[A\n",
            "\n",
            "\n",
            "\n",
            "Fetching images for Tulip:  50%|█████     | 1/2 [00:00<00:00,  3.35it/s]\u001b[A\u001b[A\u001b[A\u001b[A\n",
            "\n",
            "\n",
            "\n",
            "\n",
            "Fetching images for Corn:   0%|          | 0/2 [00:00<?, ?it/s]\u001b[A\u001b[A\u001b[A\u001b[A\u001b[A\n",
            "\n",
            "\n",
            "\n",
            "\n",
            "Fetching images for Moss: 100%|██████████| 2/2 [00:16<00:00,  8.07s/it]\n",
            "Overall Progress:  47%|████▋     | 63/134 [08:22<10:04,  8.51s/it]"
          ]
        },
        {
          "output_type": "stream",
          "name": "stdout",
          "text": [
            "\n",
            "Number of images retrieved for Moss: 2\n"
          ]
        },
        {
          "output_type": "stream",
          "name": "stderr",
          "text": [
            "Fetching images for Grass: 100%|██████████| 2/2 [00:15<00:00,  7.65s/it]\n",
            "Fetching images for Palmtree: 100%|██████████| 2/2 [00:15<00:00,  7.76s/it]\n",
            "Overall Progress:  48%|████▊     | 64/134 [08:24<07:51,  6.74s/it]"
          ]
        },
        {
          "output_type": "stream",
          "name": "stdout",
          "text": [
            "\n",
            "Number of images retrieved for Grass: 2\n"
          ]
        },
        {
          "output_type": "stream",
          "name": "stderr",
          "text": [
            "\rOverall Progress:  49%|████▊     | 65/134 [08:24<05:31,  4.80s/it]"
          ]
        },
        {
          "output_type": "stream",
          "name": "stdout",
          "text": [
            "\n",
            "Number of images retrieved for Palmtree: 2\n"
          ]
        },
        {
          "output_type": "stream",
          "name": "stderr",
          "text": [
            "Fetching images for Tulip: 100%|██████████| 2/2 [00:14<00:00,  7.40s/it]\n",
            "Overall Progress:  49%|████▉     | 66/134 [08:27<04:30,  3.98s/it]"
          ]
        },
        {
          "output_type": "stream",
          "name": "stdout",
          "text": [
            "\n",
            "Number of images retrieved for Tulip: 2\n"
          ]
        },
        {
          "output_type": "stream",
          "name": "stderr",
          "text": [
            "Fetching images for Corn: 100%|██████████| 2/2 [00:16<00:00,  8.05s/it]\n",
            "Overall Progress:  50%|█████     | 67/134 [08:30<04:25,  3.96s/it]"
          ]
        },
        {
          "output_type": "stream",
          "name": "stdout",
          "text": [
            "\n",
            "Number of images retrieved for Corn: 2\n"
          ]
        },
        {
          "output_type": "stream",
          "name": "stderr",
          "text": [
            "\n",
            "Fetching images for Rose:   0%|          | 0/2 [00:00<?, ?it/s]\u001b[A\n",
            "Fetching images for Rose:  50%|█████     | 1/2 [00:01<00:01,  1.21s/it]\u001b[A\n",
            "\n",
            "Fetching images for Clove:   0%|          | 0/2 [00:00<?, ?it/s]\u001b[A\u001b[A\n",
            "\n",
            "\n",
            "Fetching images for Dogwood:   0%|          | 0/2 [00:00<?, ?it/s]\u001b[A\u001b[A\u001b[A\n",
            "\n",
            "\n",
            "\n",
            "Fetching images for Durian:   0%|          | 0/2 [00:00<?, ?it/s]\u001b[A\u001b[A\u001b[A\u001b[A\n",
            "\n",
            "Fetching images for Clove:  50%|█████     | 1/2 [00:02<00:02,  2.34s/it]\u001b[A\u001b[A\n",
            "\n",
            "\n",
            "\n",
            "Fetching images for Durian:  50%|█████     | 1/2 [00:00<00:00,  1.16it/s]\u001b[A\u001b[A\u001b[A\u001b[A\n",
            "\n",
            "\n",
            "Fetching images for Dogwood:  50%|█████     | 1/2 [00:01<00:01,  1.69s/it]\u001b[A\u001b[A\u001b[A\n",
            "\n",
            "\n",
            "\n",
            "\n",
            "Fetching images for Ferns:   0%|          | 0/2 [00:00<?, ?it/s]\u001b[A\u001b[A\u001b[A\u001b[A\u001b[A\n",
            "\n",
            "\n",
            "\n",
            "\n",
            "Fetching images for Rose: 100%|██████████| 2/2 [00:13<00:00,  6.88s/it]\n",
            "Overall Progress:  51%|█████     | 68/134 [08:52<10:14,  9.31s/it]"
          ]
        },
        {
          "output_type": "stream",
          "name": "stdout",
          "text": [
            "\n",
            "Number of images retrieved for Rose: 2\n"
          ]
        },
        {
          "output_type": "stream",
          "name": "stderr",
          "text": [
            "Fetching images for Clove: 100%|██████████| 2/2 [00:18<00:00,  9.09s/it]\n",
            "Overall Progress:  51%|█████▏    | 69/134 [08:59<09:17,  8.58s/it]"
          ]
        },
        {
          "output_type": "stream",
          "name": "stdout",
          "text": [
            "\n",
            "Number of images retrieved for Clove: 2\n"
          ]
        },
        {
          "output_type": "stream",
          "name": "stderr",
          "text": [
            "Fetching images for Durian: 100%|██████████| 2/2 [00:16<00:00,  8.49s/it]\n",
            "Overall Progress:  52%|█████▏    | 70/134 [09:00<06:39,  6.24s/it]"
          ]
        },
        {
          "output_type": "stream",
          "name": "stdout",
          "text": [
            "\n",
            "Number of images retrieved for Durian: 2\n"
          ]
        },
        {
          "output_type": "stream",
          "name": "stderr",
          "text": [
            "Fetching images for Dogwood: 100%|██████████| 2/2 [00:17<00:00,  8.89s/it]\n",
            "Overall Progress:  53%|█████▎    | 71/134 [09:01<04:52,  4.64s/it]"
          ]
        },
        {
          "output_type": "stream",
          "name": "stdout",
          "text": [
            "\n",
            "Number of images retrieved for Dogwood: 2\n"
          ]
        },
        {
          "output_type": "stream",
          "name": "stderr",
          "text": [
            "Fetching images for Ferns: 100%|██████████| 2/2 [00:16<00:00,  8.28s/it]\n",
            "Overall Progress:  54%|█████▎    | 72/134 [09:03<03:55,  3.80s/it]"
          ]
        },
        {
          "output_type": "stream",
          "name": "stdout",
          "text": [
            "\n",
            "Number of images retrieved for Ferns: 2\n"
          ]
        },
        {
          "output_type": "stream",
          "name": "stderr",
          "text": [
            "\n",
            "Fetching images for Fig:   0%|          | 0/2 [00:00<?, ?it/s]\u001b[A\n",
            "Fetching images for Fig:  50%|█████     | 1/2 [00:01<00:01,  1.28s/it]\u001b[A\n",
            "\n",
            "Fetching images for Flax:   0%|          | 0/2 [00:00<?, ?it/s]\u001b[A\u001b[A\n",
            "\n",
            "\n",
            "\n",
            "Fetching images for Frangipani:   0%|          | 0/2 [00:00<?, ?it/s]\u001b[A\u001b[A\u001b[A\u001b[A\n",
            "\n",
            "\n",
            "Fetching images for Lantana:   0%|          | 0/2 [00:00<?, ?it/s]\u001b[A\u001b[A\u001b[A\n",
            "\n",
            "Fetching images for Flax:  50%|█████     | 1/2 [00:04<00:04,  4.39s/it]\u001b[A\u001b[A\n",
            "\n",
            "\n",
            "\n",
            "\n",
            "Fetching images for Hibiscus:   0%|          | 0/2 [00:00<?, ?it/s]\u001b[A\u001b[A\u001b[A\u001b[A\u001b[A\n",
            "\n",
            "\n",
            "Fetching images for Fig: 100%|██████████| 2/2 [00:18<00:00,  9.29s/it]\n",
            "Overall Progress:  54%|█████▍    | 73/134 [09:22<08:38,  8.50s/it]\n",
            "\n",
            "\n",
            "\n",
            "Fetching images for Frangipani:  50%|█████     | 1/2 [00:04<00:04,  4.76s/it]\u001b[A\u001b[A\u001b[A\u001b[A"
          ]
        },
        {
          "output_type": "stream",
          "name": "stdout",
          "text": [
            "\n",
            "Number of images retrieved for Fig: 2\n"
          ]
        },
        {
          "output_type": "stream",
          "name": "stderr",
          "text": [
            "\n",
            "\n",
            "\n",
            "\n",
            "\n",
            "Fetching images for Hibiscus:  50%|█████     | 1/2 [00:02<00:02,  2.31s/it]\u001b[A\u001b[A\u001b[A\u001b[A\u001b[A\n",
            "Fetching images for Bougainvillea:   0%|          | 0/2 [00:00<?, ?it/s]\u001b[A\n",
            "Fetching images for Flax: 100%|██████████| 2/2 [00:17<00:00,  8.54s/it]\n",
            "Overall Progress:  55%|█████▌    | 74/134 [09:31<08:38,  8.65s/it]"
          ]
        },
        {
          "output_type": "stream",
          "name": "stdout",
          "text": [
            "\n",
            "Number of images retrieved for Flax: 2\n"
          ]
        },
        {
          "output_type": "stream",
          "name": "stderr",
          "text": [
            "Fetching images for Lantana: 100%|██████████| 2/2 [00:16<00:00,  8.25s/it]\n",
            "Overall Progress:  56%|█████▌    | 75/134 [09:34<06:52,  7.00s/it]"
          ]
        },
        {
          "output_type": "stream",
          "name": "stdout",
          "text": [
            "\n",
            "Number of images retrieved for Lantana: 2\n"
          ]
        },
        {
          "output_type": "stream",
          "name": "stderr",
          "text": [
            "Fetching images for Frangipani: 100%|██████████| 2/2 [00:18<00:00,  9.18s/it]\n",
            "Overall Progress:  57%|█████▋    | 76/134 [09:36<05:19,  5.50s/it]"
          ]
        },
        {
          "output_type": "stream",
          "name": "stdout",
          "text": [
            "\n",
            "Number of images retrieved for Frangipani: 2\n"
          ]
        },
        {
          "output_type": "stream",
          "name": "stderr",
          "text": [
            "Fetching images for Hibiscus: 100%|██████████| 2/2 [00:16<00:00,  8.09s/it]\n",
            "Overall Progress:  57%|█████▋    | 77/134 [09:37<03:56,  4.15s/it]"
          ]
        },
        {
          "output_type": "stream",
          "name": "stdout",
          "text": [
            "\n",
            "Number of images retrieved for Hibiscus: 2\n"
          ]
        },
        {
          "output_type": "stream",
          "name": "stderr",
          "text": [
            "\n",
            "\n",
            "Fetching images for Pea:   0%|          | 0/2 [00:00<?, ?it/s]\u001b[A\u001b[A\n",
            "\n",
            "Fetching images for Bougainvillea: 100%|██████████| 2/2 [00:16<00:00,  8.22s/it]\n",
            "Overall Progress:  58%|█████▊    | 78/134 [09:41<03:44,  4.01s/it]"
          ]
        },
        {
          "output_type": "stream",
          "name": "stdout",
          "text": [
            "\n",
            "Number of images retrieved for Bougainvillea: 2\n"
          ]
        },
        {
          "output_type": "stream",
          "name": "stderr",
          "text": [
            "\n",
            "Fetching images for OrchidTree:   0%|          | 0/2 [00:00<?, ?it/s]\u001b[A\n",
            "Fetching images for OrchidTree:  50%|█████     | 1/2 [00:03<00:03,  3.29s/it]\u001b[A\n",
            "\n",
            "\n",
            "Fetching images for Jackfruit:   0%|          | 0/2 [00:00<?, ?it/s]\u001b[A\u001b[A\u001b[A\n",
            "\n",
            "\n",
            "\n",
            "Fetching images for RangoonCreeper:   0%|          | 0/2 [00:00<?, ?it/s]\u001b[A\u001b[A\u001b[A\u001b[A\n",
            "\n",
            "\n",
            "Fetching images for Jackfruit:  50%|█████     | 1/2 [00:01<00:01,  1.20s/it]\u001b[A\u001b[A\u001b[A\n",
            "\n",
            "\n",
            "\n",
            "Fetching images for Pea: 100%|██████████| 2/2 [00:16<00:00,  8.20s/it]\n",
            "Overall Progress:  59%|█████▉    | 79/134 [09:55<06:22,  6.95s/it]"
          ]
        },
        {
          "output_type": "stream",
          "name": "stdout",
          "text": [
            "\n",
            "Number of images retrieved for Pea: 2\n"
          ]
        },
        {
          "output_type": "stream",
          "name": "stderr",
          "text": [
            "\n",
            "\n",
            "Fetching images for Corneliantree:   0%|          | 0/2 [00:00<?, ?it/s]\u001b[A\u001b[A\n",
            "\n",
            "Fetching images for OrchidTree: 100%|██████████| 2/2 [00:18<00:00,  9.02s/it]\n",
            "Overall Progress:  60%|█████▉    | 80/134 [10:05<07:15,  8.07s/it]"
          ]
        },
        {
          "output_type": "stream",
          "name": "stdout",
          "text": [
            "\n",
            "Number of images retrieved for OrchidTree: 2\n"
          ]
        },
        {
          "output_type": "stream",
          "name": "stderr",
          "text": [
            "\rFetching images for Jackfruit: 100%|██████████| 2/2 [00:16<00:00,  8.02s/it]\n",
            "\n",
            "Overall Progress:  60%|██████    | 81/134 [10:07<05:31,  6.26s/it]"
          ]
        },
        {
          "output_type": "stream",
          "name": "stdout",
          "text": [
            "\n",
            "Number of images retrieved for Jackfruit: 2\n"
          ]
        },
        {
          "output_type": "stream",
          "name": "stderr",
          "text": [
            "\n",
            "Fetching images for RangoonCreeper: 100%|██████████| 2/2 [00:15<00:00,  7.94s/it]\n",
            "Overall Progress:  61%|██████    | 82/134 [10:08<04:03,  4.67s/it]"
          ]
        },
        {
          "output_type": "stream",
          "name": "stdout",
          "text": [
            "\n",
            "Number of images retrieved for RangoonCreeper: 2\n"
          ]
        },
        {
          "output_type": "stream",
          "name": "stderr",
          "text": [
            "Fetching images for Corneliantree: 100%|██████████| 2/2 [00:14<00:00,  7.09s/it]\n",
            "Overall Progress:  62%|██████▏   | 83/134 [10:13<04:04,  4.79s/it]"
          ]
        },
        {
          "output_type": "stream",
          "name": "stdout",
          "text": [
            "\n",
            "Number of images retrieved for Corneliantree: 2\n"
          ]
        },
        {
          "output_type": "stream",
          "name": "stderr",
          "text": [
            "\n",
            "\n",
            "Fetching images for Coffeeplant:   0%|          | 0/2 [00:00<?, ?it/s]\u001b[A\u001b[A\n",
            "\n",
            "Fetching images for Coffeeplant:  50%|█████     | 1/2 [00:01<00:01,  1.10s/it]\u001b[A\u001b[A\n",
            "\n",
            "\n",
            "Fetching images for wheat:   0%|          | 0/2 [00:00<?, ?it/s]\u001b[A\u001b[A\u001b[A\n",
            "\n",
            "\n",
            "\n",
            "Fetching images for Coconut:   0%|          | 0/2 [00:00<?, ?it/s]\u001b[A\u001b[A\u001b[A\u001b[A\n",
            "\n",
            "\n",
            "Fetching images for wheat:  50%|█████     | 1/2 [00:01<00:01,  1.40s/it]\u001b[A\u001b[A\u001b[A\n",
            "\n",
            "\n",
            "\n",
            "Fetching images for Cottonplant: 100%|██████████| 2/2 [00:16<00:00,  8.25s/it]\n",
            "Overall Progress:  63%|██████▎   | 84/134 [10:24<05:24,  6.50s/it]"
          ]
        },
        {
          "output_type": "stream",
          "name": "stdout",
          "text": [
            "\n",
            "Number of images retrieved for Cottonplant: 2\n"
          ]
        },
        {
          "output_type": "stream",
          "name": "stderr",
          "text": [
            "\n",
            "Fetching images for watermelon:   0%|          | 0/2 [00:00<?, ?it/s]\u001b[A\n",
            "Fetching images for Coffeeplant: 100%|██████████| 2/2 [00:16<00:00,  8.32s/it]\n",
            "Overall Progress:  63%|██████▎   | 85/134 [10:31<05:19,  6.52s/it]"
          ]
        },
        {
          "output_type": "stream",
          "name": "stdout",
          "text": [
            "\n",
            "Number of images retrieved for Coffeeplant: 2\n"
          ]
        },
        {
          "output_type": "stream",
          "name": "stderr",
          "text": [
            "Fetching images for wheat: 100%|██████████| 2/2 [00:15<00:00,  7.82s/it]\n",
            "Overall Progress:  64%|██████▍   | 86/134 [10:35<04:37,  5.79s/it]"
          ]
        },
        {
          "output_type": "stream",
          "name": "stdout",
          "text": [
            "\n",
            "Number of images retrieved for wheat: 2\n"
          ]
        },
        {
          "output_type": "stream",
          "name": "stderr",
          "text": [
            "Fetching images for Coconut: 100%|██████████| 2/2 [00:16<00:00,  8.37s/it]\n",
            "Overall Progress:  65%|██████▍   | 87/134 [10:36<03:34,  4.57s/it]"
          ]
        },
        {
          "output_type": "stream",
          "name": "stdout",
          "text": [
            "\n",
            "Number of images retrieved for Coconut: 2\n"
          ]
        },
        {
          "output_type": "stream",
          "name": "stderr",
          "text": [
            "\n",
            "\n",
            "Fetching images for radish:   0%|          | 0/2 [00:00<?, ?it/s]\u001b[A\u001b[A\n",
            "\n",
            "Fetching images for watermelon: 100%|██████████| 2/2 [00:15<00:00,  7.91s/it]\n",
            "Overall Progress:  66%|██████▌   | 88/134 [10:43<03:58,  5.19s/it]"
          ]
        },
        {
          "output_type": "stream",
          "name": "stdout",
          "text": [
            "\n",
            "Number of images retrieved for watermelon: 2\n"
          ]
        },
        {
          "output_type": "stream",
          "name": "stderr",
          "text": [
            "\n",
            "Fetching images for bed:   0%|          | 0/2 [00:00<?, ?it/s]\u001b[A\n",
            "\n",
            "\n",
            "Fetching images for cabinet:   0%|          | 0/2 [00:00<?, ?it/s]\u001b[A\u001b[A\u001b[A\n",
            "Fetching images for bed:  50%|█████     | 1/2 [00:01<00:01,  1.15s/it]\u001b[A\n",
            "\n",
            "\n",
            "Fetching images for cabinet:  50%|█████     | 1/2 [00:00<00:00,  1.99it/s]\u001b[A\u001b[A\u001b[A\n",
            "\n",
            "\n",
            "\n",
            "Fetching images for chair:   0%|          | 0/2 [00:00<?, ?it/s]\u001b[A\u001b[A\u001b[A\u001b[A\n",
            "\n",
            "\n",
            "\n",
            "Fetching images for radish: 100%|██████████| 2/2 [00:13<00:00,  6.70s/it]\n",
            "Overall Progress:  66%|██████▋   | 89/134 [10:50<04:17,  5.73s/it]"
          ]
        },
        {
          "output_type": "stream",
          "name": "stdout",
          "text": [
            "\n",
            "Number of images retrieved for radish: 2\n"
          ]
        },
        {
          "output_type": "stream",
          "name": "stderr",
          "text": [
            "\n",
            "\n",
            "Fetching images for carrot:   0%|          | 0/2 [00:00<?, ?it/s]\u001b[A\u001b[A\n",
            "\n",
            "Fetching images for carrot:  50%|█████     | 1/2 [00:00<00:00,  1.20it/s]\u001b[A\u001b[A\n",
            "\n",
            "\n",
            "\n",
            "\n",
            "Fetching images for chests:   0%|          | 0/2 [00:00<?, ?it/s]\u001b[A\u001b[A\u001b[A\u001b[A\u001b[A\n",
            "\n",
            "\n",
            "\n",
            "\n",
            "Fetching images for bed: 100%|██████████| 2/2 [00:16<00:00,  8.35s/it]\n",
            "Overall Progress:  67%|██████▋   | 90/134 [11:02<05:39,  7.71s/it]"
          ]
        },
        {
          "output_type": "stream",
          "name": "stdout",
          "text": [
            "\n",
            "Number of images retrieved for bed: 2\n"
          ]
        },
        {
          "output_type": "stream",
          "name": "stderr",
          "text": [
            "Fetching images for cabinet: 100%|██████████| 2/2 [00:16<00:00,  8.10s/it]\n",
            "Overall Progress:  68%|██████▊   | 91/134 [11:03<03:59,  5.57s/it]"
          ]
        },
        {
          "output_type": "stream",
          "name": "stdout",
          "text": [
            "\n",
            "Number of images retrieved for cabinet: 2\n"
          ]
        },
        {
          "output_type": "stream",
          "name": "stderr",
          "text": [
            "Fetching images for chair: 100%|██████████| 2/2 [00:16<00:00,  8.20s/it]\n",
            "Overall Progress:  69%|██████▊   | 92/134 [11:06<03:19,  4.75s/it]"
          ]
        },
        {
          "output_type": "stream",
          "name": "stdout",
          "text": [
            "\n",
            "Number of images retrieved for chair: 2\n"
          ]
        },
        {
          "output_type": "stream",
          "name": "stderr",
          "text": [
            "Fetching images for carrot: 100%|██████████| 2/2 [00:15<00:00,  7.80s/it]\n",
            "Overall Progress:  69%|██████▉   | 93/134 [11:11<03:16,  4.79s/it]"
          ]
        },
        {
          "output_type": "stream",
          "name": "stdout",
          "text": [
            "\n",
            "Number of images retrieved for carrot: 2\n"
          ]
        },
        {
          "output_type": "stream",
          "name": "stderr",
          "text": [
            "Fetching images for chests: 100%|██████████| 2/2 [00:18<00:00,  9.20s/it]\n",
            "Overall Progress:  70%|███████   | 94/134 [11:17<03:35,  5.39s/it]"
          ]
        },
        {
          "output_type": "stream",
          "name": "stdout",
          "text": [
            "\n",
            "Number of images retrieved for chests: 2\n"
          ]
        },
        {
          "output_type": "stream",
          "name": "stderr",
          "text": [
            "\n",
            "Fetching images for clock:   0%|          | 0/2 [00:00<?, ?it/s]\u001b[A\n",
            "Fetching images for clock:  50%|█████     | 1/2 [00:01<00:01,  1.40s/it]\u001b[A\n",
            "\n",
            "Fetching images for table:   0%|          | 0/2 [00:00<?, ?it/s]\u001b[A\u001b[A\n",
            "\n",
            "\n",
            "Fetching images for desks:   0%|          | 0/2 [00:00<?, ?it/s]\u001b[A\u001b[A\u001b[A\n",
            "\n",
            "Fetching images for table:  50%|█████     | 1/2 [00:00<00:00,  1.18it/s]\u001b[A\u001b[A\n",
            "\n",
            "\n",
            "Fetching images for desks:  50%|█████     | 1/2 [00:01<00:01,  1.04s/it]\u001b[A\u001b[A\u001b[A\n",
            "\n",
            "\n",
            "\n",
            "Fetching images for Bookcase:   0%|          | 0/2 [00:00<?, ?it/s]\u001b[A\u001b[A\u001b[A\u001b[A\n",
            "\n",
            "\n",
            "\n",
            "Fetching images for clock: 100%|██████████| 2/2 [00:14<00:00,  7.13s/it]\n",
            "Overall Progress:  71%|███████   | 95/134 [11:33<05:30,  8.47s/it]"
          ]
        },
        {
          "output_type": "stream",
          "name": "stdout",
          "text": [
            "\n",
            "Number of images retrieved for clock: 2\n"
          ]
        },
        {
          "output_type": "stream",
          "name": "stderr",
          "text": [
            "Fetching images for table: 100%|██████████| 2/2 [00:17<00:00,  8.85s/it]\n",
            "Fetching images for desks: 100%|██████████| 2/2 [00:17<00:00,  8.96s/it]"
          ]
        },
        {
          "output_type": "stream",
          "name": "stdout",
          "text": [
            "\n",
            "Number of images retrieved for table: 2\n"
          ]
        },
        {
          "output_type": "stream",
          "name": "stderr",
          "text": [
            "\n",
            "Overall Progress:  72%|███████▏  | 97/134 [11:39<03:21,  5.45s/it]"
          ]
        },
        {
          "output_type": "stream",
          "name": "stdout",
          "text": [
            "\n",
            "Number of images retrieved for desks: 2\n"
          ]
        },
        {
          "output_type": "stream",
          "name": "stderr",
          "text": [
            "Fetching images for Bookcase: 100%|██████████| 2/2 [00:18<00:00,  9.03s/it]\n",
            "Overall Progress:  73%|███████▎  | 98/134 [11:42<02:52,  4.80s/it]"
          ]
        },
        {
          "output_type": "stream",
          "name": "stdout",
          "text": [
            "\n",
            "Number of images retrieved for Bookcase: 2\n"
          ]
        },
        {
          "output_type": "stream",
          "name": "stderr",
          "text": [
            "\n",
            "Fetching images for Piano:   0%|          | 0/2 [00:00<?, ?it/s]\u001b[A\n",
            "\n",
            "Fetching images for Umbrella:   0%|          | 0/2 [00:00<?, ?it/s]\u001b[A\u001b[A\n",
            "Fetching images for Piano:  50%|█████     | 1/2 [00:00<00:00,  1.28it/s]\u001b[A\n",
            "\n",
            "Fetching images for Piano: 100%|██████████| 2/2 [00:15<00:00,  7.57s/it]\n",
            "Fetching images for Umbrella: 100%|██████████| 2/2 [00:14<00:00,  7.47s/it]"
          ]
        },
        {
          "output_type": "stream",
          "name": "stdout",
          "text": [
            "\n",
            "Number of images retrieved for Piano: 2\n"
          ]
        },
        {
          "output_type": "stream",
          "name": "stderr",
          "text": [
            "\n",
            "Overall Progress:  75%|███████▍  | 100/134 [12:06<04:07,  7.28s/it]"
          ]
        },
        {
          "output_type": "stream",
          "name": "stdout",
          "text": [
            "\n",
            "Number of images retrieved for Umbrella: 2\n"
          ]
        },
        {
          "output_type": "stream",
          "name": "stderr",
          "text": [
            "\n",
            "Fetching images for Clothes:   0%|          | 0/2 [00:00<?, ?it/s]\u001b[A\n",
            "Fetching images for Clothes:  50%|█████     | 1/2 [00:01<00:01,  1.87s/it]\u001b[A\n",
            "\n",
            "Fetching images for cart:   0%|          | 0/2 [00:00<?, ?it/s]\u001b[A\u001b[A\n",
            "\n",
            "Fetching images for cart:  50%|█████     | 1/2 [00:02<00:02,  2.47s/it]\u001b[A\u001b[A\n",
            "\n",
            "\n",
            "Fetching images for sofa:   0%|          | 0/2 [00:00<?, ?it/s]\u001b[A\u001b[A\u001b[A\n",
            "\n",
            "\n",
            "Fetching images for sofa:  50%|█████     | 1/2 [00:01<00:01,  1.98s/it]\u001b[A\u001b[A\u001b[A\n",
            "\n",
            "\n",
            "\n",
            "Fetching images for ball:   0%|          | 0/2 [00:00<?, ?it/s]\u001b[A\u001b[A\u001b[A\u001b[A\n",
            "\n",
            "\n",
            "\n",
            "Fetching images for Clothes: 100%|██████████| 2/2 [00:14<00:00,  7.20s/it]\n",
            "Overall Progress:  75%|███████▌  | 101/134 [12:23<05:37, 10.23s/it]"
          ]
        },
        {
          "output_type": "stream",
          "name": "stdout",
          "text": [
            "\n",
            "Number of images retrieved for Clothes: 2\n"
          ]
        },
        {
          "output_type": "stream",
          "name": "stderr",
          "text": [
            "\n",
            "Fetching images for Bowl:   0%|          | 0/2 [00:00<?, ?it/s]\u001b[A\n",
            "Fetching images for cart: 100%|██████████| 2/2 [00:15<00:00,  7.97s/it]\n",
            "Overall Progress:  76%|███████▌  | 102/134 [12:32<05:21, 10.04s/it]"
          ]
        },
        {
          "output_type": "stream",
          "name": "stdout",
          "text": [
            "\n",
            "Number of images retrieved for cart: 2\n"
          ]
        },
        {
          "output_type": "stream",
          "name": "stderr",
          "text": [
            "\n",
            "\n",
            "Fetching images for sofa: 100%|██████████| 2/2 [00:17<00:00,  8.59s/it]\n",
            "Overall Progress:  77%|███████▋  | 103/134 [12:37<04:18,  8.35s/it]"
          ]
        },
        {
          "output_type": "stream",
          "name": "stdout",
          "text": [
            "\n",
            "Number of images retrieved for sofa: 2\n"
          ]
        },
        {
          "output_type": "stream",
          "name": "stderr",
          "text": [
            "\n",
            "\n",
            "Fetching images for ball: 100%|██████████| 2/2 [00:16<00:00,  8.30s/it]\n",
            "Overall Progress:  78%|███████▊  | 104/134 [12:38<03:08,  6.27s/it]"
          ]
        },
        {
          "output_type": "stream",
          "name": "stdout",
          "text": [
            "\n",
            "Number of images retrieved for ball: 2\n"
          ]
        },
        {
          "output_type": "stream",
          "name": "stderr",
          "text": [
            "Fetching images for Bowl: 100%|██████████| 2/2 [00:16<00:00,  8.44s/it]\n",
            "Overall Progress:  78%|███████▊  | 105/134 [12:43<02:48,  5.82s/it]"
          ]
        },
        {
          "output_type": "stream",
          "name": "stdout",
          "text": [
            "\n",
            "Number of images retrieved for Bowl: 2\n"
          ]
        },
        {
          "output_type": "stream",
          "name": "stderr",
          "text": [
            "\n",
            "Fetching images for pan:   0%|          | 0/2 [00:00<?, ?it/s]\u001b[A\n",
            "Fetching images for pan:  50%|█████     | 1/2 [00:00<00:00,  1.17it/s]\u001b[A\n",
            "\n",
            "\n",
            "Fetching images for spoon: 100%|██████████| 2/2 [00:18<00:00,  9.15s/it]\n",
            "Overall Progress:  79%|███████▉  | 106/134 [12:54<03:27,  7.41s/it]"
          ]
        },
        {
          "output_type": "stream",
          "name": "stdout",
          "text": [
            "\n",
            "Number of images retrieved for spoon: 2\n"
          ]
        },
        {
          "output_type": "stream",
          "name": "stderr",
          "text": [
            "\n",
            "\n",
            "\n",
            "Fetching images for book:  50%|█████     | 1/2 [00:01<00:01,  1.28s/it]\u001b[A\u001b[A\u001b[A\n",
            "\n",
            "Fetching images for Cliff:   0%|          | 0/2 [00:00<?, ?it/s]\u001b[A\u001b[A\n",
            "\n",
            "Fetching images for pan: 100%|██████████| 2/2 [00:14<00:00,  7.11s/it]\n",
            "Overall Progress:  80%|███████▉  | 107/134 [13:00<03:04,  6.83s/it]"
          ]
        },
        {
          "output_type": "stream",
          "name": "stdout",
          "text": [
            "\n",
            "Number of images retrieved for pan: 2\n"
          ]
        },
        {
          "output_type": "stream",
          "name": "stderr",
          "text": [
            "\n",
            "Fetching images for Bay:   0%|          | 0/2 [00:00<?, ?it/s]\u001b[A\n",
            "Fetching images for Bay:  50%|█████     | 1/2 [00:00<00:00,  1.19it/s]\u001b[A\n",
            "\n",
            "\n",
            "\n",
            "Fetching images for fridge:   0%|          | 0/2 [00:00<?, ?it/s]\u001b[A\u001b[A\u001b[A\u001b[A\n",
            "\n",
            "\n",
            "\n",
            "Fetching images for book: 100%|██████████| 2/2 [00:16<00:00,  8.11s/it]\n",
            "Overall Progress:  81%|████████  | 108/134 [13:10<03:25,  7.89s/it]"
          ]
        },
        {
          "output_type": "stream",
          "name": "stdout",
          "text": [
            "\n",
            "Number of images retrieved for book: 2\n"
          ]
        },
        {
          "output_type": "stream",
          "name": "stderr",
          "text": [
            "Fetching images for Cliff: 100%|██████████| 2/2 [00:15<00:00,  7.77s/it]\n",
            "Overall Progress:  81%|████████▏ | 109/134 [13:13<02:40,  6.40s/it]"
          ]
        },
        {
          "output_type": "stream",
          "name": "stdout",
          "text": [
            "\n",
            "Number of images retrieved for Cliff: 2\n"
          ]
        },
        {
          "output_type": "stream",
          "name": "stderr",
          "text": [
            "\n",
            "\n",
            "Fetching images for Coast:   0%|          | 0/2 [00:00<?, ?it/s]\u001b[A\u001b[A\n",
            "\n",
            "Fetching images for Bay: 100%|██████████| 2/2 [00:15<00:00,  7.91s/it]\n",
            "Overall Progress:  82%|████████▏ | 110/134 [13:18<02:24,  6.00s/it]"
          ]
        },
        {
          "output_type": "stream",
          "name": "stdout",
          "text": [
            "\n",
            "Number of images retrieved for Bay: 2\n"
          ]
        },
        {
          "output_type": "stream",
          "name": "stderr",
          "text": [
            "\n",
            "Fetching images for fridge: 100%|██████████| 2/2 [00:15<00:00,  7.71s/it]\n",
            "Overall Progress:  83%|████████▎ | 111/134 [13:23<02:13,  5.81s/it]"
          ]
        },
        {
          "output_type": "stream",
          "name": "stdout",
          "text": [
            "\n",
            "Number of images retrieved for fridge: 2\n"
          ]
        },
        {
          "output_type": "stream",
          "name": "stderr",
          "text": [
            "\n",
            "Fetching images for Mountains:  50%|█████     | 1/2 [00:01<00:01,  1.13s/it]\u001b[A\n",
            "\n",
            "\n",
            "Fetching images for Forests:   0%|          | 0/2 [00:00<?, ?it/s]\u001b[A\u001b[A\u001b[A\n",
            "\n",
            "\n",
            "Fetching images for Coast: 100%|██████████| 2/2 [00:17<00:00,  8.73s/it]\n",
            "Overall Progress:  84%|████████▎ | 112/134 [13:31<02:18,  6.29s/it]"
          ]
        },
        {
          "output_type": "stream",
          "name": "stdout",
          "text": [
            "\n",
            "Number of images retrieved for Coast: 2\n"
          ]
        },
        {
          "output_type": "stream",
          "name": "stderr",
          "text": [
            "\n",
            "\n",
            "Fetching images for Waterbodies:   0%|          | 0/2 [00:00<?, ?it/s]\u001b[A\u001b[A\n",
            "\n",
            "Fetching images for Waterbodies:  50%|█████     | 1/2 [00:01<00:01,  1.07s/it]\u001b[A\u001b[A\n",
            "\n",
            "\n",
            "\n",
            "Fetching images for Mountains: 100%|██████████| 2/2 [00:15<00:00,  7.88s/it]\n",
            "Overall Progress:  84%|████████▍ | 113/134 [13:39<02:24,  6.88s/it]"
          ]
        },
        {
          "output_type": "stream",
          "name": "stdout",
          "text": [
            "\n",
            "Number of images retrieved for Mountains: 2\n"
          ]
        },
        {
          "output_type": "stream",
          "name": "stderr",
          "text": [
            "\n",
            "\n",
            "\n",
            "\n",
            "Fetching images for Lake:  50%|█████     | 1/2 [00:01<00:01,  1.26s/it]\u001b[A\u001b[A\u001b[A\u001b[A\n",
            "Fetching images for Forests: 100%|██████████| 2/2 [00:19<00:00,  9.65s/it]\n",
            "\n",
            "Overall Progress:  85%|████████▌ | 114/134 [13:46<02:18,  6.91s/it]"
          ]
        },
        {
          "output_type": "stream",
          "name": "stdout",
          "text": [
            "\n",
            "Number of images retrieved for Forests: 2\n"
          ]
        },
        {
          "output_type": "stream",
          "name": "stderr",
          "text": [
            "Fetching images for Waterbodies: 100%|██████████| 2/2 [00:16<00:00,  8.22s/it]\n",
            "Overall Progress:  86%|████████▌ | 115/134 [13:48<01:45,  5.53s/it]"
          ]
        },
        {
          "output_type": "stream",
          "name": "stdout",
          "text": [
            "\n",
            "Number of images retrieved for Waterbodies: 2\n"
          ]
        },
        {
          "output_type": "stream",
          "name": "stderr",
          "text": [
            "\n",
            "\n",
            "Fetching images for farmland:   0%|          | 0/2 [00:00<?, ?it/s]\u001b[A\u001b[A\n",
            "\n",
            "Fetching images for Lake: 100%|██████████| 2/2 [00:17<00:00,  8.53s/it]\n",
            "Overall Progress:  87%|████████▋ | 116/134 [13:55<01:47,  5.98s/it]"
          ]
        },
        {
          "output_type": "stream",
          "name": "stdout",
          "text": [
            "\n",
            "Number of images retrieved for Lake: 2\n"
          ]
        },
        {
          "output_type": "stream",
          "name": "stderr",
          "text": [
            "\n",
            "\n",
            "\n",
            "Fetching images for river:   0%|          | 0/2 [00:00<?, ?it/s]\u001b[A\u001b[A\u001b[A\n",
            "\n",
            "\n",
            "Fetching images for river:  50%|█████     | 1/2 [00:01<00:01,  1.68s/it]\u001b[A\u001b[A\u001b[A\n",
            "\n",
            "\n",
            "\n",
            "Fetching images for desert: 100%|██████████| 2/2 [00:16<00:00,  8.44s/it]\n",
            "Overall Progress:  87%|████████▋ | 117/134 [14:01<01:41,  5.97s/it]"
          ]
        },
        {
          "output_type": "stream",
          "name": "stdout",
          "text": [
            "\n",
            "Number of images retrieved for desert: 2\n"
          ]
        },
        {
          "output_type": "stream",
          "name": "stderr",
          "text": [
            "\n",
            "\n",
            "\n",
            "\n",
            "Fetching images for hedges:  50%|█████     | 1/2 [00:01<00:01,  1.35s/it]\u001b[A\u001b[A\u001b[A\u001b[A\n",
            "Fetching images for plain:   0%|          | 0/2 [00:00<?, ?it/s]\u001b[A\n",
            "Fetching images for farmland: 100%|██████████| 2/2 [00:17<00:00,  8.65s/it]\n",
            "Overall Progress:  88%|████████▊ | 118/134 [14:11<01:52,  7.01s/it]"
          ]
        },
        {
          "output_type": "stream",
          "name": "stdout",
          "text": [
            "\n",
            "Number of images retrieved for farmland: 2\n"
          ]
        },
        {
          "output_type": "stream",
          "name": "stderr",
          "text": [
            "Fetching images for river: 100%|██████████| 2/2 [00:16<00:00,  8.38s/it]\n",
            "Overall Progress:  89%|████████▉ | 119/134 [14:16<01:35,  6.36s/it]"
          ]
        },
        {
          "output_type": "stream",
          "name": "stdout",
          "text": [
            "\n",
            "Number of images retrieved for river: 2\n"
          ]
        },
        {
          "output_type": "stream",
          "name": "stderr",
          "text": [
            "\n",
            "\n",
            "Fetching images for hedges: 100%|██████████| 2/2 [00:17<00:00,  8.50s/it]\n",
            "Overall Progress:  90%|████████▉ | 120/134 [14:18<01:11,  5.09s/it]"
          ]
        },
        {
          "output_type": "stream",
          "name": "stdout",
          "text": [
            "\n",
            "Number of images retrieved for hedges: 2\n"
          ]
        },
        {
          "output_type": "stream",
          "name": "stderr",
          "text": [
            "\n",
            "\n",
            "Fetching images for plain: 100%|██████████| 2/2 [00:16<00:00,  8.43s/it]\n",
            "Overall Progress:  90%|█████████ | 121/134 [14:25<01:13,  5.65s/it]"
          ]
        },
        {
          "output_type": "stream",
          "name": "stdout",
          "text": [
            "\n",
            "Number of images retrieved for plain: 2\n"
          ]
        },
        {
          "output_type": "stream",
          "name": "stderr",
          "text": [
            "\n",
            "Fetching images for cave:   0%|          | 0/2 [00:00<?, ?it/s]\u001b[A\n",
            "Fetching images for sky: 100%|██████████| 2/2 [00:15<00:00,  7.54s/it]\n",
            "\n",
            "\n",
            "Overall Progress:  91%|█████████ | 122/134 [14:31<01:11,  5.99s/it]\n",
            "\n",
            "Fetching images for flowergarden:  50%|█████     | 1/2 [00:00<00:00,  3.36it/s]\u001b[A\u001b[A"
          ]
        },
        {
          "output_type": "stream",
          "name": "stdout",
          "text": [
            "\n",
            "Number of images retrieved for sky: 2\n"
          ]
        },
        {
          "output_type": "stream",
          "name": "stderr",
          "text": [
            "\n",
            "\n",
            "\n",
            "Fetching images for grassland:   0%|          | 0/2 [00:00<?, ?it/s]\u001b[A\u001b[A\u001b[A\n",
            "\n",
            "\n",
            "\n",
            "Fetching images for cloud:   0%|          | 0/2 [00:00<?, ?it/s]\u001b[A\u001b[A\u001b[A\u001b[A\n",
            "\n",
            "\n",
            "Fetching images for grassland:  50%|█████     | 1/2 [00:00<00:00,  1.53it/s]\u001b[A\u001b[A\u001b[A\n",
            "\n",
            "\n",
            "\n",
            "Fetching images for cave: 100%|██████████| 2/2 [00:14<00:00,  7.34s/it]\n",
            "Overall Progress:  92%|█████████▏| 123/134 [14:40<01:14,  6.79s/it]"
          ]
        },
        {
          "output_type": "stream",
          "name": "stdout",
          "text": [
            "\n",
            "Number of images retrieved for cave: 2\n"
          ]
        },
        {
          "output_type": "stream",
          "name": "stderr",
          "text": [
            "\n",
            "Fetching images for horizon:   0%|          | 0/2 [00:00<?, ?it/s]\u001b[A\n",
            "Fetching images for flowergarden: 100%|██████████| 2/2 [00:15<00:00,  7.81s/it]\n",
            "Overall Progress:  93%|█████████▎| 124/134 [14:47<01:08,  6.87s/it]"
          ]
        },
        {
          "output_type": "stream",
          "name": "stdout",
          "text": [
            "\n",
            "Number of images retrieved for flowergarden: 2\n"
          ]
        },
        {
          "output_type": "stream",
          "name": "stderr",
          "text": [
            "Fetching images for grassland: 100%|██████████| 2/2 [00:16<00:00,  8.22s/it]\n",
            "Overall Progress:  93%|█████████▎| 125/134 [14:53<00:59,  6.63s/it]"
          ]
        },
        {
          "output_type": "stream",
          "name": "stdout",
          "text": [
            "\n",
            "Number of images retrieved for grassland: 2\n"
          ]
        },
        {
          "output_type": "stream",
          "name": "stderr",
          "text": [
            "Fetching images for cloud: 100%|██████████| 2/2 [00:16<00:00,  8.42s/it]\n",
            "Overall Progress:  94%|█████████▍| 126/134 [14:54<00:38,  4.84s/it]"
          ]
        },
        {
          "output_type": "stream",
          "name": "stdout",
          "text": [
            "\n",
            "Number of images retrieved for cloud: 2\n"
          ]
        },
        {
          "output_type": "stream",
          "name": "stderr",
          "text": [
            "Fetching images for horizon: 100%|██████████| 2/2 [00:18<00:00,  9.45s/it]\n",
            "Overall Progress:  95%|█████████▍| 127/134 [15:02<00:41,  5.93s/it]"
          ]
        },
        {
          "output_type": "stream",
          "name": "stdout",
          "text": [
            "\n",
            "Number of images retrieved for horizon: 2\n"
          ]
        },
        {
          "output_type": "stream",
          "name": "stderr",
          "text": [
            "\n",
            "Fetching images for lighthouse:   0%|          | 0/2 [00:00<?, ?it/s]\u001b[A\n",
            "\n",
            "Fetching images for glacier:   0%|          | 0/2 [00:00<?, ?it/s]\u001b[A\u001b[A\n",
            "Fetching images for lighthouse:  50%|█████     | 1/2 [00:02<00:01,  1.99s/it]\u001b[A\n",
            "\n",
            "Fetching images for glacier:  50%|█████     | 1/2 [00:02<00:02,  2.12s/it]\u001b[A\u001b[A\n",
            "\n",
            "\n",
            "Fetching images for savannah:   0%|          | 0/2 [00:00<?, ?it/s]\u001b[A\u001b[A\u001b[A\n",
            "\n",
            "\n",
            "Fetching images for savannah:  50%|█████     | 1/2 [00:00<00:00,  2.03it/s]\u001b[A\u001b[A\u001b[A\n",
            "\n",
            "\n",
            "\n",
            "Fetching images for valley:   0%|          | 0/2 [00:00<?, ?it/s]\u001b[A\u001b[A\u001b[A\u001b[A\n",
            "\n",
            "\n",
            "\n",
            "Fetching images for valley:  50%|█████     | 1/2 [00:00<00:00,  3.74it/s]\u001b[A\u001b[A\u001b[A\u001b[A\n",
            "\n",
            "\n",
            "\n",
            "\n",
            "Fetching images for plateau:   0%|          | 0/2 [00:00<?, ?it/s]\u001b[A\u001b[A\u001b[A\u001b[A\u001b[A\n",
            "\n",
            "\n",
            "\n",
            "\n",
            "Fetching images for lighthouse: 100%|██████████| 2/2 [00:15<00:00,  7.89s/it]\n",
            "Overall Progress:  96%|█████████▌| 128/134 [15:20<00:55,  9.30s/it]"
          ]
        },
        {
          "output_type": "stream",
          "name": "stdout",
          "text": [
            "\n",
            "Number of images retrieved for lighthouse: 2\n"
          ]
        },
        {
          "output_type": "stream",
          "name": "stderr",
          "text": [
            "Fetching images for glacier: 100%|██████████| 2/2 [00:16<00:00,  8.22s/it]\n",
            "Overall Progress:  96%|█████████▋| 129/134 [15:20<00:33,  6.77s/it]"
          ]
        },
        {
          "output_type": "stream",
          "name": "stdout",
          "text": [
            "\n",
            "Number of images retrieved for glacier: 2\n"
          ]
        },
        {
          "output_type": "stream",
          "name": "stderr",
          "text": [
            "Fetching images for savannah: 100%|██████████| 2/2 [00:16<00:00,  8.36s/it]\n",
            "Fetching images for valley: 100%|██████████| 2/2 [00:16<00:00,  8.25s/it]"
          ]
        },
        {
          "output_type": "stream",
          "name": "stdout",
          "text": [
            "\n",
            "Number of images retrieved for savannah: 2\n"
          ]
        },
        {
          "output_type": "stream",
          "name": "stderr",
          "text": [
            "\n",
            "Overall Progress:  98%|█████████▊| 131/134 [15:26<00:13,  4.44s/it]"
          ]
        },
        {
          "output_type": "stream",
          "name": "stdout",
          "text": [
            "\n",
            "Number of images retrieved for valley: 2\n"
          ]
        },
        {
          "output_type": "stream",
          "name": "stderr",
          "text": [
            "Fetching images for plateau: 100%|██████████| 2/2 [00:14<00:00,  7.08s/it]\n",
            "Overall Progress:  99%|█████████▊| 132/134 [15:30<00:08,  4.34s/it]"
          ]
        },
        {
          "output_type": "stream",
          "name": "stdout",
          "text": [
            "\n",
            "Number of images retrieved for plateau: 2\n"
          ]
        },
        {
          "output_type": "stream",
          "name": "stderr",
          "text": [
            "\n",
            "Fetching images for volcano:   0%|          | 0/2 [00:00<?, ?it/s]\u001b[A\n",
            "\n",
            "Fetching images for waterfall:   0%|          | 0/2 [00:00<?, ?it/s]\u001b[A\u001b[A\n",
            "\n",
            "Fetching images for waterfall:  50%|█████     | 1/2 [00:01<00:01,  1.25s/it]\u001b[A\u001b[A\n",
            "Fetching images for waterfall: 100%|██████████| 2/2 [00:13<00:00,  6.99s/it]\n",
            "Fetching images for volcano: 100%|██████████| 2/2 [00:14<00:00,  7.14s/it]\n"
          ]
        },
        {
          "output_type": "stream",
          "name": "stdout",
          "text": [
            "\n",
            "Number of images retrieved for waterfall: 2\n"
          ]
        },
        {
          "output_type": "stream",
          "name": "stderr",
          "text": [
            "Overall Progress: 100%|██████████| 134/134 [15:47<00:00,  7.07s/it]"
          ]
        },
        {
          "output_type": "stream",
          "name": "stdout",
          "text": [
            "\n",
            "Number of images retrieved for volcano: 2\n",
            "Data saved to image_urls.json\n"
          ]
        },
        {
          "output_type": "stream",
          "name": "stderr",
          "text": [
            "\n"
          ]
        }
      ]
    },
    {
      "cell_type": "code",
      "source": [
        "\n",
        "class ImageDownloader:\n",
        "    def __init__(self, json_file, download_dir='Dataset', max_workers=4, delay=1):\n",
        "        self.json_file = json_file  # File chứa URL của ảnh dưới dạng JSON\n",
        "        self.download_dir = download_dir  # Tên thư mục để lưu trữ ảnh\n",
        "        self.max_workers = max_workers  # Số lượng luồng\n",
        "        self.delay = delay  # Độ trễ lịch sự\n",
        "        self.filename = set()  # Để lưu trữ các đường dẫn tên file\n",
        "        self.setup_directory()  # Thiết lập cấu trúc thư mục\n",
        "\n",
        "    def setup_directory(self):\n",
        "        if not os.path.exists(self.download_dir):\n",
        "            os.makedirs(self.download_dir)\n",
        "\n",
        "    def read_json(self):\n",
        "        \"\"\"\n",
        "        Đọc file JSON và trả về dữ liệu.\n",
        "\n",
        "        Trả về:\n",
        "        data (dict): Dữ liệu đọc từ file JSON.\n",
        "        \"\"\"\n",
        "        with open(self.json_file, 'r') as file:\n",
        "            data = json.load(file)\n",
        "        return data\n",
        "\n",
        "    def is_valid_url(self, url):\n",
        "        \"\"\"\n",
        "        Kiểm tra xem URL có hợp lệ không.\n",
        "\n",
        "        Tham số:\n",
        "        url (str): URL cần kiểm tra.\n",
        "\n",
        "        Trả về:\n",
        "        bool: True nếu URL hợp lệ, False nếu không.\n",
        "        \"\"\"\n",
        "        try:\n",
        "            with urllib.request.urlopen(url) as response:\n",
        "                if response.status == 200 and 'image' in response.info().get_content_type():\n",
        "                    return True\n",
        "        except Exception:\n",
        "            return False\n",
        "\n",
        "    def download_image(self, url, category, term, pbar):\n",
        "        \"\"\"\n",
        "        Tải ảnh từ URL đã cho.\n",
        "\n",
        "        Tham số:\n",
        "        url (str): URL của ảnh cần tải.\n",
        "        category (str): Danh mục của ảnh.\n",
        "        term (str): Từ khóa liên quan đến ảnh.\n",
        "        pbar (tqdm): Đối tượng thanh tiến trình.\n",
        "\n",
        "        Trả về:\n",
        "        str: Thông báo chỉ ra trạng thái của việc tải.\n",
        "        \"\"\"\n",
        "        if not self.is_valid_url(url):\n",
        "            pbar.update(1)\n",
        "            return f\"Invalid URL: {url}\"\n",
        "\n",
        "        category_dir = os.path.join(self.download_dir, category)\n",
        "        if not os.path.exists(category_dir):\n",
        "            os.makedirs(category_dir)\n",
        "\n",
        "        term_dir = os.path.join(category_dir, term)\n",
        "        if not os.path.exists(term_dir):\n",
        "            os.makedirs(term_dir)\n",
        "\n",
        "        filename = os.path.join(term_dir, os.path.basename(urlparse(url).path))\n",
        "        self.filename.add(filename)  # Ghi lại đường dẫn tên file\n",
        "\n",
        "        try:\n",
        "            urllib.request.urlretrieve(url, filename)\n",
        "            pbar.update(1)\n",
        "            return f\"Downloaded: {url}\"\n",
        "        except Exception as e:\n",
        "            pbar.update(1)\n",
        "            return f\"Failed to download {url}: {str(e)}\"\n",
        "\n",
        "    def download_images(self):\n",
        "        \"\"\"\n",
        "        Tải ảnh từ file JSON.\n",
        "\n",
        "        Trả về:\n",
        "        None\n",
        "        \"\"\"\n",
        "        data = self.read_json()\n",
        "        download_tasks = []\n",
        "\n",
        "        total_images = sum(len(urls) for terms in data.values() for urls in terms.values())\n",
        "        with tqdm(total=total_images, desc=\"Downloading images\") as pbar:\n",
        "            with concurrent.futures.ThreadPoolExecutor(max_workers=self.max_workers) as executor:\n",
        "                for category, terms in data.items():\n",
        "                    for term, urls in terms.items():\n",
        "                        for url in urls:\n",
        "                            download_tasks.append(executor.submit(self.download_image, url, category, term, pbar))\n",
        "                            time.sleep(self.delay)  # Độ trễ lịch sự\n",
        "\n",
        "                for future in concurrent.futures.as_completed(download_tasks):\n",
        "                    print(future.result())\n",
        "\n",
        "        self.export_filename()\n",
        "\n",
        "    def export_filename(self):\n",
        "        \"\"\"\n",
        "        Xuất danh sách đường dẫn tên file vào một file text.\n",
        "\n",
        "        Trả về:\n",
        "        None\n",
        "        \"\"\"\n",
        "        with open('filename.txt', 'w') as file:\n",
        "            for filename in sorted(self.filename):\n",
        "                file.write(f\"{filename}\\n\")\n"
      ],
      "metadata": {
        "id": "A1d1_R-N-OAo"
      },
      "execution_count": 4,
      "outputs": []
    },
    {
      "cell_type": "code",
      "source": [
        "downloader = ImageDownloader(json_file='image_urls.json', download_dir='Dataset', max_workers=4, delay=1)\n",
        "downloader.download_images()\n",
        "downloader.export_filename()"
      ],
      "metadata": {
        "colab": {
          "base_uri": "https://localhost:8080/"
        },
        "id": "BAk-8sGD_Nqu",
        "outputId": "cee5b656-7c14-4b78-dc58-f77182cf0b30"
      },
      "execution_count": 5,
      "outputs": [
        {
          "output_type": "stream",
          "name": "stderr",
          "text": [
            "Downloading images:  26%|██▌       | 68/266 [04:20<08:16,  2.51s/it]"
          ]
        },
        {
          "output_type": "stream",
          "name": "stdout",
          "text": [
            "Downloaded: https://live.staticflickr.com/7259/7577390134_b1cda83627_b.jpg\n",
            "Downloaded: https://live.staticflickr.com/4437/36367572521_a8d5235e47_b.jpg\n",
            "Downloaded: https://live.staticflickr.com/7377/9641031199_ea7460e902_b.jpg\n",
            "Downloaded: https://live.staticflickr.com/5596/14307815484_87d075481a_b.jpg\n",
            "Downloaded: https://live.staticflickr.com/1962/44791540314_c8ae2861d2_b.jpg\n",
            "Downloaded: https://live.staticflickr.com/65535/33659529142_2b6c3241eb_b.jpg\n",
            "Downloaded: https://live.staticflickr.com/2815/9510353068_b0b4f552d3_b.jpg\n",
            "Downloaded: https://live.staticflickr.com/4269/35172789496_a387d77f5f_b.jpg\n",
            "Downloaded: https://live.staticflickr.com/6161/6177244431_80f72e56f0_b.jpg\n",
            "Downloaded: https://live.staticflickr.com/5254/5412377706_d77700fc38_b.jpg\n",
            "Downloaded: https://live.staticflickr.com/8147/7471104002_169c3077ba_b.jpg\n",
            "Downloaded: https://live.staticflickr.com/1934/45431020202_88040ae942_b.jpg\n",
            "Downloaded: https://live.staticflickr.com/3506/3194806745_1465ae0373_b.jpg\n",
            "Downloaded: https://live.staticflickr.com/3812/9405820048_28a09cd10c_b.jpg\n",
            "Downloaded: https://live.staticflickr.com/7202/6992010775_35afb4e365_b.jpg\n",
            "Downloaded: https://live.staticflickr.com/1704/24759061565_e5bf595de6_b.jpg\n",
            "Downloaded: https://live.staticflickr.com/1318/1317870989_ed0dfea4f1_b.jpg\n",
            "Downloaded: https://live.staticflickr.com/7504/27119258694_548fe7116a_b.jpg\n",
            "Downloaded: https://live.staticflickr.com/5007/5277590306_5aabe79b18_b.jpg\n",
            "Downloaded: https://live.staticflickr.com/732/32928482742_57ceff6b8b_b.jpg\n",
            "Downloaded: https://live.staticflickr.com/92/260306502_f03a4eb876_b.jpg\n",
            "Downloaded: https://live.staticflickr.com/2618/4038258875_793df0d6d1_b.jpg\n",
            "Downloaded: https://live.staticflickr.com/4232/35055129003_edf18ca5f9_b.jpg\n",
            "Downloaded: https://live.staticflickr.com/5225/5675925639_a5080b5c7c_b.jpg\n",
            "Downloaded: https://live.staticflickr.com/1523/26212985061_e37224ba29_b.jpg\n",
            "Downloaded: https://live.staticflickr.com/2742/4280168562_01b9813921_b.jpg\n",
            "Downloaded: https://live.staticflickr.com/3690/12687848894_96bdc6be88_b.jpg\n",
            "Downloaded: https://live.staticflickr.com/4088/5092395194_fb83c64a30_b.jpg\n",
            "Downloaded: https://live.staticflickr.com/4376/37244609406_fb1549e3c1_b.jpg\n",
            "Downloaded: https://live.staticflickr.com/3259/3162745230_26334982be_b.jpg\n",
            "Downloaded: https://live.staticflickr.com/659/21709064798_67e964516d_b.jpg\n",
            "Downloaded: https://live.staticflickr.com/4128/4839030572_b4f0f2c314_b.jpg\n",
            "Downloaded: https://live.staticflickr.com/5598/14934282524_344c84246b_b.jpg\n",
            "Downloaded: https://live.staticflickr.com/7250/7466027362_9a0f14f212_b.jpg\n",
            "Downloaded: https://live.staticflickr.com/4803/46581411361_258519e8e4_b.jpg\n",
            "Downloaded: https://live.staticflickr.com/2914/14818553615_6c3645ebc9_b.jpg\n",
            "Downloaded: https://live.staticflickr.com/2480/3553000647_1145c2e929_b.jpg\n",
            "Downloaded: https://live.staticflickr.com/4838/45925416992_c9caac8cb9_b.jpg\n",
            "Downloaded: https://live.staticflickr.com/6156/6177772924_95a35c981c_b.jpg\n",
            "Downloaded: https://live.staticflickr.com/5187/5592504937_1b4b9b9609_b.jpg\n",
            "Downloaded: https://live.staticflickr.com/4009/4280168904_747ce9e715_b.jpg\n",
            "Downloaded: https://live.staticflickr.com/3738/10404051516_447815d814_b.jpg\n",
            "Downloaded: https://live.staticflickr.com/4019/4253748227_723454414a_b.jpg\n",
            "Downloaded: https://live.staticflickr.com/1923/44926777104_8a6e553a48_b.jpg\n",
            "Downloaded: https://live.staticflickr.com/5102/5744236238_2acbf1d8fe_b.jpg\n",
            "Downloaded: https://live.staticflickr.com/531/19410274492_18c8a1f6c1_b.jpg\n",
            "Downloaded: https://live.staticflickr.com/2732/4039007508_df28e89305_b.jpg\n",
            "Downloaded: https://live.staticflickr.com/5730/23342717833_53f5f72fec_b.jpg\n",
            "Downloaded: https://live.staticflickr.com/8363/8323543189_a623d5c024_b.jpg\n",
            "Downloaded: https://live.staticflickr.com/2472/3896129971_215e232afc_b.jpg\n",
            "Downloaded: https://live.staticflickr.com/8097/8534589263_c591734dda_b.jpg\n",
            "Downloaded: https://live.staticflickr.com/7014/6662983427_4f10f9687a_b.jpg\n",
            "Downloaded: https://live.staticflickr.com/819/27247853278_c6f14e1d38_b.jpg\n",
            "Downloaded: https://live.staticflickr.com/7447/12605123663_67af07a5c2_b.jpg\n",
            "Downloaded: https://live.staticflickr.com/1281/685425781_c53e3e7c4b_b.jpg\n",
            "Downloaded: https://live.staticflickr.com/181/384447786_3af2bb9d6c_b.jpg\n",
            "Downloaded: https://live.staticflickr.com/7510/28761726521_6aee5e6315_b.jpg\n",
            "Downloaded: https://live.staticflickr.com/4455/38183707732_f4ca7d3b43_b.jpg\n",
            "Downloaded: https://live.staticflickr.com/7244/7320090694_926aa5a2c3_b.jpg\n",
            "Downloaded: https://live.staticflickr.com/6181/6208284939_e31f22f9d9_b.jpg\n",
            "Downloaded: https://live.staticflickr.com/8235/8535686120_e732d99756_b.jpg\n",
            "Downloaded: https://live.staticflickr.com/4249/34264741564_b369183e61_b.jpg\n",
            "Downloaded: https://live.staticflickr.com/110/297887549_2dc0ee273f_b.jpg\n",
            "Downloaded: https://live.staticflickr.com/1453/26691814071_7d46c68bdf_b.jpg\n",
            "Downloaded: https://live.staticflickr.com/4159/33600923344_c6c07dd2c4_b.jpg\n",
            "Downloaded: https://live.staticflickr.com/7452/9060483520_a27d02d288_b.jpg\n",
            "Downloaded: https://live.staticflickr.com/5276/14000800067_c53260a7cd_b.jpg\n",
            "Downloaded: https://live.staticflickr.com/3068/2545035525_22685e27f4_b.jpg\n"
          ]
        },
        {
          "output_type": "stream",
          "name": "stderr",
          "text": [
            "\rDownloading images:  26%|██▌       | 69/266 [04:28<12:47,  3.90s/it]"
          ]
        },
        {
          "output_type": "stream",
          "name": "stdout",
          "text": [
            "Downloaded: https://live.staticflickr.com/7446/26509038664_a8730f7bf4_b.jpg\n"
          ]
        },
        {
          "output_type": "stream",
          "name": "stderr",
          "text": [
            "\rDownloading images:  26%|██▋       | 70/266 [04:35<15:01,  4.60s/it]"
          ]
        },
        {
          "output_type": "stream",
          "name": "stdout",
          "text": [
            "Downloaded: https://live.staticflickr.com/65535/52750533076_fdfc390fcb_b.jpg\n"
          ]
        },
        {
          "output_type": "stream",
          "name": "stderr",
          "text": [
            "\rDownloading images:  27%|██▋       | 71/266 [04:41<16:15,  5.00s/it]"
          ]
        },
        {
          "output_type": "stream",
          "name": "stdout",
          "text": [
            "Downloaded: https://live.staticflickr.com/3099/3194860899_640ce169ac_b.jpg\n",
            "Downloaded: https://live.staticflickr.com/4141/4871150060_c7e5e5175e_b.jpg\n"
          ]
        },
        {
          "output_type": "stream",
          "name": "stderr",
          "text": [
            "\rDownloading images:  27%|██▋       | 73/266 [04:43<10:40,  3.32s/it]"
          ]
        },
        {
          "output_type": "stream",
          "name": "stdout",
          "text": [
            "Downloaded: https://live.staticflickr.com/1189/561670551_efa5f9ae72_b.jpg\n"
          ]
        },
        {
          "output_type": "stream",
          "name": "stderr",
          "text": [
            "\rDownloading images:  28%|██▊       | 74/266 [04:45<09:19,  2.92s/it]"
          ]
        },
        {
          "output_type": "stream",
          "name": "stdout",
          "text": [
            "Downloaded: https://live.staticflickr.com/3792/10314690654_7eb5f7691e_b.jpg\n"
          ]
        },
        {
          "output_type": "stream",
          "name": "stderr",
          "text": [
            "\rDownloading images:  28%|██▊       | 75/266 [04:48<09:31,  2.99s/it]"
          ]
        },
        {
          "output_type": "stream",
          "name": "stdout",
          "text": [
            "Downloaded: https://live.staticflickr.com/5537/14142817779_568406cd86_b.jpg\n"
          ]
        },
        {
          "output_type": "stream",
          "name": "stderr",
          "text": [
            "\rDownloading images:  29%|██▊       | 76/266 [04:50<08:58,  2.83s/it]"
          ]
        },
        {
          "output_type": "stream",
          "name": "stdout",
          "text": [
            "Downloaded: https://live.staticflickr.com/1662/23809746334_43928c099f_b.jpg\n"
          ]
        },
        {
          "output_type": "stream",
          "name": "stderr",
          "text": [
            "\rDownloading images:  29%|██▉       | 77/266 [04:56<11:06,  3.52s/it]"
          ]
        },
        {
          "output_type": "stream",
          "name": "stdout",
          "text": [
            "Downloaded: https://live.staticflickr.com/6082/6078011473_8ef433ea18_b.jpg\n"
          ]
        },
        {
          "output_type": "stream",
          "name": "stderr",
          "text": [
            "\rDownloading images:  29%|██▉       | 78/266 [04:57<08:51,  2.83s/it]"
          ]
        },
        {
          "output_type": "stream",
          "name": "stdout",
          "text": [
            "Downloaded: https://live.staticflickr.com/4426/36551879530_8588628ff8_b.jpg\n"
          ]
        },
        {
          "output_type": "stream",
          "name": "stderr",
          "text": [
            "\rDownloading images:  30%|██▉       | 79/266 [04:57<06:32,  2.10s/it]"
          ]
        },
        {
          "output_type": "stream",
          "name": "stdout",
          "text": [
            "Downloaded: https://live.staticflickr.com/3182/2886688671_31bc680137_b.jpg\n"
          ]
        },
        {
          "output_type": "stream",
          "name": "stderr",
          "text": [
            "\rDownloading images:  30%|███       | 80/266 [04:59<06:30,  2.10s/it]"
          ]
        },
        {
          "output_type": "stream",
          "name": "stdout",
          "text": [
            "Downloaded: https://live.staticflickr.com/5452/30094682741_1d471f706b_b.jpg\n"
          ]
        },
        {
          "output_type": "stream",
          "name": "stderr",
          "text": [
            "\rDownloading images:  30%|███       | 81/266 [05:11<14:55,  4.84s/it]"
          ]
        },
        {
          "output_type": "stream",
          "name": "stdout",
          "text": [
            "Downloaded: https://live.staticflickr.com/2377/2285077373_bbc137476f_b.jpg\n"
          ]
        },
        {
          "output_type": "stream",
          "name": "stderr",
          "text": [
            "\rDownloading images:  31%|███       | 82/266 [05:15<14:42,  4.80s/it]"
          ]
        },
        {
          "output_type": "stream",
          "name": "stdout",
          "text": [
            "Downloaded: https://live.staticflickr.com/2685/4489852142_28eb56feec_b.jpg\n"
          ]
        },
        {
          "output_type": "stream",
          "name": "stderr",
          "text": [
            "\rDownloading images:  31%|███       | 83/266 [05:19<13:22,  4.38s/it]"
          ]
        },
        {
          "output_type": "stream",
          "name": "stdout",
          "text": [
            "Downloaded: https://live.staticflickr.com/5143/5644554429_82c04f547c_b.jpg\n"
          ]
        },
        {
          "output_type": "stream",
          "name": "stderr",
          "text": [
            "\rDownloading images:  32%|███▏      | 84/266 [05:20<10:26,  3.45s/it]"
          ]
        },
        {
          "output_type": "stream",
          "name": "stdout",
          "text": [
            "Downloaded: https://live.staticflickr.com/4147/4977427214_d2c3f22c3c_b.jpg\n"
          ]
        },
        {
          "output_type": "stream",
          "name": "stderr",
          "text": [
            "\rDownloading images:  32%|███▏      | 85/266 [05:24<10:30,  3.48s/it]"
          ]
        },
        {
          "output_type": "stream",
          "name": "stdout",
          "text": [
            "Downloaded: https://live.staticflickr.com/4129/4838389045_d5fc08ca2b_b.jpg\n"
          ]
        },
        {
          "output_type": "stream",
          "name": "stderr",
          "text": [
            "\rDownloading images:  32%|███▏      | 86/266 [05:27<10:35,  3.53s/it]"
          ]
        },
        {
          "output_type": "stream",
          "name": "stdout",
          "text": [
            "Downloaded: https://live.staticflickr.com/933/42144751990_cb2c7b335a_b.jpg\n"
          ]
        },
        {
          "output_type": "stream",
          "name": "stderr",
          "text": [
            "\rDownloading images:  33%|███▎      | 87/266 [05:28<07:59,  2.68s/it]"
          ]
        },
        {
          "output_type": "stream",
          "name": "stdout",
          "text": [
            "Downloaded: https://live.staticflickr.com/7318/9867033144_32a443834a_b.jpg\n"
          ]
        },
        {
          "output_type": "stream",
          "name": "stderr",
          "text": [
            "\rDownloading images:  33%|███▎      | 88/266 [05:32<08:47,  2.97s/it]"
          ]
        },
        {
          "output_type": "stream",
          "name": "stdout",
          "text": [
            "Downloaded: https://live.staticflickr.com/918/42572640954_487b61c1c0_b.jpg\n"
          ]
        },
        {
          "output_type": "stream",
          "name": "stderr",
          "text": [
            "\rDownloading images:  33%|███▎      | 89/266 [05:34<08:29,  2.88s/it]"
          ]
        },
        {
          "output_type": "stream",
          "name": "stdout",
          "text": [
            "Downloaded: https://live.staticflickr.com/2919/33846692900_89016be5be_b.jpg\n"
          ]
        },
        {
          "output_type": "stream",
          "name": "stderr",
          "text": [
            "\rDownloading images:  34%|███▍      | 90/266 [05:39<09:56,  3.39s/it]"
          ]
        },
        {
          "output_type": "stream",
          "name": "stdout",
          "text": [
            "Downloaded: https://live.staticflickr.com/5568/14759103752_ffde6debfc_b.jpg\n"
          ]
        },
        {
          "output_type": "stream",
          "name": "stderr",
          "text": [
            "\rDownloading images:  34%|███▍      | 91/266 [05:49<15:57,  5.47s/it]"
          ]
        },
        {
          "output_type": "stream",
          "name": "stdout",
          "text": [
            "Downloaded: https://live.staticflickr.com/2064/2149660950_8c21ccda8b_b.jpg\n"
          ]
        },
        {
          "output_type": "stream",
          "name": "stderr",
          "text": [
            "\rDownloading images:  35%|███▍      | 92/266 [05:49<11:17,  3.90s/it]"
          ]
        },
        {
          "output_type": "stream",
          "name": "stdout",
          "text": [
            "Downloaded: https://live.staticflickr.com/3262/2720988253_ed44346067_b.jpg\n"
          ]
        },
        {
          "output_type": "stream",
          "name": "stderr",
          "text": [
            "\rDownloading images:  35%|███▍      | 93/266 [05:51<09:02,  3.14s/it]"
          ]
        },
        {
          "output_type": "stream",
          "name": "stdout",
          "text": [
            "Downloaded: https://live.staticflickr.com/1702/26141463766_4feb75d3c7_b.jpg\n"
          ]
        },
        {
          "output_type": "stream",
          "name": "stderr",
          "text": [
            "\rDownloading images:  35%|███▌      | 94/266 [06:02<15:36,  5.45s/it]"
          ]
        },
        {
          "output_type": "stream",
          "name": "stdout",
          "text": [
            "Downloaded: https://live.staticflickr.com/1613/25987709946_ddd7534993_b.jpg\n"
          ]
        },
        {
          "output_type": "stream",
          "name": "stderr",
          "text": [
            "\rDownloading images:  36%|███▌      | 95/266 [06:11<18:46,  6.59s/it]"
          ]
        },
        {
          "output_type": "stream",
          "name": "stdout",
          "text": [
            "Downloaded: https://live.staticflickr.com/8323/8446750937_bd821ab062_b.jpg\n"
          ]
        },
        {
          "output_type": "stream",
          "name": "stderr",
          "text": [
            "\rDownloading images:  36%|███▌      | 96/266 [06:13<14:41,  5.19s/it]"
          ]
        },
        {
          "output_type": "stream",
          "name": "stdout",
          "text": [
            "Downloaded: https://live.staticflickr.com/7849/32097994667_10d3dda371_b.jpg\n"
          ]
        },
        {
          "output_type": "stream",
          "name": "stderr",
          "text": [
            "\rDownloading images:  36%|███▋      | 97/266 [06:15<12:07,  4.31s/it]"
          ]
        },
        {
          "output_type": "stream",
          "name": "stdout",
          "text": [
            "Downloaded: https://live.staticflickr.com/647/21982802134_e4c135c7f8_b.jpg\n"
          ]
        },
        {
          "output_type": "stream",
          "name": "stderr",
          "text": [
            "\rDownloading images:  37%|███▋      | 98/266 [06:16<09:12,  3.29s/it]"
          ]
        },
        {
          "output_type": "stream",
          "name": "stdout",
          "text": [
            "Downloaded: https://live.staticflickr.com/8299/7995427205_d0e80f29d2_b.jpg\n"
          ]
        },
        {
          "output_type": "stream",
          "name": "stderr",
          "text": [
            "\rDownloading images:  37%|███▋      | 99/266 [06:16<06:42,  2.41s/it]"
          ]
        },
        {
          "output_type": "stream",
          "name": "stdout",
          "text": [
            "Downloaded: https://live.staticflickr.com/3779/11530597946_b8a3eb4e3b_b.jpg\n"
          ]
        },
        {
          "output_type": "stream",
          "name": "stderr",
          "text": [
            "\rDownloading images:  38%|███▊      | 100/266 [06:18<06:06,  2.21s/it]"
          ]
        },
        {
          "output_type": "stream",
          "name": "stdout",
          "text": [
            "Downloaded: https://live.staticflickr.com/65535/50504682357_72e8e99316_b.jpg\n"
          ]
        },
        {
          "output_type": "stream",
          "name": "stderr",
          "text": [
            "\rDownloading images:  38%|███▊      | 101/266 [06:21<06:57,  2.53s/it]"
          ]
        },
        {
          "output_type": "stream",
          "name": "stdout",
          "text": [
            "Downloaded: https://live.staticflickr.com/8589/16104491773_9cc84cfefc_b.jpg\n"
          ]
        },
        {
          "output_type": "stream",
          "name": "stderr",
          "text": [
            "\rDownloading images:  38%|███▊      | 102/266 [06:23<05:56,  2.18s/it]"
          ]
        },
        {
          "output_type": "stream",
          "name": "stdout",
          "text": [
            "Downloaded: https://live.staticflickr.com/65535/49881165307_d4d0a265ff_b.jpg\n",
            "Downloaded: https://live.staticflickr.com/65535/53860888965_68d9a61fd4_b.jpg\n"
          ]
        },
        {
          "output_type": "stream",
          "name": "stderr",
          "text": [
            "\rDownloading images:  39%|███▉      | 104/266 [06:26<05:19,  1.97s/it]"
          ]
        },
        {
          "output_type": "stream",
          "name": "stdout",
          "text": [
            "Downloaded: https://live.staticflickr.com/65535/52129980137_f64487da33_b.jpg\n"
          ]
        },
        {
          "output_type": "stream",
          "name": "stderr",
          "text": [
            "\rDownloading images:  39%|███▉      | 105/266 [06:37<10:56,  4.08s/it]"
          ]
        },
        {
          "output_type": "stream",
          "name": "stdout",
          "text": [
            "Downloaded: https://live.staticflickr.com/2777/4383818501_4edf833c67_b.jpg\n"
          ]
        },
        {
          "output_type": "stream",
          "name": "stderr",
          "text": [
            "\rDownloading images:  40%|███▉      | 106/266 [06:38<09:02,  3.39s/it]"
          ]
        },
        {
          "output_type": "stream",
          "name": "stdout",
          "text": [
            "Downloaded: https://live.staticflickr.com/65535/52940370825_f4c3be697d_b.jpg\n"
          ]
        },
        {
          "output_type": "stream",
          "name": "stderr",
          "text": [
            "\rDownloading images:  40%|████      | 107/266 [06:42<09:37,  3.63s/it]"
          ]
        },
        {
          "output_type": "stream",
          "name": "stdout",
          "text": [
            "Downloaded: https://live.staticflickr.com/3559/3446613250_8569b7d582_b.jpg\n"
          ]
        },
        {
          "output_type": "stream",
          "name": "stderr",
          "text": [
            "\rDownloading images:  41%|████      | 108/266 [06:42<07:02,  2.68s/it]"
          ]
        },
        {
          "output_type": "stream",
          "name": "stdout",
          "text": [
            "Downloaded: https://live.staticflickr.com/4005/4300636744_3dcb938a25_b.jpg\n"
          ]
        },
        {
          "output_type": "stream",
          "name": "stderr",
          "text": [
            "\rDownloading images:  41%|████      | 109/266 [06:44<06:30,  2.49s/it]"
          ]
        },
        {
          "output_type": "stream",
          "name": "stdout",
          "text": [
            "Downloaded: https://live.staticflickr.com/65535/51178114358_63f13eef54_b.jpg\n"
          ]
        },
        {
          "output_type": "stream",
          "name": "stderr",
          "text": [
            "\rDownloading images:  41%|████▏     | 110/266 [06:46<05:36,  2.16s/it]"
          ]
        },
        {
          "output_type": "stream",
          "name": "stdout",
          "text": [
            "Downloaded: https://live.staticflickr.com/65535/52989500127_b636f0b2c4_b.jpg\n"
          ]
        },
        {
          "output_type": "stream",
          "name": "stderr",
          "text": [
            "\rDownloading images:  42%|████▏     | 111/266 [06:51<07:55,  3.07s/it]"
          ]
        },
        {
          "output_type": "stream",
          "name": "stdout",
          "text": [
            "Downloaded: https://live.staticflickr.com/3847/14882452851_009c72bfaf_b.jpg\n"
          ]
        },
        {
          "output_type": "stream",
          "name": "stderr",
          "text": [
            "\rDownloading images:  42%|████▏     | 112/266 [06:52<06:27,  2.52s/it]"
          ]
        },
        {
          "output_type": "stream",
          "name": "stdout",
          "text": [
            "Downloaded: https://live.staticflickr.com/1408/846238617_97291a900b_b.jpg\n"
          ]
        },
        {
          "output_type": "stream",
          "name": "stderr",
          "text": [
            "\rDownloading images:  42%|████▏     | 113/266 [06:57<08:02,  3.15s/it]"
          ]
        },
        {
          "output_type": "stream",
          "name": "stdout",
          "text": [
            "Downloaded: https://live.staticflickr.com/2781/4423005169_ae1951a079_b.jpg\n",
            "Downloaded: https://live.staticflickr.com/65535/52043837088_404b2db6d4_b.jpg\n"
          ]
        },
        {
          "output_type": "stream",
          "name": "stderr",
          "text": [
            "\rDownloading images:  43%|████▎     | 115/266 [06:59<05:36,  2.23s/it]"
          ]
        },
        {
          "output_type": "stream",
          "name": "stdout",
          "text": [
            "Downloaded: https://live.staticflickr.com/65535/52886063715_b64e90d6a7_b.jpg\n"
          ]
        },
        {
          "output_type": "stream",
          "name": "stderr",
          "text": [
            "\rDownloading images:  44%|████▎     | 116/266 [07:06<08:16,  3.31s/it]"
          ]
        },
        {
          "output_type": "stream",
          "name": "stdout",
          "text": [
            "Downloaded: https://live.staticflickr.com/7013/6655052549_c86b56ccc3_b.jpg\n"
          ]
        },
        {
          "output_type": "stream",
          "name": "stderr",
          "text": [
            "\rDownloading images:  44%|████▍     | 117/266 [07:17<13:18,  5.36s/it]"
          ]
        },
        {
          "output_type": "stream",
          "name": "stdout",
          "text": [
            "Downloaded: https://live.staticflickr.com/65535/52814399290_d1a5d6d8b5_b.jpg\n"
          ]
        },
        {
          "output_type": "stream",
          "name": "stderr",
          "text": [
            "\rDownloading images:  44%|████▍     | 118/266 [07:21<12:15,  4.97s/it]"
          ]
        },
        {
          "output_type": "stream",
          "name": "stdout",
          "text": [
            "Downloaded: https://live.staticflickr.com/7491/15139193753_df9f192c11_b.jpg\n"
          ]
        },
        {
          "output_type": "stream",
          "name": "stderr",
          "text": [
            "\rDownloading images:  45%|████▍     | 119/266 [07:22<09:49,  4.01s/it]"
          ]
        },
        {
          "output_type": "stream",
          "name": "stdout",
          "text": [
            "Downloaded: https://live.staticflickr.com/436/18164194144_a1924236fa_b.jpg\n"
          ]
        },
        {
          "output_type": "stream",
          "name": "stderr",
          "text": [
            "\rDownloading images:  45%|████▌     | 120/266 [07:25<08:47,  3.61s/it]"
          ]
        },
        {
          "output_type": "stream",
          "name": "stdout",
          "text": [
            "Downloaded: https://live.staticflickr.com/15/19091229_1f7fe28b53_b.jpg\n"
          ]
        },
        {
          "output_type": "stream",
          "name": "stderr",
          "text": [
            "\rDownloading images:  45%|████▌     | 121/266 [07:26<07:09,  2.96s/it]"
          ]
        },
        {
          "output_type": "stream",
          "name": "stdout",
          "text": [
            "Downloaded: https://live.staticflickr.com/65535/52371076093_302829e04a_b.jpg\n"
          ]
        },
        {
          "output_type": "stream",
          "name": "stderr",
          "text": [
            "\rDownloading images:  46%|████▌     | 122/266 [07:28<06:16,  2.62s/it]"
          ]
        },
        {
          "output_type": "stream",
          "name": "stdout",
          "text": [
            "Downloaded: https://live.staticflickr.com/65535/51970555752_3d146b592d_b.jpg\n"
          ]
        },
        {
          "output_type": "stream",
          "name": "stderr",
          "text": [
            "\rDownloading images:  46%|████▌     | 123/266 [07:29<04:51,  2.04s/it]"
          ]
        },
        {
          "output_type": "stream",
          "name": "stdout",
          "text": [
            "Downloaded: https://live.staticflickr.com/65535/51839293870_b1aed56ee9.jpg\n"
          ]
        },
        {
          "output_type": "stream",
          "name": "stderr",
          "text": [
            "\rDownloading images:  47%|████▋     | 124/266 [07:39<10:16,  4.34s/it]"
          ]
        },
        {
          "output_type": "stream",
          "name": "stdout",
          "text": [
            "Downloaded: https://live.staticflickr.com/4220/35220834766_5d1680c918_b.jpg\n"
          ]
        },
        {
          "output_type": "stream",
          "name": "stderr",
          "text": [
            "\rDownloading images:  47%|████▋     | 125/266 [07:41<08:49,  3.75s/it]"
          ]
        },
        {
          "output_type": "stream",
          "name": "stdout",
          "text": [
            "Downloaded: https://live.staticflickr.com/3459/3391070711_c52d1d8d18_b.jpg\n"
          ]
        },
        {
          "output_type": "stream",
          "name": "stderr",
          "text": [
            "\rDownloading images:  47%|████▋     | 126/266 [07:44<08:00,  3.43s/it]"
          ]
        },
        {
          "output_type": "stream",
          "name": "stdout",
          "text": [
            "Downloaded: https://live.staticflickr.com/8374/8591674907_6fb71ee4ac_b.jpg\n"
          ]
        },
        {
          "output_type": "stream",
          "name": "stderr",
          "text": [
            "\rDownloading images:  48%|████▊     | 127/266 [07:44<05:58,  2.58s/it]"
          ]
        },
        {
          "output_type": "stream",
          "name": "stdout",
          "text": [
            "Downloaded: https://live.staticflickr.com/65535/51746688832_4380a61544_b.jpg\n"
          ]
        },
        {
          "output_type": "stream",
          "name": "stderr",
          "text": [
            "\rDownloading images:  48%|████▊     | 128/266 [07:45<04:47,  2.08s/it]"
          ]
        },
        {
          "output_type": "stream",
          "name": "stdout",
          "text": [
            "Downloaded: https://live.staticflickr.com/5287/5248099209_90ed5d971f_b.jpg\n"
          ]
        },
        {
          "output_type": "stream",
          "name": "stderr",
          "text": [
            "\rDownloading images:  48%|████▊     | 129/266 [07:54<09:30,  4.17s/it]"
          ]
        },
        {
          "output_type": "stream",
          "name": "stdout",
          "text": [
            "Downloaded: https://live.staticflickr.com/2644/3929675039_c06b6a9440_b.jpg\n"
          ]
        },
        {
          "output_type": "stream",
          "name": "stderr",
          "text": [
            "\rDownloading images:  49%|████▉     | 130/266 [08:03<12:19,  5.44s/it]"
          ]
        },
        {
          "output_type": "stream",
          "name": "stdout",
          "text": [
            "Downloaded: https://live.staticflickr.com/4709/39879980494_e6b17ddba6_b.jpg\n"
          ]
        },
        {
          "output_type": "stream",
          "name": "stderr",
          "text": [
            "\rDownloading images:  49%|████▉     | 131/266 [08:04<09:26,  4.20s/it]"
          ]
        },
        {
          "output_type": "stream",
          "name": "stdout",
          "text": [
            "Downloaded: https://live.staticflickr.com/7056/6822877094_7a36b955ef_b.jpg\n"
          ]
        },
        {
          "output_type": "stream",
          "name": "stderr",
          "text": [
            "\rDownloading images:  50%|████▉     | 132/266 [08:07<08:29,  3.80s/it]"
          ]
        },
        {
          "output_type": "stream",
          "name": "stdout",
          "text": [
            "Downloaded: https://live.staticflickr.com/3601/3572306382_5d8a339b7a_b.jpg\n"
          ]
        },
        {
          "output_type": "stream",
          "name": "stderr",
          "text": [
            "\rDownloading images:  50%|█████     | 133/266 [08:12<09:22,  4.23s/it]"
          ]
        },
        {
          "output_type": "stream",
          "name": "stdout",
          "text": [
            "Downloaded: https://live.staticflickr.com/65535/53742600482_be65dab11c_b.jpg\n"
          ]
        },
        {
          "output_type": "stream",
          "name": "stderr",
          "text": [
            "\rDownloading images:  50%|█████     | 134/266 [08:14<07:42,  3.51s/it]"
          ]
        },
        {
          "output_type": "stream",
          "name": "stdout",
          "text": [
            "Downloaded: https://live.staticflickr.com/3372/3423277348_61ee6880bb_b.jpg\n",
            "Downloaded: https://live.staticflickr.com/879/41845529985_04513daa36_b.jpg\n"
          ]
        },
        {
          "output_type": "stream",
          "name": "stderr",
          "text": [
            "\rDownloading images:  51%|█████     | 136/266 [08:21<07:32,  3.48s/it]"
          ]
        },
        {
          "output_type": "stream",
          "name": "stdout",
          "text": [
            "Downloaded: https://live.staticflickr.com/8233/8430302275_0d5f2b8693_b.jpg\n"
          ]
        },
        {
          "output_type": "stream",
          "name": "stderr",
          "text": [
            "\rDownloading images:  52%|█████▏    | 137/266 [08:23<06:58,  3.24s/it]"
          ]
        },
        {
          "output_type": "stream",
          "name": "stdout",
          "text": [
            "Downloaded: https://live.staticflickr.com/3485/3276025446_cacfc8b583_b.jpg\n"
          ]
        },
        {
          "output_type": "stream",
          "name": "stderr",
          "text": [
            "\rDownloading images:  52%|█████▏    | 138/266 [08:24<05:19,  2.50s/it]"
          ]
        },
        {
          "output_type": "stream",
          "name": "stdout",
          "text": [
            "Downloaded: https://live.staticflickr.com/7013/6655052549_c86b56ccc3_b.jpg\n",
            "Downloaded: https://live.staticflickr.com/15/19091229_1f7fe28b53_b.jpg\n"
          ]
        },
        {
          "output_type": "stream",
          "name": "stderr",
          "text": [
            "\rDownloading images:  53%|█████▎    | 140/266 [08:29<05:28,  2.61s/it]"
          ]
        },
        {
          "output_type": "stream",
          "name": "stdout",
          "text": [
            "Downloaded: https://live.staticflickr.com/65535/53055625804_808a736425_b.jpg\n"
          ]
        },
        {
          "output_type": "stream",
          "name": "stderr",
          "text": [
            "\rDownloading images:  53%|█████▎    | 141/266 [08:36<07:36,  3.65s/it]"
          ]
        },
        {
          "output_type": "stream",
          "name": "stdout",
          "text": [
            "Downloaded: https://live.staticflickr.com/65535/51174618507_92b824442a_b.jpg\n"
          ]
        },
        {
          "output_type": "stream",
          "name": "stderr",
          "text": [
            "\rDownloading images:  53%|█████▎    | 142/266 [08:40<07:45,  3.75s/it]"
          ]
        },
        {
          "output_type": "stream",
          "name": "stdout",
          "text": [
            "Downloaded: https://live.staticflickr.com/8604/16346019857_8c8e320ea0_b.jpg\n"
          ]
        },
        {
          "output_type": "stream",
          "name": "stderr",
          "text": [
            "\rDownloading images:  54%|█████▍    | 143/266 [08:41<06:06,  2.98s/it]"
          ]
        },
        {
          "output_type": "stream",
          "name": "stdout",
          "text": [
            "Downloaded: https://live.staticflickr.com/7029/27122090776_c88a948698_b.jpg\n"
          ]
        },
        {
          "output_type": "stream",
          "name": "stderr",
          "text": [
            "\rDownloading images:  54%|█████▍    | 144/266 [08:42<04:34,  2.25s/it]"
          ]
        },
        {
          "output_type": "stream",
          "name": "stdout",
          "text": [
            "Downloaded: https://live.staticflickr.com/3035/2480337102_9e9e97b60f_b.jpg\n"
          ]
        },
        {
          "output_type": "stream",
          "name": "stderr",
          "text": [
            "\rDownloading images:  55%|█████▍    | 145/266 [08:43<04:08,  2.06s/it]"
          ]
        },
        {
          "output_type": "stream",
          "name": "stdout",
          "text": [
            "Downloaded: https://live.staticflickr.com/65535/48666722771_02e68f1941_b.jpg\n"
          ]
        },
        {
          "output_type": "stream",
          "name": "stderr",
          "text": [
            "\rDownloading images:  55%|█████▍    | 146/266 [08:46<04:44,  2.37s/it]"
          ]
        },
        {
          "output_type": "stream",
          "name": "stdout",
          "text": [
            "Downloaded: https://live.staticflickr.com/619/21565496366_6c44efae27_b.jpg\n"
          ]
        },
        {
          "output_type": "stream",
          "name": "stderr",
          "text": [
            "Downloading images:  56%|█████▌    | 148/266 [08:47<02:45,  1.40s/it]"
          ]
        },
        {
          "output_type": "stream",
          "name": "stdout",
          "text": [
            "Downloaded: https://live.staticflickr.com/3200/2782424667_a569603166_b.jpg\n",
            "Downloaded: https://live.staticflickr.com/5781/22116589925_30e0d478b2_b.jpg\n"
          ]
        },
        {
          "output_type": "stream",
          "name": "stderr",
          "text": [
            "\rDownloading images:  56%|█████▌    | 149/266 [08:49<02:47,  1.43s/it]"
          ]
        },
        {
          "output_type": "stream",
          "name": "stdout",
          "text": [
            "Downloaded: https://live.staticflickr.com/65535/51182093434_0961959762_b.jpg\n"
          ]
        },
        {
          "output_type": "stream",
          "name": "stderr",
          "text": [
            "\rDownloading images:  56%|█████▋    | 150/266 [08:49<02:13,  1.15s/it]"
          ]
        },
        {
          "output_type": "stream",
          "name": "stdout",
          "text": [
            "Downloaded: https://live.staticflickr.com/5751/22607587331_584a1e165b_b.jpg\n"
          ]
        },
        {
          "output_type": "stream",
          "name": "stderr",
          "text": [
            "\rDownloading images:  57%|█████▋    | 151/266 [08:50<02:09,  1.13s/it]"
          ]
        },
        {
          "output_type": "stream",
          "name": "stdout",
          "text": [
            "Downloaded: https://live.staticflickr.com/65535/52933773027_690f6af44c_b.jpg\n"
          ]
        },
        {
          "output_type": "stream",
          "name": "stderr",
          "text": [
            "\rDownloading images:  57%|█████▋    | 152/266 [08:51<01:45,  1.08it/s]"
          ]
        },
        {
          "output_type": "stream",
          "name": "stdout",
          "text": [
            "Downloaded: https://live.staticflickr.com/614/21975394393_53e12c47d1_b.jpg\n"
          ]
        },
        {
          "output_type": "stream",
          "name": "stderr",
          "text": [
            "\rDownloading images:  58%|█████▊    | 153/266 [08:51<01:25,  1.33it/s]"
          ]
        },
        {
          "output_type": "stream",
          "name": "stdout",
          "text": [
            "Downloaded: https://live.staticflickr.com/65535/52808462909_e87c8a65c6_b.jpg\n"
          ]
        },
        {
          "output_type": "stream",
          "name": "stderr",
          "text": [
            "\rDownloading images:  58%|█████▊    | 154/266 [08:51<01:08,  1.63it/s]"
          ]
        },
        {
          "output_type": "stream",
          "name": "stdout",
          "text": [
            "Downloaded: https://live.staticflickr.com/65535/50083467973_4f65969efd_b.jpg\n"
          ]
        },
        {
          "output_type": "stream",
          "name": "stderr",
          "text": [
            "\rDownloading images:  58%|█████▊    | 155/266 [08:52<01:03,  1.75it/s]"
          ]
        },
        {
          "output_type": "stream",
          "name": "stdout",
          "text": [
            "Downloaded: https://live.staticflickr.com/5668/22498102696_0d662a2d5f_b.jpg\n"
          ]
        },
        {
          "output_type": "stream",
          "name": "stderr",
          "text": [
            "\rDownloading images:  59%|█████▊    | 156/266 [08:53<01:26,  1.26it/s]"
          ]
        },
        {
          "output_type": "stream",
          "name": "stdout",
          "text": [
            "Downloaded: https://live.staticflickr.com/65535/52775614766_3d7715cff2_b.jpg\n"
          ]
        },
        {
          "output_type": "stream",
          "name": "stderr",
          "text": [
            "\rDownloading images:  59%|█████▉    | 157/266 [08:53<01:08,  1.60it/s]"
          ]
        },
        {
          "output_type": "stream",
          "name": "stdout",
          "text": [
            "Downloaded: https://live.staticflickr.com/4061/4394155973_252b15341d_b.jpg\n"
          ]
        },
        {
          "output_type": "stream",
          "name": "stderr",
          "text": [
            "\rDownloading images:  59%|█████▉    | 158/266 [08:54<01:09,  1.55it/s]"
          ]
        },
        {
          "output_type": "stream",
          "name": "stdout",
          "text": [
            "Downloaded: https://live.staticflickr.com/8781/17498256752_768f01e02c_b.jpg\n"
          ]
        },
        {
          "output_type": "stream",
          "name": "stderr",
          "text": [
            "\rDownloading images:  60%|█████▉    | 159/266 [08:54<00:59,  1.81it/s]"
          ]
        },
        {
          "output_type": "stream",
          "name": "stdout",
          "text": [
            "Downloaded: https://live.staticflickr.com/5150/5791151895_67dbb05cdf_b.jpg\n"
          ]
        },
        {
          "output_type": "stream",
          "name": "stderr",
          "text": [
            "\rDownloading images:  60%|██████    | 160/266 [08:56<01:22,  1.28it/s]"
          ]
        },
        {
          "output_type": "stream",
          "name": "stdout",
          "text": [
            "Downloaded: https://live.staticflickr.com/65535/51088815079_18ef76a98b_b.jpg\n"
          ]
        },
        {
          "output_type": "stream",
          "name": "stderr",
          "text": [
            "\rDownloading images:  61%|██████    | 161/266 [08:58<02:10,  1.24s/it]"
          ]
        },
        {
          "output_type": "stream",
          "name": "stdout",
          "text": [
            "Downloaded: https://live.staticflickr.com/65535/53722444476_164d86669a_b.jpg\n"
          ]
        },
        {
          "output_type": "stream",
          "name": "stderr",
          "text": [
            "\rDownloading images:  61%|██████    | 162/266 [08:59<02:03,  1.19s/it]"
          ]
        },
        {
          "output_type": "stream",
          "name": "stdout",
          "text": [
            "Downloaded: https://live.staticflickr.com/4446/37969242581_ced9851653_b.jpg\n"
          ]
        },
        {
          "output_type": "stream",
          "name": "stderr",
          "text": [
            "\rDownloading images:  61%|██████▏   | 163/266 [09:01<02:24,  1.40s/it]"
          ]
        },
        {
          "output_type": "stream",
          "name": "stdout",
          "text": [
            "Downloaded: https://live.staticflickr.com/65535/53067123696_28d7aa67c6_b.jpg\n"
          ]
        },
        {
          "output_type": "stream",
          "name": "stderr",
          "text": [
            "\rDownloading images:  62%|██████▏   | 164/266 [09:02<02:22,  1.40s/it]"
          ]
        },
        {
          "output_type": "stream",
          "name": "stdout",
          "text": [
            "Downloaded: https://live.staticflickr.com/4188/34282669112_854cf2eb57_b.jpg\n"
          ]
        },
        {
          "output_type": "stream",
          "name": "stderr",
          "text": [
            "\rDownloading images:  62%|██████▏   | 165/266 [09:03<02:05,  1.25s/it]"
          ]
        },
        {
          "output_type": "stream",
          "name": "stdout",
          "text": [
            "Downloaded: https://live.staticflickr.com/65535/53359359452_5ffae7e093_b.jpg\n"
          ]
        },
        {
          "output_type": "stream",
          "name": "stderr",
          "text": [
            "\rDownloading images:  62%|██████▏   | 166/266 [09:04<01:37,  1.02it/s]"
          ]
        },
        {
          "output_type": "stream",
          "name": "stdout",
          "text": [
            "Downloaded: https://live.staticflickr.com/7773/26953848586_89bab69e89_b.jpg\n"
          ]
        },
        {
          "output_type": "stream",
          "name": "stderr",
          "text": [
            "\rDownloading images:  63%|██████▎   | 167/266 [09:05<01:40,  1.01s/it]"
          ]
        },
        {
          "output_type": "stream",
          "name": "stdout",
          "text": [
            "Downloaded: https://live.staticflickr.com/1733/41569719005_67551b978a_b.jpg\n",
            "Downloaded: https://live.staticflickr.com/3167/2562952041_fbd4b397b5_b.jpg\n"
          ]
        },
        {
          "output_type": "stream",
          "name": "stderr",
          "text": [
            "\rDownloading images:  64%|██████▎   | 169/266 [09:05<00:58,  1.66it/s]"
          ]
        },
        {
          "output_type": "stream",
          "name": "stdout",
          "text": [
            "Downloaded: https://live.staticflickr.com/4116/4764724998_21d90eaebb_b.jpg\n"
          ]
        },
        {
          "output_type": "stream",
          "name": "stderr",
          "text": [
            "\rDownloading images:  64%|██████▍   | 170/266 [09:05<00:51,  1.86it/s]"
          ]
        },
        {
          "output_type": "stream",
          "name": "stdout",
          "text": [
            "Downloaded: https://live.staticflickr.com/5025/5591703036_7ed228c5e3_b.jpg\n"
          ]
        },
        {
          "output_type": "stream",
          "name": "stderr",
          "text": [
            "Downloading images:  65%|██████▍   | 172/266 [09:06<00:42,  2.19it/s]"
          ]
        },
        {
          "output_type": "stream",
          "name": "stdout",
          "text": [
            "Downloaded: https://live.staticflickr.com/65535/53716014803_3344904fea_b.jpg\n",
            "Downloaded: https://live.staticflickr.com/65535/51035833742_c9692e70ba_b.jpg\n"
          ]
        },
        {
          "output_type": "stream",
          "name": "stderr",
          "text": [
            "\rDownloading images:  65%|██████▌   | 173/266 [09:07<00:43,  2.15it/s]"
          ]
        },
        {
          "output_type": "stream",
          "name": "stdout",
          "text": [
            "Downloaded: https://live.staticflickr.com/2731/4128271544_6ff5b3fdec_b.jpg\n"
          ]
        },
        {
          "output_type": "stream",
          "name": "stderr",
          "text": [
            "\rDownloading images:  65%|██████▌   | 174/266 [09:07<00:36,  2.55it/s]"
          ]
        },
        {
          "output_type": "stream",
          "name": "stdout",
          "text": [
            "Downloaded: https://live.staticflickr.com/65535/52189470994_7d7aa5081e_b.jpg\n"
          ]
        },
        {
          "output_type": "stream",
          "name": "stderr",
          "text": [
            "\rDownloading images:  66%|██████▌   | 175/266 [09:07<00:39,  2.31it/s]"
          ]
        },
        {
          "output_type": "stream",
          "name": "stdout",
          "text": [
            "Downloaded: https://live.staticflickr.com/4200/34711514806_f0fab551d0_b.jpg\n"
          ]
        },
        {
          "output_type": "stream",
          "name": "stderr",
          "text": [
            "\rDownloading images:  66%|██████▌   | 176/266 [09:08<00:35,  2.52it/s]"
          ]
        },
        {
          "output_type": "stream",
          "name": "stdout",
          "text": [
            "Downloaded: https://live.staticflickr.com/65535/52831539074_bf5bb488db_b.jpg\n"
          ]
        },
        {
          "output_type": "stream",
          "name": "stderr",
          "text": [
            "Downloading images:  68%|██████▊   | 180/266 [09:08<00:20,  4.16it/s]"
          ]
        },
        {
          "output_type": "stream",
          "name": "stdout",
          "text": [
            "Downloaded: https://live.staticflickr.com/65535/49456860741_5b2064a7e4_b.jpg\n",
            "Downloaded: https://live.staticflickr.com/3057/2884135028_81da01934a_b.jpg\n",
            "Downloaded: https://live.staticflickr.com/65535/52766858427_c6a714b52b_b.jpg\n",
            "Downloaded: https://live.staticflickr.com/2039/2225401898_80a74f4066_b.jpg\n"
          ]
        },
        {
          "output_type": "stream",
          "name": "stderr",
          "text": [
            "\rDownloading images:  68%|██████▊   | 181/266 [09:09<00:23,  3.55it/s]"
          ]
        },
        {
          "output_type": "stream",
          "name": "stdout",
          "text": [
            "Downloaded: https://live.staticflickr.com/53/147482645_d125c7f1f8_b.jpg\n"
          ]
        },
        {
          "output_type": "stream",
          "name": "stderr",
          "text": [
            "Downloading images:  69%|██████▉   | 183/266 [09:09<00:20,  4.06it/s]"
          ]
        },
        {
          "output_type": "stream",
          "name": "stdout",
          "text": [
            "Downloaded: https://live.staticflickr.com/3672/13211936983_a8d62abc85_b.jpg\n",
            "Downloaded: https://live.staticflickr.com/2904/14220902143_096bc108d1_b.jpg\n"
          ]
        },
        {
          "output_type": "stream",
          "name": "stderr",
          "text": [
            "\rDownloading images:  69%|██████▉   | 184/266 [09:10<00:24,  3.41it/s]"
          ]
        },
        {
          "output_type": "stream",
          "name": "stdout",
          "text": [
            "Downloaded: https://live.staticflickr.com/2535/3875424658_d824fdfc3d_b.jpg\n"
          ]
        },
        {
          "output_type": "stream",
          "name": "stderr",
          "text": [
            "\rDownloading images:  70%|██████▉   | 185/266 [09:10<00:23,  3.40it/s]"
          ]
        },
        {
          "output_type": "stream",
          "name": "stdout",
          "text": [
            "Downloaded: https://live.staticflickr.com/3740/13212246875_b31b94918d_b.jpg\n"
          ]
        },
        {
          "output_type": "stream",
          "name": "stderr",
          "text": [
            "Downloading images:  70%|███████   | 187/266 [09:10<00:19,  4.08it/s]"
          ]
        },
        {
          "output_type": "stream",
          "name": "stdout",
          "text": [
            "Downloaded: https://live.staticflickr.com/3518/4563857816_9accb1a2f1_b.jpg\n",
            "Downloaded: https://live.staticflickr.com/7907/46920425501_8eee0b252c_b.jpg\n"
          ]
        },
        {
          "output_type": "stream",
          "name": "stderr",
          "text": [
            "\rDownloading images:  71%|███████   | 188/266 [09:11<00:16,  4.64it/s]"
          ]
        },
        {
          "output_type": "stream",
          "name": "stdout",
          "text": [
            "Downloaded: https://live.staticflickr.com/2275/5751096919_6e389919d0_b.jpg\n"
          ]
        },
        {
          "output_type": "stream",
          "name": "stderr",
          "text": [
            "\rDownloading images:  71%|███████   | 189/266 [09:11<00:21,  3.61it/s]"
          ]
        },
        {
          "output_type": "stream",
          "name": "stdout",
          "text": [
            "Downloaded: https://live.staticflickr.com/227/469530755_57382d49c6_b.jpg\n"
          ]
        },
        {
          "output_type": "stream",
          "name": "stderr",
          "text": [
            "Downloading images:  72%|███████▏  | 191/266 [09:11<00:18,  4.07it/s]"
          ]
        },
        {
          "output_type": "stream",
          "name": "stdout",
          "text": [
            "Downloaded: https://live.staticflickr.com/2471/3918659599_4f87a05e82_b.jpg\n",
            "Downloaded: https://live.staticflickr.com/3090/2843336762_5d02117beb_b.jpg\n"
          ]
        },
        {
          "output_type": "stream",
          "name": "stderr",
          "text": [
            "\rDownloading images:  72%|███████▏  | 192/266 [09:12<00:16,  4.50it/s]"
          ]
        },
        {
          "output_type": "stream",
          "name": "stdout",
          "text": [
            "Downloaded: https://live.staticflickr.com/8029/8007062220_81b9630b31_b.jpg\n"
          ]
        },
        {
          "output_type": "stream",
          "name": "stderr",
          "text": [
            "Downloading images:  73%|███████▎  | 194/266 [09:12<00:15,  4.78it/s]"
          ]
        },
        {
          "output_type": "stream",
          "name": "stdout",
          "text": [
            "Downloaded: https://live.staticflickr.com/6058/6219293067_bddc9c5f79_b.jpg\n",
            "Downloaded: https://live.staticflickr.com/7643/16795616287_f1738d2cf0_b.jpg\n"
          ]
        },
        {
          "output_type": "stream",
          "name": "stderr",
          "text": [
            "\rDownloading images:  73%|███████▎  | 195/266 [09:12<00:13,  5.10it/s]"
          ]
        },
        {
          "output_type": "stream",
          "name": "stdout",
          "text": [
            "Downloaded: https://live.staticflickr.com/1091/1208805552_f35a9540a5_b.jpg\n"
          ]
        },
        {
          "output_type": "stream",
          "name": "stderr",
          "text": [
            "\rDownloading images:  74%|███████▎  | 196/266 [09:13<00:16,  4.17it/s]"
          ]
        },
        {
          "output_type": "stream",
          "name": "stdout",
          "text": [
            "Downloaded: https://live.staticflickr.com/3430/3370561778_8e53c343e4_b.jpg\n"
          ]
        },
        {
          "output_type": "stream",
          "name": "stderr",
          "text": [
            "\rDownloading images:  74%|███████▍  | 197/266 [09:13<00:24,  2.87it/s]"
          ]
        },
        {
          "output_type": "stream",
          "name": "stdout",
          "text": [
            "Downloaded: https://live.staticflickr.com/1251/1176750453_945d7188c1_b.jpg\n",
            "Downloaded: https://live.staticflickr.com/3552/3347436478_71d3a3a4d6_b.jpg\n"
          ]
        },
        {
          "output_type": "stream",
          "name": "stderr",
          "text": [
            "\rDownloading images:  75%|███████▍  | 199/266 [09:14<00:18,  3.55it/s]"
          ]
        },
        {
          "output_type": "stream",
          "name": "stdout",
          "text": [
            "Downloaded: https://live.staticflickr.com/4118/5438820238_2f32a5dc00_b.jpg\n"
          ]
        },
        {
          "output_type": "stream",
          "name": "stderr",
          "text": [
            "\rDownloading images:  75%|███████▌  | 200/266 [09:14<00:20,  3.26it/s]"
          ]
        },
        {
          "output_type": "stream",
          "name": "stdout",
          "text": [
            "Downloaded: https://live.staticflickr.com/5300/5486645757_60c2f34bfd_b.jpg\n"
          ]
        },
        {
          "output_type": "stream",
          "name": "stderr",
          "text": [
            "\rDownloading images:  76%|███████▌  | 201/266 [09:14<00:20,  3.24it/s]"
          ]
        },
        {
          "output_type": "stream",
          "name": "stdout",
          "text": [
            "Downloaded: https://live.staticflickr.com/8315/27882103054_9d980562e7_b.jpg\n"
          ]
        },
        {
          "output_type": "stream",
          "name": "stderr",
          "text": [
            "Downloading images:  76%|███████▋  | 203/266 [09:15<00:15,  3.95it/s]"
          ]
        },
        {
          "output_type": "stream",
          "name": "stdout",
          "text": [
            "Downloaded: https://live.staticflickr.com/41/127297137_651bcf78e2_b.jpg\n",
            "Downloaded: https://live.staticflickr.com/22/34286436_40d483cfe5_b.jpg\n"
          ]
        },
        {
          "output_type": "stream",
          "name": "stderr",
          "text": [
            "\rDownloading images:  77%|███████▋  | 204/266 [09:15<00:18,  3.31it/s]"
          ]
        },
        {
          "output_type": "stream",
          "name": "stdout",
          "text": [
            "Downloaded: https://live.staticflickr.com/2464/3901745106_4f4c83fb58_b.jpg\n"
          ]
        },
        {
          "output_type": "stream",
          "name": "stderr",
          "text": [
            "Downloading images:  77%|███████▋  | 206/266 [09:15<00:14,  4.05it/s]"
          ]
        },
        {
          "output_type": "stream",
          "name": "stdout",
          "text": [
            "Downloaded: https://live.staticflickr.com/1396/834072578_4c62399dba_b.jpg\n",
            "Downloaded: https://live.staticflickr.com/90/270081182_92483ed242_b.jpg\n",
            "Downloaded: https://live.staticflickr.com/7187/6932304003_e9202a260f_b.jpg\n"
          ]
        },
        {
          "output_type": "stream",
          "name": "stderr",
          "text": [
            "\rDownloading images:  78%|███████▊  | 208/266 [09:16<00:12,  4.77it/s]"
          ]
        },
        {
          "output_type": "stream",
          "name": "stdout",
          "text": [
            "Downloaded: https://live.staticflickr.com/5244/13988243986_1601953042_b.jpg\n"
          ]
        },
        {
          "output_type": "stream",
          "name": "stderr",
          "text": [
            "\rDownloading images:  79%|███████▊  | 209/266 [09:16<00:13,  4.25it/s]"
          ]
        },
        {
          "output_type": "stream",
          "name": "stdout",
          "text": [
            "Downloaded: https://live.staticflickr.com/99/256998822_2fae4fc222_b.jpg\n"
          ]
        },
        {
          "output_type": "stream",
          "name": "stderr",
          "text": [
            "\rDownloading images:  79%|███████▉  | 210/266 [09:17<00:18,  2.98it/s]"
          ]
        },
        {
          "output_type": "stream",
          "name": "stdout",
          "text": [
            "Downloaded: https://live.staticflickr.com/2494/3763924924_4ca4ce3dba_b.jpg\n"
          ]
        },
        {
          "output_type": "stream",
          "name": "stderr",
          "text": [
            "\rDownloading images:  79%|███████▉  | 211/266 [09:17<00:16,  3.33it/s]"
          ]
        },
        {
          "output_type": "stream",
          "name": "stdout",
          "text": [
            "Downloaded: https://live.staticflickr.com/5204/5378968848_44ee2f48d3_b.jpg\n"
          ]
        },
        {
          "output_type": "stream",
          "name": "stderr",
          "text": [
            "\rDownloading images:  80%|███████▉  | 212/266 [09:17<00:15,  3.54it/s]"
          ]
        },
        {
          "output_type": "stream",
          "name": "stdout",
          "text": [
            "Downloaded: https://live.staticflickr.com/65535/52903297831_28f5aa259b_b.jpg\n",
            "Downloaded: https://live.staticflickr.com/8194/8423026632_a8276b0a6b_b.jpg\n"
          ]
        },
        {
          "output_type": "stream",
          "name": "stderr",
          "text": [
            "Downloading images:  81%|████████  | 215/266 [09:18<00:13,  3.79it/s]"
          ]
        },
        {
          "output_type": "stream",
          "name": "stdout",
          "text": [
            "Downloaded: https://live.staticflickr.com/598/31923282305_2ca8fcdbe8_b.jpg\n",
            "Downloaded: https://live.staticflickr.com/140/399481269_ea15c25c9b_b.jpg\n"
          ]
        },
        {
          "output_type": "stream",
          "name": "stderr",
          "text": [
            "\rDownloading images:  82%|████████▏ | 217/266 [09:18<00:09,  5.24it/s]"
          ]
        },
        {
          "output_type": "stream",
          "name": "stdout",
          "text": [
            "Downloaded: https://live.staticflickr.com/1131/5158037191_d6b7011222_b.jpg\n",
            "Downloaded: https://live.staticflickr.com/7162/6645754627_b5a473a34f_b.jpg\n"
          ]
        },
        {
          "output_type": "stream",
          "name": "stderr",
          "text": [
            "Downloading images:  83%|████████▎ | 220/266 [09:19<00:10,  4.53it/s]"
          ]
        },
        {
          "output_type": "stream",
          "name": "stdout",
          "text": [
            "Downloaded: https://live.staticflickr.com/8526/8453773092_123dd5a5b1_b.jpg\n",
            "Downloaded: https://live.staticflickr.com/65535/47005082774_9cffecc055.jpg\n",
            "Downloaded: https://live.staticflickr.com/1702/25718576345_72b7517dc2_b.jpg\n",
            "Downloaded: https://live.staticflickr.com/1849/42992447700_9e6180fd19_b.jpg\n"
          ]
        },
        {
          "output_type": "stream",
          "name": "stderr",
          "text": [
            "Downloading images:  84%|████████▍ | 224/266 [09:20<00:07,  5.25it/s]"
          ]
        },
        {
          "output_type": "stream",
          "name": "stdout",
          "text": [
            "Downloaded: https://live.staticflickr.com/8245/8674348283_78024e360a_b.jpg\n",
            "Downloaded: https://live.staticflickr.com/373/20375837811_3cec1e1df9_b.jpg\n",
            "Downloaded: https://live.staticflickr.com/388/31823790605_516895fa67_b.jpg\n"
          ]
        },
        {
          "output_type": "stream",
          "name": "stderr",
          "text": [
            "\rDownloading images:  85%|████████▍ | 225/266 [09:20<00:10,  4.07it/s]"
          ]
        },
        {
          "output_type": "stream",
          "name": "stdout",
          "text": [
            "Downloaded: https://live.staticflickr.com/2914/13985786579_32aa81aca4_b.jpg\n"
          ]
        },
        {
          "output_type": "stream",
          "name": "stderr",
          "text": [
            "Downloading images:  85%|████████▌ | 227/266 [09:21<00:08,  4.42it/s]"
          ]
        },
        {
          "output_type": "stream",
          "name": "stdout",
          "text": [
            "Downloaded: https://live.staticflickr.com/8189/8103072177_a1bd831fa2_b.jpg\n",
            "Downloaded: https://live.staticflickr.com/65535/51095091688_17e448ddb6_b.jpg\n",
            "Downloaded: https://live.staticflickr.com/4045/4378269263_e40fc012a8_b.jpg\n"
          ]
        },
        {
          "output_type": "stream",
          "name": "stderr",
          "text": [
            "\rDownloading images:  86%|████████▌ | 229/266 [09:21<00:07,  4.88it/s]"
          ]
        },
        {
          "output_type": "stream",
          "name": "stdout",
          "text": [
            "Downloaded: https://live.staticflickr.com/3649/3957799715_5407ce0750_b.jpg\n"
          ]
        },
        {
          "output_type": "stream",
          "name": "stderr",
          "text": [
            "\rDownloading images:  86%|████████▋ | 230/266 [09:21<00:08,  4.23it/s]"
          ]
        },
        {
          "output_type": "stream",
          "name": "stdout",
          "text": [
            "Downloaded: https://live.staticflickr.com/65535/53787978252_88d56778e4_b.jpg\n"
          ]
        },
        {
          "output_type": "stream",
          "name": "stderr",
          "text": [
            "Downloading images:  87%|████████▋ | 232/266 [09:22<00:07,  4.82it/s]"
          ]
        },
        {
          "output_type": "stream",
          "name": "stdout",
          "text": [
            "Downloaded: https://live.staticflickr.com/65535/52712003999_cba6904a86_b.jpg\n",
            "Downloaded: https://live.staticflickr.com/7252/7747441598_7fcaf25025_b.jpg\n"
          ]
        },
        {
          "output_type": "stream",
          "name": "stderr",
          "text": [
            "\rDownloading images:  88%|████████▊ | 233/266 [09:22<00:08,  4.04it/s]"
          ]
        },
        {
          "output_type": "stream",
          "name": "stdout",
          "text": [
            "Downloaded: https://live.staticflickr.com/2424/3793337820_7be27c5344_b.jpg\n",
            "Downloaded: https://live.staticflickr.com/65535/53676817514_4218932174_b.jpg\n"
          ]
        },
        {
          "output_type": "stream",
          "name": "stderr",
          "text": [
            "Downloading images:  89%|████████▊ | 236/266 [09:22<00:05,  5.34it/s]"
          ]
        },
        {
          "output_type": "stream",
          "name": "stdout",
          "text": [
            "Downloaded: https://live.staticflickr.com/4555/24824364988_1c0da9f029_b.jpg\n",
            "Downloaded: https://live.staticflickr.com/3867/15380757806_32dd69f03f_b.jpg\n",
            "Downloaded: https://live.staticflickr.com/5560/14952130995_f4837ac1f0_b.jpg\n"
          ]
        },
        {
          "output_type": "stream",
          "name": "stderr",
          "text": [
            "Downloading images:  90%|████████▉ | 239/266 [09:23<00:04,  6.21it/s]"
          ]
        },
        {
          "output_type": "stream",
          "name": "stdout",
          "text": [
            "Downloaded: https://live.staticflickr.com/220/520164687_dcb0b78f96_b.jpg\n",
            "Downloaded: https://live.staticflickr.com/5004/5206158590_33872e6b34_b.jpg\n"
          ]
        },
        {
          "output_type": "stream",
          "name": "stderr",
          "text": [
            "Downloading images:  91%|█████████ | 242/266 [09:23<00:03,  7.43it/s]"
          ]
        },
        {
          "output_type": "stream",
          "name": "stdout",
          "text": [
            "Downloaded: https://live.staticflickr.com/2839/9581144080_3613848798_b.jpg\n",
            "Downloaded: https://live.staticflickr.com/5695/21074580911_432ce0beb2_b.jpg\n",
            "Downloaded: https://live.staticflickr.com/8270/8988751362_70acb6648c_b.jpg\n"
          ]
        },
        {
          "output_type": "stream",
          "name": "stderr",
          "text": [
            "Downloading images:  92%|█████████▏| 245/266 [09:24<00:03,  6.39it/s]"
          ]
        },
        {
          "output_type": "stream",
          "name": "stdout",
          "text": [
            "Downloaded: https://live.staticflickr.com/4068/4487309255_22889018bc_b.jpg\n",
            "Downloaded: https://live.staticflickr.com/3706/13735742764_31843f6e46_b.jpg\n",
            "Downloaded: https://live.staticflickr.com/485/31643806045_8bc983e054_b.jpg\n"
          ]
        },
        {
          "output_type": "stream",
          "name": "stderr",
          "text": [
            "\rDownloading images:  92%|█████████▏| 246/266 [09:24<00:04,  4.83it/s]"
          ]
        },
        {
          "output_type": "stream",
          "name": "stdout",
          "text": [
            "Downloaded: https://live.staticflickr.com/60/200329501_5541f6e65c_b.jpg\n",
            "Downloaded: https://live.staticflickr.com/65535/48065021438_fc467a812a_b.jpg\n"
          ]
        },
        {
          "output_type": "stream",
          "name": "stderr",
          "text": [
            "\rDownloading images:  93%|█████████▎| 248/266 [09:25<00:03,  4.79it/s]"
          ]
        },
        {
          "output_type": "stream",
          "name": "stdout",
          "text": [
            "Downloaded: https://live.staticflickr.com/460/19250957526_6564b457c5_b.jpg\n",
            "Downloaded: https://live.staticflickr.com/65535/52256587492_ba1ddcdb4c_b.jpg\n"
          ]
        },
        {
          "output_type": "stream",
          "name": "stderr",
          "text": [
            "Downloading images:  94%|█████████▍| 251/266 [09:25<00:02,  5.67it/s]"
          ]
        },
        {
          "output_type": "stream",
          "name": "stdout",
          "text": [
            "Downloaded: https://live.staticflickr.com/3792/8966548467_312f2ed006_b.jpg\n",
            "Downloaded: https://live.staticflickr.com/630/20547899773_556b94d7d3_b.jpg\n",
            "Downloaded: https://live.staticflickr.com/3305/3570797337_894a2d9350_b.jpg\n"
          ]
        },
        {
          "output_type": "stream",
          "name": "stderr",
          "text": [
            "\rDownloading images:  95%|█████████▌| 253/266 [09:25<00:02,  6.05it/s]"
          ]
        },
        {
          "output_type": "stream",
          "name": "stdout",
          "text": [
            "Downloaded: https://live.staticflickr.com/8361/8306916640_e667cd14b2_b.jpg\n"
          ]
        },
        {
          "output_type": "stream",
          "name": "stderr",
          "text": [
            "Downloading images:  97%|█████████▋| 257/266 [09:26<00:01,  7.48it/s]"
          ]
        },
        {
          "output_type": "stream",
          "name": "stdout",
          "text": [
            "Downloaded: https://live.staticflickr.com/8485/8178686242_046a860c0b.jpg\n",
            "Downloaded: https://live.staticflickr.com/5552/15136861338_0f8d0ca0af_b.jpg\n",
            "Downloaded: https://live.staticflickr.com/6069/6106893415_4ce81c6610_b.jpg\n",
            "Downloaded: https://live.staticflickr.com/5555/14841498385_b6c4fd86ab_b.jpg\n"
          ]
        },
        {
          "output_type": "stream",
          "name": "stderr",
          "text": [
            "\rDownloading images:  97%|█████████▋| 258/266 [09:26<00:01,  6.41it/s]"
          ]
        },
        {
          "output_type": "stream",
          "name": "stdout",
          "text": [
            "Downloaded: https://live.staticflickr.com/6074/6117189965_e026487db2_b.jpg\n"
          ]
        },
        {
          "output_type": "stream",
          "name": "stderr",
          "text": [
            "Downloading images:  98%|█████████▊| 260/266 [09:27<00:01,  5.98it/s]"
          ]
        },
        {
          "output_type": "stream",
          "name": "stdout",
          "text": [
            "Downloaded: https://live.staticflickr.com/2679/4384395986_fcd011d5e1_b.jpg\n",
            "Downloaded: https://live.staticflickr.com/747/22288603600_ac3080cab3_b.jpg\n"
          ]
        },
        {
          "output_type": "stream",
          "name": "stderr",
          "text": [
            "\rDownloading images:  98%|█████████▊| 261/266 [09:27<00:01,  3.84it/s]"
          ]
        },
        {
          "output_type": "stream",
          "name": "stdout",
          "text": [
            "Downloaded: https://live.staticflickr.com/4628/39700034572_76878a296d_b.jpg\n"
          ]
        },
        {
          "output_type": "stream",
          "name": "stderr",
          "text": [
            "\rDownloading images:  98%|█████████▊| 262/266 [09:27<00:01,  3.49it/s]"
          ]
        },
        {
          "output_type": "stream",
          "name": "stdout",
          "text": [
            "Downloaded: https://live.staticflickr.com/65535/49629211101_d46f735055.jpg\n",
            "Downloaded: https://live.staticflickr.com/1380/5153065721_d56cf6c561_b.jpg\n"
          ]
        },
        {
          "output_type": "stream",
          "name": "stderr",
          "text": [
            "Downloading images: 100%|█████████▉| 265/266 [09:28<00:00,  4.86it/s]"
          ]
        },
        {
          "output_type": "stream",
          "name": "stdout",
          "text": [
            "Downloaded: https://live.staticflickr.com/1560/24635030261_def899db51_b.jpg\n",
            "Downloaded: https://live.staticflickr.com/5258/5489755530_b0596ef230_b.jpg\n"
          ]
        },
        {
          "output_type": "stream",
          "name": "stderr",
          "text": [
            "Downloading images: 100%|██████████| 266/266 [09:28<00:00,  2.14s/it]"
          ]
        },
        {
          "output_type": "stream",
          "name": "stdout",
          "text": [
            "Downloaded: https://live.staticflickr.com/65535/53671954433_c45be77a79_b.jpg\n"
          ]
        },
        {
          "output_type": "stream",
          "name": "stderr",
          "text": [
            "\n"
          ]
        }
      ]
    },
    {
      "cell_type": "code",
      "source": [
        "# Mount Google Drive\n",
        "from google.colab import drive\n",
        "drive.mount('/content/drive/')\n",
        "\n",
        "# Function to check and preprocess images\n",
        "def check_and_preprocess_images(image_dir):\n",
        "    \"\"\"\n",
        "    Check and preprocess images in the specified directory.\n",
        "\n",
        "    Parameters:\n",
        "    image_dir (str): The directory containing the images to be checked and preprocessed.\n",
        "\n",
        "    Returns:\n",
        "    None\n",
        "    \"\"\"\n",
        "    for root, _, files in os.walk(image_dir):\n",
        "        for file in files:\n",
        "            file_path = os.path.join(root, file)\n",
        "            try:\n",
        "                with Image.open(file_path) as img:\n",
        "                    # Check if image is smaller than 50x50 pixels\n",
        "                    if img.size[0] < 50 or img.size[1] < 50:\n",
        "                        os.remove(file_path)\n",
        "                        print(f\"Deleted {file_path}: Image too small ({img.size[0]}x{img.size[1]})\")\n",
        "                        continue\n",
        "\n",
        "                    # Convert non-RGB images to RGB\n",
        "                    if img.mode != 'RGB':\n",
        "                        img = img.convert('RGB')\n",
        "                        img.save(file_path)\n",
        "                        print(f\"Converted {file_path} to RGB\")\n",
        "\n",
        "            except Exception as e:\n",
        "                # If file is not an image, delete it\n",
        "                os.remove(file_path)\n",
        "                print(f\"Deleted {file_path}: Not an image or corrupted file ({str(e)})\")\n",
        "\n",
        "# Call the function to check and preprocess images in the 'Dataset' directory\n",
        "check_and_preprocess_images('Dataset')\n",
        "\n",
        "# Zip the processed dataset and save it to Google Drive\n",
        "!zip -r /content/drive/MyDrive/Clean_Dataset.zip Dataset\n"
      ],
      "metadata": {
        "colab": {
          "base_uri": "https://localhost:8080/"
        },
        "id": "v5TcYtwNCdT_",
        "outputId": "9c35441d-fba4-4235-97e8-22c43916cbbe"
      },
      "execution_count": 6,
      "outputs": [
        {
          "output_type": "stream",
          "name": "stdout",
          "text": [
            "Mounted at /content/drive/\n",
            "Converted Dataset/animal/Cheetah/4838389045_d5fc08ca2b_b.jpg to RGB\n",
            "Converted Dataset/scenery/desert/52712003999_cba6904a86_b.jpg to RGB\n",
            "Converted Dataset/scenery/volcano/49629211101_d46f735055.jpg to RGB\n",
            "  adding: Dataset/ (stored 0%)\n",
            "  adding: Dataset/animal/ (stored 0%)\n",
            "  adding: Dataset/animal/horse/ (stored 0%)\n",
            "  adding: Dataset/animal/horse/38183707732_f4ca7d3b43_b.jpg (deflated 0%)\n",
            "  adding: Dataset/animal/horse/5412377706_d77700fc38_b.jpg (deflated 1%)\n",
            "  adding: Dataset/animal/Bee/ (stored 0%)\n",
            "  adding: Dataset/animal/Bee/14142817779_568406cd86_b.jpg (deflated 0%)\n",
            "  adding: Dataset/animal/Bee/23809746334_43928c099f_b.jpg (deflated 0%)\n",
            "  adding: Dataset/animal/bird/ (stored 0%)\n",
            "  adding: Dataset/animal/bird/21709064798_67e964516d_b.jpg (deflated 0%)\n",
            "  adding: Dataset/animal/bird/28761726521_6aee5e6315_b.jpg (deflated 0%)\n",
            "  adding: Dataset/animal/Snail/ (stored 0%)\n",
            "  adding: Dataset/animal/Snail/6662983427_4f10f9687a_b.jpg (deflated 0%)\n",
            "  adding: Dataset/animal/Snail/33600923344_c6c07dd2c4_b.jpg (deflated 0%)\n",
            "  adding: Dataset/animal/Rabbit/ (stored 0%)\n",
            "  adding: Dataset/animal/Rabbit/4039007508_df28e89305_b.jpg (deflated 0%)\n",
            "  adding: Dataset/animal/Rabbit/4038258875_793df0d6d1_b.jpg (deflated 0%)\n",
            "  adding: Dataset/animal/flamingo/ (stored 0%)\n",
            "  adding: Dataset/animal/flamingo/5092395194_fb83c64a30_b.jpg (deflated 0%)\n",
            "  adding: Dataset/animal/flamingo/1317870989_ed0dfea4f1_b.jpg (deflated 0%)\n",
            "  adding: Dataset/animal/Cheetah/ (stored 0%)\n",
            "  adding: Dataset/animal/Cheetah/4977427214_d2c3f22c3c_b.jpg (deflated 0%)\n",
            "  adding: Dataset/animal/Cheetah/4838389045_d5fc08ca2b_b.jpg (deflated 0%)\n",
            "  adding: Dataset/animal/scorpion/ (stored 0%)\n",
            "  adding: Dataset/animal/scorpion/8323543189_a623d5c024_b.jpg (deflated 0%)\n",
            "  adding: Dataset/animal/scorpion/6992010775_35afb4e365_b.jpg (deflated 0%)\n",
            "  adding: Dataset/animal/Flies/ (stored 0%)\n",
            "  adding: Dataset/animal/Flies/7320090694_926aa5a2c3_b.jpg (deflated 1%)\n",
            "  adding: Dataset/animal/Flies/24759061565_e5bf595de6_b.jpg (deflated 0%)\n",
            "  adding: Dataset/animal/Turtle/ (stored 0%)\n",
            "  adding: Dataset/animal/Turtle/37244609406_fb1549e3c1_b.jpg (deflated 0%)\n",
            "  adding: Dataset/animal/Turtle/384447786_3af2bb9d6c_b.jpg (deflated 0%)\n",
            "  adding: Dataset/animal/Alpaca/ (stored 0%)\n",
            "  adding: Dataset/animal/Alpaca/4489852142_28eb56feec_b.jpg (deflated 0%)\n",
            "  adding: Dataset/animal/Alpaca/52750533076_fdfc390fcb_b.jpg (deflated 0%)\n",
            "  adding: Dataset/animal/Frog/ (stored 0%)\n",
            "  adding: Dataset/animal/Frog/14000800067_c53260a7cd_b.jpg (deflated 1%)\n",
            "  adding: Dataset/animal/Frog/2545035525_22685e27f4_b.jpg (deflated 0%)\n",
            "  adding: Dataset/animal/Coral/ (stored 0%)\n",
            "  adding: Dataset/animal/Coral/6177244431_80f72e56f0_b.jpg (deflated 0%)\n",
            "  adding: Dataset/animal/Coral/6177772924_95a35c981c_b.jpg (deflated 0%)\n",
            "  adding: Dataset/animal/Monkey/ (stored 0%)\n",
            "  adding: Dataset/animal/Monkey/26691814071_7d46c68bdf_b.jpg (deflated 0%)\n",
            "  adding: Dataset/animal/Monkey/297887549_2dc0ee273f_b.jpg (deflated 0%)\n",
            "  adding: Dataset/animal/Caterpillar/ (stored 0%)\n",
            "  adding: Dataset/animal/Caterpillar/9867033144_32a443834a_b.jpg (deflated 0%)\n",
            "  adding: Dataset/animal/Caterpillar/30094682741_1d471f706b_b.jpg (deflated 0%)\n",
            "  adding: Dataset/animal/Spider/ (stored 0%)\n",
            "  adding: Dataset/animal/Spider/34264741564_b369183e61_b.jpg (deflated 1%)\n",
            "  adding: Dataset/animal/Spider/6208284939_e31f22f9d9_b.jpg (deflated 6%)\n",
            "  adding: Dataset/animal/Fish/ (stored 0%)\n",
            "  adding: Dataset/animal/Fish/9405820048_28a09cd10c_b.jpg (deflated 0%)\n",
            "  adding: Dataset/animal/Fish/10404051516_447815d814_b.jpg (deflated 0%)\n",
            "  adding: Dataset/animal/pig/ (stored 0%)\n",
            "  adding: Dataset/animal/pig/26509038664_a8730f7bf4_b.jpg (deflated 0%)\n",
            "  adding: Dataset/animal/pig/260306502_f03a4eb876_b.jpg (deflated 0%)\n",
            "  adding: Dataset/animal/Chicken/ (stored 0%)\n",
            "  adding: Dataset/animal/Chicken/2149660950_8c21ccda8b_b.jpg (deflated 0%)\n",
            "  adding: Dataset/animal/Chicken/14759103752_ffde6debfc_b.jpg (deflated 0%)\n",
            "  adding: Dataset/animal/Jellyfish/ (stored 0%)\n",
            "  adding: Dataset/animal/Jellyfish/44791540314_c8ae2861d2_b.jpg (deflated 1%)\n",
            "  adding: Dataset/animal/Jellyfish/45431020202_88040ae942_b.jpg (deflated 1%)\n",
            "  adding: Dataset/animal/Dragonfly/ (stored 0%)\n",
            "  adding: Dataset/animal/Dragonfly/42572640954_487b61c1c0_b.jpg (deflated 0%)\n",
            "  adding: Dataset/animal/Dragonfly/42144751990_cb2c7b335a_b.jpg (deflated 0%)\n",
            "  adding: Dataset/animal/Camel/ (stored 0%)\n",
            "  adding: Dataset/animal/Camel/2886688671_31bc680137_b.jpg (deflated 0%)\n",
            "  adding: Dataset/animal/Camel/5644554429_82c04f547c_b.jpg (deflated 1%)\n",
            "  adding: Dataset/animal/tiger/ (stored 0%)\n",
            "  adding: Dataset/animal/tiger/9641031199_ea7460e902_b.jpg (deflated 0%)\n",
            "  adding: Dataset/animal/tiger/26212985061_e37224ba29_b.jpg (deflated 0%)\n",
            "  adding: Dataset/animal/Giraffe/ (stored 0%)\n",
            "  adding: Dataset/animal/Giraffe/11530597946_b8a3eb4e3b_b.jpg (deflated 0%)\n",
            "  adding: Dataset/animal/Giraffe/32097994667_10d3dda371_b.jpg (deflated 0%)\n",
            "  adding: Dataset/animal/donkey/ (stored 0%)\n",
            "  adding: Dataset/animal/donkey/561670551_efa5f9ae72_b.jpg (deflated 0%)\n",
            "  adding: Dataset/animal/donkey/4871150060_c7e5e5175e_b.jpg (deflated 0%)\n",
            "  adding: Dataset/animal/fox/ (stored 0%)\n",
            "  adding: Dataset/animal/fox/27119258694_548fe7116a_b.jpg (deflated 0%)\n",
            "  adding: Dataset/animal/fox/36367572521_a8d5235e47_b.jpg (deflated 0%)\n",
            "  adding: Dataset/animal/Anteater/ (stored 0%)\n",
            "  adding: Dataset/animal/Anteater/6078011473_8ef433ea18_b.jpg (deflated 0%)\n",
            "  adding: Dataset/animal/Anteater/10314690654_7eb5f7691e_b.jpg (deflated 0%)\n",
            "  adding: Dataset/animal/Whale/ (stored 0%)\n",
            "  adding: Dataset/animal/Whale/4253748227_723454414a_b.jpg (deflated 1%)\n",
            "  adding: Dataset/animal/Whale/7471104002_169c3077ba_b.jpg (deflated 5%)\n",
            "  adding: Dataset/animal/Mosquito/ (stored 0%)\n",
            "  adding: Dataset/animal/Mosquito/3896129971_215e232afc_b.jpg (deflated 2%)\n",
            "  adding: Dataset/animal/Mosquito/5592504937_1b4b9b9609_b.jpg (deflated 0%)\n",
            "  adding: Dataset/animal/Duck/ (stored 0%)\n",
            "  adding: Dataset/animal/Duck/8446750937_bd821ab062_b.jpg (deflated 0%)\n",
            "  adding: Dataset/animal/Duck/7995427205_d0e80f29d2_b.jpg (deflated 0%)\n",
            "  adding: Dataset/animal/Pangolins/ (stored 0%)\n",
            "  adding: Dataset/animal/Pangolins/685425781_c53e3e7c4b_b.jpg (deflated 1%)\n",
            "  adding: Dataset/animal/Pangolins/5675925639_a5080b5c7c_b.jpg (deflated 0%)\n",
            "  adding: Dataset/animal/Ants/ (stored 0%)\n",
            "  adding: Dataset/animal/Ants/33846692900_89016be5be_b.jpg (deflated 0%)\n",
            "  adding: Dataset/animal/Ants/2720988253_ed44346067_b.jpg (deflated 1%)\n",
            "  adding: Dataset/animal/Buffalo/ (stored 0%)\n",
            "  adding: Dataset/animal/Buffalo/36551879530_8588628ff8_b.jpg (deflated 1%)\n",
            "  adding: Dataset/animal/Buffalo/2285077373_bbc137476f_b.jpg (deflated 0%)\n",
            "  adding: Dataset/animal/bear/ (stored 0%)\n",
            "  adding: Dataset/animal/bear/7577390134_b1cda83627_b.jpg (deflated 0%)\n",
            "  adding: Dataset/animal/bear/9060483520_a27d02d288_b.jpg (deflated 0%)\n",
            "  adding: Dataset/animal/Civet/ (stored 0%)\n",
            "  adding: Dataset/animal/Civet/4280168562_01b9813921_b.jpg (deflated 0%)\n",
            "  adding: Dataset/animal/Civet/4280168904_747ce9e715_b.jpg (deflated 0%)\n",
            "  adding: Dataset/animal/shrimp/ (stored 0%)\n",
            "  adding: Dataset/animal/shrimp/35172789496_a387d77f5f_b.jpg (deflated 1%)\n",
            "  adding: Dataset/animal/shrimp/32928482742_57ceff6b8b_b.jpg (deflated 1%)\n",
            "  adding: Dataset/animal/Alligator/ (stored 0%)\n",
            "  adding: Dataset/animal/Alligator/3194806745_1465ae0373_b.jpg (deflated 0%)\n",
            "  adding: Dataset/animal/Alligator/3194860899_640ce169ac_b.jpg (deflated 0%)\n",
            "  adding: Dataset/animal/Lizard/ (stored 0%)\n",
            "  adding: Dataset/animal/Lizard/46581411361_258519e8e4_b.jpg (deflated 0%)\n",
            "  adding: Dataset/animal/Lizard/7466027362_9a0f14f212_b.jpg (deflated 0%)\n",
            "  adding: Dataset/animal/cows/ (stored 0%)\n",
            "  adding: Dataset/animal/cows/23342717833_53f5f72fec_b.jpg (deflated 0%)\n",
            "  adding: Dataset/animal/cows/19410274492_18c8a1f6c1_b.jpg (deflated 0%)\n",
            "  adding: Dataset/animal/Cat/ (stored 0%)\n",
            "  adding: Dataset/animal/Cat/45925416992_c9caac8cb9_b.jpg (deflated 0%)\n",
            "  adding: Dataset/animal/Cat/14934282524_344c84246b_b.jpg (deflated 0%)\n",
            "  adding: Dataset/animal/Butterfly/ (stored 0%)\n",
            "  adding: Dataset/animal/Butterfly/5744236238_2acbf1d8fe_b.jpg (deflated 0%)\n",
            "  adding: Dataset/animal/Butterfly/35055129003_edf18ca5f9_b.jpg (deflated 2%)\n",
            "  adding: Dataset/animal/Owl/ (stored 0%)\n",
            "  adding: Dataset/animal/Owl/14818553615_6c3645ebc9_b.jpg (deflated 0%)\n",
            "  adding: Dataset/animal/Owl/12605123663_67af07a5c2_b.jpg (deflated 0%)\n",
            "  adding: Dataset/animal/Crab/ (stored 0%)\n",
            "  adding: Dataset/animal/Crab/12687848894_96bdc6be88_b.jpg (deflated 0%)\n",
            "  adding: Dataset/animal/Crab/27247853278_c6f14e1d38_b.jpg (deflated 0%)\n",
            "  adding: Dataset/animal/Bats/ (stored 0%)\n",
            "  adding: Dataset/animal/Bats/9510353068_b0b4f552d3_b.jpg (deflated 1%)\n",
            "  adding: Dataset/animal/Bats/5277590306_5aabe79b18_b.jpg (deflated 1%)\n",
            "  adding: Dataset/animal/Cock/ (stored 0%)\n",
            "  adding: Dataset/animal/Cock/3553000647_1145c2e929_b.jpg (deflated 0%)\n",
            "  adding: Dataset/animal/Cock/3162745230_26334982be_b.jpg (deflated 0%)\n",
            "  adding: Dataset/animal/Dog/ (stored 0%)\n",
            "  adding: Dataset/animal/Dog/44926777104_8a6e553a48_b.jpg (deflated 0%)\n",
            "  adding: Dataset/animal/Dog/33659529142_2b6c3241eb_b.jpg (deflated 0%)\n",
            "  adding: Dataset/animal/panda/ (stored 0%)\n",
            "  adding: Dataset/animal/panda/26141463766_4feb75d3c7_b.jpg (deflated 0%)\n",
            "  adding: Dataset/animal/panda/25987709946_ddd7534993_b.jpg (deflated 0%)\n",
            "  adding: Dataset/animal/Snake/ (stored 0%)\n",
            "  adding: Dataset/animal/Snake/8534589263_c591734dda_b.jpg (deflated 0%)\n",
            "  adding: Dataset/animal/Snake/8535686120_e732d99756_b.jpg (deflated 0%)\n",
            "  adding: Dataset/animal/Elephant/ (stored 0%)\n",
            "  adding: Dataset/animal/Elephant/14307815484_87d075481a_b.jpg (deflated 0%)\n",
            "  adding: Dataset/animal/Elephant/4839030572_b4f0f2c314_b.jpg (deflated 0%)\n",
            "  adding: Dataset/furniture/ (stored 0%)\n",
            "  adding: Dataset/furniture/ball/ (stored 0%)\n",
            "  adding: Dataset/furniture/ball/34286436_40d483cfe5_b.jpg (deflated 0%)\n",
            "  adding: Dataset/furniture/ball/3901745106_4f4c83fb58_b.jpg (deflated 0%)\n",
            "  adding: Dataset/furniture/Bookcase/ (stored 0%)\n",
            "  adding: Dataset/furniture/Bookcase/2843336762_5d02117beb_b.jpg (deflated 0%)\n",
            "  adding: Dataset/furniture/Bookcase/6219293067_bddc9c5f79_b.jpg (deflated 3%)\n",
            "  adding: Dataset/furniture/spoon/ (stored 0%)\n",
            "  adding: Dataset/furniture/spoon/256998822_2fae4fc222_b.jpg (deflated 0%)\n",
            "  adding: Dataset/furniture/spoon/13988243986_1601953042_b.jpg (deflated 4%)\n",
            "  adding: Dataset/furniture/table/ (stored 0%)\n",
            "  adding: Dataset/furniture/table/469530755_57382d49c6_b.jpg (deflated 0%)\n",
            "  adding: Dataset/furniture/table/5751096919_6e389919d0_b.jpg (deflated 0%)\n",
            "  adding: Dataset/furniture/fridge/ (stored 0%)\n",
            "  adding: Dataset/furniture/fridge/399481269_ea15c25c9b_b.jpg (deflated 0%)\n",
            "  adding: Dataset/furniture/fridge/5158037191_d6b7011222_b.jpg (deflated 0%)\n",
            "  adding: Dataset/furniture/Umbrella/ (stored 0%)\n",
            "  adding: Dataset/furniture/Umbrella/1176750453_945d7188c1_b.jpg (deflated 0%)\n",
            "  adding: Dataset/furniture/Umbrella/27882103054_9d980562e7_b.jpg (deflated 0%)\n",
            "  adding: Dataset/furniture/clock/ (stored 0%)\n",
            "  adding: Dataset/furniture/clock/3918659599_4f87a05e82_b.jpg (deflated 7%)\n",
            "  adding: Dataset/furniture/clock/46920425501_8eee0b252c_b.jpg (deflated 0%)\n",
            "  adding: Dataset/furniture/chests/ (stored 0%)\n",
            "  adding: Dataset/furniture/chests/4563857816_9accb1a2f1_b.jpg (deflated 0%)\n",
            "  adding: Dataset/furniture/chests/14220902143_096bc108d1_b.jpg (deflated 8%)\n",
            "  adding: Dataset/furniture/Clothes/ (stored 0%)\n",
            "  adding: Dataset/furniture/Clothes/5438820238_2f32a5dc00_b.jpg (deflated 0%)\n",
            "  adding: Dataset/furniture/Clothes/3347436478_71d3a3a4d6_b.jpg (deflated 1%)\n",
            "  adding: Dataset/furniture/chair/ (stored 0%)\n",
            "  adding: Dataset/furniture/chair/147482645_d125c7f1f8_b.jpg (deflated 0%)\n",
            "  adding: Dataset/furniture/chair/3875424658_d824fdfc3d_b.jpg (deflated 0%)\n",
            "  adding: Dataset/furniture/book/ (stored 0%)\n",
            "  adding: Dataset/furniture/book/6645754627_b5a473a34f_b.jpg (deflated 4%)\n",
            "  adding: Dataset/furniture/book/5378968848_44ee2f48d3_b.jpg (deflated 0%)\n",
            "  adding: Dataset/furniture/desks/ (stored 0%)\n",
            "  adding: Dataset/furniture/desks/8007062220_81b9630b31_b.jpg (deflated 0%)\n",
            "  adding: Dataset/furniture/desks/16795616287_f1738d2cf0_b.jpg (deflated 0%)\n",
            "  adding: Dataset/furniture/Piano/ (stored 0%)\n",
            "  adding: Dataset/furniture/Piano/1208805552_f35a9540a5_b.jpg (deflated 0%)\n",
            "  adding: Dataset/furniture/Piano/3370561778_8e53c343e4_b.jpg (deflated 0%)\n",
            "  adding: Dataset/furniture/bed/ (stored 0%)\n",
            "  adding: Dataset/furniture/bed/2884135028_81da01934a_b.jpg (deflated 0%)\n",
            "  adding: Dataset/furniture/bed/2225401898_80a74f4066_b.jpg (deflated 1%)\n",
            "  adding: Dataset/furniture/cabinet/ (stored 0%)\n",
            "  adding: Dataset/furniture/cabinet/13211936983_a8d62abc85_b.jpg (deflated 0%)\n",
            "  adding: Dataset/furniture/cabinet/13212246875_b31b94918d_b.jpg (deflated 0%)\n",
            "  adding: Dataset/furniture/cart/ (stored 0%)\n",
            "  adding: Dataset/furniture/cart/834072578_4c62399dba_b.jpg (deflated 0%)\n",
            "  adding: Dataset/furniture/cart/127297137_651bcf78e2_b.jpg (deflated 1%)\n",
            "  adding: Dataset/furniture/sofa/ (stored 0%)\n",
            "  adding: Dataset/furniture/sofa/270081182_92483ed242_b.jpg (deflated 0%)\n",
            "  adding: Dataset/furniture/sofa/5486645757_60c2f34bfd_b.jpg (deflated 1%)\n",
            "  adding: Dataset/furniture/Bowl/ (stored 0%)\n",
            "  adding: Dataset/furniture/Bowl/6932304003_e9202a260f_b.jpg (deflated 0%)\n",
            "  adding: Dataset/furniture/Bowl/3763924924_4ca4ce3dba_b.jpg (deflated 1%)\n",
            "  adding: Dataset/furniture/pan/ (stored 0%)\n",
            "  adding: Dataset/furniture/pan/8423026632_a8276b0a6b_b.jpg (deflated 0%)\n",
            "  adding: Dataset/furniture/pan/52903297831_28f5aa259b_b.jpg (deflated 13%)\n",
            "  adding: Dataset/plant/ (stored 0%)\n",
            "  adding: Dataset/plant/carrot/ (stored 0%)\n",
            "  adding: Dataset/plant/carrot/52831539074_bf5bb488db_b.jpg (deflated 0%)\n",
            "  adding: Dataset/plant/carrot/52766858427_c6a714b52b_b.jpg (deflated 0%)\n",
            "  adding: Dataset/plant/Apple/ (stored 0%)\n",
            "  adding: Dataset/plant/Apple/16104491773_9cc84cfefc_b.jpg (deflated 0%)\n",
            "  adding: Dataset/plant/Apple/21982802134_e4c135c7f8_b.jpg (deflated 0%)\n",
            "  adding: Dataset/plant/Durian/ (stored 0%)\n",
            "  adding: Dataset/plant/Durian/3276025446_cacfc8b583_b.jpg (deflated 0%)\n",
            "  adding: Dataset/plant/Durian/3423277348_61ee6880bb_b.jpg (deflated 0%)\n",
            "  adding: Dataset/plant/Fig/ (stored 0%)\n",
            "  adding: Dataset/plant/Fig/21565496366_6c44efae27_b.jpg (deflated 0%)\n",
            "  adding: Dataset/plant/Fig/16346019857_8c8e320ea0_b.jpg (deflated 2%)\n",
            "  adding: Dataset/plant/Rose/ (stored 0%)\n",
            "  adding: Dataset/plant/Rose/39879980494_e6b17ddba6_b.jpg (deflated 0%)\n",
            "  adding: Dataset/plant/Rose/2480337102_9e9e97b60f_b.jpg (deflated 0%)\n",
            "  adding: Dataset/plant/Hibiscus/ (stored 0%)\n",
            "  adding: Dataset/plant/Hibiscus/22607587331_584a1e165b_b.jpg (deflated 0%)\n",
            "  adding: Dataset/plant/Hibiscus/21975394393_53e12c47d1_b.jpg (deflated 0%)\n",
            "  adding: Dataset/plant/Palmtree/ (stored 0%)\n",
            "  adding: Dataset/plant/Palmtree/35220834766_5d1680c918_b.jpg (deflated 0%)\n",
            "  adding: Dataset/plant/Palmtree/41845529985_04513daa36_b.jpg (deflated 0%)\n",
            "  adding: Dataset/plant/Ferns/ (stored 0%)\n",
            "  adding: Dataset/plant/Ferns/19091229_1f7fe28b53_b.jpg (deflated 0%)\n",
            "  adding: Dataset/plant/Ferns/6655052549_c86b56ccc3_b.jpg (deflated 0%)\n",
            "  adding: Dataset/plant/Shrub/ (stored 0%)\n",
            "  adding: Dataset/plant/Shrub/51746688832_4380a61544_b.jpg (deflated 0%)\n",
            "  adding: Dataset/plant/Shrub/18164194144_a1924236fa_b.jpg (deflated 0%)\n",
            "  adding: Dataset/plant/Mushroom/ (stored 0%)\n",
            "  adding: Dataset/plant/Mushroom/846238617_97291a900b_b.jpg (deflated 0%)\n",
            "  adding: Dataset/plant/Mushroom/14882452851_009c72bfaf_b.jpg (deflated 1%)\n",
            "  adding: Dataset/plant/RangoonCreeper/ (stored 0%)\n",
            "  adding: Dataset/plant/RangoonCreeper/51088815079_18ef76a98b_b.jpg (deflated 0%)\n",
            "  adding: Dataset/plant/RangoonCreeper/17498256752_768f01e02c_b.jpg (deflated 1%)\n",
            "  adding: Dataset/plant/Weed/ (stored 0%)\n",
            "  adding: Dataset/plant/Weed/52814399290_d1a5d6d8b5_b.jpg (deflated 0%)\n",
            "  adding: Dataset/plant/Weed/52886063715_b64e90d6a7_b.jpg (deflated 2%)\n",
            "  adding: Dataset/plant/Pea/ (stored 0%)\n",
            "  adding: Dataset/plant/Pea/50083467973_4f65969efd_b.jpg (deflated 0%)\n",
            "  adding: Dataset/plant/Pea/22498102696_0d662a2d5f_b.jpg (deflated 3%)\n",
            "  adding: Dataset/plant/Corneliantree/ (stored 0%)\n",
            "  adding: Dataset/plant/Corneliantree/26953848586_89bab69e89_b.jpg (deflated 0%)\n",
            "  adding: Dataset/plant/Corneliantree/49456860741_5b2064a7e4_b.jpg (deflated 0%)\n",
            "  adding: Dataset/plant/OrchidTree/ (stored 0%)\n",
            "  adding: Dataset/plant/OrchidTree/53722444476_164d86669a_b.jpg (deflated 0%)\n",
            "  adding: Dataset/plant/OrchidTree/52775614766_3d7715cff2_b.jpg (deflated 1%)\n",
            "  adding: Dataset/plant/Dogwood/ (stored 0%)\n",
            "  adding: Dataset/plant/Dogwood/53055625804_808a736425_b.jpg (deflated 0%)\n",
            "  adding: Dataset/plant/Dogwood/51174618507_92b824442a_b.jpg (deflated 2%)\n",
            "  adding: Dataset/plant/Frangipani/ (stored 0%)\n",
            "  adding: Dataset/plant/Frangipani/22116589925_30e0d478b2_b.jpg (deflated 3%)\n",
            "  adding: Dataset/plant/Frangipani/2782424667_a569603166_b.jpg (deflated 0%)\n",
            "  adding: Dataset/plant/Clove/ (stored 0%)\n",
            "  adding: Dataset/plant/Clove/8430302275_0d5f2b8693_b.jpg (deflated 0%)\n",
            "  adding: Dataset/plant/Clove/53742600482_be65dab11c_b.jpg (deflated 0%)\n",
            "  adding: Dataset/plant/Flower/ (stored 0%)\n",
            "  adding: Dataset/plant/Flower/4423005169_ae1951a079_b.jpg (deflated 1%)\n",
            "  adding: Dataset/plant/Flower/3446613250_8569b7d582_b.jpg (deflated 1%)\n",
            "  adding: Dataset/plant/wheat/ (stored 0%)\n",
            "  adding: Dataset/plant/wheat/4764724998_21d90eaebb_b.jpg (deflated 0%)\n",
            "  adding: Dataset/plant/wheat/2562952041_fbd4b397b5_b.jpg (deflated 0%)\n",
            "  adding: Dataset/plant/Jackfruit/ (stored 0%)\n",
            "  adding: Dataset/plant/Jackfruit/5791151895_67dbb05cdf_b.jpg (deflated 0%)\n",
            "  adding: Dataset/plant/Jackfruit/4394155973_252b15341d_b.jpg (deflated 0%)\n",
            "  adding: Dataset/plant/Wildflower/ (stored 0%)\n",
            "  adding: Dataset/plant/Wildflower/51178114358_63f13eef54_b.jpg (deflated 0%)\n",
            "  adding: Dataset/plant/Wildflower/52043837088_404b2db6d4_b.jpg (deflated 0%)\n",
            "  adding: Dataset/plant/radish/ (stored 0%)\n",
            "  adding: Dataset/plant/radish/4128271544_6ff5b3fdec_b.jpg (deflated 0%)\n",
            "  adding: Dataset/plant/radish/34711514806_f0fab551d0_b.jpg (deflated 0%)\n",
            "  adding: Dataset/plant/Bougainvillea/ (stored 0%)\n",
            "  adding: Dataset/plant/Bougainvillea/52933773027_690f6af44c_b.jpg (deflated 0%)\n",
            "  adding: Dataset/plant/Bougainvillea/52808462909_e87c8a65c6_b.jpg (deflated 0%)\n",
            "  adding: Dataset/plant/Tulip/ (stored 0%)\n",
            "  adding: Dataset/plant/Tulip/6822877094_7a36b955ef_b.jpg (deflated 0%)\n",
            "  adding: Dataset/plant/Tulip/8591674907_6fb71ee4ac_b.jpg (deflated 0%)\n",
            "  adding: Dataset/plant/Corn/ (stored 0%)\n",
            "  adding: Dataset/plant/Corn/3572306382_5d8a339b7a_b.jpg (deflated 0%)\n",
            "  adding: Dataset/plant/Corn/3929675039_c06b6a9440_b.jpg (deflated 0%)\n",
            "  adding: Dataset/plant/Coffeeplant/ (stored 0%)\n",
            "  adding: Dataset/plant/Coffeeplant/34282669112_854cf2eb57_b.jpg (deflated 0%)\n",
            "  adding: Dataset/plant/Coffeeplant/53359359452_5ffae7e093_b.jpg (deflated 0%)\n",
            "  adding: Dataset/plant/Coconut/ (stored 0%)\n",
            "  adding: Dataset/plant/Coconut/53716014803_3344904fea_b.jpg (deflated 0%)\n",
            "  adding: Dataset/plant/Coconut/5591703036_7ed228c5e3_b.jpg (deflated 0%)\n",
            "  adding: Dataset/plant/Flax/ (stored 0%)\n",
            "  adding: Dataset/plant/Flax/51182093434_0961959762_b.jpg (deflated 1%)\n",
            "  adding: Dataset/plant/Flax/27122090776_c88a948698_b.jpg (deflated 1%)\n",
            "  adding: Dataset/plant/Lantana/ (stored 0%)\n",
            "  adding: Dataset/plant/Lantana/53067123696_28d7aa67c6_b.jpg (deflated 0%)\n",
            "  adding: Dataset/plant/Lantana/48666722771_02e68f1941_b.jpg (deflated 0%)\n",
            "  adding: Dataset/plant/Bamboo/ (stored 0%)\n",
            "  adding: Dataset/plant/Bamboo/50504682357_72e8e99316_b.jpg (deflated 0%)\n",
            "  adding: Dataset/plant/Bamboo/52989500127_b636f0b2c4_b.jpg (deflated 2%)\n",
            "  adding: Dataset/plant/Fern/ (stored 0%)\n",
            "  adding: Dataset/plant/Fern/19091229_1f7fe28b53_b.jpg (deflated 0%)\n",
            "  adding: Dataset/plant/Fern/6655052549_c86b56ccc3_b.jpg (deflated 0%)\n",
            "  adding: Dataset/plant/Cottonplant/ (stored 0%)\n",
            "  adding: Dataset/plant/Cottonplant/37969242581_ced9851653_b.jpg (deflated 1%)\n",
            "  adding: Dataset/plant/Cottonplant/41569719005_67551b978a_b.jpg (deflated 0%)\n",
            "  adding: Dataset/plant/Reed/ (stored 0%)\n",
            "  adding: Dataset/plant/Reed/51970555752_3d146b592d_b.jpg (deflated 0%)\n",
            "  adding: Dataset/plant/Reed/15139193753_df9f192c11_b.jpg (deflated 0%)\n",
            "  adding: Dataset/plant/watermelon/ (stored 0%)\n",
            "  adding: Dataset/plant/watermelon/52189470994_7d7aa5081e_b.jpg (deflated 0%)\n",
            "  adding: Dataset/plant/watermelon/51035833742_c9692e70ba_b.jpg (deflated 0%)\n",
            "  adding: Dataset/plant/Banana/ (stored 0%)\n",
            "  adding: Dataset/plant/Banana/52940370825_f4c3be697d_b.jpg (deflated 1%)\n",
            "  adding: Dataset/plant/Banana/53860888965_68d9a61fd4_b.jpg (deflated 0%)\n",
            "  adding: Dataset/plant/Moss/ (stored 0%)\n",
            "  adding: Dataset/plant/Moss/51839293870_b1aed56ee9.jpg (deflated 0%)\n",
            "  adding: Dataset/plant/Moss/52371076093_302829e04a_b.jpg (deflated 0%)\n",
            "  adding: Dataset/plant/Bean/ (stored 0%)\n",
            "  adding: Dataset/plant/Bean/4383818501_4edf833c67_b.jpg (deflated 0%)\n",
            "  adding: Dataset/plant/Bean/4300636744_3dcb938a25_b.jpg (deflated 0%)\n",
            "  adding: Dataset/plant/Grass/ (stored 0%)\n",
            "  adding: Dataset/plant/Grass/3391070711_c52d1d8d18_b.jpg (deflated 0%)\n",
            "  adding: Dataset/plant/Grass/5248099209_90ed5d971f_b.jpg (deflated 1%)\n",
            "  adding: Dataset/plant/Apricot/ (stored 0%)\n",
            "  adding: Dataset/plant/Apricot/49881165307_d4d0a265ff_b.jpg (deflated 0%)\n",
            "  adding: Dataset/plant/Apricot/52129980137_f64487da33_b.jpg (deflated 1%)\n",
            "  adding: Dataset/scenery/ (stored 0%)\n",
            "  adding: Dataset/scenery/Bay/ (stored 0%)\n",
            "  adding: Dataset/scenery/Bay/47005082774_9cffecc055.jpg (deflated 1%)\n",
            "  adding: Dataset/scenery/Bay/42992447700_9e6180fd19_b.jpg (deflated 0%)\n",
            "  adding: Dataset/scenery/Mountains/ (stored 0%)\n",
            "  adding: Dataset/scenery/Mountains/8674348283_78024e360a_b.jpg (deflated 1%)\n",
            "  adding: Dataset/scenery/Mountains/31823790605_516895fa67_b.jpg (deflated 0%)\n",
            "  adding: Dataset/scenery/Coast/ (stored 0%)\n",
            "  adding: Dataset/scenery/Coast/25718576345_72b7517dc2_b.jpg (deflated 1%)\n",
            "  adding: Dataset/scenery/Coast/20375837811_3cec1e1df9_b.jpg (deflated 0%)\n",
            "  adding: Dataset/scenery/waterfall/ (stored 0%)\n",
            "  adding: Dataset/scenery/waterfall/5153065721_d56cf6c561_b.jpg (deflated 0%)\n",
            "  adding: Dataset/scenery/waterfall/39700034572_76878a296d_b.jpg (deflated 0%)\n",
            "  adding: Dataset/scenery/Lake/ (stored 0%)\n",
            "  adding: Dataset/scenery/Lake/3957799715_5407ce0750_b.jpg (deflated 0%)\n",
            "  adding: Dataset/scenery/Lake/7747441598_7fcaf25025_b.jpg (deflated 0%)\n",
            "  adding: Dataset/scenery/desert/ (stored 0%)\n",
            "  adding: Dataset/scenery/desert/52712003999_cba6904a86_b.jpg (deflated 3%)\n",
            "  adding: Dataset/scenery/desert/53787978252_88d56778e4_b.jpg (deflated 0%)\n",
            "  adding: Dataset/scenery/Forests/ (stored 0%)\n",
            "  adding: Dataset/scenery/Forests/13985786579_32aa81aca4_b.jpg (deflated 0%)\n",
            "  adding: Dataset/scenery/Forests/8103072177_a1bd831fa2_b.jpg (deflated 0%)\n",
            "  adding: Dataset/scenery/river/ (stored 0%)\n",
            "  adding: Dataset/scenery/river/24824364988_1c0da9f029_b.jpg (deflated 0%)\n",
            "  adding: Dataset/scenery/river/14952130995_f4837ac1f0_b.jpg (deflated 0%)\n",
            "  adding: Dataset/scenery/plateau/ (stored 0%)\n",
            "  adding: Dataset/scenery/plateau/22288603600_ac3080cab3_b.jpg (deflated 0%)\n",
            "  adding: Dataset/scenery/plateau/4384395986_fcd011d5e1_b.jpg (deflated 0%)\n",
            "  adding: Dataset/scenery/hedges/ (stored 0%)\n",
            "  adding: Dataset/scenery/hedges/15380757806_32dd69f03f_b.jpg (deflated 0%)\n",
            "  adding: Dataset/scenery/hedges/5206158590_33872e6b34_b.jpg (deflated 1%)\n",
            "  adding: Dataset/scenery/valley/ (stored 0%)\n",
            "  adding: Dataset/scenery/valley/6117189965_e026487db2_b.jpg (deflated 0%)\n",
            "  adding: Dataset/scenery/valley/24635030261_def899db51_b.jpg (deflated 0%)\n",
            "  adding: Dataset/scenery/volcano/ (stored 0%)\n",
            "  adding: Dataset/scenery/volcano/49629211101_d46f735055.jpg (deflated 4%)\n",
            "  adding: Dataset/scenery/volcano/53671954433_c45be77a79_b.jpg (deflated 1%)\n",
            "  adding: Dataset/scenery/sky/ (stored 0%)\n",
            "  adding: Dataset/scenery/sky/13735742764_31843f6e46_b.jpg (deflated 1%)\n",
            "  adding: Dataset/scenery/sky/9581144080_3613848798_b.jpg (deflated 1%)\n",
            "  adding: Dataset/scenery/cave/ (stored 0%)\n",
            "  adding: Dataset/scenery/cave/8988751362_70acb6648c_b.jpg (deflated 0%)\n",
            "  adding: Dataset/scenery/cave/31643806045_8bc983e054_b.jpg (deflated 0%)\n",
            "  adding: Dataset/scenery/glacier/ (stored 0%)\n",
            "  adding: Dataset/scenery/glacier/8178686242_046a860c0b.jpg (deflated 1%)\n",
            "  adding: Dataset/scenery/glacier/14841498385_b6c4fd86ab_b.jpg (deflated 0%)\n",
            "  adding: Dataset/scenery/flowergarden/ (stored 0%)\n",
            "  adding: Dataset/scenery/flowergarden/48065021438_fc467a812a_b.jpg (deflated 0%)\n",
            "  adding: Dataset/scenery/flowergarden/4487309255_22889018bc_b.jpg (deflated 1%)\n",
            "  adding: Dataset/scenery/farmland/ (stored 0%)\n",
            "  adding: Dataset/scenery/farmland/53676817514_4218932174_b.jpg (deflated 0%)\n",
            "  adding: Dataset/scenery/farmland/3793337820_7be27c5344_b.jpg (deflated 0%)\n",
            "  adding: Dataset/scenery/plain/ (stored 0%)\n",
            "  adding: Dataset/scenery/plain/21074580911_432ce0beb2_b.jpg (deflated 0%)\n",
            "  adding: Dataset/scenery/plain/520164687_dcb0b78f96_b.jpg (deflated 0%)\n",
            "  adding: Dataset/scenery/savannah/ (stored 0%)\n",
            "  adding: Dataset/scenery/savannah/5489755530_b0596ef230_b.jpg (deflated 0%)\n",
            "  adding: Dataset/scenery/savannah/6106893415_4ce81c6610_b.jpg (deflated 0%)\n",
            "  adding: Dataset/scenery/Cliff/ (stored 0%)\n",
            "  adding: Dataset/scenery/Cliff/31923282305_2ca8fcdbe8_b.jpg (deflated 0%)\n",
            "  adding: Dataset/scenery/Cliff/8453773092_123dd5a5b1_b.jpg (deflated 0%)\n",
            "  adding: Dataset/scenery/lighthouse/ (stored 0%)\n",
            "  adding: Dataset/scenery/lighthouse/15136861338_0f8d0ca0af_b.jpg (deflated 0%)\n",
            "  adding: Dataset/scenery/lighthouse/3570797337_894a2d9350_b.jpg (deflated 0%)\n",
            "  adding: Dataset/scenery/grassland/ (stored 0%)\n",
            "  adding: Dataset/scenery/grassland/200329501_5541f6e65c_b.jpg (deflated 0%)\n",
            "  adding: Dataset/scenery/grassland/19250957526_6564b457c5_b.jpg (deflated 1%)\n",
            "  adding: Dataset/scenery/Waterbodies/ (stored 0%)\n",
            "  adding: Dataset/scenery/Waterbodies/51095091688_17e448ddb6_b.jpg (deflated 1%)\n",
            "  adding: Dataset/scenery/Waterbodies/4378269263_e40fc012a8_b.jpg (deflated 0%)\n",
            "  adding: Dataset/scenery/horizon/ (stored 0%)\n",
            "  adding: Dataset/scenery/horizon/52256587492_ba1ddcdb4c_b.jpg (deflated 0%)\n",
            "  adding: Dataset/scenery/horizon/20547899773_556b94d7d3_b.jpg (deflated 4%)\n",
            "  adding: Dataset/scenery/cloud/ (stored 0%)\n",
            "  adding: Dataset/scenery/cloud/8306916640_e667cd14b2_b.jpg (deflated 0%)\n",
            "  adding: Dataset/scenery/cloud/8966548467_312f2ed006_b.jpg (deflated 0%)\n"
          ]
        }
      ]
    },
    {
      "cell_type": "code",
      "source": [
        "# Download the file using gdown\n",
        "!gdown --id 1--6fe48D9ydnTpLV1GKKqJ0pqpOXB3z_\n",
        "\n",
        "# Unzip the downloaded file\n",
        "!unzip Clean_Dataset.zip\n",
        "\n",
        "# Import necessary modules\n",
        "import os\n",
        "import shutil\n",
        "from collections import defaultdict\n",
        "\n",
        "# Define the source and target directories\n",
        "source_dir = \"Dataset\"\n",
        "train_dir = \"data/train\"\n",
        "test_dir = \"data/test\"\n",
        "\n",
        "# Create the target directories if they don’t exist\n",
        "os.makedirs(train_dir, exist_ok=True)\n",
        "os.makedirs(test_dir, exist_ok=True)\n",
        "\n",
        "# Initialize a dictionary to hold file paths for each class\n",
        "class_files = defaultdict(list)\n",
        "\n",
        "# Read the file paths from the text file\n",
        "with open('filename.txt', 'r') as file:\n",
        "    lines = file.readlines()\n",
        "    for line in lines:\n",
        "        line = line.strip()\n",
        "        if line:\n",
        "            # Extract the class name from the path\n",
        "            parts = line.split('/')\n",
        "            class_name = parts[2]  # Structure: Dataset/category/class/image.jpg\n",
        "            class_files[class_name].append(line)\n",
        "\n",
        "# Move images to the train and test directories\n",
        "for class_name, files in class_files.items():\n",
        "    # Create the train and test directories for the class\n",
        "    train_class_dir = os.path.join(train_dir, class_name)\n",
        "    test_class_dir = os.path.join(test_dir, class_name)\n",
        "    os.makedirs(train_class_dir, exist_ok=True)\n",
        "    os.makedirs(test_class_dir, exist_ok=True)\n",
        "\n",
        "    # Move 19 images to train and 1 image to test\n",
        "    for i, file_path in enumerate(files):\n",
        "        if i == 0:\n",
        "            shutil.copy(file_path, test_class_dir)\n",
        "        elif i < 20:\n",
        "            shutil.copy(file_path, train_class_dir)\n",
        "\n",
        "print(\"Dataset organization complete!\")\n"
      ],
      "metadata": {
        "colab": {
          "base_uri": "https://localhost:8080/"
        },
        "id": "LVVqTvbWCrXS",
        "outputId": "32f5fd14-97b7-4e2d-eb67-ee8d62fa0766"
      },
      "execution_count": 7,
      "outputs": [
        {
          "output_type": "stream",
          "name": "stdout",
          "text": [
            "/usr/local/lib/python3.10/dist-packages/gdown/__main__.py:132: FutureWarning: Option `--id` was deprecated in version 4.3.1 and will be removed in 5.0. You don't need to pass it anymore to use a file ID.\n",
            "  warnings.warn(\n",
            "Downloading...\n",
            "From (original): https://drive.google.com/uc?id=1--6fe48D9ydnTpLV1GKKqJ0pqpOXB3z_\n",
            "From (redirected): https://drive.google.com/uc?id=1--6fe48D9ydnTpLV1GKKqJ0pqpOXB3z_&confirm=t&uuid=bbbf8f2d-7329-4239-a56a-41280e1ed964\n",
            "To: /content/Clean_Dataset.zip\n",
            "100% 483M/483M [00:14<00:00, 33.9MB/s]\n",
            "Archive:  Clean_Dataset.zip\n",
            "replace Dataset/plant/Clove/53742600482_be65dab11c_b.jpg? [y]es, [n]o, [A]ll, [N]one, [r]ename: A\n",
            "  inflating: Dataset/plant/Clove/53742600482_be65dab11c_b.jpg  \n",
            "  inflating: Dataset/plant/Clove/6499672315_313ec22f51_b.jpg  \n",
            "  inflating: Dataset/plant/Clove/22440611562_e293ed2cb6_b.jpg  \n",
            "  inflating: Dataset/plant/Clove/46819415374_03d9b1b5b4_b.jpg  \n",
            "  inflating: Dataset/plant/Clove/16282799783_cd1a50bdb9_b.jpg  \n",
            "  inflating: Dataset/plant/Clove/217346923_f48383a640_b.jpg  \n",
            "  inflating: Dataset/plant/Clove/8430302275_0d5f2b8693_b.jpg  \n",
            "  inflating: Dataset/plant/Clove/33921765462_44448ddcda_b.jpg  \n",
            "  inflating: Dataset/plant/Clove/51460352459_ac3eff9325_b.jpg  \n",
            "  inflating: Dataset/plant/Clove/33174360012_6136cda0e1_b.jpg  \n",
            "  inflating: Dataset/plant/Clove/4052729341_d545857aec_b.jpg  \n",
            "  inflating: Dataset/plant/Clove/27030219405_39ed3a1415_b.jpg  \n",
            "  inflating: Dataset/plant/Clove/51465544475_385aecb7e8_b.jpg  \n",
            "  inflating: Dataset/plant/Clove/50525839382_46a3b7c3cb_b.jpg  \n",
            "  inflating: Dataset/plant/Clove/8270092884_b8ca013b21_b.jpg  \n",
            "  inflating: Dataset/plant/Clove/15112191835_055228e3c3_b.jpg  \n",
            "  inflating: Dataset/plant/Clove/33720291415_4e3c454f9b_b.jpg  \n",
            "  inflating: Dataset/plant/Clove/39835000013_9a89e8944e_b.jpg  \n",
            "  inflating: Dataset/plant/Clove/31808178213_ebf9115f44_b.jpg  \n",
            "  inflating: Dataset/plant/Clove/5879797577_ff40420da5_b.jpg  \n",
            "  inflating: Dataset/plant/Jackfruit/14021190221_ff10672038_b.jpg  \n",
            "  inflating: Dataset/plant/Jackfruit/41916658190_c2a3bcaae3_b.jpg  \n",
            "  inflating: Dataset/plant/Jackfruit/42273898171_2701e206c2_b.jpg  \n",
            "  inflating: Dataset/plant/Jackfruit/8648058171_ddc3e72e51_b.jpg  \n",
            "  inflating: Dataset/plant/Jackfruit/507264709_aedca9f2a3_b.jpg  \n",
            "  inflating: Dataset/plant/Jackfruit/4394155973_252b15341d_b.jpg  \n",
            "  inflating: Dataset/plant/Jackfruit/5791151895_67dbb05cdf_b.jpg  \n",
            "  inflating: Dataset/plant/Jackfruit/3698128416_03f7389223_b.jpg  \n",
            "  inflating: Dataset/plant/Jackfruit/23908985962_a90c2dc857_b.jpg  \n",
            "  inflating: Dataset/plant/Jackfruit/8387171226_919eaa4b83_b.jpg  \n",
            "  inflating: Dataset/plant/Jackfruit/3939948915_90b5e26359_b.jpg  \n",
            "  inflating: Dataset/plant/Jackfruit/14743686545_f56eeff3d6_b.jpg  \n",
            "  inflating: Dataset/plant/Jackfruit/23990587376_0615fed2cf_b.jpg  \n",
            "  inflating: Dataset/plant/Jackfruit/4463685815_9348d49a7c_b.jpg  \n",
            "  inflating: Dataset/plant/Jackfruit/51873103558_30e8c3af37_b.jpg  \n",
            "  inflating: Dataset/plant/Jackfruit/27404890161_17123a34eb_b.jpg  \n",
            "  inflating: Dataset/plant/Jackfruit/4882048873_a3f83e9ec3_b.jpg  \n",
            "  inflating: Dataset/plant/Jackfruit/3683752446_3c571c58e6_b.jpg  \n",
            "  inflating: Dataset/plant/Jackfruit/8648057973_f9f072cfd0_b.jpg  \n",
            "  inflating: Dataset/plant/Jackfruit/84018568_f90de0017a_b.jpg  \n",
            "  inflating: Dataset/plant/Fern/2152541494_114f3896fc_b.jpg  \n",
            "  inflating: Dataset/plant/Fern/6899659600_8bf3ee74b9_b.jpg  \n",
            "  inflating: Dataset/plant/Fern/3074696693_696fd1f425_b.jpg  \n",
            "  inflating: Dataset/plant/Fern/7158228287_863982f818_b.jpg  \n",
            "  inflating: Dataset/plant/Fern/279323733_4ad1de9dee_b.jpg  \n",
            "  inflating: Dataset/plant/Fern/9381922975_0fe4100041_b.jpg  \n",
            "  inflating: Dataset/plant/Fern/7537271474_6d5a677caa_b.jpg  \n",
            "  inflating: Dataset/plant/Fern/8245293102_baef7e6ee6_b.jpg  \n",
            "  inflating: Dataset/plant/Fern/2534782254_cbc0e12bd4_b.jpg  \n",
            "  inflating: Dataset/plant/Fern/4631140554_b2755d19f8_b.jpg  \n",
            "  inflating: Dataset/plant/Fern/22893554971_a03fd39c35_b.jpg  \n",
            "  inflating: Dataset/plant/Fern/20486772472_c04179fb42_b.jpg  \n",
            "  inflating: Dataset/plant/Fern/1273772323_5c9f713971_b.jpg  \n",
            "  inflating: Dataset/plant/Fern/2758986919_09495cde94_b.jpg  \n",
            "  inflating: Dataset/plant/Fern/7333278820_f821e7e17d_b.jpg  \n",
            "  inflating: Dataset/plant/Fern/3548963897_1d97534e0d_b.jpg  \n",
            "  inflating: Dataset/plant/Fern/7249633014_dc2fa09297_b.jpg  \n",
            "  inflating: Dataset/plant/Fern/6655052549_c86b56ccc3_b.jpg  \n",
            "  inflating: Dataset/plant/Fern/4817439133_35f9a36768_b.jpg  \n",
            "  inflating: Dataset/plant/Fern/121969187_5f1ee391e4_b.jpg  \n",
            "  inflating: Dataset/plant/Ferns/2152541494_114f3896fc_b.jpg  \n",
            "  inflating: Dataset/plant/Ferns/6899659600_8bf3ee74b9_b.jpg  \n",
            "  inflating: Dataset/plant/Ferns/3074696693_696fd1f425_b.jpg  \n",
            "  inflating: Dataset/plant/Ferns/7158228287_863982f818_b.jpg  \n",
            "  inflating: Dataset/plant/Ferns/5758898998_a53a26a922_b.jpg  \n",
            "  inflating: Dataset/plant/Ferns/279323733_4ad1de9dee_b.jpg  \n",
            "  inflating: Dataset/plant/Ferns/9381922975_0fe4100041_b.jpg  \n",
            "  inflating: Dataset/plant/Ferns/7537271474_6d5a677caa_b.jpg  \n",
            "  inflating: Dataset/plant/Ferns/2670352366_5d9339682e_b.jpg  \n",
            "  inflating: Dataset/plant/Ferns/2534782254_cbc0e12bd4_b.jpg  \n",
            "  inflating: Dataset/plant/Ferns/4631140554_b2755d19f8_b.jpg  \n",
            "  inflating: Dataset/plant/Ferns/22893554971_a03fd39c35_b.jpg  \n",
            "  inflating: Dataset/plant/Ferns/20486772472_c04179fb42_b.jpg  \n",
            "  inflating: Dataset/plant/Ferns/1273772323_5c9f713971_b.jpg  \n",
            "  inflating: Dataset/plant/Ferns/19091229_1f7fe28b53_b.jpg  \n",
            "  inflating: Dataset/plant/Ferns/7249633014_dc2fa09297_b.jpg  \n",
            "  inflating: Dataset/plant/Ferns/13350698_3eee621f07_b.jpg  \n",
            "  inflating: Dataset/plant/Ferns/6655052549_c86b56ccc3_b.jpg  \n",
            "  inflating: Dataset/plant/Ferns/4817439133_35f9a36768_b.jpg  \n",
            "  inflating: Dataset/plant/Ferns/121969187_5f1ee391e4_b.jpg  \n",
            "  inflating: Dataset/plant/Dogwood/26730676519_74d71da536_b.jpg  \n",
            "  inflating: Dataset/plant/Dogwood/26434454463_aee661c520_b.jpg  \n",
            "  inflating: Dataset/plant/Dogwood/52061356478_5c5e6d4665_b.jpg  \n",
            "  inflating: Dataset/plant/Dogwood/51109723102_97bac4eda3_b.jpg  \n",
            "  inflating: Dataset/plant/Dogwood/52965511598_a71e3f105d_b.jpg  \n",
            "  inflating: Dataset/plant/Dogwood/52006346666_7f4a48d3df_b.jpg  \n",
            "  inflating: Dataset/plant/Dogwood/17778448241_d6a2327383_b.jpg  \n",
            "  inflating: Dataset/plant/Dogwood/51719249502_320748aa1a_b.jpg  \n",
            "  inflating: Dataset/plant/Dogwood/53055625804_808a736425_b.jpg  \n",
            "  inflating: Dataset/plant/Dogwood/26477310825_71c80fba1b_b.jpg  \n",
            "  inflating: Dataset/plant/Dogwood/26333882645_14c8e81603_b.jpg  \n",
            "  inflating: Dataset/plant/Dogwood/4711059798_72cfaec608_b.jpg  \n",
            "  inflating: Dataset/plant/Dogwood/51104572611_3306722a63_b.jpg  \n",
            "  inflating: Dataset/plant/Dogwood/46879469305_40fc899a43_b.jpg  \n",
            "  inflating: Dataset/plant/Dogwood/51855668519_0013a92711_b.jpg  \n",
            "  inflating: Dataset/plant/Dogwood/53000403590_8cf7ddafbd_b.jpg  \n",
            "  inflating: Dataset/plant/Dogwood/53006730048_7c3f8de387_b.jpg  \n",
            "  inflating: Dataset/plant/Dogwood/52142407820_3eb8a50044_b.jpg  \n",
            "  inflating: Dataset/plant/Dogwood/51174618507_92b824442a_b.jpg  \n",
            "  inflating: Dataset/plant/Dogwood/34666511625_64c8173e27_b.jpg  \n",
            "  inflating: Dataset/plant/watermelon/1575130676_28fe94a449_b.jpg  \n",
            "  inflating: Dataset/plant/watermelon/53856674169_f179c6d954_b.jpg  \n",
            "  inflating: Dataset/plant/watermelon/48664466018_2ed2fcc751_b.jpg  \n",
            "  inflating: Dataset/plant/watermelon/31518663_45bdae28a4_b.jpg  \n",
            "  inflating: Dataset/plant/watermelon/5988729666_7fac2e7211_b.jpg  \n",
            "  inflating: Dataset/plant/watermelon/52224991474_81e1aaa806_b.jpg  \n",
            "  inflating: Dataset/plant/watermelon/2816345970_3ab0f7c10e_b.jpg  \n",
            "  inflating: Dataset/plant/watermelon/2515996067_935b6eb38b_b.jpg  \n",
            "  inflating: Dataset/plant/watermelon/5618848399_bd6ae6248d_b.jpg  \n",
            "  inflating: Dataset/plant/watermelon/19551856473_378479e360_b.jpg  \n",
            "  inflating: Dataset/plant/watermelon/8893766659_c58bfb5b81_b.jpg  \n",
            "  inflating: Dataset/plant/watermelon/52189470994_7d7aa5081e_b.jpg  \n",
            "  inflating: Dataset/plant/watermelon/2515997141_40fe065da5_b.jpg  \n",
            "  inflating: Dataset/plant/watermelon/3765642026_44d6e91ca7_b.jpg  \n",
            "  inflating: Dataset/plant/watermelon/51559175234_184a2d9165_b.jpg  \n",
            "  inflating: Dataset/plant/watermelon/2515995067_d720004cf1_b.jpg  \n",
            "  inflating: Dataset/plant/watermelon/51035833742_c9692e70ba_b.jpg  \n",
            "  inflating: Dataset/plant/watermelon/20146552276_f6bc658598_b.jpg  \n",
            "  inflating: Dataset/plant/watermelon/61239900_1db0f5348a_b.jpg  \n",
            "  inflating: Dataset/plant/watermelon/3090205019_400b825f0f_b.jpg  \n",
            "  inflating: Dataset/plant/carrot/2370701638_77d65a17c8_b.jpg  \n",
            "  inflating: Dataset/plant/carrot/2121064571_424f305731_b.jpg  \n",
            "  inflating: Dataset/plant/carrot/764833075_71bdba6ae0_b.jpg  \n",
            "  inflating: Dataset/plant/carrot/6237042125_1fcd6c7def_b.jpg  \n",
            "  inflating: Dataset/plant/carrot/5870454196_10d9333635_b.jpg  \n",
            "  inflating: Dataset/plant/carrot/4818307176_b16243959e_b.jpg  \n",
            "  inflating: Dataset/plant/carrot/22692217656_346870a506_b.jpg  \n",
            "  inflating: Dataset/plant/carrot/15076495909_e8ec03d2c6_b.jpg  \n",
            "  inflating: Dataset/plant/carrot/52831539074_bf5bb488db_b.jpg  \n",
            "  inflating: Dataset/plant/carrot/6400526635_4335b2df79_b.jpg  \n",
            "  inflating: Dataset/plant/carrot/51660904952_0f95dba27a_b.jpg  \n",
            "  inflating: Dataset/plant/carrot/240893665_bb63ad9e8f_b.jpg  \n",
            "  inflating: Dataset/plant/carrot/51037125227_998fb64e90_b.jpg  \n",
            "  inflating: Dataset/plant/carrot/8614718787_234466aa4a_b.jpg  \n",
            "  inflating: Dataset/plant/carrot/240893475_20e1ad6fe6_b.jpg  \n",
            "  inflating: Dataset/plant/carrot/17014033902_ab8ce7ae41_b.jpg  \n",
            "  inflating: Dataset/plant/carrot/3024436378_02e824ce7f_b.jpg  \n",
            "  inflating: Dataset/plant/carrot/4140614633_8e924093c5_b.jpg  \n",
            "  inflating: Dataset/plant/carrot/251829538_7b8c8aaf2f_b.jpg  \n",
            "  inflating: Dataset/plant/carrot/3845315123_9b58d1e0ce_b.jpg  \n",
            "  inflating: Dataset/plant/radish/8480145802_4c1210896e_b.jpg  \n",
            "  inflating: Dataset/plant/radish/32677802051_5c76928797_b.jpg  \n",
            "  inflating: Dataset/plant/radish/52776244071_2055d9a3fd_b.jpg  \n",
            "  inflating: Dataset/plant/radish/4128271544_6ff5b3fdec_b.jpg  \n",
            "  inflating: Dataset/plant/radish/49205910412_c3b4481432_b.jpg  \n",
            "  inflating: Dataset/plant/radish/51630573935_a798f8cf5e_b.jpg  \n",
            "  inflating: Dataset/plant/radish/53089449359_79f3b19e0a_b.jpg  \n",
            "  inflating: Dataset/plant/radish/35081344232_8b8154821a_b.jpg  \n",
            "  inflating: Dataset/plant/radish/5348203870_05cb1e2456_b.jpg  \n",
            "  inflating: Dataset/plant/radish/34711514806_f0fab551d0_b.jpg  \n",
            "  inflating: Dataset/plant/radish/5617254099_1cc12e032e_b.jpg  \n",
            "  inflating: Dataset/plant/radish/6879833826_a2d54f179f_b.jpg  \n",
            "  inflating: Dataset/plant/radish/5617839050_91c1c3fbe7_b.jpg  \n",
            "  inflating: Dataset/plant/radish/34801023971_e3f4718502_b.jpg  \n",
            "  inflating: Dataset/plant/radish/5617838904_ec69fa1e4b_b.jpg  \n",
            "  inflating: Dataset/plant/radish/51247320251_119daa995d_b.jpg  \n",
            "  inflating: Dataset/plant/radish/4334987156_cd3b1c7606_b.jpg  \n",
            "  inflating: Dataset/plant/radish/2427027851_ba5935759e_b.jpg  \n",
            "  inflating: Dataset/plant/radish/12261828934_19b6dcb9fa_b.jpg  \n",
            "  inflating: Dataset/plant/radish/36058179560_e0f43efd9e_b.jpg  \n",
            "  inflating: Dataset/plant/Corneliantree/4625298848_e17ab71900_b.jpg  \n",
            "  inflating: Dataset/plant/Corneliantree/4538269007_02020b6c99_b.jpg  \n",
            "  inflating: Dataset/plant/Corneliantree/4542757048_98c7d6a140_b.jpg  \n",
            "  inflating: Dataset/plant/Corneliantree/4602171658_4be92b7c1d_b.jpg  \n",
            "  inflating: Dataset/plant/Corneliantree/26953848586_89bab69e89_b.jpg  \n",
            "  inflating: Dataset/plant/Corneliantree/44839479234_1d59809ce3_b.jpg  \n",
            "  inflating: Dataset/plant/Corneliantree/4540175318_7b1c830039_b.jpg  \n",
            "  inflating: Dataset/plant/Corneliantree/4623762643_93eb02a97b_b.jpg  \n",
            "  inflating: Dataset/plant/Corneliantree/49935908002_4787d092d3_b.jpg  \n",
            "  inflating: Dataset/plant/Corneliantree/4542124799_d773269e7b_b.jpg  \n",
            "  inflating: Dataset/plant/Corneliantree/49456860741_5b2064a7e4_b.jpg  \n",
            "  inflating: Dataset/plant/Corneliantree/4542853853_a81e67c6ff_b.jpg  \n",
            "  inflating: Dataset/plant/Corneliantree/4624368280_f9db0c1724_b.jpg  \n",
            "  inflating: Dataset/plant/Corneliantree/4539547565_85fafb36af_b.jpg  \n",
            "  inflating: Dataset/plant/Corneliantree/6959778980_00b2a8e9c8_b.jpg  \n",
            "  inflating: Dataset/plant/Corneliantree/4625299678_3209402f86_b.jpg  \n",
            "  inflating: Dataset/plant/Corneliantree/4585560297_f0c73057f1_b.jpg  \n",
            "  inflating: Dataset/plant/Corneliantree/4540154154_b25b1f0115_b.jpg  \n",
            "  inflating: Dataset/plant/Frangipani/3169275098_7180d7aa39_b.jpg  \n",
            "  inflating: Dataset/plant/Frangipani/5230948275_d9c1c5b744_b.jpg  \n",
            "  inflating: Dataset/plant/Frangipani/31825709833_f8cb9aeebd_b.jpg  \n",
            "  inflating: Dataset/plant/Frangipani/2782424667_a569603166_b.jpg  \n",
            "  inflating: Dataset/plant/Frangipani/30652388582_9746d4b8ed_b.jpg  \n",
            "  inflating: Dataset/plant/Frangipani/256522520_bfc1e78925_b.jpg  \n",
            "  inflating: Dataset/plant/Frangipani/4255968247_0e4cde7d98_b.jpg  \n",
            "  inflating: Dataset/plant/Frangipani/16817790704_c35c251ce3_b.jpg  \n",
            "  inflating: Dataset/plant/Frangipani/28454098670_96cd3e6e67_b.jpg  \n",
            "  inflating: Dataset/plant/Frangipani/6661790063_4d6f9766c0_b.jpg  \n",
            "  inflating: Dataset/plant/Frangipani/201392512_58f37dfbd3_b.jpg  \n",
            "  inflating: Dataset/plant/Frangipani/24494578172_3c78c7a1eb_b.jpg  \n",
            "  inflating: Dataset/plant/Frangipani/2432447588_878767f14c_b.jpg  \n",
            "  inflating: Dataset/plant/Frangipani/66452868_f7f534d66d_b.jpg  \n",
            "  inflating: Dataset/plant/Frangipani/2627055100_510b3e8625_b.jpg  \n",
            "  inflating: Dataset/plant/Frangipani/11524591073_506bb9a751_b.jpg  \n",
            "  inflating: Dataset/plant/Frangipani/15214649717_835036c17a_b.jpg  \n",
            "  inflating: Dataset/plant/Frangipani/435690032_c53579a32f_b.jpg  \n",
            "  inflating: Dataset/plant/Frangipani/28176953621_51bd3d6eeb_b.jpg  \n",
            "  inflating: Dataset/plant/Frangipani/23119242012_5d3978148c_b.jpg  \n",
            "  inflating: Dataset/plant/Wildflower/48672768496_dcf8f2ea9c_b.jpg  \n",
            "  inflating: Dataset/plant/Wildflower/48585615711_06d214a243.jpg  \n",
            "  inflating: Dataset/plant/Wildflower/52459856582_226eae5766_b.jpg  \n",
            "  inflating: Dataset/plant/Wildflower/41382641245_493f9d78f4_b.jpg  \n",
            "  inflating: Dataset/plant/Wildflower/9926284345_b27251154e_b.jpg  \n",
            "  inflating: Dataset/plant/Wildflower/48220215991_a68d596d2a_b.jpg  \n",
            "  inflating: Dataset/plant/Wildflower/40691784300_48899b50dc_b.jpg  \n",
            "  inflating: Dataset/plant/Wildflower/49443672501_246890267c_b.jpg  \n",
            "  inflating: Dataset/plant/Wildflower/28126337976_c2eee3ca72.jpg  \n",
            "  inflating: Dataset/plant/Wildflower/51329280036_f008e8225f_b.jpg  \n",
            "  inflating: Dataset/plant/Wildflower/50135905008_e798ce2755_b.jpg  \n",
            "  inflating: Dataset/plant/Wildflower/9657299553_d1277ed061_b.jpg  \n",
            "  inflating: Dataset/plant/Wildflower/50272901571_981b699413_b.jpg  \n",
            "  inflating: Dataset/plant/Wildflower/51334200730_6d24537dab_b.jpg  \n",
            "  inflating: Dataset/plant/Wildflower/51334200715_6a787182ec_b.jpg  \n",
            "  inflating: Dataset/plant/Wildflower/52914842038_917004fdf9_b.jpg  \n",
            "  inflating: Dataset/plant/Wildflower/34536711004_b0a955d2d3_b.jpg  \n",
            "  inflating: Dataset/plant/Wildflower/51334200710_9626da4284_b.jpg  \n",
            "  inflating: Dataset/plant/Wildflower/48665237271_43223657e8_b.jpg  \n",
            "  inflating: Dataset/plant/Wildflower/47097588514_54fc7927d8_b.jpg  \n",
            "  inflating: Dataset/plant/Coffeeplant/146592637_f3a2fcc916_b.jpg  \n",
            "  inflating: Dataset/plant/Coffeeplant/53359359452_5ffae7e093_b.jpg  \n",
            "  inflating: Dataset/plant/Coffeeplant/4928481456_0a468afbcc_b.jpg  \n",
            "  inflating: Dataset/plant/Coffeeplant/34282669112_854cf2eb57_b.jpg  \n",
            "  inflating: Dataset/plant/Coffeeplant/3463709410_6fc7b420ba_b.jpg  \n",
            "  inflating: Dataset/plant/Coffeeplant/13984428670_a20574f2f6_b.jpg  \n",
            "  inflating: Dataset/plant/Coffeeplant/15631689807_7fd36f76a9_b.jpg  \n",
            "  inflating: Dataset/plant/Coffeeplant/17267244241_2e4c7d97cb_b.jpg  \n",
            "  inflating: Dataset/plant/Coffeeplant/3667538292_1399472786_b.jpg  \n",
            "  inflating: Dataset/plant/Coffeeplant/16618448723_ecb5110041_b.jpg  \n",
            "  inflating: Dataset/plant/Coffeeplant/2615662461_30a046b4a8_b.jpg  \n",
            "  inflating: Dataset/plant/Coffeeplant/3931852339_a804215366_b.jpg  \n",
            "  inflating: Dataset/plant/Coffeeplant/4368894873_053d050110_b.jpg  \n",
            "  inflating: Dataset/plant/Coffeeplant/4927884047_c2d9fe763f_b.jpg  \n",
            "  inflating: Dataset/plant/Coffeeplant/44735515580_7d093d1442_b.jpg  \n",
            "  inflating: Dataset/plant/Coffeeplant/14167754861_b36c4a5d55_b.jpg  \n",
            "  inflating: Dataset/plant/Coffeeplant/4928477774_f230b799e0_b.jpg  \n",
            "  inflating: Dataset/plant/Coffeeplant/34451790595_1544361e4c_b.jpg  \n",
            "  inflating: Dataset/plant/Coffeeplant/51753262640_d337ccc30f_b.jpg  \n",
            "  inflating: Dataset/plant/Coffeeplant/5032973025_abc5e920d9_b.jpg  \n",
            "  inflating: Dataset/plant/Grass/18900595072_3066c1b8dc_b.jpg  \n",
            "  inflating: Dataset/plant/Grass/13384749_859b33784f_b.jpg  \n",
            "  inflating: Dataset/plant/Grass/19071973453_4b154da233_z.jpg  \n",
            "  inflating: Dataset/plant/Grass/5705746817_0c06af9299_b.jpg  \n",
            "  inflating: Dataset/plant/Grass/5626638071_d15c0373b3_b.jpg  \n",
            "  inflating: Dataset/plant/Grass/3510412376_f290553351_b.jpg  \n",
            "  inflating: Dataset/plant/Grass/9715799233_9ed3fdb0f9_b.jpg  \n",
            "  inflating: Dataset/plant/Grass/24799953805_b4f4a40545_b.jpg  \n",
            "  inflating: Dataset/plant/Grass/2330061860_833d86e959_b.jpg  \n",
            "  inflating: Dataset/plant/Grass/5977042908_fa09a35cb4_b.jpg  \n",
            "  inflating: Dataset/plant/Grass/5626599422_ec6958ae3e_b.jpg  \n",
            "  inflating: Dataset/plant/Grass/6679478955_13774f73d7_b.jpg  \n",
            "  inflating: Dataset/plant/Grass/34739799321_031d78290f_b.jpg  \n",
            "  inflating: Dataset/plant/Grass/4922435590_bb7bc69449_b.jpg  \n",
            "  inflating: Dataset/plant/Grass/4630451298_d82a4eb4e0_b.jpg  \n",
            "  inflating: Dataset/plant/Grass/9059637188_d87c060889_b.jpg  \n",
            "  inflating: Dataset/plant/Grass/7809540674_aaf4328446_b.jpg  \n",
            "  inflating: Dataset/plant/Grass/14828417881_58a20708ab_b.jpg  \n",
            "  inflating: Dataset/plant/Grass/27240885245_840c70d0b0_b.jpg  \n",
            "  inflating: Dataset/plant/Grass/4974938771_056705b2e6_b.jpg  \n",
            "  inflating: Dataset/plant/Reed/32623720218_819102050b_b.jpg  \n",
            "  inflating: Dataset/plant/Reed/53550593227_7abe5e34b1_b.jpg  \n",
            "  inflating: Dataset/plant/Reed/4438282301_84d66f7edc_b.jpg  \n",
            "  inflating: Dataset/plant/Reed/15139193753_df9f192c11_b.jpg  \n",
            "  inflating: Dataset/plant/Reed/26595526516_c2914e641a_b.jpg  \n",
            "  inflating: Dataset/plant/Reed/52288243902_00e614373d_b.jpg  \n",
            "  inflating: Dataset/plant/Reed/53378025705_ae7b478fd5_b.jpg  \n",
            "  inflating: Dataset/plant/Reed/53550593232_7c4b3d7b2f_b.jpg  \n",
            "  inflating: Dataset/plant/Reed/32093734268_6302c04155_b.jpg  \n",
            "  inflating: Dataset/plant/Reed/14242261213_c165cfe894_b.jpg  \n",
            "  inflating: Dataset/plant/Reed/8452406617_75b03d3732_b.jpg  \n",
            "  inflating: Dataset/plant/Reed/49440368971_5aabe4a2a5_b.jpg  \n",
            "  inflating: Dataset/plant/Reed/16559872749_948c9c9055_b.jpg  \n",
            "  inflating: Dataset/plant/Reed/48427834447_b60217707c_b.jpg  \n",
            "  inflating: Dataset/plant/Reed/52153698184_6794552dfd_b.jpg  \n",
            "  inflating: Dataset/plant/Reed/10593298915_8d5b83586a_b.jpg  \n",
            "  inflating: Dataset/plant/Reed/16432593974_f2acaa34e4_b.jpg  \n",
            "  inflating: Dataset/plant/Reed/34926655201_73b549f806_b.jpg  \n",
            "  inflating: Dataset/plant/Reed/52652368454_92206c5943_b.jpg  \n",
            "  inflating: Dataset/plant/Reed/4783563687_51c40e79e8_b.jpg  \n",
            "  inflating: Dataset/plant/Rose/2480339494_b8fc86f3e9_b.jpg  \n",
            "  inflating: Dataset/plant/Rose/4035762406_1a5b5c5fa2_b.jpg  \n",
            "  inflating: Dataset/plant/Rose/3747927883_3163ef70c6_b.jpg  \n",
            "  inflating: Dataset/plant/Rose/2480337102_9e9e97b60f_b.jpg  \n",
            "  inflating: Dataset/plant/Rose/30771841786_2f5f60ff55_b.jpg  \n",
            "  inflating: Dataset/plant/Rose/15493610018_84350558c7_b.jpg  \n",
            "  inflating: Dataset/plant/Rose/4256817194_e6edf60d6d_b.jpg  \n",
            "  inflating: Dataset/plant/Rose/2480340274_47162a1476_b.jpg  \n",
            "  inflating: Dataset/plant/Rose/2458241573_ed0d96b8e8_b.jpg  \n",
            "  inflating: Dataset/plant/Rose/250569976_8e40f031f2_b.jpg  \n",
            "  inflating: Dataset/plant/Rose/1085236961_eb1e4aefa2_b.jpg  \n",
            "  inflating: Dataset/plant/Rose/16759377390_07d6f0c144_b.jpg  \n",
            "  inflating: Dataset/plant/Rose/14937815595_ae349565f8_b.jpg  \n",
            "  inflating: Dataset/plant/Rose/4358729314_f386cd1b5f_b.jpg  \n",
            "  inflating: Dataset/plant/Rose/2601867670_8720c28b51_b.jpg  \n",
            "  inflating: Dataset/plant/Rose/11563567033_b822736d84_b.jpg  \n",
            "  inflating: Dataset/plant/Rose/15678999125_cd20d4909a_b.jpg  \n",
            "  inflating: Dataset/plant/Rose/2480343660_b4da90926e_b.jpg  \n",
            "  inflating: Dataset/plant/Rose/1585475934_15c8fa2208_b.jpg  \n",
            "  inflating: Dataset/plant/Rose/8420592295_49dfe9c538_b.jpg  \n",
            "  inflating: Dataset/plant/wheat/5129080534_d995dd81ca_b.jpg  \n",
            "  inflating: Dataset/plant/wheat/4850806860_1ee582eb71_b.jpg  \n",
            "  inflating: Dataset/plant/wheat/14763701174_0af768dc61_b.jpg  \n",
            "  inflating: Dataset/plant/wheat/29913711068_72109b8f43_b.jpg  \n",
            "  inflating: Dataset/plant/wheat/2562952041_fbd4b397b5_b.jpg  \n",
            "  inflating: Dataset/plant/wheat/9461981372_434a12ed9f_b.jpg  \n",
            "  inflating: Dataset/plant/wheat/6180101085_cc7b85154b_b.jpg  \n",
            "  inflating: Dataset/plant/wheat/2562937707_c708ac4500_b.jpg  \n",
            "  inflating: Dataset/plant/wheat/4764725964_d792f6f258_b.jpg  \n",
            "  inflating: Dataset/plant/wheat/21050288481_a1ee4f707b_b.jpg  \n",
            "  inflating: Dataset/plant/wheat/2104091535_105016afa2_b.jpg  \n",
            "  inflating: Dataset/plant/wheat/14526248552_42dfcf7a60_b.jpg  \n",
            "  inflating: Dataset/plant/wheat/16738745917_55816e4fb7_b.jpg  \n",
            "  inflating: Dataset/plant/wheat/36104414474_b3cc72709e_b.jpg  \n",
            "  inflating: Dataset/plant/wheat/4764724998_21d90eaebb_b.jpg  \n",
            "  inflating: Dataset/plant/wheat/30818038817_8d40f81ff5_b.jpg  \n",
            "  inflating: Dataset/plant/wheat/14683522903_aae6d0e294.jpg  \n",
            "  inflating: Dataset/plant/wheat/4764725326_7514890717_b.jpg  \n",
            "  inflating: Dataset/plant/wheat/19176256548_0c2c87e4fd_b.jpg  \n",
            "  inflating: Dataset/plant/wheat/821791258_a0be7bc9cd_b.jpg  \n",
            "  inflating: Dataset/plant/Moss/50383524992_7cc8238052.jpg  \n",
            "  inflating: Dataset/plant/Moss/38923850010_6a99479bdb_b.jpg  \n",
            "  inflating: Dataset/plant/Moss/13951348975_1db2743f5a_b.jpg  \n",
            "  inflating: Dataset/plant/Moss/49324752428_584a29532c_b.jpg  \n",
            "  inflating: Dataset/plant/Moss/2433588616_3630de6450_b.jpg  \n",
            "  inflating: Dataset/plant/Moss/7878381754_da08cd3dd4_b.jpg  \n",
            "  inflating: Dataset/plant/Moss/13928241686_d28c610212_b.jpg  \n",
            "  inflating: Dataset/plant/Moss/51839293870_b1aed56ee9_b.jpg  \n",
            "  inflating: Dataset/plant/Moss/4376552686_5401b6c97a_b.jpg  \n",
            "  inflating: Dataset/plant/Moss/53539792163_bd5271b1ea_b.jpg  \n",
            "  inflating: Dataset/plant/Moss/51981683376_76a0e27ab6_b.jpg  \n",
            "  inflating: Dataset/plant/Moss/52955204525_fd1d7a305f_b.jpg  \n",
            "  inflating: Dataset/plant/Moss/50781421911_6b36ba22b3_b.jpg  \n",
            "  inflating: Dataset/plant/Moss/35440377011_6d4a2710fd_b.jpg  \n",
            "  inflating: Dataset/plant/Moss/53386477088_0cc399de19_b.jpg  \n",
            "  inflating: Dataset/plant/Moss/35231946512_74b889a7ce_b.jpg  \n",
            "  inflating: Dataset/plant/Moss/32892467361_0c9b233bc9_b.jpg  \n",
            "  inflating: Dataset/plant/Moss/50882610701_9495df2c53_b.jpg  \n",
            "  inflating: Dataset/plant/Moss/52530634271_984c8d1e2b_b.jpg  \n",
            "  inflating: Dataset/plant/Moss/49754318721_4695ddd274_b.jpg  \n",
            "  inflating: Dataset/plant/Bamboo/14824228805_8e80f70594_b.jpg  \n",
            "  inflating: Dataset/plant/Bamboo/22727186019_a987e954ce_b.jpg  \n",
            "  inflating: Dataset/plant/Bamboo/53484501556_aa0eff749c_b.jpg  \n",
            "  inflating: Dataset/plant/Bamboo/11244162974_382bee1dd3_b.jpg  \n",
            "  inflating: Dataset/plant/Bamboo/8191959907_a3dedd8b7d_b.jpg  \n",
            "  inflating: Dataset/plant/Bamboo/3700638790_6cd2f62483_b.jpg  \n",
            "  inflating: Dataset/plant/Bamboo/51658753994_8cb93c0efe_b.jpg  \n",
            "  inflating: Dataset/plant/Bamboo/3066507454_7e4bbe7001_b.jpg  \n",
            "  inflating: Dataset/plant/Bamboo/7979114852_29e2e406ac_b.jpg  \n",
            "  inflating: Dataset/plant/Bamboo/5743010883_973057b3b3_b.jpg  \n",
            "  inflating: Dataset/plant/Bamboo/6212301305_282751297d.jpg  \n",
            "  inflating: Dataset/plant/Bamboo/12127042_8f8dc71bde_b.jpg  \n",
            "  inflating: Dataset/plant/Bamboo/36347213170_3ace46228e_b.jpg  \n",
            "  inflating: Dataset/plant/Bamboo/52989500127_b636f0b2c4_b.jpg  \n",
            "  inflating: Dataset/plant/Bamboo/50960505681_348d20acbb_b.jpg  \n",
            "  inflating: Dataset/plant/Bamboo/5044088454_47e919a6f9_b.jpg  \n",
            "  inflating: Dataset/plant/Bamboo/2992613655_50fedc7233_b.jpg  \n",
            "  inflating: Dataset/plant/Bamboo/53215327141_0b5e5087fc_b.jpg  \n",
            "  inflating: Dataset/plant/Bamboo/9143556184_bbd1b32ec3_b.jpg  \n",
            "  inflating: Dataset/plant/Bamboo/2319215477_47de7cbdd1_b.jpg  \n",
            "  inflating: Dataset/plant/Tulip/5744138331_96c1d4af69_b.jpg  \n",
            "  inflating: Dataset/plant/Tulip/17149559759_b900574244_b.jpg  \n",
            "  inflating: Dataset/plant/Tulip/8736276937_1fa0182c55_b.jpg  \n",
            "  inflating: Dataset/plant/Tulip/8591674907_6fb71ee4ac_b.jpg  \n",
            "  inflating: Dataset/plant/Tulip/8737398000_9a9a5aafe8_b.jpg  \n",
            "  inflating: Dataset/plant/Tulip/23729019323_9b43841ee8_b.jpg  \n",
            "  inflating: Dataset/plant/Tulip/2894921598_034cdaa2fd_b.jpg  \n",
            "  inflating: Dataset/plant/Tulip/8737398352_46e26270fe_b.jpg  \n",
            "  inflating: Dataset/plant/Tulip/8736277465_e299078abc_b.jpg  \n",
            "  inflating: Dataset/plant/Tulip/5424512503_f6d481c9e2_b.jpg  \n",
            "  inflating: Dataset/plant/Tulip/126001267_09a92bb82f_b.jpg  \n",
            "  inflating: Dataset/plant/Tulip/10755315223_cd7c87cd4a_b.jpg  \n",
            "  inflating: Dataset/plant/Tulip/5424513179_48089eae88_b.jpg  \n",
            "  inflating: Dataset/plant/Tulip/138251736_a1989c926b_b.jpg  \n",
            "  inflating: Dataset/plant/Tulip/17120405658_5c5ef84fb3_b.jpg  \n",
            "  inflating: Dataset/plant/Tulip/3389870482_d23ef6684d_b.jpg  \n",
            "  inflating: Dataset/plant/Tulip/8737398360_87a15588c2_b.jpg  \n",
            "  inflating: Dataset/plant/Tulip/5650668743_2d4a7cf9ab_b.jpg  \n",
            "  inflating: Dataset/plant/Tulip/5390633646_774ef5573b_b.jpg  \n",
            "  inflating: Dataset/plant/Tulip/5517058307_601ea45a33_b.jpg  \n",
            "  inflating: Dataset/plant/Hibiscus/6881482967_eeea8c10f2_b.jpg  \n",
            "  inflating: Dataset/plant/Hibiscus/21863114944_d74d5f7036_b.jpg  \n",
            "  inflating: Dataset/plant/Hibiscus/21975394333_ce8cc2092c_b.jpg  \n",
            "  inflating: Dataset/plant/Hibiscus/846191455_991b984989_b.jpg  \n",
            "  inflating: Dataset/plant/Hibiscus/7609996876_c1028ca32d_b.jpg  \n",
            "  inflating: Dataset/plant/Hibiscus/27662736702_caaa8a4e5c_b.jpg  \n",
            "  inflating: Dataset/plant/Hibiscus/6976655032_5fdde900d6_b.jpg  \n",
            "  inflating: Dataset/plant/Hibiscus/7122736435_38240905d9_b.jpg  \n",
            "  inflating: Dataset/plant/Hibiscus/8494591177_1ac0a2ba0f_b.jpg  \n",
            "  inflating: Dataset/plant/Hibiscus/21863114964_5b3642c328_b.jpg  \n",
            "  inflating: Dataset/plant/Hibiscus/141816619_eac79a7ab8_b.jpg  \n",
            "  inflating: Dataset/plant/Hibiscus/6290159220_96a1236f50_b.jpg  \n",
            "  inflating: Dataset/plant/Hibiscus/4366213150_c89604caf1_b.jpg  \n",
            "  inflating: Dataset/plant/Hibiscus/4815440519_cfc8abc8f0_b.jpg  \n",
            "  inflating: Dataset/plant/Hibiscus/16582276663_8718f42804_b.jpg  \n",
            "  inflating: Dataset/plant/Hibiscus/15053540378_d3f791ac95_b.jpg  \n",
            "  inflating: Dataset/plant/Hibiscus/15239439695_a64555570b_b.jpg  \n",
            "  inflating: Dataset/plant/Hibiscus/8495685118_59913eeabe_b.jpg  \n",
            "  inflating: Dataset/plant/Hibiscus/8495695660_d09c01eec6_b.jpg  \n",
            "  inflating: Dataset/plant/Hibiscus/22297553230_f74e6f817e_b.jpg  \n",
            "  inflating: Dataset/plant/Lantana/52344278161_87edd7ee9b_b.jpg  \n",
            "  inflating: Dataset/plant/Lantana/52139214516_e7a3bb9161_b.jpg  \n",
            "  inflating: Dataset/plant/Lantana/51272700378_74f39cb893_b.jpg  \n",
            "  inflating: Dataset/plant/Lantana/52411629471_f17576a2bb_b.jpg  \n",
            "  inflating: Dataset/plant/Lantana/52256040629_cb0c8b888d_b.jpg  \n",
            "  inflating: Dataset/plant/Lantana/52145609135_6db9e82efa_b.jpg  \n",
            "  inflating: Dataset/plant/Lantana/8411301712_a3ecd40426_b.jpg  \n",
            "  inflating: Dataset/plant/Lantana/50298938452_9e991d8d04_b.jpg  \n",
            "  inflating: Dataset/plant/Lantana/53057542851_891dac29e0_b.jpg  \n",
            "  inflating: Dataset/plant/Lantana/50552975433_ae63f291c3_b.jpg  \n",
            "  inflating: Dataset/plant/Lantana/51966704430_9b9041fff5_b.jpg  \n",
            "  inflating: Dataset/plant/Lantana/52400772345_f2e47fced5_b.jpg  \n",
            "  inflating: Dataset/plant/Lantana/53758024868_68d62e9ffc_b.jpg  \n",
            "  inflating: Dataset/plant/Lantana/52356378629_de983900b6_b.jpg  \n",
            "  inflating: Dataset/plant/Lantana/50126929848_b91d495a69_b.jpg  \n",
            "  inflating: Dataset/plant/Lantana/48143075286_1cbd925468_b.jpg  \n",
            "  inflating: Dataset/plant/Lantana/53786380181_6ba19a0e7e_b.jpg  \n",
            "  inflating: Dataset/plant/Lantana/53067123696_28d7aa67c6_b.jpg  \n",
            "  inflating: Dataset/plant/Lantana/53119723694_6d87d78fc8_b.jpg  \n",
            "  inflating: Dataset/plant/Lantana/8470794692_07609a447b_b.jpg  \n",
            "  inflating: Dataset/plant/Flax/52249543243_71a61eb587_b.jpg  \n",
            "  inflating: Dataset/plant/Flax/51581327016_a14a85a26b_b.jpg  \n",
            "  inflating: Dataset/plant/Flax/52155172022_bc39cccba5_b.jpg  \n",
            "  inflating: Dataset/plant/Flax/52681608087_156f350075_b.jpg  \n",
            "  inflating: Dataset/plant/Flax/49937239558_aa37b4b901_b.jpg  \n",
            "  inflating: Dataset/plant/Flax/52246148272_0645de15e3_b.jpg  \n",
            "  inflating: Dataset/plant/Flax/52273205722_a0da940c2f_b.jpg  \n",
            "  inflating: Dataset/plant/Flax/53010599317_eb1bc9f99c_b.jpg  \n",
            "  inflating: Dataset/plant/Flax/27122090776_c88a948698_b.jpg  \n",
            "  inflating: Dataset/plant/Flax/51234396138_bfb635956c_b.jpg  \n",
            "  inflating: Dataset/plant/Flax/52165451234_360fc2c6ce_b.jpg  \n",
            "  inflating: Dataset/plant/Flax/51260741102_a1e99de8e2_b.jpg  \n",
            "  inflating: Dataset/plant/Flax/27042136670_384fc985aa_b.jpg  \n",
            "  inflating: Dataset/plant/Flax/48202857242_c737def7c2_b.jpg  \n",
            "  inflating: Dataset/plant/Flax/51182093434_0961959762_b.jpg  \n",
            "  inflating: Dataset/plant/Flax/45338331574_d0d8d20d33_b.jpg  \n",
            "  inflating: Dataset/plant/Flax/10184846643_69f99a72d1_b.jpg  \n",
            "  inflating: Dataset/plant/Flax/53000186319_2ca08fc08d_b.jpg  \n",
            "  inflating: Dataset/plant/Flax/53004565267_8a684e5558_b.jpg  \n",
            "  inflating: Dataset/plant/Flax/51519255092_08c53599bc_b.jpg  \n",
            "  inflating: Dataset/plant/Durian/3276023708_e0c9b2ebc6_b.jpg  \n",
            "  inflating: Dataset/plant/Durian/2311164664_8b912b70c3_b.jpg  \n",
            "  inflating: Dataset/plant/Durian/5440202298_5239745709_b.jpg  \n",
            "  inflating: Dataset/plant/Durian/3276022868_2af892fdf0_b.jpg  \n",
            "  inflating: Dataset/plant/Durian/16176184409_4d928ce5eb_b.jpg  \n",
            "  inflating: Dataset/plant/Durian/2482751767_09dc3a3af3_b.jpg  \n",
            "  inflating: Dataset/plant/Durian/2740818911_1158f9f433_b.jpg  \n",
            "  inflating: Dataset/plant/Durian/326965955_0cc76c0ee5_b.jpg  \n",
            "  inflating: Dataset/plant/Durian/3276025446_cacfc8b583_b.jpg  \n",
            "  inflating: Dataset/plant/Durian/4337173253_ff60d2fba0_b.jpg  \n",
            "  inflating: Dataset/plant/Durian/29408288573_734d05580e_b.jpg  \n",
            "  inflating: Dataset/plant/Durian/48125763068_fe58429ab7_b.jpg  \n",
            "  inflating: Dataset/plant/Durian/5472745021_62caaf619c_b.jpg  \n",
            "  inflating: Dataset/plant/Durian/2737921622_c3cc8750b9_b.jpg  \n",
            "  inflating: Dataset/plant/Durian/26691390955_8b37c96e29_b.jpg  \n",
            "  inflating: Dataset/plant/Durian/47110302551_b6b90caedd_b.jpg  \n",
            "  inflating: Dataset/plant/Durian/2311164412_45d43aa07a_b.jpg  \n",
            "  inflating: Dataset/plant/Durian/2210791449_63d362f38e_b.jpg  \n",
            "  inflating: Dataset/plant/Durian/4512557959_783155ae79_b.jpg  \n",
            "  inflating: Dataset/plant/Durian/8431527259_ff0fc0e037_b.jpg  \n",
            "  inflating: Dataset/plant/RangoonCreeper/51088815079_18ef76a98b_b.jpg  \n",
            "  inflating: Dataset/plant/RangoonCreeper/51162632031_0b2ef09346_b.jpg  \n",
            "  inflating: Dataset/plant/RangoonCreeper/17498256752_768f01e02c_b.jpg  \n",
            "  inflating: Dataset/plant/RangoonCreeper/49616264321_bea764a013_b.jpg  \n",
            "  inflating: Dataset/plant/RangoonCreeper/35985499923_479294166d_b.jpg  \n",
            "  inflating: Dataset/plant/RangoonCreeper/49763198468_f218392a71_b.jpg  \n",
            "  inflating: Dataset/plant/RangoonCreeper/13888744864_35115315bb_b.jpg  \n",
            "  inflating: Dataset/plant/RangoonCreeper/49719208002_9932053c65_b.jpg  \n",
            "  inflating: Dataset/plant/RangoonCreeper/6314491207_98b035d4fc_b.jpg  \n",
            "  inflating: Dataset/plant/RangoonCreeper/10074740915_6fc038d110_b.jpg  \n",
            "  inflating: Dataset/plant/RangoonCreeper/51139633126_895c895e32_b.jpg  \n",
            "  inflating: Dataset/plant/RangoonCreeper/13888746194_ac3d3c1aab_b.jpg  \n",
            "  inflating: Dataset/plant/RangoonCreeper/51085994256_cb20d24c1f_b.jpg  \n",
            "  inflating: Dataset/plant/RangoonCreeper/13888345415_9f7042b547_b.jpg  \n",
            "  inflating: Dataset/plant/RangoonCreeper/51326100394_0c826a175d_b.jpg  \n",
            "  inflating: Dataset/plant/RangoonCreeper/50140710961_57bc6fce2e_b.jpg  \n",
            "  inflating: Dataset/plant/RangoonCreeper/29043968_c855ef4bcc_b.jpg  \n",
            "  inflating: Dataset/plant/RangoonCreeper/52798732566_77b5e50bd9_b.jpg  \n",
            "  inflating: Dataset/plant/RangoonCreeper/51018515451_6da74bae7f_b.jpg  \n",
            "  inflating: Dataset/plant/RangoonCreeper/52978593059_a3400f2171_b.jpg  \n",
            "  inflating: Dataset/plant/Fig/6380658845_6ccb6bc763_b.jpg  \n",
            "  inflating: Dataset/plant/Fig/14820735123_11edd36956_b.jpg  \n",
            "  inflating: Dataset/plant/Fig/6006982433_35d9b67b3b_b.jpg  \n",
            "  inflating: Dataset/plant/Fig/19992936783_8b5be032f0_b.jpg  \n",
            "  inflating: Dataset/plant/Fig/3052456900_4c1db0897e_b.jpg  \n",
            "  inflating: Dataset/plant/Fig/6205808634_354a017c1f_b.jpg  \n",
            "  inflating: Dataset/plant/Fig/2929759445_283ae76af2_b.jpg  \n",
            "  inflating: Dataset/plant/Fig/3244420984_b54eb4c907_b.jpg  \n",
            "  inflating: Dataset/plant/Fig/6195566987_93e1502d8b_b.jpg  \n",
            "  inflating: Dataset/plant/Fig/7811795178_cca4f679d8_b.jpg  \n",
            "  inflating: Dataset/plant/Fig/8078936470_50a267049b_b.jpg  \n",
            "  inflating: Dataset/plant/Fig/16346019857_8c8e320ea0_b.jpg  \n",
            "  inflating: Dataset/plant/Fig/7912850020_d010bfe50c_b.jpg  \n",
            "  inflating: Dataset/plant/Fig/20587555266_07242d69ed_b.jpg  \n",
            "  inflating: Dataset/plant/Fig/4095989310_8831608b2a_b.jpg  \n",
            "  inflating: Dataset/plant/Fig/6134792526_81f0e763da_b.jpg  \n",
            "  inflating: Dataset/plant/Fig/7957526886_6c964f99ef_b.jpg  \n",
            "  inflating: Dataset/plant/Fig/6908417223_38d7177600_b.jpg  \n",
            "  inflating: Dataset/plant/Fig/7685715624_ccfc96a53e_b.jpg  \n",
            "  inflating: Dataset/plant/Fig/6380657807_e90b7bab8b_b.jpg  \n",
            "  inflating: Dataset/plant/Apple/5701302672_c6563a9ce1_b.jpg  \n",
            "  inflating: Dataset/plant/Apple/2906849739_b942c783f7_b.jpg  \n",
            "  inflating: Dataset/plant/Apple/6088356389_3a539644de_b.jpg  \n",
            "  inflating: Dataset/plant/Apple/8406479563_86c7f62a78_b.jpg  \n",
            "  inflating: Dataset/plant/Apple/4227822080_1828bd2443_b.jpg  \n",
            "  inflating: Dataset/plant/Apple/8074168006_dd24e474ac_b.jpg  \n",
            "  inflating: Dataset/plant/Apple/95703586_bd2ef4700e_b.jpg  \n",
            "  inflating: Dataset/plant/Apple/6088899104_4671ecb8c7_b.jpg  \n",
            "  inflating: Dataset/plant/Apple/5071012833_f35ecfdd28_b.jpg  \n",
            "  inflating: Dataset/plant/Apple/162108241_e60bdb9ab7_b.jpg  \n",
            "  inflating: Dataset/plant/Apple/1607442851_b725807a95_b.jpg  \n",
            "  inflating: Dataset/plant/Apple/30334151116_7ea79ede9a_b.jpg  \n",
            "  inflating: Dataset/plant/Apple/5340162168_54cb48b2b1_b.jpg  \n",
            "  inflating: Dataset/plant/Apple/2124102411_ff0437ff41_b.jpg  \n",
            "  inflating: Dataset/plant/Apple/6860626645_59ee166237_b.jpg  \n",
            "  inflating: Dataset/plant/Apple/5488647532_9e0b664949_b.jpg  \n",
            "  inflating: Dataset/plant/Apple/5381301033_a8ef922a61_b.jpg  \n",
            "  inflating: Dataset/plant/Apple/21982802134_e4c135c7f8_b.jpg  \n",
            "  inflating: Dataset/plant/Apple/6042016463_8d5c8fba7a_b.jpg  \n",
            "  inflating: Dataset/plant/Apple/5951079854_268766c8e8_b.jpg  \n",
            "  inflating: Dataset/plant/Pea/4122808844_33319b473e_b.jpg  \n",
            "  inflating: Dataset/plant/Pea/52298432331_d780007a3d_b.jpg  \n",
            "  inflating: Dataset/plant/Pea/5692612999_ca30e7d98e_b.jpg  \n",
            "  inflating: Dataset/plant/Pea/5890033033_407aeae4eb_b.jpg  \n",
            "  inflating: Dataset/plant/Pea/27580681310_ae29373d2a_b.jpg  \n",
            "  inflating: Dataset/plant/Pea/18683157413_f516e833a7_b.jpg  \n",
            "  inflating: Dataset/plant/Pea/50049718228_4791a8f7ac_b.jpg  \n",
            "  inflating: Dataset/plant/Pea/145813370_aa9a1cc4a3_b.jpg  \n",
            "  inflating: Dataset/plant/Pea/366649667_dbb4a287ec_b.jpg  \n",
            "  inflating: Dataset/plant/Pea/5087112309_bdf55ca72b_b.jpg  \n",
            "  inflating: Dataset/plant/Pea/14266197617_aa8c076807_b.jpg  \n",
            "  inflating: Dataset/plant/Pea/3139936923_6770451c99_b.jpg  \n",
            "  inflating: Dataset/plant/Pea/13960799479_c6118fba39_b.jpg  \n",
            "  inflating: Dataset/plant/Pea/50083467973_4f65969efd_b.jpg  \n",
            "  inflating: Dataset/plant/Pea/2172816912_5a9819a8b5_b.jpg  \n",
            "  inflating: Dataset/plant/Pea/309446196_b9f187983b_b.jpg  \n",
            "  inflating: Dataset/plant/Pea/50397121137_05c89604f9_b.jpg  \n",
            "  inflating: Dataset/plant/Pea/1291468268_2a70d9b9f1_b.jpg  \n",
            "  inflating: Dataset/plant/Pea/32934471235_8983c4b8d2_b.jpg  \n",
            "  inflating: Dataset/plant/Pea/22498102696_0d662a2d5f_b.jpg  \n",
            "  inflating: Dataset/plant/Banana/5987833116_dbe8bb3015_b.jpg  \n",
            "  inflating: Dataset/plant/Banana/51430661695_2478103b46_b.jpg  \n",
            "  inflating: Dataset/plant/Banana/52940370825_f4c3be697d_b.jpg  \n",
            "  inflating: Dataset/plant/Banana/5170245441_2f8df5ce28_b.jpg  \n",
            "  inflating: Dataset/plant/Banana/3680093683_39deea9703_b.jpg  \n",
            "  inflating: Dataset/plant/Banana/8082044769_288fd1e50b_b.jpg  \n",
            "  inflating: Dataset/plant/Banana/51787178916_d38fe57d47_b.jpg  \n",
            "  inflating: Dataset/plant/Banana/4590036449_01d2f8ae1b_b.jpg  \n",
            "  inflating: Dataset/plant/Banana/3231118036_5a1e1ac0c8_b.jpg  \n",
            "  inflating: Dataset/plant/Banana/1453733670_a5e66314b4_b.jpg  \n",
            "  inflating: Dataset/plant/Banana/51610764834_5ebd1f28c6_b.jpg  \n",
            "  inflating: Dataset/plant/Banana/2191989261_8d648d9a91_b.jpg  \n",
            "  inflating: Dataset/plant/Banana/8561163490_6dc17ff37a_b.jpg  \n",
            "  inflating: Dataset/plant/Banana/52749391648_b56dbf0c76_b.jpg  \n",
            "  inflating: Dataset/plant/Banana/33084038518_29c5185204_b.jpg  \n",
            "  inflating: Dataset/plant/Banana/2459862165_8ef8275b58_b.jpg  \n",
            "  inflating: Dataset/plant/Banana/27691272612_44bd2b7eef_b.jpg  \n",
            "  inflating: Dataset/plant/Banana/5987832128_900747e49f_b.jpg  \n",
            "  inflating: Dataset/plant/Banana/5987270797_6f2db6f86a_b.jpg  \n",
            "  inflating: Dataset/plant/Banana/35269424654_f54232dedc_b.jpg  \n",
            "  inflating: Dataset/plant/Coconut/3363328538_6d76b809a9_b.jpg  \n",
            "  inflating: Dataset/plant/Coconut/27617154966_e7ddb94af3_b.jpg  \n",
            "  inflating: Dataset/plant/Coconut/8101330897_b9fa46a68d_b.jpg  \n",
            "  inflating: Dataset/plant/Coconut/246053863_c780afd6c2_b.jpg  \n",
            "  inflating: Dataset/plant/Coconut/2333893087_c2f16e9ecc_b.jpg  \n",
            "  inflating: Dataset/plant/Coconut/4759110709_f0e2ae134f_b.jpg  \n",
            "  inflating: Dataset/plant/Coconut/1176643998_e56ad478e8_b.jpg  \n",
            "  inflating: Dataset/plant/Coconut/1171434727_1245a0abdc_b.jpg  \n",
            "  inflating: Dataset/plant/Coconut/1365671893_6c57371384_b.jpg  \n",
            "  inflating: Dataset/plant/Coconut/172609187_763d8fc6c6_b.jpg  \n",
            "  inflating: Dataset/plant/Coconut/2350852461_34cc1f2ee8_b.jpg  \n",
            "  inflating: Dataset/plant/Coconut/2864849876_455392dd03_b.jpg  \n",
            "  inflating: Dataset/plant/Coconut/34977101846_fd6a8cd392_b.jpg  \n",
            "  inflating: Dataset/plant/Coconut/273705759_c00865b420_b.jpg  \n",
            "  inflating: Dataset/plant/Coconut/50203617536_164417fc4b_b.jpg  \n",
            "  inflating: Dataset/plant/Coconut/3564908734_820b5ef77e_b.jpg  \n",
            "  inflating: Dataset/plant/Coconut/4759746522_9e6ae50b57_b.jpg  \n",
            "  inflating: Dataset/plant/Coconut/13308569713_dcd23cf4f5_b.jpg  \n",
            "  inflating: Dataset/plant/Coconut/53716014803_3344904fea_b.jpg  \n",
            "  inflating: Dataset/plant/Coconut/40187693963_4e009be30e_b.jpg  \n",
            "  inflating: Dataset/plant/Flower/14242350139_a9b41ffb77_b.jpg  \n",
            "  inflating: Dataset/plant/Flower/31125348616_9d67539ecf_b.jpg  \n",
            "  inflating: Dataset/plant/Flower/11499822513_9c6a235cbe_b.jpg  \n",
            "  inflating: Dataset/plant/Flower/20857981068_05f2bf562d_b.jpg  \n",
            "  inflating: Dataset/plant/Flower/3446613250_8569b7d582_b.jpg  \n",
            "  inflating: Dataset/plant/Flower/10987254285_1fe11d08f6_b.jpg  \n",
            "  inflating: Dataset/plant/Flower/33665525561_9ddf963fde_b.jpg  \n",
            "  inflating: Dataset/plant/Flower/14072034510_d8671d5353_b.jpg  \n",
            "  inflating: Dataset/plant/Flower/6446600053_14c322b898_b.jpg  \n",
            "  inflating: Dataset/plant/Flower/25355492521_38634d72de_b.jpg  \n",
            "  inflating: Dataset/plant/Flower/7771236242_dcd74ab87b_b.jpg  \n",
            "  inflating: Dataset/plant/Flower/8828082988_da55320a89_b.jpg  \n",
            "  inflating: Dataset/plant/Flower/14129156170_9d219a3b7a_b.jpg  \n",
            "  inflating: Dataset/plant/Flower/6870285455_8995528a8b_b.jpg  \n",
            "  inflating: Dataset/plant/Flower/21620255422_5e3c603dfe_b.jpg  \n",
            "  inflating: Dataset/plant/Flower/13493353785_cb065f1edd_b.jpg  \n",
            "  inflating: Dataset/plant/Flower/14332463333_02eb2f1574_b.jpg  \n",
            "  inflating: Dataset/plant/Flower/9669892190_e7cd0142a9_b.jpg  \n",
            "  inflating: Dataset/plant/Flower/24975198055_9f5772c370_b.jpg  \n",
            "  inflating: Dataset/plant/Flower/13493356125_f357f2c491_b.jpg  \n",
            "  inflating: Dataset/plant/Mushroom/4367914709_228f0abd52_b.jpg  \n",
            "  inflating: Dataset/plant/Mushroom/6181478475_10164bb72b_b.jpg  \n",
            "  inflating: Dataset/plant/Mushroom/3397647648_48b7c31722_b.jpg  \n",
            "  inflating: Dataset/plant/Mushroom/3607099094_eed0cd0fed_b.jpg  \n",
            "  inflating: Dataset/plant/Mushroom/24350748260_79bb257ed6_b.jpg  \n",
            "  inflating: Dataset/plant/Mushroom/5801866483_c948cdf861_b.jpg  \n",
            "  inflating: Dataset/plant/Mushroom/5061413221_cf4528b290_b.jpg  \n",
            "  inflating: Dataset/plant/Mushroom/32739018933_19b5226b24_b.jpg  \n",
            "  inflating: Dataset/plant/Mushroom/21745472762_11544b2639_b.jpg  \n",
            "  inflating: Dataset/plant/Mushroom/189098954_f360f4bdfe_b.jpg  \n",
            "  inflating: Dataset/plant/Mushroom/253194158_b2648f61df_b.jpg  \n",
            "  inflating: Dataset/plant/Mushroom/6852319357_324df0fb88_b.jpg  \n",
            "  inflating: Dataset/plant/Mushroom/10355365375_76115ee1b8_b.jpg  \n",
            "  inflating: Dataset/plant/Mushroom/5787748567_41e3c07d4c_b.jpg  \n",
            "  inflating: Dataset/plant/Mushroom/21574137109_f1b537ce9a_b.jpg  \n",
            "  inflating: Dataset/plant/Mushroom/5458607051_4daae473bf_b.jpg  \n",
            "  inflating: Dataset/plant/Mushroom/897666596_34a809f30c_b.jpg  \n",
            "  inflating: Dataset/plant/Mushroom/481012156_f8751644b8_b.jpg  \n",
            "  inflating: Dataset/plant/Mushroom/21570252409_e4633317c4_b.jpg  \n",
            "  inflating: Dataset/plant/Mushroom/846238617_97291a900b_b.jpg  \n",
            "  inflating: Dataset/plant/Cottonplant/29932864264_1d875455c5_b.jpg  \n",
            "  inflating: Dataset/plant/Cottonplant/12945103443_4f53735272_b.jpg  \n",
            "  inflating: Dataset/plant/Cottonplant/2957699101_749ea249d3_b.jpg  \n",
            "  inflating: Dataset/plant/Cottonplant/15296206593_1d1a18a068_b.jpg  \n",
            "  inflating: Dataset/plant/Cottonplant/6131480546_f706e93407_b.jpg  \n",
            "  inflating: Dataset/plant/Cottonplant/41569719005_67551b978a_b.jpg  \n",
            "  inflating: Dataset/plant/Cottonplant/33928497821_3317ed77bb_b.jpg  \n",
            "  inflating: Dataset/plant/Cottonplant/6966172719_13dbac496d_b.jpg  \n",
            "  inflating: Dataset/plant/Cottonplant/52230981762_82ff700322_b.jpg  \n",
            "  inflating: Dataset/plant/Cottonplant/4768230521_134a92945d_b.jpg  \n",
            "  inflating: Dataset/plant/Cottonplant/52215187451_4996854a35_b.jpg  \n",
            "  inflating: Dataset/plant/Cottonplant/8197803736_9d6bee8c28_b.jpg  \n",
            "  inflating: Dataset/plant/Cottonplant/48581955432_b79f41bf0a_b.jpg  \n",
            "  inflating: Dataset/plant/Cottonplant/34017297786_b3bdae6e3f_b.jpg  \n",
            "  inflating: Dataset/plant/Cottonplant/37969242581_ced9851653_b.jpg  \n",
            "  inflating: Dataset/plant/Cottonplant/42809462930_a5e39af74c_b.jpg  \n",
            "  inflating: Dataset/plant/Cottonplant/3974033791_f25ecedb2d_b.jpg  \n",
            "  inflating: Dataset/plant/Cottonplant/8180149389_f2c89c0037_b.jpg  \n",
            "  inflating: Dataset/plant/Cottonplant/4404708476_0aafe40f74_b.jpg  \n",
            "  inflating: Dataset/plant/Cottonplant/3974030229_066b6b41f3_b.jpg  \n",
            "  inflating: Dataset/plant/Bougainvillea/43993988280_98a9c46a4d.jpg  \n",
            "  inflating: Dataset/plant/Bougainvillea/50182504896_d38cd85545_b.jpg  \n",
            "  inflating: Dataset/plant/Bougainvillea/52992139413_82d3444c57_b.jpg  \n",
            "  inflating: Dataset/plant/Bougainvillea/51251604524_d1854cf7a5_b.jpg  \n",
            "  inflating: Dataset/plant/Bougainvillea/51346105743_21e04cfc66_b.jpg  \n",
            "  inflating: Dataset/plant/Bougainvillea/52009030430_ebae162703_b.jpg  \n",
            "  inflating: Dataset/plant/Bougainvillea/52457129829_c24ce94d42_b.jpg  \n",
            "  inflating: Dataset/plant/Bougainvillea/52933773027_690f6af44c_b.jpg  \n",
            "  inflating: Dataset/plant/Bougainvillea/51942033827_cf23b75aee_b.jpg  \n",
            "  inflating: Dataset/plant/Bougainvillea/50279612003_3cac19d4f3_b.jpg  \n",
            "  inflating: Dataset/plant/Bougainvillea/52529067383_bda4b3e7a5_b.jpg  \n",
            "  inflating: Dataset/plant/Bougainvillea/32796245997_1b58793488_b.jpg  \n",
            "  inflating: Dataset/plant/Bougainvillea/52327114515_c4aa4ff0fa_b.jpg  \n",
            "  inflating: Dataset/plant/Bougainvillea/52365294122_4c8ef83599_b.jpg  \n",
            "  inflating: Dataset/plant/Bougainvillea/52157852041_45bf4929cc_b.jpg  \n",
            "  inflating: Dataset/plant/Bougainvillea/50737472186_f9c5acc218_b.jpg  \n",
            "  inflating: Dataset/plant/Bougainvillea/53629325266_e1e230288a_b.jpg  \n",
            "  inflating: Dataset/plant/Bougainvillea/50558478326_c3d669cde6_b.jpg  \n",
            "  inflating: Dataset/plant/Bougainvillea/49398307062_2a15f93869_b.jpg  \n",
            "  inflating: Dataset/plant/Bougainvillea/52965531854_58381d130a_b.jpg  \n",
            "  inflating: Dataset/plant/Corn/2758714217_7e7bee3253_b.jpg  \n",
            "  inflating: Dataset/plant/Corn/6048481232_5d9524f679_b.jpg  \n",
            "  inflating: Dataset/plant/Corn/2736771408_3bef980e54_b.jpg  \n",
            "  inflating: Dataset/plant/Corn/6294855408_75b433e63e_b.jpg  \n",
            "  inflating: Dataset/plant/Corn/62434_14fcfa71b3_b.jpg  \n",
            "  inflating: Dataset/plant/Corn/2436251076_244a0b44a8_b.jpg  \n",
            "  inflating: Dataset/plant/Corn/3929675039_c06b6a9440_b.jpg  \n",
            "  inflating: Dataset/plant/Corn/5147777855_4806ccda9f_b.jpg  \n",
            "  inflating: Dataset/plant/Corn/7877050692_beb4333ff5_b.jpg  \n",
            "  inflating: Dataset/plant/Corn/8097185619_2df2d757e0_b.jpg  \n",
            "  inflating: Dataset/plant/Corn/6033752922_f3044b77d9_b.jpg  \n",
            "  inflating: Dataset/plant/Corn/590641719_6ca62c0d5a_b.jpg  \n",
            "  inflating: Dataset/plant/Corn/451236535_4656e1e62e_b.jpg  \n",
            "  inflating: Dataset/plant/Corn/3572306382_5d8a339b7a_b.jpg  \n",
            "  inflating: Dataset/plant/Corn/82440205_38de904562_b.jpg  \n",
            "  inflating: Dataset/plant/Corn/2798031999_9a4c4158fc_b.jpg  \n",
            "  inflating: Dataset/plant/Corn/1138989871_dfcc07d886_b.jpg  \n",
            "  inflating: Dataset/plant/Corn/2082059645_cdeb18364d_b.jpg  \n",
            "  inflating: Dataset/plant/Corn/4586442750_a8f9cc2532_b.jpg  \n",
            "  inflating: Dataset/plant/Corn/5410583738_3a403b63cd_b.jpg  \n",
            "  inflating: Dataset/plant/Palmtree/32268039515_38959d6e2a_b.jpg  \n",
            "  inflating: Dataset/plant/Palmtree/23368618982_0c0b0e1ecb_b.jpg  \n",
            "  inflating: Dataset/plant/Palmtree/4256870033_fae46b552f_b.jpg  \n",
            "  inflating: Dataset/plant/Palmtree/22849955473_c54a50a433_b.jpg  \n",
            "  inflating: Dataset/plant/Palmtree/3289031017_b1fe356b82_b.jpg  \n",
            "  inflating: Dataset/plant/Palmtree/38203532_fdef3e5531_b.jpg  \n",
            "  inflating: Dataset/plant/Palmtree/23109055979_0eaef1941e_b.jpg  \n",
            "  inflating: Dataset/plant/Palmtree/49585056777_af45299a13_b.jpg  \n",
            "  inflating: Dataset/plant/Palmtree/4300527474_264647d477_b.jpg  \n",
            "  inflating: Dataset/plant/Palmtree/3164178170_3abab2aebb_b.jpg  \n",
            "  inflating: Dataset/plant/Palmtree/13921784183_a2d3ff15c8_b.jpg  \n",
            "  inflating: Dataset/plant/Palmtree/4043910600_cd8e2510f8_b.jpg  \n",
            "  inflating: Dataset/plant/Palmtree/3429001719_a6ee10cf25_b.jpg  \n",
            "  inflating: Dataset/plant/Palmtree/31891723980_463b56ecf2_b.jpg  \n",
            "  inflating: Dataset/plant/Palmtree/35220834766_5d1680c918_b.jpg  \n",
            "  inflating: Dataset/plant/Palmtree/46833379574_90294bf93f_b.jpg  \n",
            "  inflating: Dataset/plant/Palmtree/32408658646_79c9fcd24a_b.jpg  \n",
            "  inflating: Dataset/plant/Palmtree/41845529985_04513daa36_b.jpg  \n",
            "  inflating: Dataset/plant/Palmtree/36474408280_fcd52b097d_b.jpg  \n",
            "  inflating: Dataset/plant/Palmtree/2852961128_c2d033589e_b.jpg  \n",
            "  inflating: Dataset/plant/Apricot/49870563801_bc717d76c3_b.jpg  \n",
            "  inflating: Dataset/plant/Apricot/49870563221_c740193274_b.jpg  \n",
            "  inflating: Dataset/plant/Apricot/49881165307_d4d0a265ff_b.jpg  \n",
            "  inflating: Dataset/plant/Apricot/14385504743_cdddbc1e8a_b.jpg  \n",
            "  inflating: Dataset/plant/Apricot/49870562646_2258dfc65e_b.jpg  \n",
            "  inflating: Dataset/plant/Apricot/49870029853_19eae1b754_b.jpg  \n",
            "  inflating: Dataset/plant/Apricot/173358389_d8e4bbfde9_b.jpg  \n",
            "  inflating: Dataset/plant/Apricot/49870562396_f12dec18be_b.jpg  \n",
            "  inflating: Dataset/plant/Apricot/49870562301_6817ddff30_b.jpg  \n",
            "  inflating: Dataset/plant/Apricot/49870029173_46f10494ff_b.jpg  \n",
            "  inflating: Dataset/plant/Apricot/49870869567_32ea7ba05e_b.jpg  \n",
            "  inflating: Dataset/plant/Apricot/37185219925_d6dc502aa4_b.jpg  \n",
            "  inflating: Dataset/plant/Apricot/49870563441_3a8c5c84ab_b.jpg  \n",
            "  inflating: Dataset/plant/Apricot/49870869032_f58ab75a8b_b.jpg  \n",
            "  inflating: Dataset/plant/Apricot/49870868757_c39fa0ea28_b.jpg  \n",
            "  inflating: Dataset/plant/Apricot/49870868567_2109abcb27_b.jpg  \n",
            "  inflating: Dataset/plant/Apricot/49870563656_69706ac31e_b.jpg  \n",
            "  inflating: Dataset/plant/Apricot/49870868372_e3f6f8055e_b.jpg  \n",
            "  inflating: Dataset/plant/Apricot/49870562181_768bbd9f5a_b.jpg  \n",
            "  inflating: Dataset/plant/Apricot/49870030268_9c60c6644b_b.jpg  \n",
            "  inflating: Dataset/plant/Weed/5651665503_b0801f2c42_b.jpg  \n",
            "  inflating: Dataset/plant/Weed/49362961016_f39f9dc1fa_b.jpg  \n",
            "  inflating: Dataset/plant/Weed/52235170181_a4b54fbd3e_b.jpg  \n",
            "  inflating: Dataset/plant/Weed/6076926785_45d7b245ca_b.jpg  \n",
            "  inflating: Dataset/plant/Weed/52814399290_d1a5d6d8b5_b.jpg  \n",
            "  inflating: Dataset/plant/Weed/14868550903_5f4c728c4f_b.jpg  \n",
            "  inflating: Dataset/plant/Weed/9713637718_093fa29923_b.jpg  \n",
            "  inflating: Dataset/plant/Weed/854765604_d9e62cb9aa_b.jpg  \n",
            "  inflating: Dataset/plant/Weed/1673243375_39e80ca205_b.jpg  \n",
            "  inflating: Dataset/plant/Weed/6674164035_f1b3978b40_b.jpg  \n",
            "  inflating: Dataset/plant/Weed/27454407432_39b99a4634_b.jpg  \n",
            "  inflating: Dataset/plant/Weed/5013551891_e155afe77b_b.jpg  \n",
            "  inflating: Dataset/plant/Weed/50996023608_fc760ef3e3_b.jpg  \n",
            "  inflating: Dataset/plant/Weed/51993647669_45eb69ff67_b.jpg  \n",
            "  inflating: Dataset/plant/Weed/3698451589_629d74aa64_b.jpg  \n",
            "  inflating: Dataset/plant/Weed/51141666586_c3b807f7ba_b.jpg  \n",
            "  inflating: Dataset/plant/Weed/30074528520_8f764105d9_b.jpg  \n",
            "  inflating: Dataset/plant/Weed/52294186648_1604947e73_b.jpg  \n",
            "  inflating: Dataset/plant/Weed/4869586096_26479ce885_b.jpg  \n",
            "  inflating: Dataset/plant/Weed/52886063715_b64e90d6a7_b.jpg  \n",
            "  inflating: Dataset/plant/Shrub/50779175573_65c3a8e623_b.jpg  \n",
            "  inflating: Dataset/plant/Shrub/51270290533_75d26b56c9_b.jpg  \n",
            "  inflating: Dataset/plant/Shrub/51662204416_a734981a88_b.jpg  \n",
            "  inflating: Dataset/plant/Shrub/26214012142_6ec4e766a1_b.jpg  \n",
            "  inflating: Dataset/plant/Shrub/51746688832_4380a61544_b.jpg  \n",
            "  inflating: Dataset/plant/Shrub/50891096778_8a7d80f116_b.jpg  \n",
            "  inflating: Dataset/plant/Shrub/50855854958_50a710dcde_b.jpg  \n",
            "  inflating: Dataset/plant/Shrub/18164194144_a1924236fa_b.jpg  \n",
            "  inflating: Dataset/plant/Shrub/2438121686_5c8c815218_b.jpg  \n",
            "  inflating: Dataset/plant/Shrub/50930206477_03585ed8cd_b.jpg  \n",
            "  inflating: Dataset/plant/Shrub/50771041622_e4c8a6625e_b.jpg  \n",
            "  inflating: Dataset/plant/Shrub/51536218213_a950a7c03a_b.jpg  \n",
            "  inflating: Dataset/plant/Shrub/51006529106_e4a39436f8_b.jpg  \n",
            "  inflating: Dataset/plant/Shrub/50950699667_f74f52715d_b.jpg  \n",
            "  inflating: Dataset/plant/Shrub/50779946016_25d5b70443_b.jpg  \n",
            "  inflating: Dataset/plant/Shrub/50912311217_96733df3c1_b.jpg  \n",
            "  inflating: Dataset/plant/Shrub/4547563839_f023d07b74_b.jpg  \n",
            "  inflating: Dataset/plant/Shrub/50929400573_3c7f0fbd41_b.jpg  \n",
            "  inflating: Dataset/plant/Shrub/513324824_919a4698fe_b.jpg  \n",
            "  inflating: Dataset/plant/Shrub/51014123146_0ec6aa49aa_b.jpg  \n",
            "  inflating: Dataset/plant/OrchidTree/53722444476_164d86669a_b.jpg  \n",
            "  inflating: Dataset/plant/OrchidTree/8694104710_52530e62d6_b.jpg  \n",
            "  inflating: Dataset/plant/OrchidTree/1336739562_32d53f1778_b.jpg  \n",
            "  inflating: Dataset/plant/OrchidTree/52775614766_3d7715cff2_b.jpg  \n",
            "  inflating: Dataset/plant/OrchidTree/3992279357_a5549ee93d_b.jpg  \n",
            "  inflating: Dataset/plant/OrchidTree/26485938987_be68cf128d_b.jpg  \n",
            "  inflating: Dataset/plant/OrchidTree/53636033374_9985ae6e00_b.jpg  \n",
            "  inflating: Dataset/plant/OrchidTree/52796080823_9c9d17c611_b.jpg  \n",
            "  inflating: Dataset/plant/OrchidTree/40467708400_6898b41599.jpg  \n",
            "  inflating: Dataset/plant/OrchidTree/53325126473_7f0fdbe5b1_b.jpg  \n",
            "  inflating: Dataset/plant/OrchidTree/52594104399_cb7fb234c4_b.jpg  \n",
            "  inflating: Dataset/plant/OrchidTree/52776826916_1dc167672f_b.jpg  \n",
            "  inflating: Dataset/plant/OrchidTree/51042955143_1991384dcb_b.jpg  \n",
            "  inflating: Dataset/plant/OrchidTree/52576874933_de2ff21d61_b.jpg  \n",
            "  inflating: Dataset/plant/OrchidTree/20848075268_8041ecd8d3_b.jpg  \n",
            "  inflating: Dataset/plant/OrchidTree/50018674448_239f8335a9_b.jpg  \n",
            "  inflating: Dataset/plant/OrchidTree/51965814682_cd173ea416_b.jpg  \n",
            "  inflating: Dataset/plant/OrchidTree/8608380426_d9af7de980_b.jpg  \n",
            "  inflating: Dataset/plant/OrchidTree/6160713674_1ec1f59d27_b.jpg  \n",
            "  inflating: Dataset/plant/OrchidTree/52781774535_8af466ecc9_b.jpg  \n",
            "  inflating: Dataset/plant/Bean/1202816404_cd36a18346_b.jpg  \n",
            "  inflating: Dataset/plant/Bean/2861389970_a536936ce0_b.jpg  \n",
            "  inflating: Dataset/plant/Bean/949051018_cba1b2a176_b.jpg  \n",
            "  inflating: Dataset/plant/Bean/4595524117_d456f5ef4a_b.jpg  \n",
            "  inflating: Dataset/plant/Bean/2191757478_4191668487_b.jpg  \n",
            "  inflating: Dataset/plant/Bean/3819363576_331cb30a50_b.jpg  \n",
            "  inflating: Dataset/plant/Bean/8529951413_c315df19e5_b.jpg  \n",
            "  inflating: Dataset/plant/Bean/1473324118_350bc5ba6d_b.jpg  \n",
            "  inflating: Dataset/plant/Bean/6563374387_e37036f0c7_b.jpg  \n",
            "  inflating: Dataset/plant/Bean/5357381232_514159abdc_b.jpg  \n",
            "  inflating: Dataset/plant/Bean/4619494509_070713e1ba_b.jpg  \n",
            "  inflating: Dataset/plant/Bean/8180098606_f13641e0f7_b.jpg  \n",
            "  inflating: Dataset/plant/Bean/5526083_1a5235a98a_b.jpg  \n",
            "  inflating: Dataset/plant/Bean/7323775810_69fa29519b_b.jpg  \n",
            "  inflating: Dataset/plant/Bean/7973426002_77c30cd7d6_b.jpg  \n",
            "  inflating: Dataset/plant/Bean/8180094390_ac98bd7731_b.jpg  \n",
            "  inflating: Dataset/plant/Bean/1104799451_615c18f628_b.jpg  \n",
            "  inflating: Dataset/plant/Bean/5819810256_e4aa4734bb_b.jpg  \n",
            "  inflating: Dataset/plant/Bean/4096592667_ae87f780c0_b.jpg  \n",
            "  inflating: Dataset/plant/Bean/15134304555_ec73f5bd82_b.jpg  \n",
            "  inflating: Dataset/animal/Frog/28203921766_6b891fb0d5_b.jpg  \n",
            "  inflating: Dataset/animal/Frog/2188897317_152b0f83fc_b.jpg  \n",
            "  inflating: Dataset/animal/Frog/33315833724_9173a8a7ea_b.jpg  \n",
            "  inflating: Dataset/animal/Frog/22997295271_f6ab30a978_b.jpg  \n",
            "  inflating: Dataset/animal/Frog/54289950_bc34eec995_b.jpg  \n",
            "  inflating: Dataset/animal/Frog/5706438171_e52a22b13c_b.jpg  \n",
            "  inflating: Dataset/animal/Frog/14742587376_63172b13b2_b.jpg  \n",
            "  inflating: Dataset/animal/Frog/23422477575_3f46c97c90_b.jpg  \n",
            "  inflating: Dataset/animal/Frog/6092631088_b6feddbd2d_b.jpg  \n",
            "  inflating: Dataset/animal/Frog/5050935678_54f082e2b7_b.jpg  \n",
            "  inflating: Dataset/animal/Frog/11949633503_ed22af6c38_b.jpg  \n",
            "  inflating: Dataset/animal/Frog/9509342742_ba34289e49_b.jpg  \n",
            "  inflating: Dataset/animal/Frog/28092119120_d7dab47823_b.jpg  \n",
            "  inflating: Dataset/animal/Frog/35075621736_6457d3859e_b.jpg  \n",
            "  inflating: Dataset/animal/Frog/2545035525_22685e27f4_b.jpg  \n",
            "  inflating: Dataset/animal/Frog/32424066665_b4da1eb391_b.jpg  \n",
            "  inflating: Dataset/animal/Frog/31836986960_4e5b05dbdb_b.jpg  \n",
            "  inflating: Dataset/animal/Frog/32424069955_e026330351_b.jpg  \n",
            "  inflating: Dataset/animal/Frog/8730242254_ae92101044_b.jpg  \n",
            "  inflating: Dataset/animal/Frog/21705733248_944701cd0c_b.jpg  \n",
            "  inflating: Dataset/animal/Spider/8711408882_04f18f34d5_b.jpg  \n",
            "  inflating: Dataset/animal/Spider/2793532318_e85ef145fe_b.jpg  \n",
            "  inflating: Dataset/animal/Spider/43128561982_a096ee5a90_b.jpg  \n",
            "  inflating: Dataset/animal/Spider/5012424636_7a38373f75_b.jpg  \n",
            "  inflating: Dataset/animal/Spider/5994616685_36c4b0b3d5_b.jpg  \n",
            "  inflating: Dataset/animal/Spider/42494209754_227a24279a_b.jpg  \n",
            "  inflating: Dataset/animal/Spider/43840746165_b09c2b9e85_b.jpg  \n",
            "  inflating: Dataset/animal/Spider/14688174240_1dccdbaecb_b.jpg  \n",
            "  inflating: Dataset/animal/Spider/559737164_cbb3cc7998_b.jpg  \n",
            "  inflating: Dataset/animal/Spider/708638858_056279bf39_b.jpg  \n",
            "  inflating: Dataset/animal/Spider/36041064443_6282f2436a_b.jpg  \n",
            "  inflating: Dataset/animal/Spider/22332099801_e66b47a564_b.jpg  \n",
            "  inflating: Dataset/animal/Spider/35175918272_3c5a772627_b.jpg  \n",
            "  inflating: Dataset/animal/Spider/24678611108_93f6f4c35a_b.jpg  \n",
            "  inflating: Dataset/animal/Spider/14810054272_eb50fb6ffc_b.jpg  \n",
            "  inflating: Dataset/animal/Spider/2851359336_d7fa1761b2_b.jpg  \n",
            "  inflating: Dataset/animal/Spider/34264741564_b369183e61_b.jpg  \n",
            "  inflating: Dataset/animal/Spider/6208284939_e31f22f9d9_b.jpg  \n",
            "  inflating: Dataset/animal/Spider/20960755196_1e0b15fdf7_b.jpg  \n",
            "  inflating: Dataset/animal/Spider/11775346275_c49c996a5a_b.jpg  \n",
            "  inflating: Dataset/animal/Pangolins/2276231701_3fb42c5e17_b.jpg  \n",
            "  inflating: Dataset/animal/Pangolins/5109479663_c2b33f94ac_b.jpg  \n",
            "  inflating: Dataset/animal/Pangolins/49551755726_39bdff30e6_b.jpg  \n",
            "  inflating: Dataset/animal/Pangolins/8360563425_28d4e1906e_b.jpg  \n",
            "  inflating: Dataset/animal/Pangolins/49551260173_49847aa549_b.jpg  \n",
            "  inflating: Dataset/animal/Pangolins/26856934406_a5b31c2ce5_b.jpg  \n",
            "  inflating: Dataset/animal/Pangolins/5675920973_6edfa50cf5_b.jpg  \n",
            "  inflating: Dataset/animal/Pangolins/36927936552_1d50a9f981_b.jpg  \n",
            "  inflating: Dataset/animal/Pangolins/1971073665_a6731397ec_b.jpg  \n",
            "  inflating: Dataset/animal/Pangolins/26368258000_7ff90be911_b.jpg  \n",
            "  inflating: Dataset/animal/Pangolins/5353180950_9d9127ee52_b.jpg  \n",
            "  inflating: Dataset/animal/Pangolins/4578588773_30e30b4cbd_b.jpg  \n",
            "  inflating: Dataset/animal/Pangolins/685425781_c53e3e7c4b_b.jpg  \n",
            "  inflating: Dataset/animal/Pangolins/49551259213_970ab66346_b.jpg  \n",
            "  inflating: Dataset/animal/Pangolins/49551755981_2fe199e823_b.jpg  \n",
            "  inflating: Dataset/animal/Pangolins/5675925639_a5080b5c7c_b.jpg  \n",
            "  inflating: Dataset/animal/Pangolins/49551992812_ec154305be_b.jpg  \n",
            "  inflating: Dataset/animal/Pangolins/49551756336_19d73faeb2_b.jpg  \n",
            "  inflating: Dataset/animal/Pangolins/49551993367_d30d684db0_b.jpg  \n",
            "  inflating: Dataset/animal/Pangolins/303179824_cc6e32da9b_b.jpg  \n",
            "  inflating: Dataset/animal/Flies/24759061565_e5bf595de6_b.jpg  \n",
            "  inflating: Dataset/animal/Flies/16090550634_b6a03fce48_b.jpg  \n",
            "  inflating: Dataset/animal/Flies/5989122731_342fd3567e_b.jpg  \n",
            "  inflating: Dataset/animal/Flies/25417429568_6000d03293_b.jpg  \n",
            "  inflating: Dataset/animal/Flies/16525427690_196e4d5c2b_b.jpg  \n",
            "  inflating: Dataset/animal/Flies/6246101237_dc7b5830bc_b.jpg  \n",
            "  inflating: Dataset/animal/Flies/34516610312_7d73ec23ca_b.jpg  \n",
            "  inflating: Dataset/animal/Flies/17094471361_bdefa60ec2_b.jpg  \n",
            "  inflating: Dataset/animal/Flies/14946516384_ff049f436d_b.jpg  \n",
            "  inflating: Dataset/animal/Flies/41778583345_2f0e64825a_b.jpg  \n",
            "  inflating: Dataset/animal/Flies/26719145825_1c61c4622d_b.jpg  \n",
            "  inflating: Dataset/animal/Flies/6645304295_ba0d60cd51_b.jpg  \n",
            "  inflating: Dataset/animal/Flies/38557126836_f784078e8b_b.jpg  \n",
            "  inflating: Dataset/animal/Flies/16475003963_3dea3ce4b3_b.jpg  \n",
            "  inflating: Dataset/animal/Flies/29266772798_65e370f218_b.jpg  \n",
            "  inflating: Dataset/animal/Flies/8000088117_df78279f8a_b.jpg  \n",
            "  inflating: Dataset/animal/Flies/7320090694_926aa5a2c3_b.jpg  \n",
            "  inflating: Dataset/animal/Flies/5601702186_c2fb93d13a_b.jpg  \n",
            "  inflating: Dataset/animal/Flies/28465292138_de7e7ece81_b.jpg  \n",
            "  inflating: Dataset/animal/Flies/26625874682_a5fc654805_b.jpg  \n",
            "  inflating: Dataset/animal/Ants/8399625914_ed00a8c592_b.jpg  \n",
            "  inflating: Dataset/animal/Ants/5093284259_cced67c317_b.jpg  \n",
            "  inflating: Dataset/animal/Ants/4600554407_4834630b8b_b.jpg  \n",
            "  inflating: Dataset/animal/Ants/3410262702_dcef1a78a9_b.jpg  \n",
            "  inflating: Dataset/animal/Ants/2720988253_ed44346067_b.jpg  \n",
            "  inflating: Dataset/animal/Ants/17999309072_42d13aa079_b.jpg  \n",
            "  inflating: Dataset/animal/Ants/3409453115_fa0ddf141b_b.jpg  \n",
            "  inflating: Dataset/animal/Ants/631385974_8e91b6e1eb_b.jpg  \n",
            "  inflating: Dataset/animal/Ants/6949923296_e6fb156f55_b.jpg  \n",
            "  inflating: Dataset/animal/Ants/2174367667_cbb0484ddd_b.jpg  \n",
            "  inflating: Dataset/animal/Ants/5752450397_f67e125cc4_b.jpg  \n",
            "  inflating: Dataset/animal/Ants/17901278979_d6856db1f9_b.jpg  \n",
            "  inflating: Dataset/animal/Ants/7637764334_b1813b828a_b.jpg  \n",
            "  inflating: Dataset/animal/Ants/17379916524_dff0c4142d_b.jpg  \n",
            "  inflating: Dataset/animal/Ants/17381991233_211a9844e8_b.jpg  \n",
            "  inflating: Dataset/animal/Ants/26798729431_48fba71696_b.jpg  \n",
            "  inflating: Dataset/animal/Ants/7004683533_af10a44253_b.jpg  \n",
            "  inflating: Dataset/animal/Ants/14058217107_01c59da497_b.jpg  \n",
            "  inflating: Dataset/animal/Ants/6780534533_691c5f9626_b.jpg  \n",
            "  inflating: Dataset/animal/Ants/33846692900_89016be5be_b.jpg  \n",
            "  inflating: Dataset/animal/Elephant/3868199037_5477897416_b.jpg  \n",
            "  inflating: Dataset/animal/Elephant/4838416767_bb01ceda8c_b.jpg  \n",
            "  inflating: Dataset/animal/Elephant/6238392751_6114cb252b_b.jpg  \n",
            "  inflating: Dataset/animal/Elephant/5535174602_fc6e7cc6f8_b.jpg  \n",
            "  inflating: Dataset/animal/Elephant/9480237487_53fe2fb608_b.jpg  \n",
            "  inflating: Dataset/animal/Elephant/4838416433_ffc564eb4b_b.jpg  \n",
            "  inflating: Dataset/animal/Elephant/319475818_5d68e53e06_b.jpg  \n",
            "  inflating: Dataset/animal/Elephant/14307815484_87d075481a_b.jpg  \n",
            "  inflating: Dataset/animal/Elephant/7339578374_da5daf9ea0_b.jpg  \n",
            "  inflating: Dataset/animal/Elephant/20763279018_692e1a793c_b.jpg  \n",
            "  inflating: Dataset/animal/Elephant/1302683471_f6b4336758_b.jpg  \n",
            "  inflating: Dataset/animal/Elephant/11985592964_486f64a677_b.jpg  \n",
            "  inflating: Dataset/animal/Elephant/4839029036_689bb6afc7_b.jpg  \n",
            "  inflating: Dataset/animal/Elephant/180285899_8f54a73592_b.jpg  \n",
            "  inflating: Dataset/animal/Elephant/27962781004_63ea96eb56_b.jpg  \n",
            "  inflating: Dataset/animal/Elephant/1513373920_fe82af89f0_b.jpg  \n",
            "  inflating: Dataset/animal/Elephant/319476079_d1212ecb0e_b.jpg  \n",
            "  inflating: Dataset/animal/Elephant/25792173096_7384526881_b.jpg  \n",
            "  inflating: Dataset/animal/Elephant/14501388761_6a344e7339_b.jpg  \n",
            "  inflating: Dataset/animal/Elephant/319475768_785e1b3301_b.jpg  \n",
            "  inflating: Dataset/animal/Jellyfish/39297913634_948f939304_b.jpg  \n",
            "  inflating: Dataset/animal/Jellyfish/45431020202_88040ae942_b.jpg  \n",
            "  inflating: Dataset/animal/Jellyfish/28760514535_5c3e56a404_b.jpg  \n",
            "  inflating: Dataset/animal/Jellyfish/4483183856_b00913fdbc_b.jpg  \n",
            "  inflating: Dataset/animal/Jellyfish/39297912244_cafbdaccc2_b.jpg  \n",
            "  inflating: Dataset/animal/Jellyfish/1045387441_a557ac3147_b.jpg  \n",
            "  inflating: Dataset/animal/Jellyfish/686347200_b108531bf9_b.jpg  \n",
            "  inflating: Dataset/animal/Jellyfish/686347370_f262764386_b.jpg  \n",
            "  inflating: Dataset/animal/Jellyfish/42415361800_9962ecf023_b.jpg  \n",
            "  inflating: Dataset/animal/Jellyfish/2921937694_477659eae2_b.jpg  \n",
            "  inflating: Dataset/animal/Jellyfish/4035701454_a94e907584_b.jpg  \n",
            "  inflating: Dataset/animal/Jellyfish/44791540314_c8ae2861d2_b.jpg  \n",
            "  inflating: Dataset/animal/Jellyfish/3848084755_5e6b216a06_b.jpg  \n",
            "  inflating: Dataset/animal/Jellyfish/14331959343_45b748f229_b.jpg  \n",
            "  inflating: Dataset/animal/Jellyfish/39730485915_6cdcf6bce1_b.jpg  \n",
            "  inflating: Dataset/animal/Jellyfish/2053632670_1ca7f6e16e_b.jpg  \n",
            "  inflating: Dataset/animal/Jellyfish/41297258295_2493514071_b.jpg  \n",
            "  inflating: Dataset/animal/Jellyfish/39362148281_d339b7af17_b.jpg  \n",
            "  inflating: Dataset/animal/Jellyfish/44997645741_c487127536_b.jpg  \n",
            "  inflating: Dataset/animal/Jellyfish/3848830812_c22459b20d_b.jpg  \n",
            "  inflating: Dataset/animal/Civet/4280168904_747ce9e715_b.jpg  \n",
            "  inflating: Dataset/animal/Civet/4279425225_c2c8445362_b.jpg  \n",
            "  inflating: Dataset/animal/Civet/5731679094_c0c43f3596_b.jpg  \n",
            "  inflating: Dataset/animal/Civet/5731099545_58a5329014_b.jpg  \n",
            "  inflating: Dataset/animal/Civet/4919010229_19cee9db7a_b.jpg  \n",
            "  inflating: Dataset/animal/Civet/2221350308_09eaa242fe_b.jpg  \n",
            "  inflating: Dataset/animal/Civet/5731616714_ca97b6ed88_b.jpg  \n",
            "  inflating: Dataset/animal/Civet/5731187193_b79a3e043e_b.jpg  \n",
            "  inflating: Dataset/animal/Civet/5731723696_46ec755b3f_b.jpg  \n",
            "  inflating: Dataset/animal/Civet/5731180547_c460922969_b.jpg  \n",
            "  inflating: Dataset/animal/Civet/5731105331_067003dab4_b.jpg  \n",
            "  inflating: Dataset/animal/Civet/5731601694_436de280a3_b.jpg  \n",
            "  inflating: Dataset/animal/Civet/5731637306_3108379bf8_b.jpg  \n",
            "  inflating: Dataset/animal/Civet/5731717286_fd747ed4b3_b.jpg  \n",
            "  inflating: Dataset/animal/Civet/5731208709_330b9929f7_b.jpg  \n",
            "  inflating: Dataset/animal/Civet/33872415502_de5ccdf31b_b.jpg  \n",
            "  inflating: Dataset/animal/Civet/5731125929_3319d816f0_b.jpg  \n",
            "  inflating: Dataset/animal/Civet/5731048151_306b6d93dd_b.jpg  \n",
            "  inflating: Dataset/animal/Civet/5731119231_16a5dbe587_b.jpg  \n",
            "  inflating: Dataset/animal/Civet/4280168562_01b9813921_b.jpg  \n",
            "  inflating: Dataset/animal/cows/43667303721_a5fb635e10_b.jpg  \n",
            "  inflating: Dataset/animal/cows/2989646904_33dd61c1df_b.jpg  \n",
            "  inflating: Dataset/animal/cows/245857494_1d680116a9_b.jpg  \n",
            "  inflating: Dataset/animal/cows/8150825681_f9f9df921e_b.jpg  \n",
            "  inflating: Dataset/animal/cows/17566449265_317f55a6b7_b.jpg  \n",
            "  inflating: Dataset/animal/cows/3316910406_a1917ee9bb_b.jpg  \n",
            "  inflating: Dataset/animal/cows/41897797650_22c6c75359_b.jpg  \n",
            "  inflating: Dataset/animal/cows/9502458291_335867eae4_b.jpg  \n",
            "  inflating: Dataset/animal/cows/3562532959_498c3fb3fe_b.jpg  \n",
            "  inflating: Dataset/animal/cows/15023630476_77bdc24c56_b.jpg  \n",
            "  inflating: Dataset/animal/cows/8102610926_7c2fdb16c5_b.jpg  \n",
            "  inflating: Dataset/animal/cows/5102842392_f99d131d9e_b.jpg  \n",
            "  inflating: Dataset/animal/cows/1140961334_e3c836156d_b.jpg  \n",
            "  inflating: Dataset/animal/cows/15864644097_eb07727790_b.jpg  \n",
            "  inflating: Dataset/animal/cows/26974398835_6f24a1e159_b.jpg  \n",
            "  inflating: Dataset/animal/cows/3983077_af3775862d_b.jpg  \n",
            "  inflating: Dataset/animal/cows/5102842242_e8971025aa_b.jpg  \n",
            "  inflating: Dataset/animal/cows/3621244440_26af8e1303_b.jpg  \n",
            "  inflating: Dataset/animal/cows/23342717833_53f5f72fec_b.jpg  \n",
            "  inflating: Dataset/animal/cows/3705018849_b7b2a70da2_b.jpg  \n",
            "  inflating: Dataset/animal/Dog/1843450988_76909fd561_b.jpg  \n",
            "  inflating: Dataset/animal/Dog/25989424636_2bb1afe859_b.jpg  \n",
            "  inflating: Dataset/animal/Dog/45937447772_49afb0647d.jpg  \n",
            "  inflating: Dataset/animal/Dog/7058942935_d29b5c4778_b.jpg  \n",
            "  inflating: Dataset/animal/Dog/38913035970_790383fd2b_b.jpg  \n",
            "  inflating: Dataset/animal/Dog/4489119695_87144ba60b_b.jpg  \n",
            "  inflating: Dataset/animal/Dog/7012277475_7e126fd8b6_b.jpg  \n",
            "  inflating: Dataset/animal/Dog/8193537196_65aaf6107f_b.jpg  \n",
            "  inflating: Dataset/animal/Dog/44909622241_6b64167dd2_b.jpg  \n",
            "  inflating: Dataset/animal/Dog/5824739228_042e797031_b.jpg  \n",
            "  inflating: Dataset/animal/Dog/37486121612_f0650e03b5_b.jpg  \n",
            "  inflating: Dataset/animal/Dog/24066106230_5169269428_b.jpg  \n",
            "  inflating: Dataset/animal/Dog/39397079150_62eda3ec01_b.jpg  \n",
            "  inflating: Dataset/animal/Dog/4497338855_3db359c929_b.jpg  \n",
            "  inflating: Dataset/animal/Dog/40576303842_8a45052db5_b.jpg  \n",
            "  inflating: Dataset/animal/Dog/10342719355_f7f9fc21c6_b.jpg  \n",
            "  inflating: Dataset/animal/Dog/40404610011_c685e5a589_b.jpg  \n",
            "  inflating: Dataset/animal/Dog/20892220218_e7bb6fb6d8_b.jpg  \n",
            "  inflating: Dataset/animal/Dog/5022927104_515e808b66_b.jpg  \n",
            "  inflating: Dataset/animal/Dog/36216273621_3287933a7c_b.jpg  \n",
            "  inflating: Dataset/animal/bird/35050086570_ea664f45f8_b.jpg  \n",
            "  inflating: Dataset/animal/bird/9427315570_671a8e6202_b.jpg  \n",
            "  inflating: Dataset/animal/bird/41075438322_f6dfbc5680_b.jpg  \n",
            "  inflating: Dataset/animal/bird/21709064798_67e964516d_b.jpg  \n",
            "  inflating: Dataset/animal/bird/2592848920_7ebd6a33ee_b.jpg  \n",
            "  inflating: Dataset/animal/bird/8185141098_f0d1414789_b.jpg  \n",
            "  inflating: Dataset/animal/bird/26154953033_74c178ebce_b.jpg  \n",
            "  inflating: Dataset/animal/bird/12876707363_124629b06b_b.jpg  \n",
            "  inflating: Dataset/animal/bird/8410619495_26f4b2ea1a_b.jpg  \n",
            "  inflating: Dataset/animal/bird/21486238685_33b3de857e_b.jpg  \n",
            "  inflating: Dataset/animal/bird/15468859464_b5608ba2f5_b.jpg  \n",
            "  inflating: Dataset/animal/bird/14127221113_cea5c88a6f_b.jpg  \n",
            "  inflating: Dataset/animal/bird/27111885091_ee8befbe6a_b.jpg  \n",
            "  inflating: Dataset/animal/bird/14969473957_11d0ca7535_b.jpg  \n",
            "  inflating: Dataset/animal/bird/2592860742_68962a65c3_b.jpg  \n",
            "  inflating: Dataset/animal/bird/6881489108_4bbc75d849_b.jpg  \n",
            "  inflating: Dataset/animal/bird/8658332736_d8f0ee0266_b.jpg  \n",
            "  inflating: Dataset/animal/bird/34595302004_9c00dc2f3d_b.jpg  \n",
            "  inflating: Dataset/animal/bird/5499845215_3533fa21e5_b.jpg  \n",
            "  inflating: Dataset/animal/bird/41915250795_1932651118_b.jpg  \n",
            "  inflating: Dataset/animal/bear/2446486138_b0af6484e3_b.jpg  \n",
            "  inflating: Dataset/animal/bear/7899210774_983830fef3_b.jpg  \n",
            "  inflating: Dataset/animal/bear/9716127317_cc03a3b4f5.jpg  \n",
            "  inflating: Dataset/animal/bear/22550324455_db8f09db40_b.jpg  \n",
            "  inflating: Dataset/animal/bear/14413727117_46b9f11e7c_b.jpg  \n",
            "  inflating: Dataset/animal/bear/158521918_48c76f7160_b.jpg  \n",
            "  inflating: Dataset/animal/bear/2480862060_2b6e1a516d_b.jpg  \n",
            "  inflating: Dataset/animal/bear/44598852764_9ed0257166_b.jpg  \n",
            "  inflating: Dataset/animal/bear/5616010664_35a80684a3_b.jpg  \n",
            "  inflating: Dataset/animal/bear/5624569781_4dd65ba2d5_b.jpg  \n",
            "  inflating: Dataset/animal/bear/8388720420_06f5171d93_b.jpg  \n",
            "  inflating: Dataset/animal/bear/44857153292_c71a5135d9_b.jpg  \n",
            "  inflating: Dataset/animal/bear/180835428_45bba10c92_b.jpg  \n",
            "  inflating: Dataset/animal/bear/15694521885_cfbc1b3320_b.jpg  \n",
            "  inflating: Dataset/animal/bear/5616008346_48a911612d_b.jpg  \n",
            "  inflating: Dataset/animal/bear/2748084403_636da55722_b.jpg  \n",
            "  inflating: Dataset/animal/bear/4588535893_793ecce128_b.jpg  \n",
            "  inflating: Dataset/animal/bear/4697518117_67bca45841_b.jpg  \n",
            "  inflating: Dataset/animal/bear/6951618736_88e63789f2_b.jpg  \n",
            "  inflating: Dataset/animal/bear/5967010566_2471b3d198_b.jpg  \n",
            "  inflating: Dataset/animal/Cat/31389231292_e2444d0260_b.jpg  \n",
            "  inflating: Dataset/animal/Cat/2321136879_60075fbc4e_b.jpg  \n",
            "  inflating: Dataset/animal/Cat/24811748270_3102fc52fb_b.jpg  \n",
            "  inflating: Dataset/animal/Cat/5616147572_197d15f94d_b.jpg  \n",
            "  inflating: Dataset/animal/Cat/9775005856_9b5e0ebe16_b.jpg  \n",
            "  inflating: Dataset/animal/Cat/41676479745_ae6d27ee9d_b.jpg  \n",
            "  inflating: Dataset/animal/Cat/14934282524_344c84246b_b.jpg  \n",
            "  inflating: Dataset/animal/Cat/15504684310_f555c88915_b.jpg  \n",
            "  inflating: Dataset/animal/Cat/32960031673_ed659a2198_b.jpg  \n",
            "  inflating: Dataset/animal/Cat/16386660144_a6c4026657_b.jpg  \n",
            "  inflating: Dataset/animal/Cat/5061790223_b6ca46a9b0_b.jpg  \n",
            "  inflating: Dataset/animal/Cat/27257168879_464200ea90_b.jpg  \n",
            "  inflating: Dataset/animal/Cat/6303228181_59371c29dc_b.jpg  \n",
            "  inflating: Dataset/animal/Cat/30033063091_7705ba4380_b.jpg  \n",
            "  inflating: Dataset/animal/Cat/17026317426_bb3acf19fb_b.jpg  \n",
            "  inflating: Dataset/animal/Cat/8216315457_28762c496d_b.jpg  \n",
            "  inflating: Dataset/animal/Cat/5110834170_0797f39278_b.jpg  \n",
            "  inflating: Dataset/animal/Cat/17733589900_4b7055de52_b.jpg  \n",
            "  inflating: Dataset/animal/Cat/35910819741_f3a2f38b4a_b.jpg  \n",
            "  inflating: Dataset/animal/Cat/7190755946_ea97e85765_b.jpg  \n",
            "  inflating: Dataset/animal/pig/3747803406_a7e9b63aa8_b.jpg  \n",
            "  inflating: Dataset/animal/pig/202739234_bb11ac12c2_b.jpg  \n",
            "  inflating: Dataset/animal/pig/5575681989_b1f8bcd496_b.jpg  \n",
            "  inflating: Dataset/animal/pig/36595608922_4af0228652_b.jpg  \n",
            "  inflating: Dataset/animal/pig/4703999424_ffcfb98e51_b.jpg  \n",
            "  inflating: Dataset/animal/pig/471372266_11f7d2de3a_b.jpg  \n",
            "  inflating: Dataset/animal/pig/17302515551_15cdcaa408_b.jpg  \n",
            "  inflating: Dataset/animal/pig/36645983151_8a875a291e_b.jpg  \n",
            "  inflating: Dataset/animal/pig/22783910730_6637c4dacd_b.jpg  \n",
            "  inflating: Dataset/animal/pig/2389683177_2ef554b8d0_b.jpg  \n",
            "  inflating: Dataset/animal/pig/8456883469_c7ed454719_b.jpg  \n",
            "  inflating: Dataset/animal/pig/2729514_e573476bdc_b.jpg  \n",
            "  inflating: Dataset/animal/pig/5595847847_08507dbdf4_b.jpg  \n",
            "  inflating: Dataset/animal/pig/16587205682_24505cf2a0_b.jpg  \n",
            "  inflating: Dataset/animal/pig/4424157620_b6dbedaf18_b.jpg  \n",
            "  inflating: Dataset/animal/pig/3369216464_b1e83fbb56_b.jpg  \n",
            "  inflating: Dataset/animal/pig/13194963655_78a5a4fb7a_b.jpg  \n",
            "  inflating: Dataset/animal/pig/14898204640_7c059c9ac4_b.jpg  \n",
            "  inflating: Dataset/animal/pig/282498839_b1a21dc9f1_b.jpg  \n",
            "  inflating: Dataset/animal/pig/65215664_f08a847d5d_b.jpg  \n",
            "  inflating: Dataset/animal/Dragonfly/20440070678_95a6b22d21_b.jpg  \n",
            "  inflating: Dataset/animal/Dragonfly/30085583713_69a5ceaa77_b.jpg  \n",
            "  inflating: Dataset/animal/Dragonfly/35941995824_3289a33b1a_b.jpg  \n",
            "  inflating: Dataset/animal/Dragonfly/18970007586_fdd65033c9_b.jpg  \n",
            "  inflating: Dataset/animal/Dragonfly/35220187991_0bdfd8ac52_b.jpg  \n",
            "  inflating: Dataset/animal/Dragonfly/44028328712_13612607ee_b.jpg  \n",
            "  inflating: Dataset/animal/Dragonfly/2683169868_866cb2dd8c_b.jpg  \n",
            "  inflating: Dataset/animal/Dragonfly/17950936949_73ea093f15_b.jpg  \n",
            "  inflating: Dataset/animal/Dragonfly/32583947802_e9853f55e1_b.jpg  \n",
            "  inflating: Dataset/animal/Dragonfly/36493923280_2e2ac4cae0_b.jpg  \n",
            "  inflating: Dataset/animal/Dragonfly/20752448170_54ac3df9c8_b.jpg  \n",
            "  inflating: Dataset/animal/Dragonfly/42144751990_cb2c7b335a_b.jpg  \n",
            "  inflating: Dataset/animal/Dragonfly/24895394673_121b4fbd9a_b.jpg  \n",
            "  inflating: Dataset/animal/Dragonfly/20753902622_bf975da1fc_b.jpg  \n",
            "  inflating: Dataset/animal/Dragonfly/35185705393_1980dc622c_b.jpg  \n",
            "  inflating: Dataset/animal/Dragonfly/6436117967_0ea3f42c5a_b.jpg  \n",
            "  inflating: Dataset/animal/Dragonfly/42572640954_487b61c1c0_b.jpg  \n",
            "  inflating: Dataset/animal/Dragonfly/30258803956_0e2e80723f_b.jpg  \n",
            "  inflating: Dataset/animal/Dragonfly/44040720370_ed1a6761a1_b.jpg  \n",
            "  inflating: Dataset/animal/Dragonfly/30206726806_368e4e93a8_b.jpg  \n",
            "  inflating: Dataset/animal/fox/16712862272_4783a1368b_b.jpg  \n",
            "  inflating: Dataset/animal/fox/14648130107_d7a1b487a7_b.jpg  \n",
            "  inflating: Dataset/animal/fox/7062181483_0ebeec4527_b.jpg  \n",
            "  inflating: Dataset/animal/fox/30937371794_82c62d486f_b.jpg  \n",
            "  inflating: Dataset/animal/fox/13486614834_eaa4fd95aa_b.jpg  \n",
            "  inflating: Dataset/animal/fox/14648130027_52121351f6_b.jpg  \n",
            "  inflating: Dataset/animal/fox/36367572521_a8d5235e47_b.jpg  \n",
            "  inflating: Dataset/animal/fox/13663976394_33dd6c734d_b.jpg  \n",
            "  inflating: Dataset/animal/fox/5973756573_4056dfdda6_b.jpg  \n",
            "  inflating: Dataset/animal/fox/16991254206_2804d50375_b.jpg  \n",
            "  inflating: Dataset/animal/fox/8202598783_c0dce364c9_b.jpg  \n",
            "  inflating: Dataset/animal/fox/6090854608_59e7fb2cc7_b.jpg  \n",
            "  inflating: Dataset/animal/fox/23470808_b0650a10ab_b.jpg  \n",
            "  inflating: Dataset/animal/fox/8571113993_45d7d7bfd7_b.jpg  \n",
            "  inflating: Dataset/animal/fox/16428447635_9f459d4fb2_b.jpg  \n",
            "  inflating: Dataset/animal/fox/13663558265_1303751467_b.jpg  \n",
            "  inflating: Dataset/animal/fox/33800862532_694625730a_b.jpg  \n",
            "  inflating: Dataset/animal/fox/3099303617_c34be90e6b_b.jpg  \n",
            "  inflating: Dataset/animal/fox/14772058187_426aa52f4c_b.jpg  \n",
            "  inflating: Dataset/animal/fox/15309978734_00840bd25c_b.jpg  \n",
            "  inflating: Dataset/animal/Fish/3879372382_bfa2ef0a26_b.jpg  \n",
            "  inflating: Dataset/animal/Fish/246780914_f98c766357_b.jpg  \n",
            "  inflating: Dataset/animal/Fish/8094974730_2057553647_b.jpg  \n",
            "  inflating: Dataset/animal/Fish/2182790171_a2b79e4682_b.jpg  \n",
            "  inflating: Dataset/animal/Fish/16202588566_f2bdf25f0c_b.jpg  \n",
            "  inflating: Dataset/animal/Fish/9405820048_28a09cd10c_b.jpg  \n",
            "  inflating: Dataset/animal/Fish/5658683869_7eaef60247_b.jpg  \n",
            "  inflating: Dataset/animal/Fish/2255735542_1bce8a3f38_b.jpg  \n",
            "  inflating: Dataset/animal/Fish/9577332308_e4dd59a152_b.jpg  \n",
            "  inflating: Dataset/animal/Fish/14284130798_2214da6875_b.jpg  \n",
            "  inflating: Dataset/animal/Fish/16543590541_57dd8fd31b_b.jpg  \n",
            "  inflating: Dataset/animal/Fish/3265991655_11ef121746_b.jpg  \n",
            "  inflating: Dataset/animal/Fish/1205568230_b61d335631_b.jpg  \n",
            "  inflating: Dataset/animal/Fish/5848376990_d69cc9e29b_b.jpg  \n",
            "  inflating: Dataset/animal/Fish/10404051516_447815d814_b.jpg  \n",
            "  inflating: Dataset/animal/Fish/16636574642_36ca577004_b.jpg  \n",
            "  inflating: Dataset/animal/Fish/15735678645_68c3880919_b.jpg  \n",
            "  inflating: Dataset/animal/Fish/6715715695_5830b82bcc_b.jpg  \n",
            "  inflating: Dataset/animal/Fish/16248614078_c9caf1000d_b.jpg  \n",
            "  inflating: Dataset/animal/Fish/5728852964_c13e36e0e2_b.jpg  \n",
            "  inflating: Dataset/animal/Anteater/2614570745_fee0b4731d_b.jpg  \n",
            "  inflating: Dataset/animal/Anteater/3324696288_8f0b635475_b.jpg  \n",
            "  inflating: Dataset/animal/Anteater/10314690654_7eb5f7691e_b.jpg  \n",
            "  inflating: Dataset/animal/Anteater/5713212003_b84839b762_b.jpg  \n",
            "  inflating: Dataset/animal/Anteater/16153733149_b6b30440fe_b.jpg  \n",
            "  inflating: Dataset/animal/Anteater/29782093756_b95fdca290_b.jpg  \n",
            "  inflating: Dataset/animal/Anteater/9759548281_272319d366_b.jpg  \n",
            "  inflating: Dataset/animal/Anteater/3415072721_0540769948.jpg  \n",
            "  inflating: Dataset/animal/Anteater/6078011473_8ef433ea18_b.jpg  \n",
            "  inflating: Dataset/animal/Anteater/830685098_acb21c47a0_b.jpg  \n",
            "  inflating: Dataset/animal/Anteater/14462731166_6389a3b335_b.jpg  \n",
            "  inflating: Dataset/animal/Anteater/3789947627_7ecce625dc_b.jpg  \n",
            "  inflating: Dataset/animal/Anteater/3831287110_1c98f0b217_b.jpg  \n",
            "  inflating: Dataset/animal/Anteater/4909228290_42b8a28881_b.jpg  \n",
            "  inflating: Dataset/animal/Anteater/26721403844_ca01f9f34b_b.jpg  \n",
            "  inflating: Dataset/animal/Anteater/3362901662_bd016b0631_b.jpg  \n",
            "  inflating: Dataset/animal/Anteater/15639965814_d913d2d209_b.jpg  \n",
            "  inflating: Dataset/animal/Anteater/8583330800_98596d44f3_b.jpg  \n",
            "  inflating: Dataset/animal/Anteater/433896628_5ee4e57d78_b.jpg  \n",
            "  inflating: Dataset/animal/Anteater/6030976402_8496b0094b_b.jpg  \n",
            "  inflating: Dataset/animal/Bats/8526191_fbdfa19b34_b.jpg  \n",
            "  inflating: Dataset/animal/Bats/2348308280_c758b06813_b.jpg  \n",
            "  inflating: Dataset/animal/Bats/246129477_8291423f80_b.jpg  \n",
            "  inflating: Dataset/animal/Bats/243913328_2cddbfb5dc_b.jpg  \n",
            "  inflating: Dataset/animal/Bats/9510342606_4c2d391893_b.jpg  \n",
            "  inflating: Dataset/animal/Bats/5477224236_edc0b01d9e_b.jpg  \n",
            "  inflating: Dataset/animal/Bats/5277590306_5aabe79b18_b.jpg  \n",
            "  inflating: Dataset/animal/Bats/6872747918_b504e8913b_b.jpg  \n",
            "  inflating: Dataset/animal/Bats/4630008255_6de8427f08_b.jpg  \n",
            "  inflating: Dataset/animal/Bats/3487050546_9d7df19ef4_b.jpg  \n",
            "  inflating: Dataset/animal/Bats/6871256055_7d15ee1d6c_b.jpg  \n",
            "  inflating: Dataset/animal/Bats/3837062508_832c06f4c1_b.jpg  \n",
            "  inflating: Dataset/animal/Bats/4946155299_b10835d58d_b.jpg  \n",
            "  inflating: Dataset/animal/Bats/9510353068_b0b4f552d3_b.jpg  \n",
            "  inflating: Dataset/animal/Bats/3862479010_644e8ea1bc_b.jpg  \n",
            "  inflating: Dataset/animal/Bats/5321837123_e416b2d170_b.jpg  \n",
            "  inflating: Dataset/animal/Bats/2308173421_b23c6f0733_b.jpg  \n",
            "  inflating: Dataset/animal/Bats/35221324_fa061e3e3e_b.jpg  \n",
            "  inflating: Dataset/animal/Bats/2312746183_56eb96a491_b.jpg  \n",
            "  inflating: Dataset/animal/Bats/2088984629_9073cd74e6_b.jpg  \n",
            "  inflating: Dataset/animal/Bee/16747581363_d344207302_b.jpg  \n",
            "  inflating: Dataset/animal/Bee/41775662845_32409b6d38_b.jpg  \n",
            "  inflating: Dataset/animal/Bee/37289012656_fb70f84564_b.jpg  \n",
            "  inflating: Dataset/animal/Bee/44733951341_97691abfbe_b.jpg  \n",
            "  inflating: Dataset/animal/Bee/14133148197_95833e89f2_b.jpg  \n",
            "  inflating: Dataset/animal/Bee/14142817779_568406cd86_b.jpg  \n",
            "  inflating: Dataset/animal/Bee/28054621494_4d3cf4c33c_b.jpg  \n",
            "  inflating: Dataset/animal/Bee/14316337171_c6ed004fa0_b.jpg  \n",
            "  inflating: Dataset/animal/Bee/26540040015_54f071db32_b.jpg  \n",
            "  inflating: Dataset/animal/Bee/26120283431_6ae318416d_b.jpg  \n",
            "  inflating: Dataset/animal/Bee/43629088051_d6f49f18ca_b.jpg  \n",
            "  inflating: Dataset/animal/Bee/7559061312_980b897c6c_b.jpg  \n",
            "  inflating: Dataset/animal/Bee/2150876691_c986710355_b.jpg  \n",
            "  inflating: Dataset/animal/Bee/18618106320_0a8394ccaa_b.jpg  \n",
            "  inflating: Dataset/animal/Bee/14339870803_6b885e1a03_b.jpg  \n",
            "  inflating: Dataset/animal/Bee/9371100909_0a72c9b16a_b.jpg  \n",
            "  inflating: Dataset/animal/Bee/37080222542_ff090c3965_b.jpg  \n",
            "  inflating: Dataset/animal/Bee/2289402170_3bf0bb3a41_b.jpg  \n",
            "  inflating: Dataset/animal/Bee/2866655308_3f8719c57e_b.jpg  \n",
            "  inflating: Dataset/animal/Bee/14631399831_58734cb968_b.jpg  \n",
            "  inflating: Dataset/animal/scorpion/19611868531_7c587e6823_b.jpg  \n",
            "  inflating: Dataset/animal/scorpion/14963313385_9e7b2e7a54_b.jpg  \n",
            "  inflating: Dataset/animal/scorpion/526422314_5e55021017_b.jpg  \n",
            "  inflating: Dataset/animal/scorpion/11337146986_bcb4feb39f_b.jpg  \n",
            "  inflating: Dataset/animal/scorpion/6888831013_758e19955d_b.jpg  \n",
            "  inflating: Dataset/animal/scorpion/6595524039_f9e9c34077_b.jpg  \n",
            "  inflating: Dataset/animal/scorpion/15719540460_47d480867d_b.jpg  \n",
            "  inflating: Dataset/animal/scorpion/16145125981_120fd237e5_b.jpg  \n",
            "  inflating: Dataset/animal/scorpion/6992010775_35afb4e365_b.jpg  \n",
            "  inflating: Dataset/animal/scorpion/6017475276_4c4ea08412_b.jpg  \n",
            "  inflating: Dataset/animal/scorpion/3485281240_657b951888_b.jpg  \n",
            "  inflating: Dataset/animal/scorpion/4208607009_8039e0b47e_b.jpg  \n",
            "  inflating: Dataset/animal/scorpion/18056583505_5c921711ce_b.jpg  \n",
            "  inflating: Dataset/animal/scorpion/5404466658_f984f0158a_b.jpg  \n",
            "  inflating: Dataset/animal/scorpion/9258885081_7140cc5f9d_b.jpg  \n",
            "  inflating: Dataset/animal/scorpion/4660332589_0571d23708_b.jpg  \n",
            "  inflating: Dataset/animal/scorpion/27517036601_00335f9162_b.jpg  \n",
            "  inflating: Dataset/animal/scorpion/2492906739_65d13caf4d_b.jpg  \n",
            "  inflating: Dataset/animal/scorpion/12769818_760e2e2b48_b.jpg  \n",
            "  inflating: Dataset/animal/scorpion/8323543189_a623d5c024_b.jpg  \n",
            "  inflating: Dataset/animal/horse/2900948641_f255746229_b.jpg  \n",
            "  inflating: Dataset/animal/horse/26439835809_3b9d60af8d_b.jpg  \n",
            "  inflating: Dataset/animal/horse/38184974212_1f565afcd8_b.jpg  \n",
            "  inflating: Dataset/animal/horse/24365462008_a39091c56b_b.jpg  \n",
            "  inflating: Dataset/animal/horse/22448661148_fcd0e25f74_b.jpg  \n",
            "  inflating: Dataset/animal/horse/5125752556_bfb38686c0_b.jpg  \n",
            "  inflating: Dataset/animal/horse/2900958717_430c7f8c9b_b.jpg  \n",
            "  inflating: Dataset/animal/horse/2900963837_da8b6c1fc7_b.jpg  \n",
            "  inflating: Dataset/animal/horse/5412377706_d77700fc38_b.jpg  \n",
            "  inflating: Dataset/animal/horse/2900959953_b15c3edd80_b.jpg  \n",
            "  inflating: Dataset/animal/horse/7212011420_013f325a69_b.jpg  \n",
            "  inflating: Dataset/animal/horse/2900957399_481fc8fb23_b.jpg  \n",
            "  inflating: Dataset/animal/horse/26441352159_d6133eb224_b.jpg  \n",
            "  inflating: Dataset/animal/horse/2901797416_a25d5e077d_b.jpg  \n",
            "  inflating: Dataset/animal/horse/448844441_bbc0f42d88_b.jpg  \n",
            "  inflating: Dataset/animal/horse/28301098174_0a6c26cb72_b.jpg  \n",
            "  inflating: Dataset/animal/horse/3970720927_57e3391627_b.jpg  \n",
            "  inflating: Dataset/animal/horse/5412377622_2f5cb4156d_b.jpg  \n",
            "  inflating: Dataset/animal/horse/5358235784_bd39b1a94b_b.jpg  \n",
            "  inflating: Dataset/animal/horse/11610650176_77f768c6dc_b.jpg  \n",
            "  inflating: Dataset/animal/Mosquito/15757057986_9a1c727967_b.jpg  \n",
            "  inflating: Dataset/animal/Mosquito/5500882321_08d12d0afa_b.jpg  \n",
            "  inflating: Dataset/animal/Mosquito/27480561_6b31da4c07_b.jpg  \n",
            "  inflating: Dataset/animal/Mosquito/356043378_8115572570_b.jpg  \n",
            "  inflating: Dataset/animal/Mosquito/719065332_f5ff4d267b_b.jpg  \n",
            "  inflating: Dataset/animal/Mosquito/3544906315_d9a8bf126b_b.jpg  \n",
            "  inflating: Dataset/animal/Mosquito/19529258099_b8ea2e3e45_b.jpg  \n",
            "  inflating: Dataset/animal/Mosquito/6109741570_9928a6ba54_b.jpg  \n",
            "  inflating: Dataset/animal/Mosquito/8509883002_818c4317b4_b.jpg  \n",
            "  inflating: Dataset/animal/Mosquito/490718126_3b492089e7_b.jpg  \n",
            "  inflating: Dataset/animal/Mosquito/20269798884_959147e739_b.jpg  \n",
            "  inflating: Dataset/animal/Mosquito/5592504937_1b4b9b9609_b.jpg  \n",
            "  inflating: Dataset/animal/Mosquito/136297507_7d6bad75ca_b.jpg  \n",
            "  inflating: Dataset/animal/Mosquito/5372087103_35bcd919f5_b.jpg  \n",
            "  inflating: Dataset/animal/Mosquito/3656617065_a41501433b_b.jpg  \n",
            "  inflating: Dataset/animal/Mosquito/6195188915_1a2c070ded_b.jpg  \n",
            "  inflating: Dataset/animal/Mosquito/4679520028_eab6754470_b.jpg  \n",
            "  inflating: Dataset/animal/Mosquito/4835323250_fbc55be760_b.jpg  \n",
            "  inflating: Dataset/animal/Mosquito/2539758268_0072c1c58b_b.jpg  \n",
            "  inflating: Dataset/animal/Mosquito/6203880318_f425a12a29_b.jpg  \n",
            "  inflating: Dataset/animal/Butterfly/5744236238_2acbf1d8fe_b.jpg  \n",
            "  inflating: Dataset/animal/Butterfly/8364530606_40b06e8fa4_b.jpg  \n",
            "  inflating: Dataset/animal/Butterfly/3967282938_b35f626147_b.jpg  \n",
            "  inflating: Dataset/animal/Butterfly/8363463803_55f0be1878_b.jpg  \n",
            "  inflating: Dataset/animal/Butterfly/6541361561_9984bc65f4_b.jpg  \n",
            "  inflating: Dataset/animal/Butterfly/6212154338_6853fea2a1_b.jpg  \n",
            "  inflating: Dataset/animal/Butterfly/3626881261_f5f4b53f68_b.jpg  \n",
            "  inflating: Dataset/animal/Butterfly/33073830164_d02593d584_b.jpg  \n",
            "  inflating: Dataset/animal/Butterfly/30618799306_f778aeae12_b.jpg  \n",
            "  inflating: Dataset/animal/Butterfly/5813127330_4f0e03fb36_b.jpg  \n",
            "  inflating: Dataset/animal/Butterfly/8363470909_a3f7515f72_b.jpg  \n",
            "  inflating: Dataset/animal/Butterfly/4976787070_6b08df4612_b.jpg  \n",
            "  inflating: Dataset/animal/Butterfly/4475293969_2531069e9c_b.jpg  \n",
            "  inflating: Dataset/animal/Butterfly/6925779376_0ae065ef82_b.jpg  \n",
            "  inflating: Dataset/animal/Butterfly/13934881573_ff816ec2a1_b.jpg  \n",
            "  inflating: Dataset/animal/Butterfly/6196984134_4d3d6f7d40_b.jpg  \n",
            "  inflating: Dataset/animal/Butterfly/9669894406_52c97787d2_b.jpg  \n",
            "  inflating: Dataset/animal/Butterfly/6317929678_84e6ec871d_b.jpg  \n",
            "  inflating: Dataset/animal/Butterfly/10407650646_9138c1349a_b.jpg  \n",
            "  inflating: Dataset/animal/Butterfly/4983460756_1aa5260787_b.jpg  \n",
            "  inflating: Dataset/animal/Crab/7081994063_f12e1a13ac_b.jpg  \n",
            "  inflating: Dataset/animal/Crab/3273461268_310fd0b03f_b.jpg  \n",
            "  inflating: Dataset/animal/Crab/1799728833_a54fde70f5_b.jpg  \n",
            "  inflating: Dataset/animal/Crab/5458598783_5ee4c5b51e_b.jpg  \n",
            "  inflating: Dataset/animal/Crab/439074321_690d1bb9f0_b.jpg  \n",
            "  inflating: Dataset/animal/Crab/6573172947_25fcce2707_b.jpg  \n",
            "  inflating: Dataset/animal/Crab/43305744030_c36fed4cbd_b.jpg  \n",
            "  inflating: Dataset/animal/Crab/24206599977_631f3a7fbf_b.jpg  \n",
            "  inflating: Dataset/animal/Crab/20496976825_2ac7fc335f_b.jpg  \n",
            "  inflating: Dataset/animal/Crab/6209973498_91c9c4d395_b.jpg  \n",
            "  inflating: Dataset/animal/Crab/8600524850_6c3abd4aff_b.jpg  \n",
            "  inflating: Dataset/animal/Crab/30298034971_6fed16ce57_b.jpg  \n",
            "  inflating: Dataset/animal/Crab/5351448145_8a84ca9058_b.jpg  \n",
            "  inflating: Dataset/animal/Crab/8296489461_e2f2870e01_b.jpg  \n",
            "  inflating: Dataset/animal/Crab/159451691_3030dae8e6_b.jpg  \n",
            "  inflating: Dataset/animal/Crab/16457455692_0ae417440e_b.jpg  \n",
            "  inflating: Dataset/animal/Crab/9995993896_0dca9c6637_b.jpg  \n",
            "  inflating: Dataset/animal/Crab/16283872760_372480570d_b.jpg  \n",
            "  inflating: Dataset/animal/Crab/368436468_d5b9cff6a3_b.jpg  \n",
            "  inflating: Dataset/animal/Crab/5490735956_81a4b7cc78_b.jpg  \n",
            "  inflating: Dataset/animal/Snake/8534564177_6917bd8996_b.jpg  \n",
            "  inflating: Dataset/animal/Snake/8534586905_62f1e84131_b.jpg  \n",
            "  inflating: Dataset/animal/Snake/2288614815_087b4d8cfc_b.jpg  \n",
            "  inflating: Dataset/animal/Snake/13141120355_907297acc1_b.jpg  \n",
            "  inflating: Dataset/animal/Snake/6353160111_b1b682b9c5_b.jpg  \n",
            "  inflating: Dataset/animal/Snake/8534581977_0b03c298ca_b.jpg  \n",
            "  inflating: Dataset/animal/Snake/8535680686_9bf2c24eee_b.jpg  \n",
            "  inflating: Dataset/animal/Snake/8534565925_e95f864b86_b.jpg  \n",
            "  inflating: Dataset/animal/Snake/8535678112_ebf50caaf5_b.jpg  \n",
            "  inflating: Dataset/animal/Snake/6083398151_aec2cbaf9e_b.jpg  \n",
            "  inflating: Dataset/animal/Snake/8534576203_38140ae772_b.jpg  \n",
            "  inflating: Dataset/animal/Snake/1552616725_fd3b7b0ac6_b.jpg  \n",
            "  inflating: Dataset/animal/Snake/8534574241_81f3f9a372_b.jpg  \n",
            "  inflating: Dataset/animal/Snake/8701568435_dc7c184d2d_b.jpg  \n",
            "  inflating: Dataset/animal/Snake/1553471288_be56c349a2_b.jpg  \n",
            "  inflating: Dataset/animal/Snake/2393174564_3c3cb67d96_b.jpg  \n",
            "  inflating: Dataset/animal/Snake/3736839433_6bc997f172_b.jpg  \n",
            "  inflating: Dataset/animal/Snake/4693632749_21903252bb_b.jpg  \n",
            "  inflating: Dataset/animal/Snake/5569660792_0b17551cbc_b.jpg  \n",
            "  inflating: Dataset/animal/Snake/8534589263_c591734dda_b.jpg  \n",
            "  inflating: Dataset/animal/Turtle/7082712119_ca9bab4c7c_b.jpg  \n",
            "  inflating: Dataset/animal/Turtle/8044647893_33a6dd5997_b.jpg  \n",
            "  inflating: Dataset/animal/Turtle/15970576496_27d7085a01_b.jpg  \n",
            "  inflating: Dataset/animal/Turtle/17172032908_f4495a0df2_b.jpg  \n",
            "  inflating: Dataset/animal/Turtle/6076229683_b454e0a93c_b.jpg  \n",
            "  inflating: Dataset/animal/Turtle/4520876420_cf1b4f06c9_b.jpg  \n",
            "  inflating: Dataset/animal/Turtle/6686997357_128ddf885f_b.jpg  \n",
            "  inflating: Dataset/animal/Turtle/3266329532_6867b1d9be_b.jpg  \n",
            "  inflating: Dataset/animal/Turtle/8892048635_1feb0cce37_b.jpg  \n",
            "  inflating: Dataset/animal/Turtle/3720209368_f57a734175_b.jpg  \n",
            "  inflating: Dataset/animal/Turtle/4036481012_0191fe83b3_b.jpg  \n",
            "  inflating: Dataset/animal/Turtle/6841110987_42749d1f73_b.jpg  \n",
            "  inflating: Dataset/animal/Turtle/214238652_8ab771fd55_b.jpg  \n",
            "  inflating: Dataset/animal/Turtle/2558386188_9d3744039f_b.jpg  \n",
            "  inflating: Dataset/animal/Turtle/4704159505_31a624992d_b.jpg  \n",
            "  inflating: Dataset/animal/Turtle/3018520259_7b9fdf784a_b.jpg  \n",
            "  inflating: Dataset/animal/Turtle/2219501155_660bc7a0dd_b.jpg  \n",
            "  inflating: Dataset/animal/Turtle/7380287404_ccf55f560d_b.jpg  \n",
            "  inflating: Dataset/animal/Turtle/2288613023_21e9403ff7_b.jpg  \n",
            "  inflating: Dataset/animal/Turtle/2680152012_b8c3f3e0fe_b.jpg  \n",
            "  inflating: Dataset/animal/Alligator/34308654741_4566920fb7_b.jpg  \n",
            "  inflating: Dataset/animal/Alligator/3565822680_8771be8e42_b.jpg  \n",
            "  inflating: Dataset/animal/Alligator/33182094940_48850d8a40_b.jpg  \n",
            "  inflating: Dataset/animal/Alligator/3195700826_7b2edfafd6_b.jpg  \n",
            "  inflating: Dataset/animal/Alligator/33408445492_c5ce051fcc_b.jpg  \n",
            "  inflating: Dataset/animal/Alligator/33368379685_ddbb759a50.jpg  \n",
            "  inflating: Dataset/animal/Alligator/34338838754_079a3bd632_b.jpg  \n",
            "  inflating: Dataset/animal/Alligator/3194860899_640ce169ac_b.jpg  \n",
            "  inflating: Dataset/animal/Alligator/32447450714_4329c3daf8_b.jpg  \n",
            "  inflating: Dataset/animal/Alligator/3195652916_92140de2bb_b.jpg  \n",
            "  inflating: Dataset/animal/Alligator/3195646814_875427d59f_b.jpg  \n",
            "  inflating: Dataset/animal/Alligator/29033845108_9ff9b5858e_b.jpg  \n",
            "  inflating: Dataset/animal/Alligator/28699463073_839f103302_b.jpg  \n",
            "  inflating: Dataset/animal/Alligator/3582400631_9137a4aa27_b.jpg  \n",
            "  inflating: Dataset/animal/Alligator/7898091798_afcb7e1fdc_b.jpg  \n",
            "  inflating: Dataset/animal/Alligator/3194815487_db71ef667e_b.jpg  \n",
            "  inflating: Dataset/animal/Alligator/16007953602_7b9aed7ed0_b.jpg  \n",
            "  inflating: Dataset/animal/Alligator/3195698856_b2b30d3325_b.jpg  \n",
            "  inflating: Dataset/animal/Alligator/6508640869_4306a82c52_b.jpg  \n",
            "  inflating: Dataset/animal/Alligator/6363664385_c3b25ea24c_b.jpg  \n",
            "  inflating: Dataset/animal/Cheetah/4977425984_0bbe2041dc_b.jpg  \n",
            "  inflating: Dataset/animal/Cheetah/4977426306_c0c63c22a6_b.jpg  \n",
            "  inflating: Dataset/animal/Cheetah/4976815495_15261f2e0d_b.jpg  \n",
            "  inflating: Dataset/animal/Cheetah/4839003718_4b556c8ec7_b.jpg  \n",
            "  inflating: Dataset/animal/Cheetah/4838389575_c579c371cb_b.jpg  \n",
            "  inflating: Dataset/animal/Cheetah/4838389815_f0b4a2d20c_b.jpg  \n",
            "  inflating: Dataset/animal/Cheetah/4977426204_2641175e8b_b.jpg  \n",
            "  inflating: Dataset/animal/Cheetah/7094936527_fae44a5573_b.jpg  \n",
            "  inflating: Dataset/animal/Cheetah/4838389045_d5fc08ca2b_b.jpg  \n",
            "  inflating: Dataset/animal/Cheetah/5636712193_5aac3662aa_b.jpg  \n",
            "  inflating: Dataset/animal/Cheetah/28323373313_45759c78ef_b.jpg  \n",
            "  inflating: Dataset/animal/Cheetah/10886505233_45305c1b86_b.jpg  \n",
            "  inflating: Dataset/animal/Cheetah/5636714341_e01f4b5b27_b.jpg  \n",
            "  inflating: Dataset/animal/Cheetah/4838389725_ec49b42c07_b.jpg  \n",
            "  inflating: Dataset/animal/Cheetah/8455886239_d7e7797328_b.jpg  \n",
            "  inflating: Dataset/animal/Cheetah/4838391253_bed2279fdf_b.jpg  \n",
            "  inflating: Dataset/animal/Cheetah/470413153_1651565fda_b.jpg  \n",
            "  inflating: Dataset/animal/Cheetah/2493472570_a557697fba_b.jpg  \n",
            "  inflating: Dataset/animal/Cheetah/4977427214_d2c3f22c3c_b.jpg  \n",
            "  inflating: Dataset/animal/Cheetah/24997264126_58ebbfbce7_b.jpg  \n",
            "  inflating: Dataset/animal/shrimp/35172789496_a387d77f5f_b.jpg  \n",
            "  inflating: Dataset/animal/shrimp/15219597759_73e9b5cf34_b.jpg  \n",
            "  inflating: Dataset/animal/shrimp/7912406342_6bb9955383_b.jpg  \n",
            "  inflating: Dataset/animal/shrimp/39860909861_ac4dc6142b_b.jpg  \n",
            "  inflating: Dataset/animal/shrimp/233169073_da697f9b1b_b.jpg  \n",
            "  inflating: Dataset/animal/shrimp/15219749258_96e774ace0_b.jpg  \n",
            "  inflating: Dataset/animal/shrimp/22346248399_a63ab474a3_b.jpg  \n",
            "  inflating: Dataset/animal/shrimp/2144710489_db262c8cd1_b.jpg  \n",
            "  inflating: Dataset/animal/shrimp/50861234561_6cc092f2e5_b.jpg  \n",
            "  inflating: Dataset/animal/shrimp/2144708533_8f37851185_b.jpg  \n",
            "  inflating: Dataset/animal/shrimp/2344784902_8c2ddbed93_b.jpg  \n",
            "  inflating: Dataset/animal/shrimp/4898039985_e3eaca1c87_b.jpg  \n",
            "  inflating: Dataset/animal/shrimp/50803110026_e0ec602d64_b.jpg  \n",
            "  inflating: Dataset/animal/shrimp/15219601439_da66e5df1f_b.jpg  \n",
            "  inflating: Dataset/animal/shrimp/10528578623_f64b4be092_b.jpg  \n",
            "  inflating: Dataset/animal/shrimp/9062528437_4aef2a3125_b.jpg  \n",
            "  inflating: Dataset/animal/shrimp/51228166673_b55947c6ae_b.jpg  \n",
            "  inflating: Dataset/animal/shrimp/42085755375_cd8ac6c6b2_b.jpg  \n",
            "  inflating: Dataset/animal/shrimp/38047353361_b6360be602_b.jpg  \n",
            "  inflating: Dataset/animal/shrimp/32928482742_57ceff6b8b_b.jpg  \n",
            "   creating: Dataset/animal/Cockroaches/\n",
            "  inflating: Dataset/animal/Cockroaches/4178467301_70c9bc33eb_b.jpg  \n",
            "  inflating: Dataset/animal/Cockroaches/19520214825_ee06378ce8_b.jpg  \n",
            "  inflating: Dataset/animal/Cockroaches/49305122673_a5e69ed17d_b.jpg  \n",
            "  inflating: Dataset/animal/Cockroaches/49007007993_481edb3384_b.jpg  \n",
            "  inflating: Dataset/animal/Cockroaches/51342283830_c989983192_b.jpg  \n",
            "  inflating: Dataset/animal/Cockroaches/20306947405_9f7b8a4662_b.jpg  \n",
            "  inflating: Dataset/animal/Cockroaches/32972276916_ab502f461c_b.jpg  \n",
            "  inflating: Dataset/animal/Cockroaches/75668446_83a81cc101_b.jpg  \n",
            "  inflating: Dataset/animal/Cockroaches/32062972727_474fe6d6ae_b.jpg  \n",
            "  inflating: Dataset/animal/Cockroaches/4179232708_c261599658_b.jpg  \n",
            "  inflating: Dataset/animal/Cockroaches/25184019301_8a11000acf_b.jpg  \n",
            "  inflating: Dataset/animal/Cockroaches/50060171672_dae616f036_b.jpg  \n",
            "  inflating: Dataset/animal/Cockroaches/51554334091_745f24c780_b.jpg  \n",
            "  inflating: Dataset/animal/Cockroaches/4590837590_9c035e9590_b.jpg  \n",
            "  inflating: Dataset/animal/Cockroaches/3566350669_7725a73c1a_b.jpg  \n",
            "  inflating: Dataset/animal/Cockroaches/4179236686_1f2a2b08f0_b.jpg  \n",
            "  inflating: Dataset/animal/Cockroaches/50016920397_a570631ddc_b.jpg  \n",
            "  inflating: Dataset/animal/Cockroaches/49478351536_cd23f90884_b.jpg  \n",
            "  inflating: Dataset/animal/Cockroaches/46742503952_2fee76a369_b.jpg  \n",
            "  inflating: Dataset/animal/Cockroaches/4178463703_5d60bf450d_b.jpg  \n",
            "  inflating: Dataset/animal/Caterpillar/2898953926_ae651c0cd7_b.jpg  \n",
            "  inflating: Dataset/animal/Caterpillar/33968276705_3b85cd4d30_b.jpg  \n",
            "  inflating: Dataset/animal/Caterpillar/5583937852_dc20c50753_b.jpg  \n",
            "  inflating: Dataset/animal/Caterpillar/32917660055_4ca511382e_b.jpg  \n",
            "  inflating: Dataset/animal/Caterpillar/37072964665_7546ae3895_b.jpg  \n",
            "  inflating: Dataset/animal/Caterpillar/35780772742_fdf7a23a2c_b.jpg  \n",
            "  inflating: Dataset/animal/Caterpillar/4099849789_8209b83638_b.jpg  \n",
            "  inflating: Dataset/animal/Caterpillar/34308990921_736e88bae3_b.jpg  \n",
            "  inflating: Dataset/animal/Caterpillar/31080726948_5933de3982_b.jpg  \n",
            "  inflating: Dataset/animal/Caterpillar/37780340634_4dd3ba7c12_b.jpg  \n",
            "  inflating: Dataset/animal/Caterpillar/9867033144_32a443834a_b.jpg  \n",
            "  inflating: Dataset/animal/Caterpillar/4703843898_a19903024e_b.jpg  \n",
            "  inflating: Dataset/animal/Caterpillar/14688872732_d43ef6d8e5_b.jpg  \n",
            "  inflating: Dataset/animal/Caterpillar/30094682741_1d471f706b_b.jpg  \n",
            "  inflating: Dataset/animal/Caterpillar/2558781597_6a403b6776_b.jpg  \n",
            "  inflating: Dataset/animal/Caterpillar/5755963797_7d00e0c2b0_b.jpg  \n",
            "  inflating: Dataset/animal/Caterpillar/9019548864_1450d86972_b.jpg  \n",
            "  inflating: Dataset/animal/Caterpillar/41575037300_3bbb410e9d_b.jpg  \n",
            "  inflating: Dataset/animal/Caterpillar/3593456111_b3d57096cd_b.jpg  \n",
            "  inflating: Dataset/animal/Caterpillar/6018830450_0787e84fe1_b.jpg  \n",
            "  inflating: Dataset/animal/Alpaca/46461302315_11cfd23574_b.jpg  \n",
            "  inflating: Dataset/animal/Alpaca/52977634543_e9272a1418_b.jpg  \n",
            "  inflating: Dataset/animal/Alpaca/49871572512_76ee91ec15_b.jpg  \n",
            "  inflating: Dataset/animal/Alpaca/28234251965_cf5281da0d_b.jpg  \n",
            "  inflating: Dataset/animal/Alpaca/33375915312_b32633a75d_b.jpg  \n",
            "  inflating: Dataset/animal/Alpaca/4489852142_28eb56feec_b.jpg  \n",
            "  inflating: Dataset/animal/Alpaca/2378441992_070fb39024_b.jpg  \n",
            "  inflating: Dataset/animal/Alpaca/2378438498_958db5c7ff_b.jpg  \n",
            "  inflating: Dataset/animal/Alpaca/8281800934_2c48990926_b.jpg  \n",
            "  inflating: Dataset/animal/Alpaca/27618826684_fe0f484253_b.jpg  \n",
            "  inflating: Dataset/animal/Alpaca/6097411524_e7365af0ae_b.jpg  \n",
            "  inflating: Dataset/animal/Alpaca/3674851189_523dee6232_b.jpg  \n",
            "  inflating: Dataset/animal/Alpaca/8470843157_0e0ec78433_b.jpg  \n",
            "  inflating: Dataset/animal/Alpaca/2378439644_8b6585c21a_b.jpg  \n",
            "  inflating: Dataset/animal/Alpaca/50808092127_3c8757b2ab_b.jpg  \n",
            "  inflating: Dataset/animal/Alpaca/52165681168_65b151ee53_b.jpg  \n",
            "  inflating: Dataset/animal/Alpaca/2377598699_8841d4e18f_b.jpg  \n",
            "  inflating: Dataset/animal/Alpaca/1187384895_e8462f6ba1_b.jpg  \n",
            "  inflating: Dataset/animal/Alpaca/52750533076_fdfc390fcb_b.jpg  \n",
            "  inflating: Dataset/animal/Alpaca/50053838501_2ab958a8b0_b.jpg  \n",
            "  inflating: Dataset/animal/Buffalo/16060153976_21b678d23f_b.jpg  \n",
            "  inflating: Dataset/animal/Buffalo/28606056536_177b4f7c50_b.jpg  \n",
            "  inflating: Dataset/animal/Buffalo/1861811485_1bb78ef9c7_b.jpg  \n",
            "  inflating: Dataset/animal/Buffalo/7457305618_cc45c935eb_b.jpg  \n",
            "  inflating: Dataset/animal/Buffalo/3111139343_e2b68cc0dc_b.jpg  \n",
            "  inflating: Dataset/animal/Buffalo/26500016281_05a7f7a34f_b.jpg  \n",
            "  inflating: Dataset/animal/Buffalo/4747059238_994128af42_b.jpg  \n",
            "  inflating: Dataset/animal/Buffalo/2251706361_0cf7996350_b.jpg  \n",
            "  inflating: Dataset/animal/Buffalo/25078423392_84edc36f01_b.jpg  \n",
            "  inflating: Dataset/animal/Buffalo/219290175_c6e7e8e6ce_b.jpg  \n",
            "  inflating: Dataset/animal/Buffalo/25961015524_a55b6cfbf5_b.jpg  \n",
            "  inflating: Dataset/animal/Buffalo/3613142739_480b710604_b.jpg  \n",
            "  inflating: Dataset/animal/Buffalo/30715118485_3d96b6deae_b.jpg  \n",
            "  inflating: Dataset/animal/Buffalo/35881942676_bcdd589a61_b.jpg  \n",
            "  inflating: Dataset/animal/Buffalo/15696889814_50d880b41b_b.jpg  \n",
            "  inflating: Dataset/animal/Buffalo/119391412_c54deb1f2e_b.jpg  \n",
            "  inflating: Dataset/animal/Buffalo/5500540114_257d1624b1_b.jpg  \n",
            "  inflating: Dataset/animal/Buffalo/26473705382_bfd602557a_b.jpg  \n",
            "  inflating: Dataset/animal/Buffalo/5676297790_668ed64357_b.jpg  \n",
            "  inflating: Dataset/animal/Buffalo/4799121472_c5de153403_b.jpg  \n",
            "  inflating: Dataset/animal/Camel/1379967871_8bb0ed7bec_b.jpg  \n",
            "  inflating: Dataset/animal/Camel/38539374072_a4cc298337_b.jpg  \n",
            "  inflating: Dataset/animal/Camel/353193286_cfa95a3138_b.jpg  \n",
            "  inflating: Dataset/animal/Camel/179051499_9742adaa24_b.jpg  \n",
            "  inflating: Dataset/animal/Camel/4773048358_c201b41ebc_b.jpg  \n",
            "  inflating: Dataset/animal/Camel/3435510444_a2a4ee4674_b.jpg  \n",
            "  inflating: Dataset/animal/Camel/5026275017_6572a3dba7_b.jpg  \n",
            "  inflating: Dataset/animal/Camel/30311845445_8af3e599dd_b.jpg  \n",
            "  inflating: Dataset/animal/Camel/2735868892_b9debba44d_b.jpg  \n",
            "  inflating: Dataset/animal/Camel/6198103743_d61c1666d7_b.jpg  \n",
            "  inflating: Dataset/animal/Camel/4040167194_26938142d0_b.jpg  \n",
            "  inflating: Dataset/animal/Camel/1962795576_47e03e91da_b.jpg  \n",
            "  inflating: Dataset/animal/Camel/2425760884_f745ae5e2e_b.jpg  \n",
            "  inflating: Dataset/animal/Camel/43740467052_71ddf0d2a1_b.jpg  \n",
            "  inflating: Dataset/animal/Camel/292643185_ed5e5646d6_b.jpg  \n",
            "  inflating: Dataset/animal/Camel/4345637136_cdf5895f7c_b.jpg  \n",
            "  inflating: Dataset/animal/Camel/292643195_4650aa9f3d_b.jpg  \n",
            "  inflating: Dataset/animal/Camel/5355477811_31a09cfd0e_b.jpg  \n",
            "  inflating: Dataset/animal/Camel/27641983300_63b6381db0_b.jpg  \n",
            "  inflating: Dataset/animal/Camel/6066409804_a941c04009_b.jpg  \n",
            "  inflating: Dataset/animal/flamingo/16304695755_00cab21c5d_b.jpg  \n",
            "  inflating: Dataset/animal/flamingo/3601386604_83e05c80fb_b.jpg  \n",
            "  inflating: Dataset/animal/flamingo/37526916314_2eaa3c180c_b.jpg  \n",
            "  inflating: Dataset/animal/flamingo/997698333_453520ab75_b.jpg  \n",
            "  inflating: Dataset/animal/flamingo/14403957813_7e628cf90d_b.jpg  \n",
            "  inflating: Dataset/animal/flamingo/5188416326_4b204ccb07_b.jpg  \n",
            "  inflating: Dataset/animal/flamingo/6941074437_781b30832e_b.jpg  \n",
            "  inflating: Dataset/animal/flamingo/1317870989_ed0dfea4f1_b.jpg  \n",
            "  inflating: Dataset/animal/flamingo/15148641555_509b617d77_b.jpg  \n",
            "  inflating: Dataset/animal/flamingo/15405937782_962ed526bf_b.jpg  \n",
            "  inflating: Dataset/animal/flamingo/25357104657_495127e2c1_b.jpg  \n",
            "  inflating: Dataset/animal/flamingo/7740464022_291e7e1ff4_b.jpg  \n",
            "  inflating: Dataset/animal/flamingo/32479967504_de0ba2d0fd_b.jpg  \n",
            "  inflating: Dataset/animal/flamingo/3330867204_3169dd2bf6_b.jpg  \n",
            "  inflating: Dataset/animal/flamingo/16001917433_2f0f182dbd_b.jpg  \n",
            "  inflating: Dataset/animal/flamingo/14100822633_c24a2732a9_b.jpg  \n",
            "  inflating: Dataset/animal/flamingo/6801354076_e1b56c472e_b.jpg  \n",
            "  inflating: Dataset/animal/flamingo/5092395194_fb83c64a30_b.jpg  \n",
            "  inflating: Dataset/animal/flamingo/13681985195_b2a14fd63b_b.jpg  \n",
            "  inflating: Dataset/animal/flamingo/5595676106_7895fc14a3_b.jpg  \n",
            "  inflating: Dataset/animal/Rabbit/4551456285_5d84e71f7a_b.jpg  \n",
            "  inflating: Dataset/animal/Rabbit/3706445364_5fcb625894_b.jpg  \n",
            "  inflating: Dataset/animal/Rabbit/6018974594_6b9bb16052_b.jpg  \n",
            "  inflating: Dataset/animal/Rabbit/4761607021_66eda8811e_b.jpg  \n",
            "  inflating: Dataset/animal/Rabbit/2675343973_a5d35fafe9_b.jpg  \n",
            "  inflating: Dataset/animal/Rabbit/3205755942_448b6154c6_b.jpg  \n",
            "  inflating: Dataset/animal/Rabbit/2642333511_d2639c7712_b.jpg  \n",
            "  inflating: Dataset/animal/Rabbit/9857992935_dcdf4bf73e_b.jpg  \n",
            "  inflating: Dataset/animal/Rabbit/5782653293_bfe75d204c_b.jpg  \n",
            "  inflating: Dataset/animal/Rabbit/4511998074_3cf5c38c70_b.jpg  \n",
            "  inflating: Dataset/animal/Rabbit/45839575782_e6dda11b79_b.jpg  \n",
            "  inflating: Dataset/animal/Rabbit/7789081464_a2867ed38d_b.jpg  \n",
            "  inflating: Dataset/animal/Rabbit/3715017837_b53d1070bb_b.jpg  \n",
            "  inflating: Dataset/animal/Rabbit/395918237_4ed297da26_b.jpg  \n",
            "  inflating: Dataset/animal/Rabbit/2675344021_443093615b_b.jpg  \n",
            "  inflating: Dataset/animal/Rabbit/268655305_5c5d929645_b.jpg  \n",
            "  inflating: Dataset/animal/Rabbit/2390950078_c68538be66_b.jpg  \n",
            "  inflating: Dataset/animal/Rabbit/2425318471_2f36defac7_b.jpg  \n",
            "  inflating: Dataset/animal/Rabbit/28149987422_6d40137069_b.jpg  \n",
            "  inflating: Dataset/animal/Rabbit/26684378566_155b7081b4_b.jpg  \n",
            "  inflating: Dataset/animal/Giraffe/46864392774_0558949e1a_b.jpg  \n",
            "  inflating: Dataset/animal/Giraffe/15609442447_e0b9714a9f_b.jpg  \n",
            "  inflating: Dataset/animal/Giraffe/44790255225_236e564325_b.jpg  \n",
            "  inflating: Dataset/animal/Giraffe/30001752736_38451896d0_b.jpg  \n",
            "  inflating: Dataset/animal/Giraffe/5360648088_a1cafa8e5f_b.jpg  \n",
            "  inflating: Dataset/animal/Giraffe/6925344809_dd01c229b3_b.jpg  \n",
            "  inflating: Dataset/animal/Giraffe/1126171060_18dcb85937_b.jpg  \n",
            "  inflating: Dataset/animal/Giraffe/32097994667_10d3dda371_b.jpg  \n",
            "  inflating: Dataset/animal/Giraffe/42710541445_aca9b3bc18_b.jpg  \n",
            "  inflating: Dataset/animal/Giraffe/9480224893_a247ab4b2f_b.jpg  \n",
            "  inflating: Dataset/animal/Giraffe/2279892236_9f4079bb88_b.jpg  \n",
            "  inflating: Dataset/animal/Giraffe/30243905_3e33bb358e_b.jpg  \n",
            "  inflating: Dataset/animal/Giraffe/5420866113_cbabf2caaf_b.jpg  \n",
            "  inflating: Dataset/animal/Giraffe/3391217216_c6461b509e_b.jpg  \n",
            "  inflating: Dataset/animal/Giraffe/1119415951_273338ef1e_b.jpg  \n",
            "  inflating: Dataset/animal/Giraffe/29796529365_0cb9816ff4_b.jpg  \n",
            "  inflating: Dataset/animal/Giraffe/13929005447_ae733b3418_b.jpg  \n",
            "  inflating: Dataset/animal/Giraffe/8002638661_af9ac21b6a_b.jpg  \n",
            "  inflating: Dataset/animal/Giraffe/28727150717_45866bda46_b.jpg  \n",
            "  inflating: Dataset/animal/Giraffe/6865578414_a167884857_b.jpg  \n",
            "  inflating: Dataset/animal/Duck/4958267618_1749952b3f_b.jpg  \n",
            "  inflating: Dataset/animal/Duck/16520076497_1e3064159d_b.jpg  \n",
            "  inflating: Dataset/animal/Duck/3890080374_79cd9b924d_b.jpg  \n",
            "  inflating: Dataset/animal/Duck/27449549131_122249398e_b.jpg  \n",
            "  inflating: Dataset/animal/Duck/3755367124_c51d91f512_b.jpg  \n",
            "  inflating: Dataset/animal/Duck/518152259_0a7ee7cbb5_b.jpg  \n",
            "  inflating: Dataset/animal/Duck/7389078788_99e4316fef_b.jpg  \n",
            "  inflating: Dataset/animal/Duck/7995566940_185a59305a_b.jpg  \n",
            "  inflating: Dataset/animal/Duck/8132590224_3d3c7b0318_b.jpg  \n",
            "  inflating: Dataset/animal/Duck/476500201_bf6d1a65be_b.jpg  \n",
            "  inflating: Dataset/animal/Duck/8446750937_bd821ab062_b.jpg  \n",
            "  inflating: Dataset/animal/Duck/369097942_a93e210023_b.jpg  \n",
            "  inflating: Dataset/animal/Duck/43200797491_11d921dc05_b.jpg  \n",
            "  inflating: Dataset/animal/Duck/33546655624_cdec0a3495_b.jpg  \n",
            "  inflating: Dataset/animal/Duck/476501682_20cc4be984_b.jpg  \n",
            "  inflating: Dataset/animal/Duck/8523369234_a0215f3f82_b.jpg  \n",
            "  inflating: Dataset/animal/Duck/14469156581_18c124c624_b.jpg  \n",
            "  inflating: Dataset/animal/Duck/29275939156_d9139f45b0_b.jpg  \n",
            "  inflating: Dataset/animal/Duck/8439874221_e55c0ecc04_b.jpg  \n",
            "  inflating: Dataset/animal/Duck/30178223511_54468f668c_b.jpg  \n",
            "  inflating: Dataset/animal/Coral/1187370561_dfe829ff6b_b.jpg  \n",
            "  inflating: Dataset/animal/Coral/2062441505_7a1c793751_b.jpg  \n",
            "  inflating: Dataset/animal/Coral/2810438477_b9a6276e19_b.jpg  \n",
            "  inflating: Dataset/animal/Coral/6177772924_95a35c981c_b.jpg  \n",
            "  inflating: Dataset/animal/Coral/5860428633_67a494f848_b.jpg  \n",
            "  inflating: Dataset/animal/Coral/1308407845_30418b6161_b.jpg  \n",
            "  inflating: Dataset/animal/Coral/4424722823_e37c5f029c_b.jpg  \n",
            "  inflating: Dataset/animal/Coral/6559858557_ff42488a40_b.jpg  \n",
            "  inflating: Dataset/animal/Coral/16134014866_41dcc384cc_b.jpg  \n",
            "  inflating: Dataset/animal/Coral/4014329444_261085687c_b.jpg  \n",
            "  inflating: Dataset/animal/Coral/3913138516_049506b130_b.jpg  \n",
            "  inflating: Dataset/animal/Coral/30012358062_973826642e_b.jpg  \n",
            "  inflating: Dataset/animal/Coral/1920020907_1dc22bafce_b.jpg  \n",
            "  inflating: Dataset/animal/Coral/534520511_0bbab4bd3d_b.jpg  \n",
            "  inflating: Dataset/animal/Coral/7141901611_4858496dc5_b.jpg  \n",
            "  inflating: Dataset/animal/Coral/25839922381_c722d05cbd_b.jpg  \n",
            "  inflating: Dataset/animal/Coral/4520251021_9c2ae5493f_b.jpg  \n",
            "  inflating: Dataset/animal/Coral/6177245365_1869d477c5_b.jpg  \n",
            "  inflating: Dataset/animal/Coral/351534731_7f3be32713_b.jpg  \n",
            "  inflating: Dataset/animal/Coral/6177773360_fb52cd5509_b.jpg  \n",
            "  inflating: Dataset/animal/tiger/4911512916_9265e832fb_b.jpg  \n",
            "  inflating: Dataset/animal/tiger/2529423637_2b51cc7d85_b.jpg  \n",
            "  inflating: Dataset/animal/tiger/15912220596_0efe5578be_b.jpg  \n",
            "  inflating: Dataset/animal/tiger/26494592503_fe5127ea3f_b.jpg  \n",
            "  inflating: Dataset/animal/tiger/26398615576_e765e018ce_b.jpg  \n",
            "  inflating: Dataset/animal/tiger/26492985594_b65ce3b4df_b.jpg  \n",
            "  inflating: Dataset/animal/tiger/202636473_28f56d7254_b.jpg  \n",
            "  inflating: Dataset/animal/tiger/27845718911_f6f46cf47f_b.jpg  \n",
            "  inflating: Dataset/animal/tiger/5159256935_6d65db4d81_b.jpg  \n",
            "  inflating: Dataset/animal/tiger/28870988310_e29b63b7be_b.jpg  \n",
            "  inflating: Dataset/animal/tiger/5200444093_fecf13668b_b.jpg  \n",
            "  inflating: Dataset/animal/tiger/25622749924_3c735ed437_b.jpg  \n",
            "  inflating: Dataset/animal/tiger/3279605003_48a7c92084_b.jpg  \n",
            "  inflating: Dataset/animal/tiger/14244487298_c16d948464_b.jpg  \n",
            "  inflating: Dataset/animal/tiger/6909831692_74501d1322_b.jpg  \n",
            "  inflating: Dataset/animal/tiger/26723680198_c2e5bffd6d_b.jpg  \n",
            "  inflating: Dataset/animal/tiger/6882810232_457e1ca364_b.jpg  \n",
            "  inflating: Dataset/animal/tiger/30048693458_ef23cd1bea_b.jpg  \n",
            "  inflating: Dataset/animal/tiger/4672210375_e234c92a67_b.jpg  \n",
            "  inflating: Dataset/animal/tiger/3395954790_e370619120_b.jpg  \n",
            "  inflating: Dataset/animal/Whale/2983330663_4fb9a094c2_b.jpg  \n",
            "  inflating: Dataset/animal/Whale/14775377248_e5050ca441_b.jpg  \n",
            "  inflating: Dataset/animal/Whale/5973578169_53b1bb5314_b.jpg  \n",
            "  inflating: Dataset/animal/Whale/7471104002_169c3077ba_b.jpg  \n",
            "  inflating: Dataset/animal/Whale/8166347929_e55331bb47_b.jpg  \n",
            "  inflating: Dataset/animal/Whale/2056890206_c942a018f1_b.jpg  \n",
            "  inflating: Dataset/animal/Whale/2467796805_d68ed33208_b.jpg  \n",
            "  inflating: Dataset/animal/Whale/1431855116_5d576f31f6_z.jpg  \n",
            "  inflating: Dataset/animal/Whale/5085261464_bde7a8cc7e_b.jpg  \n",
            "  inflating: Dataset/animal/Whale/14944432470_9b964f5721_b.jpg  \n",
            "  inflating: Dataset/animal/Whale/4116429824_f25c85b87f_b.jpg  \n",
            "  inflating: Dataset/animal/Whale/5767396357_80c13f6979_b.jpg  \n",
            "  inflating: Dataset/animal/Whale/53069662978_14e682efcf_b.jpg  \n",
            "  inflating: Dataset/animal/Whale/36054979935_ef069254e5_b.jpg  \n",
            "  inflating: Dataset/animal/Whale/14228010796_b7c880899d_b.jpg  \n",
            "  inflating: Dataset/animal/Whale/26814676724_812167f42f_b.jpg  \n",
            "  inflating: Dataset/animal/Whale/30656189384_72512ea7dd_b.jpg  \n",
            "  inflating: Dataset/animal/Whale/5159560621_7d3eb3da9a_b.jpg  \n",
            "  inflating: Dataset/animal/Whale/31742107420_59603612b4_b.jpg  \n",
            "  inflating: Dataset/animal/Whale/2105356049_7a4715f7bc_b.jpg  \n",
            "  inflating: Dataset/animal/Chicken/15773533934_45f979d71c_b.jpg  \n",
            "  inflating: Dataset/animal/Chicken/2559369564_35a7079c71_b.jpg  \n",
            "  inflating: Dataset/animal/Chicken/14940155724_255701a815_b.jpg  \n",
            "  inflating: Dataset/animal/Chicken/6006529733_5d9686f881_b.jpg  \n",
            "  inflating: Dataset/animal/Chicken/8131954139_220a913948_b.jpg  \n",
            "  inflating: Dataset/animal/Chicken/14280129515_ea9faa37b8_b.jpg  \n",
            "  inflating: Dataset/animal/Chicken/13610947075_f376cfe5e2_b.jpg  \n",
            "  inflating: Dataset/animal/Chicken/77642574_1342eef6d8_b.jpg  \n",
            "  inflating: Dataset/animal/Chicken/6026906750_293efb1d37_b.jpg  \n",
            "  inflating: Dataset/animal/Chicken/6167715307_0b82c23906_b.jpg  \n",
            "  inflating: Dataset/animal/Chicken/7433952850_a1ce15732d_b.jpg  \n",
            "  inflating: Dataset/animal/Chicken/6996382786_b6608c31f6_b.jpg  \n",
            "  inflating: Dataset/animal/Chicken/7312645360_70942090a6_b.jpg  \n",
            "  inflating: Dataset/animal/Chicken/4883477375_e4e2c8b2cb_b.jpg  \n",
            "  inflating: Dataset/animal/Chicken/16615559721_c7c4ec8847_b.jpg  \n",
            "  inflating: Dataset/animal/Chicken/3358542000_1c52fdcb46_b.jpg  \n",
            "  inflating: Dataset/animal/Chicken/22836756693_e45173451d_b.jpg  \n",
            "  inflating: Dataset/animal/Chicken/3443252210_bd918ac1fb_b.jpg  \n",
            "  inflating: Dataset/animal/Chicken/6670085437_c93b69700c_b.jpg  \n",
            "  inflating: Dataset/animal/Chicken/5146370020_a120afafd3_b.jpg  \n",
            "  inflating: Dataset/animal/Owl/8724431342_d63dae4ef6_b.jpg  \n",
            "  inflating: Dataset/animal/Owl/2982892322_9f702faf4e_b.jpg  \n",
            "  inflating: Dataset/animal/Owl/9298204829_360ed5af78_b.jpg  \n",
            "  inflating: Dataset/animal/Owl/16714767718_165592df95_b.jpg  \n",
            "  inflating: Dataset/animal/Owl/8391537367_e94e222a34_b.jpg  \n",
            "  inflating: Dataset/animal/Owl/6022297293_2a85c8f816_b.jpg  \n",
            "  inflating: Dataset/animal/Owl/27261304322_0598c61c85_b.jpg  \n",
            "  inflating: Dataset/animal/Owl/4428174778_1b8df85dc2_b.jpg  \n",
            "  inflating: Dataset/animal/Owl/504994532_ff2868f7ef_b.jpg  \n",
            "  inflating: Dataset/animal/Owl/36312439511_dccd237164_b.jpg  \n",
            "  inflating: Dataset/animal/Owl/539768655_f28b19a8d3_b.jpg  \n",
            "  inflating: Dataset/animal/Owl/26294385999_d323b5bae3_b.jpg  \n",
            "  inflating: Dataset/animal/Owl/15820560829_2890d642c5_b.jpg  \n",
            "  inflating: Dataset/animal/Owl/9822694506_39a46c2289_b.jpg  \n",
            "  inflating: Dataset/animal/Owl/8471001317_96b23d60fb_b.jpg  \n",
            "  inflating: Dataset/animal/Owl/12605123663_67af07a5c2_b.jpg  \n",
            "  inflating: Dataset/animal/Owl/23135161591_16f667744c_b.jpg  \n",
            "  inflating: Dataset/animal/Owl/3182286656_fee6a3eea6_b.jpg  \n",
            "  inflating: Dataset/animal/Owl/14608670667_f0f1f78324_b.jpg  \n",
            "  inflating: Dataset/animal/Owl/4754565162_d051ca4fde_b.jpg  \n",
            "  inflating: Dataset/animal/Monkey/7219193674_0ff470ee77_b.jpg  \n",
            "  inflating: Dataset/animal/Monkey/3831475650_ac201d442f_b.jpg  \n",
            "  inflating: Dataset/animal/Monkey/13234226385_9760b99924_b.jpg  \n",
            "  inflating: Dataset/animal/Monkey/2081791806_c2fa67b06e_b.jpg  \n",
            "  inflating: Dataset/animal/Monkey/33831127941_5ec7483eb9_b.jpg  \n",
            "  inflating: Dataset/animal/Monkey/22554577255_b6ae9cf9d4_b.jpg  \n",
            "  inflating: Dataset/animal/Monkey/15055410711_5236121868_b.jpg  \n",
            "  inflating: Dataset/animal/Monkey/15794801433_bd9948da7c_b.jpg  \n",
            "  inflating: Dataset/animal/Monkey/16814704240_c581a7f817_b.jpg  \n",
            "  inflating: Dataset/animal/Monkey/15455494856_8e96e3d11c_b.jpg  \n",
            "  inflating: Dataset/animal/Monkey/7208558114_0771df3fff_b.jpg  \n",
            "  inflating: Dataset/animal/Monkey/3514504775_b13d925e1c_b.jpg  \n",
            "  inflating: Dataset/animal/Monkey/5581056102_7f66d9050c_b.jpg  \n",
            "  inflating: Dataset/animal/Monkey/2804225588_67cb3f9f6d_b.jpg  \n",
            "  inflating: Dataset/animal/Monkey/223951607_92c4cdbfa6_b.jpg  \n",
            "  inflating: Dataset/animal/Monkey/3373669001_b2569b1ae8_b.jpg  \n",
            "  inflating: Dataset/animal/Monkey/5234530760_5bfe886b4c_b.jpg  \n",
            "  inflating: Dataset/animal/Monkey/4678975591_5a6703ccce_b.jpg  \n",
            "  inflating: Dataset/animal/Monkey/2446507636_8a01d58300_b.jpg  \n",
            "  inflating: Dataset/animal/Monkey/5906304147_279573b8e5_b.jpg  \n",
            "  inflating: Dataset/animal/donkey/4014206992_98dc93ae7a_b.jpg  \n",
            "  inflating: Dataset/animal/donkey/203803545_683a534b31_b.jpg  \n",
            "  inflating: Dataset/animal/donkey/4871150060_c7e5e5175e_b.jpg  \n",
            "  inflating: Dataset/animal/donkey/15639120133_ff74733472_b.jpg  \n",
            "  inflating: Dataset/animal/donkey/516115047_f15bd39c78_b.jpg  \n",
            "  inflating: Dataset/animal/donkey/2087626130_bf9ba846c4_b.jpg  \n",
            "  inflating: Dataset/animal/donkey/113354521_d1597011de_b.jpg  \n",
            "  inflating: Dataset/animal/donkey/5649813737_fdd040de24_b.jpg  \n",
            "  inflating: Dataset/animal/donkey/372944438_9169ac1511_b.jpg  \n",
            "  inflating: Dataset/animal/donkey/15957753197_2e3534734c_b.jpg  \n",
            "  inflating: Dataset/animal/donkey/561670551_efa5f9ae72_b.jpg  \n",
            "  inflating: Dataset/animal/donkey/5813055107_6d5636c9dc_b.jpg  \n",
            "  inflating: Dataset/animal/donkey/14042398209_77c4ac369e_b.jpg  \n",
            "  inflating: Dataset/animal/donkey/3357494677_59f5687a27_b.jpg  \n",
            "  inflating: Dataset/animal/donkey/127446918_fcda56c8a5_b.jpg  \n",
            "  inflating: Dataset/animal/donkey/4619397256_b505745a22_b.jpg  \n",
            "  inflating: Dataset/animal/donkey/31457513302_9502bb6b7a_b.jpg  \n",
            "  inflating: Dataset/animal/donkey/8735339091_24fb1bb0ce_b.jpg  \n",
            "  inflating: Dataset/animal/donkey/4946731795_28e13d20fd_b.jpg  \n",
            "  inflating: Dataset/animal/donkey/3138264434_8a6307ac59_b.jpg  \n",
            "  inflating: Dataset/animal/Lizard/41059593651_8d971e375d_b.jpg  \n",
            "  inflating: Dataset/animal/Lizard/13635830744_57dd34282e_b.jpg  \n",
            "  inflating: Dataset/animal/Lizard/14090901909_f1529fc517_b.jpg  \n",
            "  inflating: Dataset/animal/Lizard/43431611561_948eafaea8_b.jpg  \n",
            "  inflating: Dataset/animal/Lizard/41774437010_fe3a19920d_b.jpg  \n",
            "  inflating: Dataset/animal/Lizard/37656380036_7f099d87f4_b.jpg  \n",
            "  inflating: Dataset/animal/Lizard/27851593448_1270db47fe_b.jpg  \n",
            "  inflating: Dataset/animal/Lizard/38378515774_19dcd3c3c9_b.jpg  \n",
            "  inflating: Dataset/animal/Lizard/45884959031_592a1e9462_b.jpg  \n",
            "  inflating: Dataset/animal/Lizard/6818193987_17908aa876_b.jpg  \n",
            "  inflating: Dataset/animal/Lizard/41435548182_5624cc0ee1_b.jpg  \n",
            "  inflating: Dataset/animal/Lizard/32447740757_d7b85c02ce_b.jpg  \n",
            "  inflating: Dataset/animal/Lizard/8998835164_5868fab2e7_b.jpg  \n",
            "  inflating: Dataset/animal/Lizard/28882086717_c27bc25a03_b.jpg  \n",
            "  inflating: Dataset/animal/Lizard/44420885081_a5f943be6a_b.jpg  \n",
            "  inflating: Dataset/animal/Lizard/15076281629_675fb08458_b.jpg  \n",
            "  inflating: Dataset/animal/Lizard/6130246096_1ba21a7559_b.jpg  \n",
            "  inflating: Dataset/animal/Lizard/15202613350_07c581909f_b.jpg  \n",
            "  inflating: Dataset/animal/Lizard/46581411361_258519e8e4_b.jpg  \n",
            "  inflating: Dataset/animal/Lizard/25244439808_d70d6302a4_b.jpg  \n",
            "  inflating: Dataset/animal/Snail/9016734834_665d5fdeb2_b.jpg  \n",
            "  inflating: Dataset/animal/Snail/36110977974_9503301e72_b.jpg  \n",
            "  inflating: Dataset/animal/Snail/4721416444_bd34abcdc0_b.jpg  \n",
            "  inflating: Dataset/animal/Snail/693813637_e5deb13f5e_b.jpg  \n",
            "  inflating: Dataset/animal/Snail/17025992671_061db0c13d_b.jpg  \n",
            "  inflating: Dataset/animal/Snail/7717128274_007403e7a2_b.jpg  \n",
            "  inflating: Dataset/animal/Snail/4994010500_ba3974c835_b.jpg  \n",
            "  inflating: Dataset/animal/Snail/35423526186_dd25f3253a_b.jpg  \n",
            "  inflating: Dataset/animal/Snail/14014390990_98d6667879_b.jpg  \n",
            "  inflating: Dataset/animal/Snail/35846813944_4865a443eb_b.jpg  \n",
            "  inflating: Dataset/animal/Snail/5787096423_c0958e7f33_b.jpg  \n",
            "  inflating: Dataset/animal/Snail/53236383_631f429b55_b.jpg  \n",
            "  inflating: Dataset/animal/Snail/19273164655_8fc3432755_b.jpg  \n",
            "  inflating: Dataset/animal/Snail/33600923344_c6c07dd2c4_b.jpg  \n",
            "  inflating: Dataset/animal/Snail/3544710531_57f4d5d1be_b.jpg  \n",
            "  inflating: Dataset/animal/Snail/3959740290_c03fba6481_b.jpg  \n",
            "  inflating: Dataset/animal/Snail/7137261591_8eb956259e_b.jpg  \n",
            "  inflating: Dataset/animal/Snail/6359153795_7a8ff8193a_b.jpg  \n",
            "  inflating: Dataset/animal/Snail/4975985941_f664994cc5_b.jpg  \n",
            "  inflating: Dataset/animal/Snail/33394488893_ddfce8fcb8_b.jpg  \n",
            "  inflating: Dataset/animal/Cock/33536704588_6a9f70ef5e_b.jpg  \n",
            "  inflating: Dataset/animal/Cock/4595451_8d52afb8b6_b.jpg  \n",
            "  inflating: Dataset/animal/Cock/37546861964_c6d7046433_b.jpg  \n",
            "  inflating: Dataset/animal/Cock/7182675265_812bb9b3b1_b.jpg  \n",
            "  inflating: Dataset/animal/Cock/1800902489_ef74bff723_b.jpg  \n",
            "  inflating: Dataset/animal/Cock/74362935_58aaea79b4_b.jpg  \n",
            "  inflating: Dataset/animal/Cock/2700841196_78f6912560_b.jpg  \n",
            "  inflating: Dataset/animal/Cock/3470692536_7c3c9e2a14_b.jpg  \n",
            "  inflating: Dataset/animal/Cock/8147305898_3c1cea7f5f_b.jpg  \n",
            "  inflating: Dataset/animal/Cock/914976293_59fe4979db_b.jpg  \n",
            "  inflating: Dataset/animal/Cock/2435520570_b14b954edf_b.jpg  \n",
            "  inflating: Dataset/animal/Cock/3553000647_1145c2e929_b.jpg  \n",
            "  inflating: Dataset/animal/Cock/16595068808_dd2504d7ba_b.jpg  \n",
            "  inflating: Dataset/animal/Cock/218024811_2e85e74278_b.jpg  \n",
            "  inflating: Dataset/animal/Cock/33846890328_a53c522626_b.jpg  \n",
            "  inflating: Dataset/animal/Cock/53461161458_a997f75752_b.jpg  \n",
            "  inflating: Dataset/animal/Cock/49506987973_e8f4dab34d_b.jpg  \n",
            "  inflating: Dataset/animal/Cock/90743517_8ef85ee7de_b.jpg  \n",
            "  inflating: Dataset/animal/Cock/6073547845_84b1dc1599_b.jpg  \n",
            "  inflating: Dataset/animal/Cock/7056876605_370cd357a3_b.jpg  \n",
            "  inflating: Dataset/animal/panda/3523033933_99fda4bc78_b.jpg  \n",
            "  inflating: Dataset/animal/panda/2129982719_32d94154fe_b.jpg  \n",
            "  inflating: Dataset/animal/panda/8589572485_e6fb9d5fe1_b.jpg  \n",
            "  inflating: Dataset/animal/panda/14361840678_716162585a_b.jpg  \n",
            "  inflating: Dataset/animal/panda/36049990246_c36c611732_b.jpg  \n",
            "  inflating: Dataset/animal/panda/3523034831_4cd64c43dc_b.jpg  \n",
            "  inflating: Dataset/animal/panda/13375731535_717415b91c_b.jpg  \n",
            "  inflating: Dataset/animal/panda/26193799271_71c454f2a2_b.jpg  \n",
            "  inflating: Dataset/animal/panda/8167914507_1edbac3beb_b.jpg  \n",
            "  inflating: Dataset/animal/panda/28125509825_de0168a5c7_b.jpg  \n",
            "  inflating: Dataset/animal/panda/26443480345_93c9f680ae_b.jpg  \n",
            "  inflating: Dataset/animal/panda/25987709946_ddd7534993_b.jpg  \n",
            "  inflating: Dataset/animal/panda/6176864623_4eddb73796_b.jpg  \n",
            "  inflating: Dataset/animal/panda/27030190431_659a71302e_b.jpg  \n",
            "  inflating: Dataset/animal/panda/7708851288_c078cbd16e_b.jpg  \n",
            "  inflating: Dataset/animal/panda/3523841322_8e13c3e5fb_b.jpg  \n",
            "  inflating: Dataset/animal/panda/28125059035_bbbc0e3eac_b.jpg  \n",
            "  inflating: Dataset/animal/panda/241810714_b9953bf64c_b.jpg  \n",
            "  inflating: Dataset/animal/panda/35920929402_257566d5a7_b.jpg  \n",
            "  inflating: Dataset/animal/panda/35920934452_f0f385620b_b.jpg  \n",
            "  inflating: Dataset/scenery/grassland/30912986_60f4b2a9df_b.jpg  \n",
            "  inflating: Dataset/scenery/grassland/20294656173_b7894bb5c0.jpg  \n",
            "  inflating: Dataset/scenery/grassland/6095526061_726a4f037c_b.jpg  \n",
            "  inflating: Dataset/scenery/grassland/8968977491_c0fc77423e_b.jpg  \n",
            "  inflating: Dataset/scenery/grassland/6214826620_a6b9ed8f71_b.jpg  \n",
            "  inflating: Dataset/scenery/grassland/432181299_dad7332198_b.jpg  \n",
            "  inflating: Dataset/scenery/grassland/34251567314_768f567263_b.jpg  \n",
            "  inflating: Dataset/scenery/grassland/15015810207_ac81b6ece1_b.jpg  \n",
            "  inflating: Dataset/scenery/grassland/27552098963_f6e97a731d_b.jpg  \n",
            "  inflating: Dataset/scenery/grassland/15127625832_d2afa6b365_b.jpg  \n",
            "  inflating: Dataset/scenery/grassland/27266389816_012431ca46_b.jpg  \n",
            "  inflating: Dataset/scenery/grassland/19089449858_84152ce99e_b.jpg  \n",
            "  inflating: Dataset/scenery/grassland/2213405116_3b97582ee4_b.jpg  \n",
            "  inflating: Dataset/scenery/grassland/31390418094_2840159808_b.jpg  \n",
            "  inflating: Dataset/scenery/grassland/7525011466_03dd066a9c_b.jpg  \n",
            "  inflating: Dataset/scenery/grassland/2950141861_4f1f130c58_b.jpg  \n",
            "  inflating: Dataset/scenery/grassland/3104523050_8acdb391ec_b.jpg  \n",
            "  inflating: Dataset/scenery/grassland/24194022669_94a3bfdeba_b.jpg  \n",
            "  inflating: Dataset/scenery/grassland/26591748261_50b982e621_b.jpg  \n",
            "  inflating: Dataset/scenery/grassland/8163537059_d8e9124256_b.jpg  \n",
            "  inflating: Dataset/scenery/desert/3323362537_b70d82f975_b.jpg  \n",
            "  inflating: Dataset/scenery/desert/16147652341_1c77a5bee0_b.jpg  \n",
            "  inflating: Dataset/scenery/desert/52944992838_7650eaa2da_b.jpg  \n",
            "  inflating: Dataset/scenery/desert/8663945181_dd0ee605ea_b.jpg  \n",
            "  inflating: Dataset/scenery/desert/51086132876_d877be01a8_b.jpg  \n",
            "  inflating: Dataset/scenery/desert/48876880212_34d35f2905_b.jpg  \n",
            "  inflating: Dataset/scenery/desert/7052952943_4c5ff99b01_b.jpg  \n",
            "  inflating: Dataset/scenery/desert/2548053495_0f6ebcd238_b.jpg  \n",
            "  inflating: Dataset/scenery/desert/52712003999_cba6904a86_b.jpg  \n",
            "  inflating: Dataset/scenery/desert/39554529485_271b88d8ed_b.jpg  \n",
            "  inflating: Dataset/scenery/desert/5508296800_7b219cc0ca_b.jpg  \n",
            "  inflating: Dataset/scenery/desert/5270853754_ceebc89443_b.jpg  \n",
            "  inflating: Dataset/scenery/desert/14129600742_468a31cbf9_b.jpg  \n",
            "  inflating: Dataset/scenery/desert/3660463620_8e2e480282_b.jpg  \n",
            "  inflating: Dataset/scenery/desert/50440324151_94ccc390f0_b.jpg  \n",
            "  inflating: Dataset/scenery/desert/49011833281_72063e1544_b.jpg  \n",
            "  inflating: Dataset/scenery/desert/49510379992_948ff98ebd_b.jpg  \n",
            "  inflating: Dataset/scenery/desert/28021781963_6cab32b63b_b.jpg  \n",
            "  inflating: Dataset/scenery/desert/3148919886_e095b9349f_b.jpg  \n",
            "  inflating: Dataset/scenery/desert/49594050873_688bc79e2b_b.jpg  \n",
            "  inflating: Dataset/scenery/cave/2656299357_94f8feda90_b.jpg  \n",
            "  inflating: Dataset/scenery/cave/6026311122_b944cddbff_b.jpg  \n",
            "  inflating: Dataset/scenery/cave/6166393867_a8af73f7e8_b.jpg  \n",
            "  inflating: Dataset/scenery/cave/36613154921_367af96f82_b.jpg  \n",
            "  inflating: Dataset/scenery/cave/36750642175_ba50fe3b06_b.jpg  \n",
            "  inflating: Dataset/scenery/cave/6125234192_f3c597e063_b.jpg  \n",
            "  inflating: Dataset/scenery/cave/14646212326_3dcc63dc53_b.jpg  \n",
            "  inflating: Dataset/scenery/cave/36356331310_4a9b2de296_b.jpg  \n",
            "  inflating: Dataset/scenery/cave/6276863304_4b9f30551f_b.jpg  \n",
            "  inflating: Dataset/scenery/cave/16579738906_3ce91bea0f_b.jpg  \n",
            "  inflating: Dataset/scenery/cave/14855968658_e2c95ce349_b.jpg  \n",
            "  inflating: Dataset/scenery/cave/36613171101_f43376f67f_b.jpg  \n",
            "  inflating: Dataset/scenery/cave/37362907_6f99758dae_b.jpg  \n",
            "  inflating: Dataset/scenery/cave/2657121900_176ef0a020_b.jpg  \n",
            "  inflating: Dataset/scenery/cave/2285719110_fee64e44f1_b.jpg  \n",
            "  inflating: Dataset/scenery/cave/16128977351_38081e2d1f_b.jpg  \n",
            "  inflating: Dataset/scenery/cave/2656385713_6931f1e3cc_b.jpg  \n",
            "  inflating: Dataset/scenery/cave/8591351967_f641b5e54d_b.jpg  \n",
            "  inflating: Dataset/scenery/cave/5273227718_856f2ee5e5_b.jpg  \n",
            "  inflating: Dataset/scenery/cave/463489010_b3d6e947cd_b.jpg  \n",
            "  inflating: Dataset/scenery/Coast/17166686541_e33e01751b_b.jpg  \n",
            "  inflating: Dataset/scenery/Coast/26681615619_68993751c9_b.jpg  \n",
            "  inflating: Dataset/scenery/Coast/29517618258_28cbc6ddbd_b.jpg  \n",
            "  inflating: Dataset/scenery/Coast/18590544709_d63b8765b3_b.jpg  \n",
            "  inflating: Dataset/scenery/Coast/26205496263_a7df9dfa3b_b.jpg  \n",
            "  inflating: Dataset/scenery/Coast/34824716870_949168b292.jpg  \n",
            "  inflating: Dataset/scenery/Coast/5322346898_949870a6d9_b.jpg  \n",
            "  inflating: Dataset/scenery/Coast/7167665754_8c6df8e274_b.jpg  \n",
            "  inflating: Dataset/scenery/Coast/23712883913_167f9393cc_b.jpg  \n",
            "  inflating: Dataset/scenery/Coast/5895134043_1f651b811e_b.jpg  \n",
            "  inflating: Dataset/scenery/Coast/8655741567_7e533f04dc_b.jpg  \n",
            "  inflating: Dataset/scenery/Coast/20375837811_3cec1e1df9_b.jpg  \n",
            "  inflating: Dataset/scenery/Coast/6560007179_2ea3f1ef83.jpg  \n",
            "  inflating: Dataset/scenery/Coast/19209138040_63415fb5d4_b.jpg  \n",
            "  inflating: Dataset/scenery/Coast/22254787869_b91c19e030_b.jpg  \n",
            "  inflating: Dataset/scenery/Coast/23322519296_48bddefb93_b.jpg  \n",
            "  inflating: Dataset/scenery/Coast/31113278228_6632ff6d0a_b.jpg  \n",
            "  inflating: Dataset/scenery/Coast/3255541087_3ab524950a_b.jpg  \n",
            "  inflating: Dataset/scenery/Coast/2119371823_c4de5ffc74_b.jpg  \n",
            "  inflating: Dataset/scenery/Coast/25718576345_72b7517dc2_b.jpg  \n",
            "  inflating: Dataset/scenery/volcano/2609864937_ec9860dcfb_b.jpg  \n",
            "  inflating: Dataset/scenery/volcano/5199963834_88a4e11224_b.jpg  \n",
            "  inflating: Dataset/scenery/volcano/53671954433_c45be77a79_b.jpg  \n",
            "  inflating: Dataset/scenery/volcano/21749935615_39d6449508_b.jpg  \n",
            "  inflating: Dataset/scenery/volcano/209865689_c953de2c04_b.jpg  \n",
            "  inflating: Dataset/scenery/volcano/48176847951_3dcb867375.jpg  \n",
            "  inflating: Dataset/scenery/volcano/53680033003_ae1f1c6ecb_b.jpg  \n",
            "  inflating: Dataset/scenery/volcano/3057264117_df94abce8a_b.jpg  \n",
            "  inflating: Dataset/scenery/volcano/36700987225_c7bede3886_b.jpg  \n",
            "  inflating: Dataset/scenery/volcano/28036735187_26edbbc70d_b.jpg  \n",
            "  inflating: Dataset/scenery/volcano/49625230792_41385df506_b.jpg  \n",
            "  inflating: Dataset/scenery/volcano/2312072704_6474da1c4c_b.jpg  \n",
            "  inflating: Dataset/scenery/volcano/53173320963_b6a6e3a13e_b.jpg  \n",
            "  inflating: Dataset/scenery/volcano/3949353697_4c85799ca7_b.jpg  \n",
            "  inflating: Dataset/scenery/volcano/53181456322_c02817f739_b.jpg  \n",
            "  inflating: Dataset/scenery/volcano/42905168411_63e7c502c0_b.jpg  \n",
            "  inflating: Dataset/scenery/volcano/42714618180_c1011d9757_b.jpg  \n",
            "  inflating: Dataset/scenery/volcano/5006279527_03300b2bf2_b.jpg  \n",
            "  inflating: Dataset/scenery/volcano/51484534094_9a9788b790_b.jpg  \n",
            "  inflating: Dataset/scenery/volcano/32183931648_f2ac4e9850_b.jpg  \n",
            "  inflating: Dataset/scenery/flowergarden/53082427689_a2609d1ec6_b.jpg  \n",
            "  inflating: Dataset/scenery/flowergarden/51312030065_c928657d92_b.jpg  \n",
            "  inflating: Dataset/scenery/flowergarden/51538236721_041fcd3feb_b.jpg  \n",
            "  inflating: Dataset/scenery/flowergarden/50996848990_9f131030f4_b.jpg  \n",
            "  inflating: Dataset/scenery/flowergarden/52795742086_20ca5c0249_b.jpg  \n",
            "  inflating: Dataset/scenery/flowergarden/53869049346_0790cf8df1_b.jpg  \n",
            "  inflating: Dataset/scenery/flowergarden/40556423733_d9e088d88b_b.jpg  \n",
            "  inflating: Dataset/scenery/flowergarden/50954166347_bbc919b27b_b.jpg  \n",
            "  inflating: Dataset/scenery/flowergarden/50707308421_cfc6f7394e_b.jpg  \n",
            "  inflating: Dataset/scenery/flowergarden/30065734603_f325b04cd6_b.jpg  \n",
            "  inflating: Dataset/scenery/flowergarden/48256707246_f362b6762f_b.jpg  \n",
            "  inflating: Dataset/scenery/flowergarden/48380026966_711e82cc6b_b.jpg  \n",
            "  inflating: Dataset/scenery/flowergarden/32925115752_5418cedd3a.jpg  \n",
            "  inflating: Dataset/scenery/flowergarden/52910017989_bcd08fcbfa_b.jpg  \n",
            "  inflating: Dataset/scenery/flowergarden/52897541416_b3d6c92ca2_b.jpg  \n",
            "  inflating: Dataset/scenery/flowergarden/53016280364_de1f8227d3_b.jpg  \n",
            "  inflating: Dataset/scenery/flowergarden/48065021438_fc467a812a_b.jpg  \n",
            "  inflating: Dataset/scenery/flowergarden/50359313421_d1d891fe8a_b.jpg  \n",
            "  inflating: Dataset/scenery/flowergarden/4487309255_22889018bc_b.jpg  \n",
            "  inflating: Dataset/scenery/flowergarden/53869398659_703033af52_b.jpg  \n",
            "  inflating: Dataset/scenery/Forests/19702650491_9759eaf5cb_b.jpg  \n",
            "  inflating: Dataset/scenery/Forests/24344925152_2ff8b4fe48_b.jpg  \n",
            "  inflating: Dataset/scenery/Forests/44334646955_99d984a8b4_b.jpg  \n",
            "  inflating: Dataset/scenery/Forests/8706051425_b492dd2701_b.jpg  \n",
            "  inflating: Dataset/scenery/Forests/5315182215_d90fab3bbe_b.jpg  \n",
            "  inflating: Dataset/scenery/Forests/20059493634_0d77f06587_b.jpg  \n",
            "  inflating: Dataset/scenery/Forests/26797915739_0192dafcc3_b.jpg  \n",
            "  inflating: Dataset/scenery/Forests/38004374914_6b686d708e_b.jpg  \n",
            "  inflating: Dataset/scenery/Forests/8048289071_5e1d0365ca_b.jpg  \n",
            "  inflating: Dataset/scenery/Forests/9168339151_a9240f9fa1_b.jpg  \n",
            "  inflating: Dataset/scenery/Forests/13985786579_32aa81aca4_b.jpg  \n",
            "  inflating: Dataset/scenery/Forests/6251257722_7e2361fa7d_b.jpg  \n",
            "  inflating: Dataset/scenery/Forests/8074003656_ddc0dfbc26_b.jpg  \n",
            "  inflating: Dataset/scenery/Forests/32524777387_cf31bbc0f1_b.jpg  \n",
            "  inflating: Dataset/scenery/Forests/13235502_9397fe85dd_b.jpg  \n",
            "  inflating: Dataset/scenery/Forests/10846341243_5df64dafd1_b.jpg  \n",
            "  inflating: Dataset/scenery/Forests/8294296890_07d074c2f3_b.jpg  \n",
            "  inflating: Dataset/scenery/Forests/5342574169_5d8ea101ae_b.jpg  \n",
            "  inflating: Dataset/scenery/Forests/7375809852_11db2a0134_b.jpg  \n",
            "  inflating: Dataset/scenery/Forests/30776396167_838d9471a0_b.jpg  \n",
            "  inflating: Dataset/scenery/horizon/48313794677_752f29d942_c.jpg  \n",
            "  inflating: Dataset/scenery/horizon/514604013_a58ca9ee7b_b.jpg  \n",
            "  inflating: Dataset/scenery/horizon/51125169315_f393628bce_b.jpg  \n",
            "  inflating: Dataset/scenery/horizon/52256587492_ba1ddcdb4c_b.jpg  \n",
            "  inflating: Dataset/scenery/horizon/23789033266_d72154604b_b.jpg  \n",
            "  inflating: Dataset/scenery/horizon/50868452023_2656976db4_b.jpg  \n",
            "  inflating: Dataset/scenery/horizon/50301045976_29422f7f81_b.jpg  \n",
            "  inflating: Dataset/scenery/horizon/50329737748_d6c99ae7c0_b.jpg  \n",
            "  inflating: Dataset/scenery/horizon/52650222755_630e244dc1_b.jpg  \n",
            "  inflating: Dataset/scenery/horizon/24607549461_952289fedb_b.jpg  \n",
            "  inflating: Dataset/scenery/horizon/50353416341_93b2387159_b.jpg  \n",
            "  inflating: Dataset/scenery/horizon/13871116475_343873bd4c_b.jpg  \n",
            "  inflating: Dataset/scenery/horizon/48613062187_d10dbca572_b.jpg  \n",
            "  inflating: Dataset/scenery/horizon/50353585867_369ef7a95a_b.jpg  \n",
            "  inflating: Dataset/scenery/horizon/3512351337_cedb6d6711_b.jpg  \n",
            "  inflating: Dataset/scenery/horizon/17150018196_14971eb96c_b.jpg  \n",
            "  inflating: Dataset/scenery/horizon/51347144443_334f0ea345_b.jpg  \n",
            "  inflating: Dataset/scenery/horizon/20547899773_556b94d7d3_b.jpg  \n",
            "  inflating: Dataset/scenery/horizon/15736563350_98b2b69edb_b.jpg  \n",
            "  inflating: Dataset/scenery/horizon/26334706270_56208cf6e3_b.jpg  \n",
            "  inflating: Dataset/scenery/sky/9581144080_3613848798_b.jpg  \n",
            "  inflating: Dataset/scenery/sky/14628781886_9ba759d82e_b.jpg  \n",
            "  inflating: Dataset/scenery/sky/16255793615_4accc200e0_b.jpg  \n",
            "  inflating: Dataset/scenery/sky/30541335522_d7a82db9d5_b.jpg  \n",
            "  inflating: Dataset/scenery/sky/21482160342_a7369a0416.jpg  \n",
            "  inflating: Dataset/scenery/sky/39282851021_b85db1c222_b.jpg  \n",
            "  inflating: Dataset/scenery/sky/14928590182_7607a36dce_b.jpg  \n",
            "  inflating: Dataset/scenery/sky/5052310999_1abf327860_b.jpg  \n",
            "  inflating: Dataset/scenery/sky/26296402452_383f7e87d2_b.jpg  \n",
            "  inflating: Dataset/scenery/sky/18262899971_2daba15e26_b.jpg  \n",
            "  inflating: Dataset/scenery/sky/6895430587_be9ff46eb5_b.jpg  \n",
            "  inflating: Dataset/scenery/sky/16783017505_18364a323b_b.jpg  \n",
            "  inflating: Dataset/scenery/sky/20170422519_9b99438b86_b.jpg  \n",
            "  inflating: Dataset/scenery/sky/24319170159_7021ca542b_b.jpg  \n",
            "  inflating: Dataset/scenery/sky/6848348585_144849a109_b.jpg  \n",
            "  inflating: Dataset/scenery/sky/2201984988_08f3d7fd5c_b.jpg  \n",
            "  inflating: Dataset/scenery/sky/10138075226_7bae442969_b.jpg  \n",
            "  inflating: Dataset/scenery/sky/10117327003_fe215a22ba_b.jpg  \n",
            "  inflating: Dataset/scenery/sky/31404010483_9e27580fde_b.jpg  \n",
            "  inflating: Dataset/scenery/sky/12976729025_a08fabf086_b.jpg  \n",
            "  inflating: Dataset/scenery/plateau/49823952873_9a6b06da6f_z.jpg  \n",
            "  inflating: Dataset/scenery/plateau/2204803926_93fec39f5c_b.jpg  \n",
            "  inflating: Dataset/scenery/plateau/20372770426_3151e036d9_b.jpg  \n",
            "  inflating: Dataset/scenery/plateau/50957773308_4ddce4b21f_b.jpg  \n",
            "  inflating: Dataset/scenery/plateau/21855322883_47ba690df4_b.jpg  \n",
            "  inflating: Dataset/scenery/plateau/22288802518_fa22978315_b.jpg  \n",
            "  inflating: Dataset/scenery/plateau/22463142352_c91ce8c0ee_b.jpg  \n",
            "  inflating: Dataset/scenery/plateau/22450506306_959af79d21_b.jpg  \n",
            "  inflating: Dataset/scenery/plateau/22288813668_d3e2d769dd_b.jpg  \n",
            "  inflating: Dataset/scenery/plateau/22288591430_4a81af84a1_b.jpg  \n",
            "  inflating: Dataset/scenery/plateau/40406043272_c7d8b08049.jpg  \n",
            "  inflating: Dataset/scenery/plateau/22289689619_8ffab4aa4d_b.jpg  \n",
            "  inflating: Dataset/scenery/plateau/22905209334_0cc7ac6456_c.jpg  \n",
            "  inflating: Dataset/scenery/plateau/22288871378_5e41156cfe_b.jpg  \n",
            "  inflating: Dataset/scenery/plateau/22289706289_ac6aab6861_b.jpg  \n",
            "  inflating: Dataset/scenery/plateau/22450530396_cfa3c86c6c_b.jpg  \n",
            "  inflating: Dataset/scenery/plateau/22476551635_68f0185145_b.jpg  \n",
            "  inflating: Dataset/scenery/plateau/22463210062_7689f9bcb6_b.jpg  \n",
            "  inflating: Dataset/scenery/plateau/30203612532_f4b7419b78_b.jpg  \n",
            "  inflating: Dataset/scenery/plateau/49445840547_3172e39dca_b.jpg  \n",
            "  inflating: Dataset/scenery/farmland/473099825_d8edf06d31_b.jpg  \n",
            "  inflating: Dataset/scenery/farmland/4778194284_656ec17408_b.jpg  \n",
            "  inflating: Dataset/scenery/farmland/51621871195_ed12746ba4.jpg  \n",
            "  inflating: Dataset/scenery/farmland/5374872023_377b7e6147_b.jpg  \n",
            "  inflating: Dataset/scenery/farmland/28141672903_7fc2232d5c_b.jpg  \n",
            "  inflating: Dataset/scenery/farmland/15343527388_839477b7ec_z.jpg  \n",
            "  inflating: Dataset/scenery/farmland/3793337820_7be27c5344_b.jpg  \n",
            "  inflating: Dataset/scenery/farmland/2801482699_589bc517fd_b.jpg  \n",
            "  inflating: Dataset/scenery/farmland/30535263772_041b6e7a4c_b.jpg  \n",
            "  inflating: Dataset/scenery/farmland/34706107325_2ec2cf6d2d_b.jpg  \n",
            "  inflating: Dataset/scenery/farmland/51243247991_c565183811_b.jpg  \n",
            "  inflating: Dataset/scenery/farmland/127292456_b28fb8bc30_b.jpg  \n",
            "  inflating: Dataset/scenery/farmland/27167786854_e9eb8985f4_b.jpg  \n",
            "  inflating: Dataset/scenery/farmland/50111341663_5c308d7980_b.jpg  \n",
            "  inflating: Dataset/scenery/farmland/5913725495_998bbfda40_b.jpg  \n",
            "  inflating: Dataset/scenery/farmland/14882897299_ca15eaf60e_b.jpg  \n",
            "  inflating: Dataset/scenery/farmland/15983132421_c96139bba9_b.jpg  \n",
            "  inflating: Dataset/scenery/farmland/51351461012_bb5a228882_b.jpg  \n",
            "  inflating: Dataset/scenery/farmland/27891911172_a2d78a49df_b.jpg  \n",
            "  inflating: Dataset/scenery/farmland/49884396487_2f51ecbd2b_b.jpg  \n",
            "  inflating: Dataset/scenery/waterfall/9533882199_6db8852123_b.jpg  \n",
            "  inflating: Dataset/scenery/waterfall/15223645245_2f66bbe06d_b.jpg  \n",
            "  inflating: Dataset/scenery/waterfall/9536671806_5c5820bce0_b.jpg  \n",
            "  inflating: Dataset/scenery/waterfall/15259698399_b03602c7b2_b.jpg  \n",
            "  inflating: Dataset/scenery/waterfall/15784395101_2cd2382b00_b.jpg  \n",
            "  inflating: Dataset/scenery/waterfall/2577460306_063335f8d6_b.jpg  \n",
            "  inflating: Dataset/scenery/waterfall/9536679734_9ca7c96181_b.jpg  \n",
            "  inflating: Dataset/scenery/waterfall/20821971591_cd91938fe9_b.jpg  \n",
            "  inflating: Dataset/scenery/waterfall/9536683732_3c101945da_b.jpg  \n",
            "  inflating: Dataset/scenery/waterfall/6757360999_4b71f98967_b.jpg  \n",
            "  inflating: Dataset/scenery/waterfall/9533881047_193429bc0c_b.jpg  \n",
            "  inflating: Dataset/scenery/waterfall/2920661854_38f2db13f3_b.jpg  \n",
            "  inflating: Dataset/scenery/waterfall/10181472094_aee9f8e620_b.jpg  \n",
            "  inflating: Dataset/scenery/waterfall/42622800760_ca7b7e67a1_b.jpg  \n",
            "  inflating: Dataset/scenery/waterfall/7226131472_838b4f875d_b.jpg  \n",
            "  inflating: Dataset/scenery/waterfall/39700034572_76878a296d_b.jpg  \n",
            "  inflating: Dataset/scenery/waterfall/31500065072_b3fab02a8d_b.jpg  \n",
            "  inflating: Dataset/scenery/waterfall/9533890357_9e36cd1067_b.jpg  \n",
            "  inflating: Dataset/scenery/waterfall/2397187812_2104be49f5_b.jpg  \n",
            "  inflating: Dataset/scenery/waterfall/3720891263_5bdd7b0e59_b.jpg  \n",
            "  inflating: Dataset/scenery/Lake/25899907868_c3a1a5bbb9_b.jpg  \n",
            "  inflating: Dataset/scenery/Lake/36463233442_afcfe6df0f_b.jpg  \n",
            "  inflating: Dataset/scenery/Lake/2533398427_b951216bcc_b.jpg  \n",
            "  inflating: Dataset/scenery/Lake/6975579880_fabd3df103_b.jpg  \n",
            "  inflating: Dataset/scenery/Lake/41473792055_d17e97dbb8_b.jpg  \n",
            "  inflating: Dataset/scenery/Lake/5632189195_3edc4023e2_b.jpg  \n",
            "  inflating: Dataset/scenery/Lake/40990526291_1c59e07f42_b.jpg  \n",
            "  inflating: Dataset/scenery/Lake/5319067951_710cf7bcc4_b.jpg  \n",
            "  inflating: Dataset/scenery/Lake/5729358397_0607016fa7_b.jpg  \n",
            "  inflating: Dataset/scenery/Lake/3957799715_5407ce0750_b.jpg  \n",
            "  inflating: Dataset/scenery/Lake/10272378766_d35dece545_b.jpg  \n",
            "  inflating: Dataset/scenery/Lake/9085478410_87fa28c655_b.jpg  \n",
            "  inflating: Dataset/scenery/Lake/6572687831_c5356d0c90_b.jpg  \n",
            "  inflating: Dataset/scenery/Lake/34703913281_7993ec48c0_b.jpg  \n",
            "  inflating: Dataset/scenery/Lake/14938700121_0950f454b7_b.jpg  \n",
            "  inflating: Dataset/scenery/Lake/30391213048_d3b7fbf21f_b.jpg  \n",
            "  inflating: Dataset/scenery/Lake/8074323864_e27845a477_b.jpg  \n",
            "  inflating: Dataset/scenery/Lake/28912008184_ea4bc68300_b.jpg  \n",
            "  inflating: Dataset/scenery/Lake/2162055564_d223b6d172_b.jpg  \n",
            "  inflating: Dataset/scenery/Lake/35918525173_f7e9381c79_b.jpg  \n",
            "  inflating: Dataset/scenery/plain/32551498751_9f282cdcb0.jpg  \n",
            "  inflating: Dataset/scenery/plain/5970728733_fe5a66e2e1_b.jpg  \n",
            "  inflating: Dataset/scenery/plain/8014191138_071e3da826_b.jpg  \n",
            "  inflating: Dataset/scenery/plain/9050844459_cc25301f28_b.jpg  \n",
            "  inflating: Dataset/scenery/plain/6815336074_0c6bc70445_b.jpg  \n",
            "  inflating: Dataset/scenery/plain/28848539203_6b08318c81_b.jpg  \n",
            "  inflating: Dataset/scenery/plain/6909995840_b7b7b4e277_b.jpg  \n",
            "  inflating: Dataset/scenery/plain/21074580911_432ce0beb2_b.jpg  \n",
            "  inflating: Dataset/scenery/plain/3383772079_b2b490a366.jpg  \n",
            "  inflating: Dataset/scenery/plain/5336750541_08d00415c2_b.jpg  \n",
            "  inflating: Dataset/scenery/plain/2281298352_0caf4fc49d_b.jpg  \n",
            "  inflating: Dataset/scenery/plain/6221323352_523a44bae5_b.jpg  \n",
            "  inflating: Dataset/scenery/plain/2852697308_198cac41f2_b.jpg  \n",
            "  inflating: Dataset/scenery/plain/7417529268_7a254ed356_b.jpg  \n",
            "  inflating: Dataset/scenery/plain/2299740922_da4089e8d6_b.jpg  \n",
            "  inflating: Dataset/scenery/plain/3306437202_6b9d830180_b.jpg  \n",
            "  inflating: Dataset/scenery/plain/8731810852_8d74e6df95_b.jpg  \n",
            "  inflating: Dataset/scenery/plain/23157697870_d07be03750_b.jpg  \n",
            "  inflating: Dataset/scenery/plain/18266086619_79a9ea8229_b.jpg  \n",
            "  inflating: Dataset/scenery/plain/16240330059_883bbfd786_b.jpg  \n",
            "  inflating: Dataset/scenery/hedges/5820952948_6691a2b49e_b.jpg  \n",
            "  inflating: Dataset/scenery/hedges/14321224502_dd12c67946_b.jpg  \n",
            "  inflating: Dataset/scenery/hedges/4242703852_96697c68bb_b.jpg  \n",
            "  inflating: Dataset/scenery/hedges/5288334277_976f6ebcfe_b.jpg  \n",
            "  inflating: Dataset/scenery/hedges/20477193642_3c8c5f27dd_b.jpg  \n",
            "  inflating: Dataset/scenery/hedges/3306350587_290e77d58e_b.jpg  \n",
            "  inflating: Dataset/scenery/hedges/7703110772_0515fa2523_b.jpg  \n",
            "  inflating: Dataset/scenery/hedges/8057027980_9d63dd0482_b.jpg  \n",
            "  inflating: Dataset/scenery/hedges/6839547688_52926a0423_b.jpg  \n",
            "  inflating: Dataset/scenery/hedges/8329427591_b2f6e9940d_b.jpg  \n",
            "  inflating: Dataset/scenery/hedges/337961482_12601d743e_b.jpg  \n",
            "  inflating: Dataset/scenery/hedges/5206158590_33872e6b34_b.jpg  \n",
            "  inflating: Dataset/scenery/hedges/14466575799_9ba567498c_b.jpg  \n",
            "  inflating: Dataset/scenery/hedges/17086408466_84a01e7749.jpg  \n",
            "  inflating: Dataset/scenery/hedges/10592507605_16ed08b9a3_b.jpg  \n",
            "  inflating: Dataset/scenery/hedges/4357189455_129cdf84dd_b.jpg  \n",
            "  inflating: Dataset/scenery/hedges/15380757806_32dd69f03f_b.jpg  \n",
            "  inflating: Dataset/scenery/hedges/2062934236_6fe2ce1658_b.jpg  \n",
            "  inflating: Dataset/scenery/hedges/29059332696_b6cdb71320_b.jpg  \n",
            "  inflating: Dataset/scenery/hedges/37146332302_81816223be_b.jpg  \n",
            "  inflating: Dataset/scenery/Mountains/31823790605_516895fa67_b.jpg  \n",
            "  inflating: Dataset/scenery/Mountains/8719116033_16535aa81f_b.jpg  \n",
            "  inflating: Dataset/scenery/Mountains/14291892698_50d7b6d28c_b.jpg  \n",
            "  inflating: Dataset/scenery/Mountains/10744973825_a37ac50605_b.jpg  \n",
            "  inflating: Dataset/scenery/Mountains/11434080574_2597fe88c8_b.jpg  \n",
            "  inflating: Dataset/scenery/Mountains/10508221763_ba951c6f57_b.jpg  \n",
            "  inflating: Dataset/scenery/Mountains/6809548357_0066e4cb0e_b.jpg  \n",
            "  inflating: Dataset/scenery/Mountains/13891090553_387e5109ef_b.jpg  \n",
            "  inflating: Dataset/scenery/Mountains/2198718319_175341d70b_b.jpg  \n",
            "  inflating: Dataset/scenery/Mountains/4852883660_1898737cd6_b.jpg  \n",
            "  inflating: Dataset/scenery/Mountains/8497146617_abfda70b17_b.jpg  \n",
            "  inflating: Dataset/scenery/Mountains/29944243503_b84e412b7a_b.jpg  \n",
            "  inflating: Dataset/scenery/Mountains/5919311478_f6931c7e78_b.jpg  \n",
            "  inflating: Dataset/scenery/Mountains/20781085809_47d0c5b2c0_b.jpg  \n",
            "  inflating: Dataset/scenery/Mountains/38645249542_19bd27f482_b.jpg  \n",
            "  inflating: Dataset/scenery/Mountains/4907674402_a345e2a163_b.jpg  \n",
            "  inflating: Dataset/scenery/Mountains/9158055279_dc96a3b678_b.jpg  \n",
            "  inflating: Dataset/scenery/Mountains/14132765887_4638b96d0a_b.jpg  \n",
            "  inflating: Dataset/scenery/Mountains/31628278140_17bb9f1fd8_b.jpg  \n",
            "  inflating: Dataset/scenery/Mountains/8126944497_acb0f60d91_b.jpg  \n",
            "  inflating: Dataset/scenery/glacier/9290277606_ec8114c67f_b.jpg  \n",
            "  inflating: Dataset/scenery/glacier/40384948711_634cf31aed_b.jpg  \n",
            "  inflating: Dataset/scenery/glacier/26368216875_dbf6bf586f_b.jpg  \n",
            "  inflating: Dataset/scenery/glacier/203351036_0e799901cd_b.jpg  \n",
            "  inflating: Dataset/scenery/glacier/5437263213_d588fab188_b.jpg  \n",
            "  inflating: Dataset/scenery/glacier/4078012847_59e80a20a4_b.jpg  \n",
            "  inflating: Dataset/scenery/glacier/14268324923_987763b0ef_b.jpg  \n",
            "  inflating: Dataset/scenery/glacier/2675115328_aa5a86a1da_b.jpg  \n",
            "  inflating: Dataset/scenery/glacier/2343039807_0918d90513_b.jpg  \n",
            "  inflating: Dataset/scenery/glacier/44612020844_9246ac5178_b.jpg  \n",
            "  inflating: Dataset/scenery/glacier/7377693566_8ddd994f5b_b.jpg  \n",
            "  inflating: Dataset/scenery/glacier/14841498385_b6c4fd86ab_b.jpg  \n",
            "  inflating: Dataset/scenery/glacier/9928324424_7202f73700.jpg  \n",
            "  inflating: Dataset/scenery/glacier/4326265541_a3cb73b748_b.jpg  \n",
            "  inflating: Dataset/scenery/glacier/4108144190_818059e97f_b.jpg  \n",
            "  inflating: Dataset/scenery/glacier/2650865898_cf2ffe144f_b.jpg  \n",
            "  inflating: Dataset/scenery/glacier/6181130560_9bbcabbdb9_b.jpg  \n",
            "  inflating: Dataset/scenery/glacier/259654561_67cca94547_b.jpg  \n",
            "  inflating: Dataset/scenery/glacier/196051052_92b63e77be_b.jpg  \n",
            "  inflating: Dataset/scenery/glacier/28196076881_2f5d8faa92_b.jpg  \n",
            "  inflating: Dataset/scenery/lighthouse/22210719319_4fbb6a0299_b.jpg  \n",
            "  inflating: Dataset/scenery/lighthouse/2955138026_999ac948c3_b.jpg  \n",
            "  inflating: Dataset/scenery/lighthouse/6338208740_5033f29368_b.jpg  \n",
            "  inflating: Dataset/scenery/lighthouse/9007211390_24477ecc15_b.jpg  \n",
            "  inflating: Dataset/scenery/lighthouse/3275918900_4384dcabe4_b.jpg  \n",
            "  inflating: Dataset/scenery/lighthouse/15136861338_0f8d0ca0af_b.jpg  \n",
            "  inflating: Dataset/scenery/lighthouse/4323111278_3ab1a6cbbb_b.jpg  \n",
            "  inflating: Dataset/scenery/lighthouse/7591512950_5c166ed05e_b.jpg  \n",
            "  inflating: Dataset/scenery/lighthouse/2158335452_1cd6c24cc6_b.jpg  \n",
            "  inflating: Dataset/scenery/lighthouse/22371570446_d3b1abf4e9_b.jpg  \n",
            "  inflating: Dataset/scenery/lighthouse/22384418962_f56b4c6fce_b.jpg  \n",
            "  inflating: Dataset/scenery/lighthouse/5558983859_fca821f7b2_b.jpg  \n",
            "  inflating: Dataset/scenery/lighthouse/3346927380_64943f6699_b.jpg  \n",
            "  inflating: Dataset/scenery/lighthouse/5767209463_141283b67f_b.jpg  \n",
            "  inflating: Dataset/scenery/lighthouse/21774813664_3a4bfd01f1_b.jpg  \n",
            "  inflating: Dataset/scenery/lighthouse/15438123719_930b386178_b.jpg  \n",
            "  inflating: Dataset/scenery/lighthouse/328240272_ae8edd1161_b.jpg  \n",
            "  inflating: Dataset/scenery/lighthouse/5827713155_22c3fefcbd_b.jpg  \n",
            "  inflating: Dataset/scenery/lighthouse/4577618358_2bdb7b7c68_b.jpg  \n",
            "  inflating: Dataset/scenery/lighthouse/6249242989_fb3726fd10_b.jpg  \n",
            "  inflating: Dataset/scenery/savannah/5489755530_b0596ef230_b.jpg  \n",
            "  inflating: Dataset/scenery/savannah/49042010788_1445635634_b.jpg  \n",
            "  inflating: Dataset/scenery/savannah/49995288248_d671043f78_b.jpg  \n",
            "  inflating: Dataset/scenery/savannah/5489162607_c8742ecec1_b.jpg  \n",
            "  inflating: Dataset/scenery/savannah/4888518618_e906d72016_b.jpg  \n",
            "  inflating: Dataset/scenery/savannah/5489758956_0d10a105d7_b.jpg  \n",
            "  inflating: Dataset/scenery/savannah/47508083961_b0f7f58734_b.jpg  \n",
            "  inflating: Dataset/scenery/savannah/6933887101_71f444b8dc_b.jpg  \n",
            "  inflating: Dataset/scenery/savannah/5489754122_6cb2c2d304_b.jpg  \n",
            "  inflating: Dataset/scenery/savannah/7335139588_c1ef9af6ef_b.jpg  \n",
            "  inflating: Dataset/scenery/savannah/777908329_beda7fa8ec_b.jpg  \n",
            "  inflating: Dataset/scenery/savannah/2090135988_57aa56b247_b.jpg  \n",
            "  inflating: Dataset/scenery/savannah/6787773468_f19d028cc3_b.jpg  \n",
            "  inflating: Dataset/scenery/savannah/6161722348_5cbf9c8764_b.jpg  \n",
            "  inflating: Dataset/scenery/savannah/34498632450_979f3207cf_b.jpg  \n",
            "  inflating: Dataset/scenery/savannah/5489156961_d0ffcf79bd_b.jpg  \n",
            "  inflating: Dataset/scenery/savannah/6161722586_333e7ba1c2_b.jpg  \n",
            "  inflating: Dataset/scenery/savannah/5489757042_7dba12393f_b.jpg  \n",
            "  inflating: Dataset/scenery/savannah/2756196406_e9f9faf18f_b.jpg  \n",
            "  inflating: Dataset/scenery/savannah/6106893415_4ce81c6610_b.jpg  \n",
            "  inflating: Dataset/scenery/Cliff/13355622485_8898d3b5d4_b.jpg  \n",
            "  inflating: Dataset/scenery/Cliff/3375809001_115ced0db0_b.jpg  \n",
            "  inflating: Dataset/scenery/Cliff/14297783721_0bb197e52c_b.jpg  \n",
            "  inflating: Dataset/scenery/Cliff/8994316625_63ccc50db6_b.jpg  \n",
            "  inflating: Dataset/scenery/Cliff/5327866181_29be2f1e68_b.jpg  \n",
            "  inflating: Dataset/scenery/Cliff/134629312_66331592b1_b.jpg  \n",
            "  inflating: Dataset/scenery/Cliff/11458849415_874ec07a78_b.jpg  \n",
            "  inflating: Dataset/scenery/Cliff/9117304417_3a16b0a764_b.jpg  \n",
            "  inflating: Dataset/scenery/Cliff/27166501013_920a41d71e_b.jpg  \n",
            "  inflating: Dataset/scenery/Cliff/16287215276_14218be1b9_b.jpg  \n",
            "  inflating: Dataset/scenery/Cliff/2800591202_4a7e77c866_b.jpg  \n",
            "  inflating: Dataset/scenery/Cliff/5442137916_d5d3a2bc42_b.jpg  \n",
            "  inflating: Dataset/scenery/Cliff/5595603469_d5a23ed0a4_b.jpg  \n",
            "  inflating: Dataset/scenery/Cliff/3763396964_5155e88982_b.jpg  \n",
            "  inflating: Dataset/scenery/Cliff/8452679145_13064a3546_b.jpg  \n",
            "  inflating: Dataset/scenery/Cliff/26558367537_7468fb77c1_b.jpg  \n",
            "  inflating: Dataset/scenery/Cliff/5474268103_053dc4100b_b.jpg  \n",
            "  inflating: Dataset/scenery/Cliff/9109256537_2609a3c723_b.jpg  \n",
            "  inflating: Dataset/scenery/Cliff/31923282305_2ca8fcdbe8_b.jpg  \n",
            "  inflating: Dataset/scenery/Cliff/187250560_0bfb3d2453_b.jpg  \n",
            "  inflating: Dataset/scenery/Waterbodies/52769620528_1344bef9e0_b.jpg  \n",
            "  inflating: Dataset/scenery/Waterbodies/4378269263_e40fc012a8_b.jpg  \n",
            "  inflating: Dataset/scenery/Waterbodies/48472664717_de1083c026_b.jpg  \n",
            "  inflating: Dataset/scenery/Waterbodies/8214136690_75f76b6dae_b.jpg  \n",
            "  inflating: Dataset/scenery/Waterbodies/23954397954_5c12005011_b.jpg  \n",
            "  inflating: Dataset/scenery/Waterbodies/51017089386_9d336752f2_b.jpg  \n",
            "  inflating: Dataset/scenery/Waterbodies/52684355763_0ed1b6045a_b.jpg  \n",
            "  inflating: Dataset/scenery/Waterbodies/27669770678_45c541cae0_b.jpg  \n",
            "  inflating: Dataset/scenery/Waterbodies/51095091688_17e448ddb6_b.jpg  \n",
            "  inflating: Dataset/scenery/Waterbodies/7163153249_0ec5216184_b.jpg  \n",
            "  inflating: Dataset/scenery/Waterbodies/51306937624_c92bb4e928_b.jpg  \n",
            "  inflating: Dataset/scenery/Waterbodies/18330576478_f275fb2dfd_b.jpg  \n",
            "  inflating: Dataset/scenery/Waterbodies/20435637209_6bf28d0ffe_b.jpg  \n",
            "  inflating: Dataset/scenery/Waterbodies/52905245400_0331587d72_b.jpg  \n",
            "  inflating: Dataset/scenery/Waterbodies/47303333742_96292f8cea_b.jpg  \n",
            "  inflating: Dataset/scenery/Waterbodies/48307253916_dd6479941a_b.jpg  \n",
            "  inflating: Dataset/scenery/Waterbodies/51824427175_359400d69d_b.jpg  \n",
            "  inflating: Dataset/scenery/Waterbodies/49901654808_5004572959_b.jpg  \n",
            "  inflating: Dataset/scenery/Waterbodies/27652598379_075193e412_b.jpg  \n",
            "  inflating: Dataset/scenery/Waterbodies/41229145524_ac5f89895f_b.jpg  \n",
            "  inflating: Dataset/scenery/valley/19066734666_5dd21f033f_b.jpg  \n",
            "  inflating: Dataset/scenery/valley/6242727567_db868858cb_b.jpg  \n",
            "  inflating: Dataset/scenery/valley/40655813134_68f62d9a95_b.jpg  \n",
            "  inflating: Dataset/scenery/valley/28340021061_31720c2da2_b.jpg  \n",
            "  inflating: Dataset/scenery/valley/29381455103_a1c1430f5e_b.jpg  \n",
            "  inflating: Dataset/scenery/valley/14351046625_11f6b0aa99_b.jpg  \n",
            "  inflating: Dataset/scenery/valley/23074168094_434560e87d_b.jpg  \n",
            "  inflating: Dataset/scenery/valley/23593746022_26821cb457_b.jpg  \n",
            "  inflating: Dataset/scenery/valley/15789979370_b1bd6df0c9_b.jpg  \n",
            "  inflating: Dataset/scenery/valley/3713830690_cd41d395e0_b.jpg  \n",
            "  inflating: Dataset/scenery/valley/9920211843_84250fdc93_b.jpg  \n",
            "  inflating: Dataset/scenery/valley/7925564302_4c78d1b0a0_b.jpg  \n",
            "  inflating: Dataset/scenery/valley/14396752853_70e3a2dd95_b.jpg  \n",
            "  inflating: Dataset/scenery/valley/563118948_36856e69b8_b.jpg  \n",
            "  inflating: Dataset/scenery/valley/4150355167_019ab5e1e7_b.jpg  \n",
            "  inflating: Dataset/scenery/valley/24635030261_def899db51_b.jpg  \n",
            "  inflating: Dataset/scenery/valley/6220012875_f9131bcaa5.jpg  \n",
            "  inflating: Dataset/scenery/valley/16734761052_cb7c55915f_b.jpg  \n",
            "  inflating: Dataset/scenery/valley/7066718837_11f042185a_b.jpg  \n",
            "  inflating: Dataset/scenery/valley/6123548302_93f56b43b4_b.jpg  \n",
            "  inflating: Dataset/scenery/river/5350776231_577f170ce9_b.jpg  \n",
            "  inflating: Dataset/scenery/river/24824364988_1c0da9f029_b.jpg  \n",
            "  inflating: Dataset/scenery/river/29434125538_6a08aa5509_b.jpg  \n",
            "  inflating: Dataset/scenery/river/5350777855_82a207546b_b.jpg  \n",
            "  inflating: Dataset/scenery/river/5410733397_d51ce174eb_b.jpg  \n",
            "  inflating: Dataset/scenery/river/30531867756_85c7e55681_b.jpg  \n",
            "  inflating: Dataset/scenery/river/8725595354_769f7c19f6.jpg  \n",
            "  inflating: Dataset/scenery/river/5693498422_5c0cf3b3c4_b.jpg  \n",
            "  inflating: Dataset/scenery/river/14629551922_135755d466_b.jpg  \n",
            "  inflating: Dataset/scenery/river/7942989736_6b0d5f5f57_b.jpg  \n",
            "  inflating: Dataset/scenery/river/5803043660_c03d825d2a_b.jpg  \n",
            "  inflating: Dataset/scenery/river/5191314234_8143720d19_b.jpg  \n",
            "  inflating: Dataset/scenery/river/7687852308_f0fb5c21b4_b.jpg  \n",
            "  inflating: Dataset/scenery/river/8241320235_db7fac0622_b.jpg  \n",
            "  inflating: Dataset/scenery/river/8516599556_603a12b38b_b.jpg  \n",
            "  inflating: Dataset/scenery/river/6035249734_d230fb8a6b_b.jpg  \n",
            "  inflating: Dataset/scenery/river/278583836_e9251fde38_b.jpg  \n",
            "  inflating: Dataset/scenery/river/7080782627_24fa722d4f_b.jpg  \n",
            "  inflating: Dataset/scenery/river/6889399634_13e80a189a_b.jpg  \n",
            "  inflating: Dataset/scenery/river/4024949717_86382c8ec2_b.jpg  \n",
            "  inflating: Dataset/scenery/cloud/9449312982_87742d4a73_b.jpg  \n",
            "  inflating: Dataset/scenery/cloud/5718247676_12296c301e_b.jpg  \n",
            "  inflating: Dataset/scenery/cloud/1747662054_8e4ef0f078_b.jpg  \n",
            "  inflating: Dataset/scenery/cloud/2572687869_f3798efa1c_b.jpg  \n",
            "  inflating: Dataset/scenery/cloud/6229218_cdb55869c6_b.jpg  \n",
            "  inflating: Dataset/scenery/cloud/5718273522_b35316446f_b.jpg  \n",
            "  inflating: Dataset/scenery/cloud/484879470_bcf6d4850b_b.jpg  \n",
            "  inflating: Dataset/scenery/cloud/3897235306_98249db3bb_b.jpg  \n",
            "  inflating: Dataset/scenery/cloud/210867194_e619a56246_b.jpg  \n",
            "  inflating: Dataset/scenery/cloud/3897234326_f03afe5eb2_b.jpg  \n",
            "  inflating: Dataset/scenery/cloud/7259934690_4fe62b0ae0_b.jpg  \n",
            "  inflating: Dataset/scenery/cloud/7429911760_bc19987b64_b.jpg  \n",
            "  inflating: Dataset/scenery/cloud/9616379326_84a1f512ef_b.jpg  \n",
            "  inflating: Dataset/scenery/cloud/1322589106_a7be460178_b.jpg  \n",
            "  inflating: Dataset/scenery/cloud/5717682621_4263ccef35_b.jpg  \n",
            "  inflating: Dataset/scenery/cloud/2607609866_8d7911118e_b.jpg  \n",
            "  inflating: Dataset/scenery/cloud/15737865564_ec4601b6b3_b.jpg  \n",
            "  inflating: Dataset/scenery/cloud/1481794584_74844cc0df_b.jpg  \n",
            "  inflating: Dataset/scenery/cloud/24901724031_5601e4a779_b.jpg  \n",
            "  inflating: Dataset/scenery/cloud/6526686431_ea00d6f2b7_b.jpg  \n",
            "  inflating: Dataset/furniture/Umbrella/27603723953_3138fa9f86_b.jpg  \n",
            "  inflating: Dataset/furniture/Umbrella/34649154_4c3bbd79d7_b.jpg  \n",
            "  inflating: Dataset/furniture/Umbrella/22417666117_525fd80652_b.jpg  \n",
            "  inflating: Dataset/furniture/Umbrella/22448853240_be38b8e687_b.jpg  \n",
            "  inflating: Dataset/furniture/Umbrella/6198217493_d9441760dc_b.jpg  \n",
            "  inflating: Dataset/furniture/Umbrella/3520095245_528092be23_b.jpg  \n",
            "  inflating: Dataset/furniture/Umbrella/2891959424_53045ffdf4_b.jpg  \n",
            "  inflating: Dataset/furniture/Umbrella/20068606519_fe6d568162_b.jpg  \n",
            "  inflating: Dataset/furniture/Umbrella/27713281952_8e4b54706a_b.jpg  \n",
            "  inflating: Dataset/furniture/Umbrella/7186342503_ab31164804_b.jpg  \n",
            "  inflating: Dataset/furniture/Umbrella/945171837_cce767cafc_b.jpg  \n",
            "  inflating: Dataset/furniture/Umbrella/17234146812_e26e037f7f_b.jpg  \n",
            "  inflating: Dataset/furniture/Umbrella/14630251911_32d833d08f_b.jpg  \n",
            "  inflating: Dataset/furniture/Umbrella/21903317735_dbf58fe436_b.jpg  \n",
            "  inflating: Dataset/furniture/Umbrella/2631825977_44f5d9fdd8_b.jpg  \n",
            "  inflating: Dataset/furniture/Umbrella/7690535000_777fcbf2fa_b.jpg  \n",
            "  inflating: Dataset/furniture/Umbrella/29764101174_2849cbd0a2_b.jpg  \n",
            "  inflating: Dataset/furniture/Umbrella/24509145315_b1faf55436_b.jpg  \n",
            "  inflating: Dataset/furniture/Umbrella/8574250952_7dea58d937_b.jpg  \n",
            "  inflating: Dataset/furniture/Umbrella/6877036019_fef6412f75_b.jpg  \n",
            "  inflating: Dataset/furniture/Piano/2648716901_f5c61214a9_b.jpg  \n",
            "  inflating: Dataset/furniture/Piano/3073258642_c00b6962a4_b.jpg  \n",
            "  inflating: Dataset/furniture/Piano/4629309655_495c064ccd_b.jpg  \n",
            "  inflating: Dataset/furniture/Piano/8172913750_ca0e002b99_b.jpg  \n",
            "  inflating: Dataset/furniture/Piano/1208805552_f35a9540a5_b.jpg  \n",
            "  inflating: Dataset/furniture/Piano/1016026548_becc29981e_b.jpg  \n",
            "  inflating: Dataset/furniture/Piano/31386063053_8a84970cfe_b.jpg  \n",
            "  inflating: Dataset/furniture/Piano/9287629222_c9eb0244b2_b.jpg  \n",
            "  inflating: Dataset/furniture/Piano/3219507477_5b66aaf0e6_b.jpg  \n",
            "  inflating: Dataset/furniture/Piano/2229350641_01118c327d_b.jpg  \n",
            "  inflating: Dataset/furniture/Piano/4037781397_36b6c1f389_b.jpg  \n",
            "  inflating: Dataset/furniture/Piano/3101384896_77fefc8327_q.jpg  \n",
            "  inflating: Dataset/furniture/Piano/342636418_658bc1c496_b.jpg  \n",
            "  inflating: Dataset/furniture/Piano/155995678_0e39c3d283_b.jpg  \n",
            "  inflating: Dataset/furniture/Piano/6901005750_e51f3cb3d1_b.jpg  \n",
            "  inflating: Dataset/furniture/Piano/2470556084_6a98f6dfe3_b.jpg  \n",
            "  inflating: Dataset/furniture/Piano/12182902363_20504a977f_b.jpg  \n",
            "  inflating: Dataset/furniture/Piano/7795160116_1036c05f2b_b.jpg  \n",
            "  inflating: Dataset/furniture/Piano/3643451957_9fef62b32c_b.jpg  \n",
            "  inflating: Dataset/furniture/Piano/1151323066_6cda94b4cd_b.jpg  \n",
            "  inflating: Dataset/furniture/sofa/5662889628_054c155171_b.jpg  \n",
            "  inflating: Dataset/furniture/sofa/5782723613_f172dddd5d_b.jpg  \n",
            "  inflating: Dataset/furniture/sofa/5647684168_98fb5eb3d1_b.jpg  \n",
            "  inflating: Dataset/furniture/sofa/5486645757_60c2f34bfd_b.jpg  \n",
            "  inflating: Dataset/furniture/sofa/2545944672_a498c9e725_b.jpg  \n",
            "  inflating: Dataset/furniture/sofa/42103141_64b6fa5dbc_b.jpg  \n",
            "  inflating: Dataset/furniture/sofa/4256157505_5d1b2d503e_b.jpg  \n",
            "  inflating: Dataset/furniture/sofa/2270947829_8eaeacb73a_b.jpg  \n",
            "  inflating: Dataset/furniture/sofa/6346686114_ccae2e78c3_b.jpg  \n",
            "  inflating: Dataset/furniture/sofa/3685357058_fc2bf0a459_b.jpg  \n",
            "  inflating: Dataset/furniture/sofa/5934756548_cf9f93b149_b.jpg  \n",
            "  inflating: Dataset/furniture/sofa/7246653920_ae4277675e_b.jpg  \n",
            "  inflating: Dataset/furniture/sofa/1909750459_d5d1e02cc5_b.jpg  \n",
            "  inflating: Dataset/furniture/sofa/1658587584_21154122b1_b.jpg  \n",
            "  inflating: Dataset/furniture/sofa/5052384695_ac276bee3f_b.jpg  \n",
            "  inflating: Dataset/furniture/sofa/4832658634_3ac8b25187_b.jpg  \n",
            "  inflating: Dataset/furniture/sofa/111302286_49507cc330_b.jpg  \n",
            "  inflating: Dataset/furniture/sofa/7139769825_4b831d7d02_b.jpg  \n",
            "  inflating: Dataset/furniture/sofa/7795834950_6ab59aa538_b.jpg  \n",
            "  inflating: Dataset/furniture/sofa/5325030550_f51339a46d_b.jpg  \n",
            "  inflating: Dataset/furniture/Clothes/5640944108_789e55a757_b.jpg  \n",
            "  inflating: Dataset/furniture/Clothes/2853620699_20c8311e10_b.jpg  \n",
            "  inflating: Dataset/furniture/Clothes/3623862278_29d6c7c649_b.jpg  \n",
            "  inflating: Dataset/furniture/Clothes/422567250_9049268027_b.jpg  \n",
            "  inflating: Dataset/furniture/Clothes/3065076903_09ebd37395_b.jpg  \n",
            "  inflating: Dataset/furniture/Clothes/30457085_61d5b28c48_b.jpg  \n",
            "  inflating: Dataset/furniture/Clothes/2280334638_90d5027e97_b.jpg  \n",
            "  inflating: Dataset/furniture/Clothes/2553266010_5e715d8c1e_b.jpg  \n",
            "  inflating: Dataset/furniture/Clothes/5640944080_2402f38862_b.jpg  \n",
            "  inflating: Dataset/furniture/Clothes/51271330344_c32e191be5_b.jpg  \n",
            "  inflating: Dataset/furniture/Clothes/50134034346_2dcb336826_b.jpg  \n",
            "  inflating: Dataset/furniture/Clothes/3363287417_e58b7e1173_b.jpg  \n",
            "  inflating: Dataset/furniture/Clothes/3718321669_1ebb0e3a5b_b.jpg  \n",
            "  inflating: Dataset/furniture/Clothes/6919870046_f67acfd13e_b.jpg  \n",
            "  inflating: Dataset/furniture/Clothes/5908928375_600a30826f_b.jpg  \n",
            "  inflating: Dataset/furniture/Clothes/8373835882_07baba68da_b.jpg  \n",
            "  inflating: Dataset/furniture/Clothes/28007430107_a1157d02c8_b.jpg  \n",
            "  inflating: Dataset/furniture/Clothes/5640944092_81e5b11743_b.jpg  \n",
            "  inflating: Dataset/furniture/Clothes/817386204_01de37678c_b.jpg  \n",
            "  inflating: Dataset/furniture/Clothes/2573126398_df72aca30f_b.jpg  \n",
            "  inflating: Dataset/furniture/chair/4754248815_f716c51cd0_b.jpg  \n",
            "  inflating: Dataset/furniture/chair/2556879813_fa775d223a_b.jpg  \n",
            "  inflating: Dataset/furniture/chair/2828260144_800d58c3c2_b.jpg  \n",
            "  inflating: Dataset/furniture/chair/8137956506_0d0d8899a8_b.jpg  \n",
            "  inflating: Dataset/furniture/chair/5932041129_a0fa85a61c_b.jpg  \n",
            "  inflating: Dataset/furniture/chair/7169739223_4c57d346c3_b.jpg  \n",
            "  inflating: Dataset/furniture/chair/4172715735_384de4ec0a_b.jpg  \n",
            "  inflating: Dataset/furniture/chair/844337124_571c10c9e2_b.jpg  \n",
            "  inflating: Dataset/furniture/chair/930517077_112c0d3c91_b.jpg  \n",
            "  inflating: Dataset/furniture/chair/2433092503_fe6cf1e688_b.jpg  \n",
            "  inflating: Dataset/furniture/chair/6071885846_789382c591_b.jpg  \n",
            "  inflating: Dataset/furniture/chair/7348428274_6c8c401b8f_b.jpg  \n",
            "  inflating: Dataset/furniture/chair/1153213653_5e705702b5_b.jpg  \n",
            "  inflating: Dataset/furniture/chair/3053096901_81534b860d_b.jpg  \n",
            "  inflating: Dataset/furniture/chair/3619633442_0c55846789_b.jpg  \n",
            "  inflating: Dataset/furniture/chair/34188251543_533c5a39b5_b.jpg  \n",
            "  inflating: Dataset/furniture/chair/147482645_d125c7f1f8_b.jpg  \n",
            "  inflating: Dataset/furniture/chair/5518497126_1b542f2ed6_b.jpg  \n",
            "  inflating: Dataset/furniture/chair/2475070939_7b7338b4d8_b.jpg  \n",
            "  inflating: Dataset/furniture/chair/29827848830_9ebb3b9697_b.jpg  \n",
            "  inflating: Dataset/furniture/desks/6470998009_6af48e7899_b.jpg  \n",
            "  inflating: Dataset/furniture/desks/2512049077_e5298d1f61_b.jpg  \n",
            "  inflating: Dataset/furniture/desks/33766959_6e68fb5206_b.jpg  \n",
            "  inflating: Dataset/furniture/desks/6187617127_4206d2e80a_b.jpg  \n",
            "  inflating: Dataset/furniture/desks/5607328466_1bd1b8ae6a_b.jpg  \n",
            "  inflating: Dataset/furniture/desks/87026842_5b11580c23_b.jpg  \n",
            "  inflating: Dataset/furniture/desks/4817315798_3b7bf03355_b.jpg  \n",
            "  inflating: Dataset/furniture/desks/803004749_6a56eede00_b.jpg  \n",
            "  inflating: Dataset/furniture/desks/16795616287_f1738d2cf0_b.jpg  \n",
            "  inflating: Dataset/furniture/desks/4863714490_4a55648f62_b.jpg  \n",
            "  inflating: Dataset/furniture/desks/4592575839_15ca3982b7_b.jpg  \n",
            "  inflating: Dataset/furniture/desks/9165171_a7dc2c8535_b.jpg  \n",
            "  inflating: Dataset/furniture/desks/2504856949_a58fd31793_b.jpg  \n",
            "  inflating: Dataset/furniture/desks/2833853524_f5883b0668_b.jpg  \n",
            "  inflating: Dataset/furniture/desks/2615618179_18324b5800_b.jpg  \n",
            "  inflating: Dataset/furniture/desks/91548142_ed34d1d57b_b.jpg  \n",
            "  inflating: Dataset/furniture/desks/2574353681_8fe9b866a0_b.jpg  \n",
            "  inflating: Dataset/furniture/desks/4443790239_760f73f379_b.jpg  \n",
            "  inflating: Dataset/furniture/desks/2431772655_824379a723_b.jpg  \n",
            "  inflating: Dataset/furniture/desks/118962771_1870cd5b31_b.jpg  \n",
            "  inflating: Dataset/furniture/Bookcase/82562192_a9f095c548_b.jpg  \n",
            "  inflating: Dataset/furniture/Bookcase/3782578279_99634a4f24_b.jpg  \n",
            "  inflating: Dataset/furniture/Bookcase/4707416507_17ea88d747_b.jpg  \n",
            "  inflating: Dataset/furniture/Bookcase/32748075_47d52c46b3_b.jpg  \n",
            "  inflating: Dataset/furniture/Bookcase/5052474424_45c24f333f_b.jpg  \n",
            "  inflating: Dataset/furniture/Bookcase/49621567951_1e62fdc75f_b.jpg  \n",
            "  inflating: Dataset/furniture/Bookcase/2371771549_e15348aa07_b.jpg  \n",
            "  inflating: Dataset/furniture/Bookcase/363921348_dd766d9e59_b.jpg  \n",
            "  inflating: Dataset/furniture/Bookcase/2702359868_8baedc599b_b.jpg  \n",
            "  inflating: Dataset/furniture/Bookcase/2771422815_38c918cf62_b.jpg  \n",
            "  inflating: Dataset/furniture/Bookcase/30672933077_b96b709044_b.jpg  \n",
            "  inflating: Dataset/furniture/Bookcase/367432856_3a31dd890c_b.jpg  \n",
            "  inflating: Dataset/furniture/Bookcase/3837557638_56fb10ae00_b.jpg  \n",
            "  inflating: Dataset/furniture/Bookcase/2843336762_5d02117beb_b.jpg  \n",
            "  inflating: Dataset/furniture/Bookcase/540906967_84c2802dc7_b.jpg  \n",
            "  inflating: Dataset/furniture/Bookcase/32748125_bd930aa7e7_b.jpg  \n",
            "  inflating: Dataset/furniture/Bookcase/6219293067_bddc9c5f79_b.jpg  \n",
            "  inflating: Dataset/furniture/Bookcase/482847898_eb70b44ca5_b.jpg  \n",
            "  inflating: Dataset/furniture/Bookcase/4955489874_ea22917707_b.jpg  \n",
            "  inflating: Dataset/furniture/Bookcase/8590684536_e1a1541c46_b.jpg  \n",
            "  inflating: Dataset/furniture/book/16788632027_65516e7f26_b.jpg  \n",
            "  inflating: Dataset/furniture/book/40682162254_cd3937c85d_b.jpg  \n",
            "  inflating: Dataset/furniture/book/27835821853_360aeb7dcf_b.jpg  \n",
            "  inflating: Dataset/furniture/book/16373797674_f0ab11bfa1_b.jpg  \n",
            "  inflating: Dataset/furniture/book/16347407138_1e765d0f06_b.jpg  \n",
            "  inflating: Dataset/furniture/book/32508534941_cde17f5662_b.jpg  \n",
            "  inflating: Dataset/furniture/book/43897615065_19353f8908_b.jpg  \n",
            "  inflating: Dataset/furniture/book/7844360618_b4e9e270fb_b.jpg  \n",
            "  inflating: Dataset/furniture/book/6624237315_10789668aa_b.jpg  \n",
            "  inflating: Dataset/furniture/book/21998893424_b44f873986_b.jpg  \n",
            "  inflating: Dataset/furniture/book/7500668204_43c8ebbbb9_b.jpg  \n",
            "  inflating: Dataset/furniture/book/41990199642_4d7d69f004_b.jpg  \n",
            "  inflating: Dataset/furniture/book/13405229914_5b86b9d728_b.jpg  \n",
            "  inflating: Dataset/furniture/book/5606808553_a54ff6d913_b.jpg  \n",
            "  inflating: Dataset/furniture/book/8203645335_8d7fb2af7c_b.jpg  \n",
            "  inflating: Dataset/furniture/book/16793735552_29aa6e18e7_b.jpg  \n",
            "  inflating: Dataset/furniture/book/15244154779_f67321b426_b.jpg  \n",
            "  inflating: Dataset/furniture/book/16212392020_4f020eeed0_b.jpg  \n",
            "  inflating: Dataset/furniture/book/38611023491_73c86c8de8_b.jpg  \n",
            "  inflating: Dataset/furniture/book/27177609940_44805e544f_b.jpg  \n",
            "  inflating: Dataset/furniture/bed/2499756336_72fa72da3c_b.jpg  \n",
            "  inflating: Dataset/furniture/bed/4986856942_5b65cf1829_b.jpg  \n",
            "  inflating: Dataset/furniture/bed/2809129898_d0a3fd22d9_b.jpg  \n",
            "  inflating: Dataset/furniture/bed/3421670298_d58508e87f_b.jpg  \n",
            "  inflating: Dataset/furniture/bed/5459216987_c9986a4b68_b.jpg  \n",
            "  inflating: Dataset/furniture/bed/270833884_5e744548d7_b.jpg  \n",
            "  inflating: Dataset/furniture/bed/2745186826_27dff30f12_b.jpg  \n",
            "  inflating: Dataset/furniture/bed/2050552285_c72b78d9d2_b.jpg  \n",
            "  inflating: Dataset/furniture/bed/4915536286_f0073bbe97_b.jpg  \n",
            "  inflating: Dataset/furniture/bed/7382149062_4685f4f284_b.jpg  \n",
            "  inflating: Dataset/furniture/bed/107463287_e8d9117c81_b.jpg  \n",
            "  inflating: Dataset/furniture/bed/3311976959_39d4c98b3d_b.jpg  \n",
            "  inflating: Dataset/furniture/bed/2509293264_c1d4ff7943_b.jpg  \n",
            "  inflating: Dataset/furniture/bed/6226466786_7267513d93_b.jpg  \n",
            "  inflating: Dataset/furniture/bed/2507662830_4be7ab7a64_b.jpg  \n",
            "  inflating: Dataset/furniture/bed/4443681788_1ece0fe306_b.jpg  \n",
            "  inflating: Dataset/furniture/bed/2378225566_1d9c7a288b_b.jpg  \n",
            "  inflating: Dataset/furniture/bed/102047251_89a86ba19b_b.jpg  \n",
            "  inflating: Dataset/furniture/bed/3380877127_c0fecdf8fd_b.jpg  \n",
            "  inflating: Dataset/furniture/bed/316741382_002ba64687_b.jpg  \n",
            "  inflating: Dataset/furniture/fridge/52832278514_a183c70885_b.jpg  \n",
            "  inflating: Dataset/furniture/fridge/7021986481_8c3a0a4c69_b.jpg  \n",
            "  inflating: Dataset/furniture/fridge/465151103_b49ef4b5aa_b.jpg  \n",
            "  inflating: Dataset/furniture/fridge/131127853_bed96063cb_b.jpg  \n",
            "  inflating: Dataset/furniture/fridge/51870584151_38b4b2b22e_b.jpg  \n",
            "  inflating: Dataset/furniture/fridge/186863971_09054c370b_b.jpg  \n",
            "  inflating: Dataset/furniture/fridge/8918816_d58437730f_b.jpg  \n",
            "  inflating: Dataset/furniture/fridge/13965289907_4d388b33f6_b.jpg  \n",
            "  inflating: Dataset/furniture/fridge/2132391056_564471571f_b.jpg  \n",
            "  inflating: Dataset/furniture/fridge/3293258604_e222a3e582_b.jpg  \n",
            "  inflating: Dataset/furniture/fridge/15883300013_e29798de9d_b.jpg  \n",
            "  inflating: Dataset/furniture/fridge/2471862881_4db94432b8_b.jpg  \n",
            "  inflating: Dataset/furniture/fridge/3997471680_c85dd1fed2_b.jpg  \n",
            "  inflating: Dataset/furniture/fridge/51418576040_648d9c1b16_b.jpg  \n",
            "  inflating: Dataset/furniture/fridge/6025806141_4402a3116a_b.jpg  \n",
            "  inflating: Dataset/furniture/fridge/399481269_ea15c25c9b_b.jpg  \n",
            "  inflating: Dataset/furniture/fridge/25988346764_733ea4457b_b.jpg  \n",
            "  inflating: Dataset/furniture/fridge/36958680_dbabfcb2a1_b.jpg  \n",
            "  inflating: Dataset/furniture/fridge/480545198_1dbf4da0aa_b.jpg  \n",
            "  inflating: Dataset/furniture/fridge/1086773522_c058e67af5_b.jpg  \n",
            "  inflating: Dataset/furniture/table/6762910253_c823de4856_b.jpg  \n",
            "  inflating: Dataset/furniture/table/6994989402_95f12f3a96.jpg  \n",
            "  inflating: Dataset/furniture/table/4911485018_521b45d4c0_b.jpg  \n",
            "  inflating: Dataset/furniture/table/1466291460_06046cc13c_b.jpg  \n",
            "  inflating: Dataset/furniture/table/3135563993_0d37847a35_b.jpg  \n",
            "  inflating: Dataset/furniture/table/5444712867_432b896942_b.jpg  \n",
            "  inflating: Dataset/furniture/table/2561887433_daa7f35578_b.jpg  \n",
            "  inflating: Dataset/furniture/table/3618181366_7a174e5c24_b.jpg  \n",
            "  inflating: Dataset/furniture/table/4825203578_8339a4cace_b.jpg  \n",
            "  inflating: Dataset/furniture/table/34408872253_567626d94a_b.jpg  \n",
            "  inflating: Dataset/furniture/table/2513679889_7e14b94f2c_b.jpg  \n",
            "  inflating: Dataset/furniture/table/3193063278_d0e8d9a7a3_b.jpg  \n",
            "  inflating: Dataset/furniture/table/518016390_23e5e83dfc_b.jpg  \n",
            "  inflating: Dataset/furniture/table/13144391454_f0bdb2c9df_b.jpg  \n",
            "  inflating: Dataset/furniture/table/305019436_f4fe21bd9c_b.jpg  \n",
            "  inflating: Dataset/furniture/table/469530755_57382d49c6_b.jpg  \n",
            "  inflating: Dataset/furniture/table/91084741_8fadecf868_b.jpg  \n",
            "  inflating: Dataset/furniture/table/129701156_84ded73652_b.jpg  \n",
            "  inflating: Dataset/furniture/table/17656447404_01e7df4b0f_b.jpg  \n",
            "  inflating: Dataset/furniture/table/6995040348_dfd10d0452_b.jpg  \n",
            "  inflating: Dataset/furniture/Bowl/7184291224_6580fd741c_b.jpg  \n",
            "  inflating: Dataset/furniture/Bowl/5562548524_c34e3071ab_b.jpg  \n",
            "  inflating: Dataset/furniture/Bowl/7101595515_24cc6ccbc2_b.jpg  \n",
            "  inflating: Dataset/furniture/Bowl/3639787446_d0dbe51dc2_b.jpg  \n",
            "  inflating: Dataset/furniture/Bowl/104715252_538879900e_b.jpg  \n",
            "  inflating: Dataset/furniture/Bowl/3598588500_a20328d27c_b.jpg  \n",
            "  inflating: Dataset/furniture/Bowl/5451164696_92de322f65_b.jpg  \n",
            "  inflating: Dataset/furniture/Bowl/7173257655_7efba66083_b.jpg  \n",
            "  inflating: Dataset/furniture/Bowl/6770202007_01fdee68c1_b.jpg  \n",
            "  inflating: Dataset/furniture/Bowl/11285682_78c1364660_b.jpg  \n",
            "  inflating: Dataset/furniture/Bowl/4948457282_9652fa4fe4_b.jpg  \n",
            "  inflating: Dataset/furniture/Bowl/4597589187_f215f84a46_b.jpg  \n",
            "  inflating: Dataset/furniture/Bowl/6294195895_0bcb89dafb_b.jpg  \n",
            "  inflating: Dataset/furniture/Bowl/5570759925_f5670ec579_b.jpg  \n",
            "  inflating: Dataset/furniture/Bowl/2951237192_1ffddcfd55_b.jpg  \n",
            "  inflating: Dataset/furniture/Bowl/29211554971_c124466b9b_b.jpg  \n",
            "  inflating: Dataset/furniture/Bowl/2976658006_df0aa86e5a_b.jpg  \n",
            "  inflating: Dataset/furniture/Bowl/4864567746_ef3b931eb7_b.jpg  \n",
            "  inflating: Dataset/furniture/Bowl/3840189315_416fbc28d4_b.jpg  \n",
            "  inflating: Dataset/furniture/Bowl/314353933_89b29ec9d5_b.jpg  \n",
            "  inflating: Dataset/furniture/pan/39338433932_dd0723d0de_b.jpg  \n",
            "  inflating: Dataset/furniture/pan/47628858681_a34647053a_b.jpg  \n",
            "  inflating: Dataset/furniture/pan/21483190603_3ed9fab0ca_b.jpg  \n",
            "  inflating: Dataset/furniture/pan/5187324975_bca4b92fcf_b.jpg  \n",
            "  inflating: Dataset/furniture/pan/53052965156_2d8e3a2dae_b.jpg  \n",
            "  inflating: Dataset/furniture/pan/51097577490_61340eb2c6_b.jpg  \n",
            "  inflating: Dataset/furniture/pan/50583634372_0c772a16c0_b.jpg  \n",
            "  inflating: Dataset/furniture/pan/32525454768_497e93f7e4_b.jpg  \n",
            "  inflating: Dataset/furniture/pan/6659678733_57b9a3707c_b.jpg  \n",
            "  inflating: Dataset/furniture/pan/6443874659_2b2aeee267_b.jpg  \n",
            "  inflating: Dataset/furniture/pan/17056715291_0ef854f35d_b.jpg  \n",
            "  inflating: Dataset/furniture/pan/3396549868_cac1f7c20b_b.jpg  \n",
            "  inflating: Dataset/furniture/pan/17184905711_54e5a10b06_b.jpg  \n",
            "  inflating: Dataset/furniture/pan/52903297831_28f5aa259b_b.jpg  \n",
            "  inflating: Dataset/furniture/pan/5384540362_951ca813d7_b.jpg  \n",
            "  inflating: Dataset/furniture/pan/51857737375_eb641a354a_b.jpg  \n",
            "  inflating: Dataset/furniture/pan/2104130577_93d8b2ba17_b.jpg  \n",
            "  inflating: Dataset/furniture/pan/5486814684_ef144314ba_b.jpg  \n",
            "  inflating: Dataset/furniture/pan/2339657523_76570bd0c7_b.jpg  \n",
            "  inflating: Dataset/furniture/pan/2104903536_2cfb190d31_b.jpg  \n",
            "  inflating: Dataset/furniture/chests/3413572358_1008292fff_b.jpg  \n",
            "  inflating: Dataset/furniture/chests/3217914047_3b53a3b264_b.jpg  \n",
            "  inflating: Dataset/furniture/chests/2062939839_25cbf09b0c_b.jpg  \n",
            "  inflating: Dataset/furniture/chests/5747082279_1022bac78b_b.jpg  \n",
            "  inflating: Dataset/furniture/chests/52283920915_bb39aeed68_b.jpg  \n",
            "  inflating: Dataset/furniture/chests/26702269585_5216d397db_b.jpg  \n",
            "  inflating: Dataset/furniture/chests/50829889522_3507879bac_b.jpg  \n",
            "  inflating: Dataset/furniture/chests/13553716785_56b4ef9fc8_b.jpg  \n",
            "  inflating: Dataset/furniture/chests/5971233044_297223d77b_b.jpg  \n",
            "  inflating: Dataset/furniture/chests/50829889692_0b3e39f4ea_b.jpg  \n",
            "  inflating: Dataset/furniture/chests/5922439456_2a8d44b4fe_b.jpg  \n",
            "  inflating: Dataset/furniture/chests/50829889592_b9e10f6ebf_b.jpg  \n",
            "  inflating: Dataset/furniture/chests/6893979886_4a3256cef8_b.jpg  \n",
            "  inflating: Dataset/furniture/chests/32998988_91e9aca594_b.jpg  \n",
            "  inflating: Dataset/furniture/chests/7750480094_111dee869b_b.jpg  \n",
            "  inflating: Dataset/furniture/chests/13553558245_7e2f8384a9_b.jpg  \n",
            "  inflating: Dataset/furniture/chests/27744430762_c557bae6ea_b.jpg  \n",
            "  inflating: Dataset/furniture/chests/4563857816_9accb1a2f1_b.jpg  \n",
            "  inflating: Dataset/furniture/chests/9324930760_fa406dcbca_b.jpg  \n",
            "  inflating: Dataset/furniture/chests/13554106234_169589551f_b.jpg  \n",
            "  inflating: Dataset/furniture/ball/3901745106_4f4c83fb58_b.jpg  \n",
            "  inflating: Dataset/furniture/ball/34286436_40d483cfe5_b.jpg  \n",
            "  inflating: Dataset/furniture/ball/492688573_e5e2b7f6dd_b.jpg  \n",
            "  inflating: Dataset/furniture/ball/6641453809_cb023d6a5e_b.jpg  \n",
            "  inflating: Dataset/furniture/ball/3148942613_807232e56e_b.jpg  \n",
            "  inflating: Dataset/furniture/ball/3358389464_8b3172ccf3_b.jpg  \n",
            "  inflating: Dataset/furniture/ball/3149773378_859e86dc7b_b.jpg  \n",
            "  inflating: Dataset/furniture/ball/2840646475_59a572859d_b.jpg  \n",
            "  inflating: Dataset/furniture/ball/30463125238_95f6d249c6_b.jpg  \n",
            "  inflating: Dataset/furniture/ball/5107100769_2d8d26898c_b.jpg  \n",
            "  inflating: Dataset/furniture/ball/2671981399_b229f34676_b.jpg  \n",
            "  inflating: Dataset/furniture/ball/5252480102_27824638ff_b.jpg  \n",
            "  inflating: Dataset/furniture/ball/380551030_f34b04db26_b.jpg  \n",
            "  inflating: Dataset/furniture/ball/2531840869_74f717c468_b.jpg  \n",
            "  inflating: Dataset/furniture/ball/26834278808_35b9a20c9f_b.jpg  \n",
            "  inflating: Dataset/furniture/ball/62201436_0dd4ae6e9e_b.jpg  \n",
            "  inflating: Dataset/furniture/ball/8513632527_3ebb69c25b_b.jpg  \n",
            "  inflating: Dataset/furniture/ball/21558173740_c2fc4a6eb8_b.jpg  \n",
            "  inflating: Dataset/furniture/ball/3001334772_a25575e5c1_b.jpg  \n",
            "  inflating: Dataset/furniture/ball/5146068601_0954e707d0_b.jpg  \n",
            "  inflating: Dataset/furniture/spoon/10076705_15e008e283_b.jpg  \n",
            "  inflating: Dataset/furniture/spoon/3081108458_1f6a8a48d4_b.jpg  \n",
            "  inflating: Dataset/furniture/spoon/8090497510_56b0b2bde2_b.jpg  \n",
            "  inflating: Dataset/furniture/spoon/14283534363_dd63423360_b.jpg  \n",
            "  inflating: Dataset/furniture/spoon/24239032855_8882f5814a_b.jpg  \n",
            "  inflating: Dataset/furniture/spoon/6140236042_89b10817eb_b.jpg  \n",
            "  inflating: Dataset/furniture/spoon/28679663264_aaf4da88ef_b.jpg  \n",
            "  inflating: Dataset/furniture/spoon/7014211605_84e23ae012_b.jpg  \n",
            "  inflating: Dataset/furniture/spoon/2078388621_e26280628a_b.jpg  \n",
            "  inflating: Dataset/furniture/spoon/3173477351_2fc91d960d_b.jpg  \n",
            "  inflating: Dataset/furniture/spoon/4449555281_84cf19e8b1_b.jpg  \n",
            "  inflating: Dataset/furniture/spoon/12127664224_c382ff6701_b.jpg  \n",
            "  inflating: Dataset/furniture/spoon/3140143177_277ea423bc_b.jpg  \n",
            "  inflating: Dataset/furniture/spoon/3128537485_72ae7f31fa_b.jpg  \n",
            "  inflating: Dataset/furniture/spoon/256998822_2fae4fc222_b.jpg  \n",
            "  inflating: Dataset/furniture/spoon/5591719618_085be31451_b.jpg  \n",
            "  inflating: Dataset/furniture/spoon/10368968813_3fed5eb6c8_b.jpg  \n",
            "  inflating: Dataset/furniture/spoon/13988243986_1601953042_b.jpg  \n",
            "  inflating: Dataset/furniture/spoon/16038961387_c06564b0d8_b.jpg  \n",
            "  inflating: Dataset/furniture/spoon/6186225729_94cd53ace5_b.jpg  \n",
            "  inflating: Dataset/furniture/cabinet/13212469623_be20ea4079_b.jpg  \n",
            "  inflating: Dataset/furniture/cabinet/13211788443_f0489ddf8a_b.jpg  \n",
            "  inflating: Dataset/furniture/cabinet/13211889575_de0406d4ea_b.jpg  \n",
            "  inflating: Dataset/furniture/cabinet/13211823474_5580aaf72f_b.jpg  \n",
            "  inflating: Dataset/furniture/cabinet/5376296403_00d96beff0_b.jpg  \n",
            "  inflating: Dataset/furniture/cabinet/112649353_02ed95fff0_b.jpg  \n",
            "  inflating: Dataset/furniture/cabinet/13211635795_f553fa4868_b.jpg  \n",
            "  inflating: Dataset/furniture/cabinet/13212113094_3630fc6139_b.jpg  \n",
            "  inflating: Dataset/furniture/cabinet/3997423094_7dcdd89615_b.jpg  \n",
            "  inflating: Dataset/furniture/cabinet/13212493915_75d72d6418_b.jpg  \n",
            "  inflating: Dataset/furniture/cabinet/13212400073_95e289a646_b.jpg  \n",
            "  inflating: Dataset/furniture/cabinet/3243304125_386feede50_b.jpg  \n",
            "  inflating: Dataset/furniture/cabinet/4406431297_aae764944e_b.jpg  \n",
            "  inflating: Dataset/furniture/cabinet/13211473433_c414f178b9_b.jpg  \n",
            "  inflating: Dataset/furniture/cabinet/13212870534_786b5a0338_b.jpg  \n",
            "  inflating: Dataset/furniture/cabinet/4407257956_1d37e02947_b.jpg  \n",
            "  inflating: Dataset/furniture/cabinet/13212200523_75c6f2a93d_b.jpg  \n",
            "  inflating: Dataset/furniture/cabinet/6434097999_fd3b2e9fbe_b.jpg  \n",
            "  inflating: Dataset/furniture/cabinet/13212246875_b31b94918d_b.jpg  \n",
            "  inflating: Dataset/furniture/cabinet/13211936983_a8d62abc85_b.jpg  \n",
            "  inflating: Dataset/furniture/clock/36702694633_f6931b7aa3_b.jpg  \n",
            "  inflating: Dataset/furniture/clock/508901019_b6b65e1352_b.jpg  \n",
            "  inflating: Dataset/furniture/clock/43017116612_341a95db72_b.jpg  \n",
            "  inflating: Dataset/furniture/clock/37444614674_44c0dd26a4_b.jpg  \n",
            "  inflating: Dataset/furniture/clock/25428580308_000eb7aa85_b.jpg  \n",
            "  inflating: Dataset/furniture/clock/6473364377_ec37320823_b.jpg  \n",
            "  inflating: Dataset/furniture/clock/420019708_30403825b7_b.jpg  \n",
            "  inflating: Dataset/furniture/clock/2116559091_cf51aa0347_b.jpg  \n",
            "  inflating: Dataset/furniture/clock/3246324414_d89a0fc82c_b.jpg  \n",
            "  inflating: Dataset/furniture/clock/41787122_27b906f582_b.jpg  \n",
            "  inflating: Dataset/furniture/clock/6151254066_a2b3944267_b.jpg  \n",
            "  inflating: Dataset/furniture/clock/32957124236_f7356b6715_b.jpg  \n",
            "  inflating: Dataset/furniture/clock/1309685076_49b96913b0_b.jpg  \n",
            "  inflating: Dataset/furniture/clock/2926737764_d6ff23619b_b.jpg  \n",
            "  inflating: Dataset/furniture/clock/33982865195_f578468afc_b.jpg  \n",
            "  inflating: Dataset/furniture/clock/3543403947_250a4f286f_b.jpg  \n",
            "  inflating: Dataset/furniture/clock/508901167_fe381d23f5_b.jpg  \n",
            "  inflating: Dataset/furniture/clock/176976961_a7f9c861f0_b.jpg  \n",
            "  inflating: Dataset/furniture/clock/510416672_1f1dc3135e_b.jpg  \n",
            "  inflating: Dataset/furniture/clock/2306331321_fcdba62c50_b.jpg  \n",
            "  inflating: Dataset/furniture/cart/50042193377_f4c7aa8d3c_b.jpg  \n",
            "  inflating: Dataset/furniture/cart/7466159136_c81036d765_b.jpg  \n",
            "  inflating: Dataset/furniture/cart/8225868468_e95a808196_b.jpg  \n",
            "  inflating: Dataset/furniture/cart/5557029317_966aba70bc_b.jpg  \n",
            "  inflating: Dataset/furniture/cart/52681182882_410873068c_b.jpg  \n",
            "  inflating: Dataset/furniture/cart/31178289355_1ab3dd9ed3_b.jpg  \n",
            "  inflating: Dataset/furniture/cart/51217252886_371c91c45b_b.jpg  \n",
            "  inflating: Dataset/furniture/cart/2155928068_8064555494_b.jpg  \n",
            "  inflating: Dataset/furniture/cart/6511152829_684244ef2c_b.jpg  \n",
            "  inflating: Dataset/furniture/cart/52687701192_b0cac95a47_b.jpg  \n",
            "  inflating: Dataset/furniture/cart/2717259259_387edb9cca_b.jpg  \n",
            "  inflating: Dataset/furniture/cart/7466154996_577bbe2eaa_b.jpg  \n",
            "  inflating: Dataset/furniture/cart/2098899674_82d79fec60_b.jpg  \n",
            "  inflating: Dataset/furniture/cart/50432496511_0e6a64d763_b.jpg  \n",
            "  inflating: Dataset/furniture/cart/2082905138_d59f395270_b.jpg  \n",
            "  inflating: Dataset/furniture/cart/1016661_17339da1ce_b.jpg  \n",
            "  inflating: Dataset/furniture/cart/7466158568_3857b004df_b.jpg  \n",
            "  inflating: Dataset/furniture/cart/3290768276_265c0c5521_b.jpg  \n",
            "  inflating: Dataset/furniture/cart/19064857679_b231d358c4_b.jpg  \n",
            "  inflating: Dataset/furniture/cart/52682131700_44a9b1f10a_b.jpg  \n",
            "Dataset organization complete!\n"
          ]
        }
      ]
    }
  ]
}