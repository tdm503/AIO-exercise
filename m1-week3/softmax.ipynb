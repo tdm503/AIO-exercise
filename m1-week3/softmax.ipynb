{
  "cells": [
    {
      "cell_type": "code",
      "execution_count": 1,
      "metadata": {
        "id": "8IVKi-j6IjMW"
      },
      "outputs": [],
      "source": [
        "#import các thư viện cần thiết\n",
        "import torch\n",
        "import torch.nn as nn\n",
        "import torch.nn.functional as F\n"
      ]
    },
    {
      "cell_type": "code",
      "execution_count": 2,
      "metadata": {
        "id": "luEjIgdYHvec"
      },
      "outputs": [],
      "source": [
        "class Softmax(nn.Module):\n",
        "    def __init__(self):\n",
        "        super(Softmax, self).__init__()\n",
        "\n",
        "    def forward(self, x):\n",
        "        exp_x = torch.exp(x)\n",
        "        sum_exp_x = torch.sum(exp_x)\n",
        "        softmax_x = exp_x / sum_exp_x\n",
        "        return softmax_x\n"
      ]
    },
    {
      "cell_type": "code",
      "execution_count": 7,
      "metadata": {
        "id": "TAYCZz1yIq2s"
      },
      "outputs": [],
      "source": [
        "class softmax_stable(nn.Module):\n",
        "    def __init__(self):\n",
        "        super(softmax_stable, self).__init__()\n",
        "\n",
        "    def forward(self, x):\n",
        "        max_x = torch.max(x)\n",
        "        exp_x = torch.exp(x - max_x)\n",
        "        sum_exp_x = torch.sum(exp_x)\n",
        "        softmax_x = exp_x / sum_exp_x\n",
        "        return softmax_x\n"
      ]
    },
    {
      "cell_type": "code",
      "execution_count": 5,
      "metadata": {
        "colab": {
          "base_uri": "https://localhost:8080/"
        },
        "id": "tmPW-eEdIuDr",
        "outputId": "78a53c82-60d4-43e6-c9a4-5e1947efd64b"
      },
      "outputs": [
        {
          "data": {
            "text/plain": [
              "tensor([0.0900, 0.2447, 0.6652])"
            ]
          },
          "execution_count": 5,
          "metadata": {},
          "output_type": "execute_result"
        }
      ],
      "source": [
        "data = torch.Tensor([1,2,3])\n",
        "softmax = Softmax()\n",
        "output = softmax(data)\n",
        "output"
      ]
    },
    {
      "cell_type": "code",
      "execution_count": 8,
      "metadata": {
        "colab": {
          "base_uri": "https://localhost:8080/"
        },
        "id": "palwxGvoI1Fq",
        "outputId": "021d1443-77b7-4036-a9eb-f36974cbfb6d"
      },
      "outputs": [
        {
          "data": {
            "text/plain": [
              "tensor([0.0900, 0.2447, 0.6652])"
            ]
          },
          "execution_count": 8,
          "metadata": {},
          "output_type": "execute_result"
        }
      ],
      "source": [
        "data = torch.Tensor([1,2,3])\n",
        "softmax_stable = softmax_stable()\n",
        "output = softmax_stable(data)\n",
        "output"
      ]
    },
    {
      "cell_type": "code",
      "execution_count": null,
      "metadata": {
        "id": "3k1K8vx9JFzH"
      },
      "outputs": [],
      "source": []
    }
  ],
  "metadata": {
    "colab": {
      "provenance": []
    },
    "kernelspec": {
      "display_name": "Python 3",
      "name": "python3"
    },
    "language_info": {
      "name": "python"
    }
  },
  "nbformat": 4,
  "nbformat_minor": 0
}
